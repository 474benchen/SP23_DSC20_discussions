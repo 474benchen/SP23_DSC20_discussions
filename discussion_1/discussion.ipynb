{
 "cells": [
  {
   "cell_type": "markdown",
   "id": "9ac70a89",
   "metadata": {
    "slideshow": {
     "slide_type": "skip"
    }
   },
   "source": [
    "**note**: for anyone trying to view this as a slideshow, run 'pip install rise', reload your notebook, then click on the button that looks like a bar graph to the right of the command palette at the top."
   ]
  },
  {
   "cell_type": "markdown",
   "id": "0aaa7f3e",
   "metadata": {
    "slideshow": {
     "slide_type": "slide"
    }
   },
   "source": [
    "<center><h1>Discussion 1</h1></center>\n",
    "<center><h2>DSC 20, Spring 2023</h2><center>"
   ]
  },
  {
   "cell_type": "markdown",
   "id": "172f9b03",
   "metadata": {
    "slideshow": {
     "slide_type": "slide"
    }
   },
   "source": [
    "<center><h3>Welcome to DSC 20! 🎉</h3></center>"
   ]
  },
  {
   "cell_type": "markdown",
   "id": "c8f91290",
   "metadata": {
    "slideshow": {
     "slide_type": "slide"
    }
   },
   "source": [
    "<h3>Agenda</h3>\n",
    "<ul>\n",
    "    <li> Why bother learning how to code? </li>\n",
    "    <li> Basic File Structure </li>\n",
    "    <li> Loop Overview </li>\n",
    "    <li> Style - variables </li>\n",
    "    <li> Terminal vs IDE </li>\n",
    "    <li> Anatomy of code </li>\n",
    "    <li> Practice Activity </li>\n",
    "    <li> Class Advice </li>\n",
    "</ul>"
   ]
  },
  {
   "cell_type": "markdown",
   "id": "536a5739",
   "metadata": {
    "slideshow": {
     "slide_type": "slide"
    }
   },
   "source": [
    "### About the TAs\n",
    "#### Benjamin Chen (call me Ben)\n",
    "- Originally from the Bay Area (San Jose/Fremont)\n",
    "- Fourth year DS student\n",
    "- 6th quarter teaching DSC 20\n",
    "- Outside the classroom 👨‍🏫: lots of activities (track & field, cross country, badminton, marching band), reading, video games, anime, cooking, bracelet making, skateboarding, video/photo editing, etc.\n",
    "\n",
    "#### Charisse Hao (call me Charisse, pronounced “sha-reese”)\n",
    "- Originally from the Bay Area (Fremont)\n",
    "- Second year DS student minoring in cog sci from Sixth\n",
    "- 3rd quarter teaching DSC 20\n",
    "    - Previously taught DSC 10\n",
    "- Outside the classroom 👨‍🏫: Tennis, dogs + chinchillas, crochet, miniature models, 3d puzzles, gacha games, etc."
   ]
  },
  {
   "cell_type": "markdown",
   "id": "de383cff",
   "metadata": {
    "slideshow": {
     "slide_type": "slide"
    }
   },
   "source": [
    "<center><img src='imgs/dog.png' width=600></center>\n",
    "<br></br>\n",
    "<center>Charisse's dog</center>"
   ]
  },
  {
   "cell_type": "markdown",
   "id": "178e6fc6",
   "metadata": {
    "slideshow": {
     "slide_type": "slide"
    }
   },
   "source": [
    "## Why bother learning how to code?\n",
    "\n",
    "- \"gpt-x can do everything\"\n",
    "- \"*insert amazing futuristic model here* will replace our job\"\n",
    "- \"*insert amazing futuristic model here* will cure cancer\""
   ]
  },
  {
   "cell_type": "markdown",
   "id": "2bd1a0d3",
   "metadata": {
    "slideshow": {
     "slide_type": "slide"
    }
   },
   "source": [
    "<center><h3> Scenario </h3></center>\n",
    "<br></br>\n",
    "<center>Overpopulation is a looming issue that lots of people are worried about. Clearly, people are not coming up with good enough solutions, so why don't we just ask chatGPT or some other machine learning algorithm and use its solution? What could possibly go wrong?</center>"
   ]
  },
  {
   "cell_type": "markdown",
   "id": "4ef31da7",
   "metadata": {
    "slideshow": {
     "slide_type": "fragment"
    }
   },
   "source": [
    "<center><img src='imgs/snap.jpeg' width=700></center>\n",
    "\n",
    "<br></br>\n",
    "\n",
    "<center>A pretty realistic machine output to this problem would be the same solution Thanos came to in the MCU - simply remove half of all life and overpopulation is solved. Does this solution work? Sure, it does! Is it one that we would accept? No!! (I hope...)</center>"
   ]
  },
  {
   "cell_type": "markdown",
   "id": "65606036",
   "metadata": {
    "slideshow": {
     "slide_type": "slide"
    }
   },
   "source": [
    "<center><h3> Problem Statement </h3></center>\n",
    "<br></br>\n",
    "\n",
    "<center>Although machine learning only gets better, at the end of the day, it is still a machine. It fails to capture all the qualities that go into complex scenarios. Yes, they are smart and honestly terrifying sometimes, but they are just <b>tools</b> at the end of the day.</center>"
   ]
  },
  {
   "cell_type": "markdown",
   "id": "4ecfb856",
   "metadata": {
    "slideshow": {
     "slide_type": "fragment"
    }
   },
   "source": [
    "\n",
    "<center>Without a well versed user, tools are nothing more than scrap. This is where programmers come in. Until the day that machines are truly intelligent, we as programmers are the one who can use them effectively.</center>"
   ]
  },
  {
   "cell_type": "markdown",
   "id": "c1722a14",
   "metadata": {
    "slideshow": {
     "slide_type": "fragment"
    }
   },
   "source": [
    "\n",
    "<center>Programming is simply the language that translates human intention to computer actions. It instructs machines on how to carry out your logic.</center>"
   ]
  },
  {
   "cell_type": "markdown",
   "id": "bbb82634",
   "metadata": {
    "slideshow": {
     "slide_type": "fragment"
    }
   },
   "source": [
    "<center>So why bother learning how to code? So we can use cool tools like chatGPT, DALLE-2, midjourney, etc. to do amazing things!</center>"
   ]
  },
  {
   "cell_type": "markdown",
   "id": "b4458e56",
   "metadata": {
    "slideshow": {
     "slide_type": "slide"
    }
   },
   "source": [
    "<center><h2> Basic File Structure </h2></center>\n",
    "<center>Knowing how to structure files properly will save a lot of headaches in the future</center>"
   ]
  },
  {
   "cell_type": "markdown",
   "id": "259294d4",
   "metadata": {
    "slideshow": {
     "slide_type": "fragment"
    }
   },
   "source": [
    "### 1. Good File Names - avoid using confusing naming conventions\n",
    "- use '_' instead of ' ' so that files are easier to navigate\n",
    "- name things clearly and consistently \n",
    "(ex. homework_1, homework_2 instead of hw_1, homework_2)"
   ]
  },
  {
   "cell_type": "markdown",
   "id": "9325848f",
   "metadata": {
    "slideshow": {
     "slide_type": "fragment"
    }
   },
   "source": [
    "### 2. Use Folders Where Possible - containing files\n",
    "- in the future, assignments may come with accompanying files to work with\n",
    "- storing all the files related to homework 1 in a folder can save a lot of pain\n",
    "- ex. instead of having homework_1.py and files/ in your homework folder, have them in a folder named homework_1 that's stored in your homework folder"
   ]
  },
  {
   "cell_type": "markdown",
   "id": "74ef393a",
   "metadata": {
    "slideshow": {
     "slide_type": "fragment"
    }
   },
   "source": [
    "Yes, doing so will mean more folders to navigate. But trust me, it will be a good practice for future classes and work"
   ]
  },
  {
   "cell_type": "markdown",
   "id": "401f1600",
   "metadata": {
    "slideshow": {
     "slide_type": "slide"
    }
   },
   "source": [
    "<center><h2>Loop Overview</h2><center>"
   ]
  },
  {
   "cell_type": "markdown",
   "id": "f7bf3bcb",
   "metadata": {
    "slideshow": {
     "slide_type": "slide"
    }
   },
   "source": [
    "Loops are used to **repeat computations** many times.\n",
    "\n",
    "- Two types of loops:\n",
    "    - While: Uses  logical conditions, do not know the number of iterations (as long as a condition is true, code will run)\n",
    "    - For loop: Usually for when the number repetition is known."
   ]
  },
  {
   "cell_type": "markdown",
   "id": "3b2076f5",
   "metadata": {
    "slideshow": {
     "slide_type": "fragment"
    }
   },
   "source": [
    "- loops are used in a lot of existing code, they are very versatile and highly applicable\n",
    "- they are a cornerstone concept of coding, make sure to get very familiar with them"
   ]
  },
  {
   "cell_type": "markdown",
   "id": "37b07088",
   "metadata": {
    "slideshow": {
     "slide_type": "slide"
    }
   },
   "source": [
    "<center><h3> Syntax </h3><center>\n",
    "\n",
    "    \n",
    "<b>for</b> (element) <b>in</b> (iterable):\n",
    "    <p style=\"text-indent: 25px;\">// do something</p>\n",
    "    \n",
    "<b>element</b>: a variable name to track the item (common practice to use 'i' as the name)\n",
    "<br></br>\n",
    "<b>iterable</b>: some item that can be traversed through (list, dictionary, etc.)\n",
    "<br></br>\n",
    "\n",
    "<b> while </b> (condition):\n",
    "    <p style=\"text-indent: 25px;\">// do something</p>\n",
    "    \n",
    "<b>condition</b>: an 'if' statement of item that evaluates to True/False that dictates when the loop ends\n",
    "\n",
    "    "
   ]
  },
  {
   "cell_type": "markdown",
   "id": "ad49f9b2",
   "metadata": {
    "slideshow": {
     "slide_type": "slide"
    }
   },
   "source": [
    "<center><h2>Style - Variables</h2><center>\n",
    "    <center>It definitely matters!!</center>"
   ]
  },
  {
   "cell_type": "markdown",
   "id": "7935880b",
   "metadata": {
    "slideshow": {
     "slide_type": "slide"
    }
   },
   "source": [
    "### Good Variable Names\n",
    "- Try to avoid using single letter names or built-in function names\n",
    "- Avoid using the written out form of numbers as the variable name\n",
    "    - ex: two = 2\n",
    "    - This is undescriptive and can be misleading if the value 2 is changed to a different number in the future\n",
    "    - ex: len = 4\n",
    "    - This uses a built-in function's name which will overwrite the function (len will no longer work)\n",
    "- Write code in a way such that if you from a year in the future came back to take a look, you wouldn't need to spend 20 minutes understanding your logic\n",
    "- Additional style info can be found in this <a href='https://docs.google.com/document/d/11nlmgc0gseeFmYVQ4pyilxTK3OZHQo3hoAsrGtBpGgw/edit'> style guide</a>. Make sure to follow all requirements!\n"
   ]
  },
  {
   "cell_type": "markdown",
   "id": "f43f3372",
   "metadata": {
    "slideshow": {
     "slide_type": "slide"
    }
   },
   "source": [
    "### Style Example\n",
    "\n",
    "- Write a function that takes in a string and performs the following:\n",
    "    - When you encounter a vowel ('a', 'e', 'i', 'o', 'u'), make it uppercase\n",
    "    - When you encounter a number, increase it by 3\n",
    "    - Keep all other characters as is\n",
    "    - ex: \"abc1\" → \"Abc4\"\n",
    "    \n",
    "<b>Note:</b> You don't have to worry about understanding this code at the moment ~ this is just an example to show the difference between good and bad style!"
   ]
  },
  {
   "cell_type": "markdown",
   "id": "96f26575",
   "metadata": {
    "slideshow": {
     "slide_type": "slide"
    }
   },
   "source": [
    "### This is bad style:\n",
    "<br></br>\n",
    "<center><img src='imgs/bad_style.png' width=2000></center>\n",
    "<br></br>"
   ]
  },
  {
   "cell_type": "markdown",
   "id": "c0009c90",
   "metadata": {
    "slideshow": {
     "slide_type": "slide"
    }
   },
   "source": [
    "### This is good style:\n",
    "<br></br>\n",
    "<center><img src='imgs/good_style.png' width=1200></center>\n",
    "<br></br>"
   ]
  },
  {
   "cell_type": "markdown",
   "id": "7ed95ba0",
   "metadata": {
    "slideshow": {
     "slide_type": "slide"
    }
   },
   "source": [
    "<center><h2>Practice Activity</h2></center>\n",
    "<center> Live coding + python tutor demo </center>"
   ]
  },
  {
   "cell_type": "markdown",
   "id": "b65e92c2",
   "metadata": {
    "slideshow": {
     "slide_type": "slide"
    }
   },
   "source": [
    "<center><h4>1. Write a 'for' loop that prints the numbers from 1 to 10</h4></center>\n"
   ]
  },
  {
   "cell_type": "markdown",
   "id": "d885c713",
   "metadata": {
    "slideshow": {
     "slide_type": "slide"
    }
   },
   "source": [
    "### Solution:\n",
    "<center><img src='imgs/print_10.png' width=800></center>"
   ]
  },
  {
   "cell_type": "markdown",
   "id": "2730adf2",
   "metadata": {
    "slideshow": {
     "slide_type": "slide"
    }
   },
   "source": [
    "<center><h4>2. Write a while loop that counts down from 10,000 in increments of 7 until a non-positive number is reached, printing the value of every operation before the loop ends</h4></center>\n"
   ]
  },
  {
   "cell_type": "markdown",
   "id": "a2437287",
   "metadata": {
    "slideshow": {
     "slide_type": "slide"
    }
   },
   "source": [
    "### Solution:\n",
    "<center><img src='imgs/from_10k.png' width=800></center>"
   ]
  },
  {
   "cell_type": "markdown",
   "id": "cef7f450",
   "metadata": {
    "slideshow": {
     "slide_type": "slide"
    }
   },
   "source": [
    "<center><h4>3. Write a while loop that generates a numeric code that consists of multiples of 3 that are less than 17. </h4></center>\n",
    "\n",
    "<center>Expected output: '03691215'</center>\n"
   ]
  },
  {
   "cell_type": "markdown",
   "id": "b158524a",
   "metadata": {
    "slideshow": {
     "slide_type": "slide"
    }
   },
   "source": [
    "### Erroneous Solution:\n",
    "<center><img src='imgs/erroneous_practice.png' width=800></center>"
   ]
  },
  {
   "cell_type": "markdown",
   "id": "b8a339a5",
   "metadata": {
    "slideshow": {
     "slide_type": "slide"
    }
   },
   "source": [
    "### Corrected Solution:\n",
    "<center><img src='imgs/corrected_practice.png' width=800></center>"
   ]
  },
  {
   "cell_type": "markdown",
   "id": "0650996e",
   "metadata": {
    "slideshow": {
     "slide_type": "slide"
    }
   },
   "source": [
    "<center><h2> Class Advice</h2><center>"
   ]
  },
  {
   "cell_type": "markdown",
   "id": "9a51b33a",
   "metadata": {
    "slideshow": {
     "slide_type": "slide"
    }
   },
   "source": [
    "## Things I would do if I were a student taking DSC20 now\n",
    "### 1. Utilize Resources\n",
    "### 2. Use Online Content, don't depend on them\n",
    "### 3. Take a break!\n",
    "### 4. Useful Tools\n",
    "### 5. Practice"
   ]
  },
  {
   "cell_type": "markdown",
   "id": "5622450b",
   "metadata": {
    "slideshow": {
     "slide_type": "slide"
    }
   },
   "source": [
    "### 1. Utilize Resources\n",
    "- Office hours are amazing, not just for getting help on assignments or studying for the class, but as interpersonal resources. All the tutors are amazing and they're open to just talking as peers - they're people you can ask about future classes, career advice, etc. Some tutors will have more input than others, but don't be shy! We're students too\n",
    "\n",
    "\n",
    "- We plan on making discussions particularly helpful this quarter. Rather than just reinforcing class concepts, we plan to also teach side topics that will help you become a strong programmer and help you adjust to exams (paper coding). Attendance is **not mandatory**, but strongly encouraged for newer programmers\n",
    "\n",
    "- If you're ever struggling, don't be afraid to reach out to the staff for help. We do our best to support students"
   ]
  },
  {
   "cell_type": "markdown",
   "id": "1cb6b5c0",
   "metadata": {
    "slideshow": {
     "slide_type": "slide"
    }
   },
   "source": [
    "### 2. Use Online Content, don't depend on them\n",
    "- Tools like ChatGPT are amazing, but abusing them will only hurt your own learning\n",
    "- Copying code from medium articles or w3school can get you a quick grade, but teaches you nothing and can get you AI'd\n",
    "- Asking friends for a question can get not only you AI'd, but also your friend\n",
    "- This class is best traversed with class content and staff support. You can consult your peers on programming ideas, but not the implementation itself"
   ]
  },
  {
   "cell_type": "markdown",
   "id": "9f649046",
   "metadata": {
    "slideshow": {
     "slide_type": "slide"
    }
   },
   "source": [
    "### 3. Take a break!\n",
    "- parking at the desk for 3+ hours and staring at a screen never helped anyone\n",
    "- remember to take breaks while coding, sometimes your brain just comes up with the solution\n",
    "- I personally have a lot of solutions come to me after a shower"
   ]
  },
  {
   "cell_type": "markdown",
   "id": "639c60c1",
   "metadata": {
    "slideshow": {
     "slide_type": "slide"
    }
   },
   "source": [
    "### 4. Useful Tools\n",
    "1. <a href = 'https://pythontutor.com/visualize.html#mode=edit'>Python Tutor</a> - Debugging\n",
    "    - visualizes code step by step that you enter\n",
    "    - invaluable for debugging, amazing for understanding why some code works, and why others don't\n",
    "\n",
    "2. w3school, geeksforgeeks, other documentation and example websites - Reference\n",
    "    - Stores documentation for what functions/methods do with examples\n",
    "    - Always includes examples so that you can understand what's actually happening\n",
    "    - useful for quick refresher on what something does, amazing for figuring out new methods\n",
    "\n",
    "3. Fig - File Navigation\n",
    "    - terminal plugin for mac that autocompletes file names\n",
    "    - can help you navigate your files much more easily"
   ]
  },
  {
   "cell_type": "markdown",
   "id": "f51cbe34",
   "metadata": {
    "slideshow": {
     "slide_type": "slide"
    }
   },
   "source": [
    "### 5. Practice\n",
    "- like all new skills, practice makes perfect\n",
    "- staring at code and not writing any will ultimately do nothing to make you a better coder\n",
    "- Websites such as <a href = 'https://codingbat.com/python'>coding bat</a> has practice problems for you to familiarize yourself with python\n",
    "- <a href='https://www.codecademy.com/'> codecademy</a> is something that I personally used with DSC20 to help learn coding. It walks you through the fundamental functions of python and always frames it in sample code\n",
    "- We also have a <a href = 'https://docs.google.com/document/d/1FDTyMmqPZSOvGwARXSaq41ZWvPOcHZCAuVCQmcN273A/edit?usp=sharing'>set of questions</a> that you can practice off of, solutions can be posted next discussion."
   ]
  },
  {
   "cell_type": "markdown",
   "id": "49030538",
   "metadata": {
    "slideshow": {
     "slide_type": "slide"
    }
   },
   "source": [
    "<center> <h1>Thanks for coming!</h1></center>\n",
    "<center> There's a discussion quiz on canvas! </center>"
   ]
  },
  {
   "cell_type": "code",
   "execution_count": null,
   "id": "aecf0425",
   "metadata": {},
   "outputs": [],
   "source": []
  }
 ],
 "metadata": {
  "celltoolbar": "Slideshow",
  "kernelspec": {
   "display_name": "Python 3 (ipykernel)",
   "language": "python",
   "name": "python3"
  },
  "language_info": {
   "codemirror_mode": {
    "name": "ipython",
    "version": 3
   },
   "file_extension": ".py",
   "mimetype": "text/x-python",
   "name": "python",
   "nbconvert_exporter": "python",
   "pygments_lexer": "ipython3",
   "version": "3.10.8"
  },
  "rise": {
   "enable_chalkboard": true
  }
 },
 "nbformat": 4,
 "nbformat_minor": 5
}
