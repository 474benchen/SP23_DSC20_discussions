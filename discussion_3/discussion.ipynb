{
 "cells": [
  {
   "cell_type": "markdown",
   "id": "359ab73d",
   "metadata": {
    "slideshow": {
     "slide_type": "skip"
    }
   },
   "source": [
    "**note**: for anyone trying to view this as a slideshow, run 'pip install rise', reload your notebook, then click on the button that looks like a bar graph to the right of the command palette at the top."
   ]
  },
  {
   "cell_type": "code",
   "execution_count": 2,
   "id": "b2572a22",
   "metadata": {
    "slideshow": {
     "slide_type": "skip"
    }
   },
   "outputs": [],
   "source": [
    "from IPython.display import HTML\n",
    "from IPython.display import Audio,Image, YouTubeVideo"
   ]
  },
  {
   "cell_type": "markdown",
   "id": "b75c3b22",
   "metadata": {
    "slideshow": {
     "slide_type": "slide"
    }
   },
   "source": [
    "<center><h1>Discussion 3</h1></center>\n",
    "<center><h2>DSC 20, Spring 2023</h2><center>"
   ]
  },
  {
   "cell_type": "markdown",
   "id": "a2002036",
   "metadata": {
    "slideshow": {
     "slide_type": "slide"
    }
   },
   "source": [
    "<center><h3>Midterm 1 Practice</h3></center>"
   ]
  },
  {
   "cell_type": "markdown",
   "id": "db975b63",
   "metadata": {
    "slideshow": {
     "slide_type": "slide"
    }
   },
   "source": [
    "<center><h3>Agenda</h3></center>\n",
    "<center>we're going to run through select questions from past exams</center>\n",
    "<center>Some questions have been subtly modified</center>\n",
    "<center>playlist of walkthroughs can be found <a href = 'https://www.youtube.com/playlist?list=PLCQy-cLv-9rvhL1XnlpDxy8a8djtdKNuu'>here</a></center>"
   ]
  },
  {
   "cell_type": "markdown",
   "id": "5e1c0dd4",
   "metadata": {
    "slideshow": {
     "slide_type": "fragment"
    }
   },
   "source": [
    "<center><h3>Notes</h3></center>\n",
    "<center>- The more recent the practice exam, the more accurate to your exam it will be</center>\n",
    "<center>- Do the practice exams by writing (for practice!)</center>\n",
    "<center>- Skip topics you don't know</center>"
   ]
  },
  {
   "cell_type": "markdown",
   "id": "c9d369cb",
   "metadata": {
    "slideshow": {
     "slide_type": "slide"
    }
   },
   "source": [
    "<center><h3>Midterm Logistics</h3></center>\n",
    "<center>- Make sure to bring pen/pencil/eraser and your <b>student ID</b></center>\n",
    "<center>- Exam takes place Friday, April 28 in MANDE B-210 (in lecture)</center>"
   ]
  },
  {
   "cell_type": "markdown",
   "id": "1a53d476",
   "metadata": {
    "slideshow": {
     "slide_type": "slide"
    }
   },
   "source": [
    "<center><h3>Midterm Grading</h3></center>\n",
    "<center>- Multiple choice questions are generally \"all-or-nothing\" </center>\n",
    "<center>- Exceptions exist (ex. if we have an \"other\" option and it's fill in the blank) </center>\n",
    "<center>- Free response questions are always awarded partial credit </center>\n",
    "<center>- Even if you're lost on the question, write down the important steps to the code </center>"
   ]
  },
  {
   "cell_type": "markdown",
   "id": "81ca0c26",
   "metadata": {
    "slideshow": {
     "slide_type": "slide"
    }
   },
   "source": [
    "<center><h3>Question 1</h3></center>\n",
    "\n",
    "<center>What should be the values for x,y,z if I want to print out \"summer!\"</center>\n",
    "\n",
    "<center><b>Note</b>: Don't forget the order of evaluation! (NAO)</center>"
   ]
  },
  {
   "cell_type": "code",
   "execution_count": null,
   "id": "b23387b3",
   "metadata": {
    "slideshow": {
     "slide_type": "fragment"
    }
   },
   "outputs": [],
   "source": [
    "if x and y and z:\n",
    "    print('fall')\n",
    "elif not x and not y:\n",
    "    print('winter...')\n",
    "elif not z or x:\n",
    "    print('spring?')\n",
    "else:\n",
    "    print('summer!')"
   ]
  },
  {
   "cell_type": "code",
   "execution_count": 4,
   "id": "4a614d61",
   "metadata": {
    "slideshow": {
     "slide_type": "slide"
    }
   },
   "outputs": [
    {
     "data": {
      "image/jpeg": "[encoded data removed]",
      "text/html": [
       "\n",
       "        <iframe\n",
       "            width=\"800\"\n",
       "            height=\"400\"\n",
       "            src=\"https://www.youtube.com/embed/fK1bpHlX61w\"\n",
       "            frameborder=\"0\"\n",
       "            allowfullscreen\n",
       "            \n",
       "        ></iframe>\n",
       "        "
      ],
      "text/plain": [
       "<IPython.lib.display.YouTubeVideo at 0x7fdc61d24c40>"
      ]
     },
     "execution_count": 4,
     "metadata": {},
     "output_type": "execute_result"
    }
   ],
   "source": [
    "YouTubeVideo(id='fK1bpHlX61w',width=800,height=400)"
   ]
  },
  {
   "cell_type": "markdown",
   "id": "c05feca9",
   "metadata": {
    "slideshow": {
     "slide_type": "slide"
    }
   },
   "source": [
    "<center><h3>Question 1 Solution</h3></center>"
   ]
  },
  {
   "cell_type": "code",
   "execution_count": null,
   "id": "fb9987a7",
   "metadata": {
    "slideshow": {
     "slide_type": "fragment"
    }
   },
   "outputs": [],
   "source": [
    "x = False\n",
    "y = True\n",
    "z = True\n",
    "\n",
    "if x and y and z:\n",
    "    print('fall')\n",
    "elif not x and not y:\n",
    "    print('winter...')\n",
    "elif not z or x:\n",
    "    print('spring?')\n",
    "else:\n",
    "    print('summer!')"
   ]
  },
  {
   "cell_type": "markdown",
   "id": "fdb215be",
   "metadata": {
    "slideshow": {
     "slide_type": "slide"
    }
   },
   "source": [
    "<center><h3>Question 2</h3></center>\n",
    "\n",
    "<center>Given 2 lists, remove the elements from the first list if they're present in the second one.</center>\n",
    "<center><b>Your solution must be 1 line and use filter</b></center>\n",
    "\n",
    "<center><b>note:</b> filter has not been covered quite yet at the time of this discussion, don't worry if this question is confusing - consider it more as a preview of friday's lecture (It is a covered topic on midterm 1).</center>"
   ]
  },
  {
   "cell_type": "code",
   "execution_count": null,
   "id": "5b52fea1",
   "metadata": {
    "slideshow": {
     "slide_type": "fragment"
    }
   },
   "outputs": [],
   "source": [
    "def up_join(lst1, lst2):\n",
    "    \"\"\"\n",
    "    Function that removes elements from lst1 \n",
    "    if they're present in lst2.\n",
    "    \n",
    "    Solution must be 1 line and utilize filter\n",
    "    \n",
    "    Args:\n",
    "        lst1 (list): list of values to be considered\n",
    "        lst2 (list): list of values to be considered\n",
    "    Returns:\n",
    "        a filtered version of lst1\n",
    "    \n",
    "    >>> grades = ['A', 'B', 'C', 'D', 'F']\n",
    "    >>> grade_filter = ['D', 'F']\n",
    "    >>> up_join(grades, grade_filter)\n",
    "    ['A', 'B', 'C']\n",
    "    \"\"\"\n",
    "    # Write your implementation here\n",
    "    return"
   ]
  },
  {
   "cell_type": "code",
   "execution_count": 5,
   "id": "8df8ff47",
   "metadata": {
    "slideshow": {
     "slide_type": "slide"
    }
   },
   "outputs": [
    {
     "data": {
      "image/jpeg": "[encoded data removed]",
      "text/html": [
       "\n",
       "        <iframe\n",
       "            width=\"800\"\n",
       "            height=\"400\"\n",
       "            src=\"https://www.youtube.com/embed/ycaBiGGie_Y\"\n",
       "            frameborder=\"0\"\n",
       "            allowfullscreen\n",
       "            \n",
       "        ></iframe>\n",
       "        "
      ],
      "text/plain": [
       "<IPython.lib.display.YouTubeVideo at 0x7fdc620f2170>"
      ]
     },
     "execution_count": 5,
     "metadata": {},
     "output_type": "execute_result"
    }
   ],
   "source": [
    "YouTubeVideo(id='ycaBiGGie_Y',width=800,height=400)"
   ]
  },
  {
   "cell_type": "markdown",
   "id": "f7fdc33e",
   "metadata": {
    "slideshow": {
     "slide_type": "slide"
    }
   },
   "source": [
    "<center><h3>Question 2 Solution</h3></center>"
   ]
  },
  {
   "cell_type": "code",
   "execution_count": 8,
   "id": "3b8f1c8f",
   "metadata": {
    "slideshow": {
     "slide_type": "fragment"
    }
   },
   "outputs": [],
   "source": [
    "def up_join(lst1, lst2):\n",
    "    \"\"\"\n",
    "    Function that removes elements from lst1 \n",
    "    if they're present in lst2.\n",
    "    \n",
    "    Solution must be 1 line and utilize filter\n",
    "    \n",
    "    Args:\n",
    "        lst1 (list): list of values to be considered\n",
    "        lst2 (list): list of values to be considered\n",
    "    Returns:\n",
    "        a filtered version of lst1\n",
    "    \n",
    "    >>> grades = ['A', 'B', 'C', 'D', 'F']\n",
    "    >>> grade_filter = ['D', 'F']\n",
    "    >>> up_join(grades, grade_filter)\n",
    "    ['A', 'B', 'C']\n",
    "    \"\"\"\n",
    "    return list(filter(lambda x: x not in lst2, lst1))"
   ]
  },
  {
   "cell_type": "code",
   "execution_count": 9,
   "id": "e909ddc9",
   "metadata": {
    "slideshow": {
     "slide_type": "fragment"
    }
   },
   "outputs": [
    {
     "data": {
      "text/plain": [
       "['A', 'B', 'C']"
      ]
     },
     "execution_count": 9,
     "metadata": {},
     "output_type": "execute_result"
    }
   ],
   "source": [
    "up_join(['A', 'B', 'C', 'D', 'F'], ['D', 'F'])"
   ]
  },
  {
   "cell_type": "markdown",
   "id": "68745c64",
   "metadata": {
    "slideshow": {
     "slide_type": "slide"
    }
   },
   "source": [
    "<center><h3>Question 3</h3></center>\n",
    "\n",
    "<center>Given a dictionary consisting of strings for keys and values and another string, create a new dictionary where the key is the new string and the value is the list of keys who had it as their value. <b>Write assert statements to check input</b>.</center>"
   ]
  },
  {
   "cell_type": "code",
   "execution_count": 10,
   "id": "11107f9f",
   "metadata": {
    "slideshow": {
     "slide_type": "fragment"
    }
   },
   "outputs": [],
   "source": [
    "def flip_dict(owners, pet):\n",
    "    \"\"\"\n",
    "    Function that creates a new dictionary consisting\n",
    "    of 'pet' as its key and the keys of 'owners' \n",
    "    that had 'pet' as its value.\n",
    "    \n",
    "    Args:\n",
    "        owners (dictionary): dictionary of strings to be considered.\n",
    "        pet (string): string to be considered.\n",
    "    Returns:\n",
    "        a dictionary with key 'pet' and value as a list \n",
    "        consisting of matched keys in 'owners'\n",
    "    Throws:\n",
    "        AssertionError: if pet is not a string\n",
    "        AssertionError: if owners is not a dictionary\n",
    "        AssertionError: if the keys and values of owners are \n",
    "        not all strings\n",
    "    \n",
    "    >>> sample = {'ben':'cats', 'charisse':'dogs', 'nikki':'cats'}\n",
    "    >>> flip_dict(sample, 'cats')\n",
    "    {'cats': ['ben', 'nikki']}\n",
    "    \"\"\"\n",
    "    # Write your implementation here\n",
    "    return"
   ]
  },
  {
   "cell_type": "code",
   "execution_count": 11,
   "id": "421ed0d5",
   "metadata": {
    "slideshow": {
     "slide_type": "slide"
    }
   },
   "outputs": [
    {
     "data": {
      "image/jpeg": "[encoded data removed]",
      "text/html": [
       "\n",
       "        <iframe\n",
       "            width=\"800\"\n",
       "            height=\"400\"\n",
       "            src=\"https://www.youtube.com/embed/ZboGJRfSYEE\"\n",
       "            frameborder=\"0\"\n",
       "            allowfullscreen\n",
       "            \n",
       "        ></iframe>\n",
       "        "
      ],
      "text/plain": [
       "<IPython.lib.display.YouTubeVideo at 0x7fdc621055d0>"
      ]
     },
     "execution_count": 11,
     "metadata": {},
     "output_type": "execute_result"
    }
   ],
   "source": [
    "YouTubeVideo(id='ZboGJRfSYEE',width=800,height=400)"
   ]
  },
  {
   "cell_type": "markdown",
   "id": "20778fcf",
   "metadata": {
    "slideshow": {
     "slide_type": "slide"
    }
   },
   "source": [
    "<center><h3>Question 3 Solution</h3></center>"
   ]
  },
  {
   "cell_type": "code",
   "execution_count": 12,
   "id": "e0ecb94e",
   "metadata": {
    "slideshow": {
     "slide_type": "fragment"
    }
   },
   "outputs": [],
   "source": [
    "def flip_dict(owners, pet):\n",
    "    \"\"\"\n",
    "    Function that creates a new dictionary consisting\n",
    "    of 'pet' as its key and the keys of 'owners' \n",
    "    that had 'pet' as its value.\n",
    "    \n",
    "    Args:\n",
    "        owners (dictionary): dictionary of strings to be considered.\n",
    "        pet (string): string to be considered.\n",
    "    Returns:\n",
    "        a dictionary with key 'pet' and value as a list \n",
    "        consisting of matched keys in 'owners'\n",
    "    Throws:\n",
    "        AssertionError: if pet is not a string\n",
    "        AssertionError: if owners is not a dictionary\n",
    "        AssertionError: if the keys and values of owners are \n",
    "        not all strings\n",
    "    \n",
    "    >>> sample = {'ben':'cats', 'charisse':'dogs', 'nikki':'cats'}\n",
    "    >>> flip_dict(sample, 'cats')\n",
    "    {'cats': ['ben', 'nikki']}\n",
    "    \"\"\"\n",
    "    assert isinstance(owners, dict)\n",
    "    assert isinstance(pet, str)\n",
    "    assert all([isinstance(key, str) for key in list(owners.keys())])\n",
    "    assert all([isinstance(val, str) for val in list(owners.values())])\n",
    "    output = {}\n",
    "    output[pet] = []\n",
    "    for owner, pet_type in owners.items():\n",
    "        if pet_type == pet:\n",
    "            output[pet].append(owner)\n",
    "    return output"
   ]
  },
  {
   "cell_type": "markdown",
   "id": "778ae1db",
   "metadata": {
    "slideshow": {
     "slide_type": "slide"
    }
   },
   "source": [
    "<center><h3>Question 3 Output</h3></center>"
   ]
  },
  {
   "cell_type": "code",
   "execution_count": 13,
   "id": "c2ae32b4",
   "metadata": {
    "slideshow": {
     "slide_type": "fragment"
    }
   },
   "outputs": [
    {
     "data": {
      "text/plain": [
       "{'cats': ['ben', 'nikki']}"
      ]
     },
     "execution_count": 13,
     "metadata": {},
     "output_type": "execute_result"
    }
   ],
   "source": [
    "flip_dict({'ben':'cats', 'charisse':'dogs', 'nikki':'cats'}, 'cats')"
   ]
  },
  {
   "cell_type": "code",
   "execution_count": 14,
   "id": "afedd9cf",
   "metadata": {
    "slideshow": {
     "slide_type": "fragment"
    }
   },
   "outputs": [
    {
     "data": {
      "text/plain": [
       "{'dogs': ['charisse']}"
      ]
     },
     "execution_count": 14,
     "metadata": {},
     "output_type": "execute_result"
    }
   ],
   "source": [
    "flip_dict({'ben':'cats', 'charisse':'dogs', 'nikki':'cats'}, 'dogs')"
   ]
  },
  {
   "cell_type": "code",
   "execution_count": 15,
   "id": "1ddd79d9",
   "metadata": {
    "slideshow": {
     "slide_type": "fragment"
    }
   },
   "outputs": [
    {
     "ename": "AssertionError",
     "evalue": "",
     "output_type": "error",
     "traceback": [
      "\u001b[0;31m---------------------------------------------------------------------------\u001b[0m",
      "\u001b[0;31mAssertionError\u001b[0m                            Traceback (most recent call last)",
      "Cell \u001b[0;32mIn[15], line 1\u001b[0m\n\u001b[0;32m----> 1\u001b[0m \u001b[43mflip_dict\u001b[49m\u001b[43m(\u001b[49m\u001b[43m{\u001b[49m\u001b[38;5;124;43m'\u001b[39;49m\u001b[38;5;124;43mtest\u001b[39;49m\u001b[38;5;124;43m'\u001b[39;49m\u001b[43m:\u001b[49m\u001b[38;5;241;43m1\u001b[39;49m\u001b[43m}\u001b[49m\u001b[43m,\u001b[49m\u001b[43m \u001b[49m\u001b[38;5;124;43m'\u001b[39;49m\u001b[38;5;124;43mtest\u001b[39;49m\u001b[38;5;124;43m'\u001b[39;49m\u001b[43m)\u001b[49m\n",
      "Cell \u001b[0;32mIn[12], line 26\u001b[0m, in \u001b[0;36mflip_dict\u001b[0;34m(owners, pet)\u001b[0m\n\u001b[1;32m     24\u001b[0m \u001b[38;5;28;01massert\u001b[39;00m \u001b[38;5;28misinstance\u001b[39m(pet, \u001b[38;5;28mstr\u001b[39m)\n\u001b[1;32m     25\u001b[0m \u001b[38;5;28;01massert\u001b[39;00m \u001b[38;5;28mall\u001b[39m([\u001b[38;5;28misinstance\u001b[39m(key, \u001b[38;5;28mstr\u001b[39m) \u001b[38;5;28;01mfor\u001b[39;00m key \u001b[38;5;129;01min\u001b[39;00m \u001b[38;5;28mlist\u001b[39m(owners\u001b[38;5;241m.\u001b[39mkeys())])\n\u001b[0;32m---> 26\u001b[0m \u001b[38;5;28;01massert\u001b[39;00m \u001b[38;5;28mall\u001b[39m([\u001b[38;5;28misinstance\u001b[39m(val, \u001b[38;5;28mstr\u001b[39m) \u001b[38;5;28;01mfor\u001b[39;00m val \u001b[38;5;129;01min\u001b[39;00m \u001b[38;5;28mlist\u001b[39m(owners\u001b[38;5;241m.\u001b[39mvalues())])\n\u001b[1;32m     27\u001b[0m output \u001b[38;5;241m=\u001b[39m {}\n\u001b[1;32m     28\u001b[0m output[pet] \u001b[38;5;241m=\u001b[39m []\n",
      "\u001b[0;31mAssertionError\u001b[0m: "
     ]
    }
   ],
   "source": [
    "flip_dict({'test':1}, 'test')"
   ]
  },
  {
   "cell_type": "markdown",
   "id": "c34cf316",
   "metadata": {
    "slideshow": {
     "slide_type": "slide"
    }
   },
   "source": [
    "<center><h3>Question 4</h3></center>\n",
    "\n",
    "<center>Given a file containing an expression on each line, write a function that classifies them as 'energetic' if it ends with !, 'confused' if it ends with a ?, and 'neutral' otherwise.</center>\n",
    "\n",
    "<center><b>sample file: files/mood.txt</b></center>\n",
    "<center><img src='imgs/file_img.png' width=100></center>"
   ]
  },
  {
   "cell_type": "code",
   "execution_count": 16,
   "id": "41ffef22",
   "metadata": {
    "slideshow": {
     "slide_type": "fragment"
    }
   },
   "outputs": [],
   "source": [
    "def text_classifier(filepath):\n",
    "    \"\"\"\n",
    "    Function that classifies each word in a text file based\n",
    "    on the punctuation it ends with:\n",
    "    if the word ends with '!',  classify as 'energetic'\n",
    "    if the word ends with '?', classify as 'confused'\n",
    "    otherwise, classify as 'neutral'\n",
    "    \n",
    "    args:\n",
    "        filepath (string): filepath of data to be considered\n",
    "    returns:\n",
    "        a list of classifications\n",
    "        \n",
    "    >>> text_classifier(files/mood.txt)\n",
    "    ['neutral', 'energetic', 'confused', 'neutral']\n",
    "    \"\"\"\n",
    "    # Write your implementation here\n",
    "    return "
   ]
  },
  {
   "cell_type": "code",
   "execution_count": 17,
   "id": "fe528709",
   "metadata": {
    "slideshow": {
     "slide_type": "slide"
    }
   },
   "outputs": [
    {
     "data": {
      "image/jpeg": "[encoded data removed]",
      "text/html": [
       "\n",
       "        <iframe\n",
       "            width=\"800\"\n",
       "            height=\"400\"\n",
       "            src=\"https://www.youtube.com/embed/Tr62qN4A9N8\"\n",
       "            frameborder=\"0\"\n",
       "            allowfullscreen\n",
       "            \n",
       "        ></iframe>\n",
       "        "
      ],
      "text/plain": [
       "<IPython.lib.display.YouTubeVideo at 0x7fdc61e78d00>"
      ]
     },
     "execution_count": 17,
     "metadata": {},
     "output_type": "execute_result"
    }
   ],
   "source": [
    "YouTubeVideo(id='Tr62qN4A9N8',width=800,height=400)"
   ]
  },
  {
   "cell_type": "markdown",
   "id": "10de3320",
   "metadata": {
    "slideshow": {
     "slide_type": "slide"
    }
   },
   "source": [
    "<center><h3>Question 4 Solution</h3></center>"
   ]
  },
  {
   "cell_type": "code",
   "execution_count": 18,
   "id": "27da0ab0",
   "metadata": {
    "slideshow": {
     "slide_type": "fragment"
    }
   },
   "outputs": [],
   "source": [
    "def text_classifier(filepath):\n",
    "    \"\"\"\n",
    "    Function that classifies each word in a text file based\n",
    "    on the punctuation it ends with:\n",
    "    if the word ends with '!',  classify as 'energetic'\n",
    "    if the word ends with '?', classify as 'confused'\n",
    "    otherwise, classify as 'neutral'\n",
    "    \n",
    "    args:\n",
    "        filepath (string): filepath of data to be considered\n",
    "    returns:\n",
    "        a list of classifications\n",
    "    \n",
    "    >>> text_classifier(files/mood.txt)\n",
    "    ['neutral', 'energetic', 'confused', 'neutral']\n",
    "    \"\"\"\n",
    "    with open(filepath, 'r') as f:\n",
    "        data = f.readlines()\n",
    "        # can also write as a for loop, no restriction \n",
    "        #for this question\n",
    "        return ['energetic' if x.strip()[-1]=='!' else \\\n",
    "    'confused' if x.strip()[-1]=='?' else 'neutral' for x in data]"
   ]
  },
  {
   "cell_type": "code",
   "execution_count": 19,
   "id": "ef786cb4",
   "metadata": {
    "slideshow": {
     "slide_type": "fragment"
    }
   },
   "outputs": [
    {
     "data": {
      "text/plain": [
       "['neutral', 'energetic', 'confused', 'neutral']"
      ]
     },
     "execution_count": 19,
     "metadata": {},
     "output_type": "execute_result"
    }
   ],
   "source": [
    "text_classifier('files/mood.txt')"
   ]
  },
  {
   "cell_type": "markdown",
   "id": "23c522d8",
   "metadata": {
    "slideshow": {
     "slide_type": "slide"
    }
   },
   "source": [
    "<center><h3>Question 5</h3></center>\n",
    "\n",
    "<center>Write a function that takes in a list of strings with the pattern of first_name, last_name, first_name,... and strings together first and last names with a single space in between. If the length of the list is odd, insert your own last name.</center>"
   ]
  },
  {
   "cell_type": "code",
   "execution_count": 20,
   "id": "e5428fc8",
   "metadata": {
    "slideshow": {
     "slide_type": "fragment"
    }
   },
   "outputs": [],
   "source": [
    "def combine_names(names):\n",
    "    \"\"\"\n",
    "    Function that concatenates every 2 strings with a space in between. \n",
    "    If the length of the list is odd, use your own last name as the \n",
    "    final element.\n",
    "    \n",
    "    Args:\n",
    "        names (list): list of strings to be considered.\n",
    "    Returns:\n",
    "        a list consisting of full names.\n",
    "    \n",
    "    >>> combine_names(['Charisse', 'Hao', 'Nicole', 'Zhang'])\n",
    "    ['Charisse Hao', 'Nicole Zhang']\n",
    "    >>> combine_names(['Charisse', 'Hao', 'Ben'])\n",
    "    ['Charisse Hao','Ben Chen']\n",
    "    \"\"\"\n",
    "    # Write your implementation here\n",
    "    return "
   ]
  },
  {
   "cell_type": "code",
   "execution_count": 21,
   "id": "6dad7424",
   "metadata": {
    "slideshow": {
     "slide_type": "slide"
    }
   },
   "outputs": [
    {
     "data": {
      "image/jpeg": "[encoded data removed]",
      "text/html": [
       "\n",
       "        <iframe\n",
       "            width=\"800\"\n",
       "            height=\"400\"\n",
       "            src=\"https://www.youtube.com/embed/KIQ1XXI19pc\"\n",
       "            frameborder=\"0\"\n",
       "            allowfullscreen\n",
       "            \n",
       "        ></iframe>\n",
       "        "
      ],
      "text/plain": [
       "<IPython.lib.display.YouTubeVideo at 0x7fdc61d249d0>"
      ]
     },
     "execution_count": 21,
     "metadata": {},
     "output_type": "execute_result"
    }
   ],
   "source": [
    "YouTubeVideo(id='KIQ1XXI19pc',width=800,height=400)"
   ]
  },
  {
   "cell_type": "markdown",
   "id": "ad789dfd",
   "metadata": {
    "slideshow": {
     "slide_type": "slide"
    }
   },
   "source": [
    "<center><h3>Question 5 Solution</h3></center>"
   ]
  },
  {
   "cell_type": "code",
   "execution_count": 22,
   "id": "48e92548",
   "metadata": {
    "slideshow": {
     "slide_type": "fragment"
    }
   },
   "outputs": [],
   "source": [
    "def combine_names(names):\n",
    "    \"\"\"\n",
    "    Function that concatenates every 2 strings with a space in between. \n",
    "    If the length of the list is odd, use your own last name as the \n",
    "    final element.\n",
    "    \n",
    "    Args:\n",
    "        names (list): list of strings to be considered.\n",
    "    Returns:\n",
    "        a list consisting of full names.\n",
    "    \n",
    "    >>> combine_names(['Charisse', 'Hao', 'Nicole', 'Zhang'])\n",
    "    ['Charisse Hao', 'Nicole Zhang']\n",
    "    >>> combine_names(['Charisse', 'Hao', 'Ben'])\n",
    "    ['Charisse Hao','Ben Chen']\n",
    "    \"\"\"\n",
    "    output = []\n",
    "    if len(names)%2 == 1:\n",
    "        names.append('Chen')\n",
    "    for i in range(0,len(names), 2):\n",
    "        output.append(' '.join(names[i:i+2]))\n",
    "    return output"
   ]
  },
  {
   "cell_type": "code",
   "execution_count": 23,
   "id": "f68c8bdb",
   "metadata": {
    "slideshow": {
     "slide_type": "fragment"
    }
   },
   "outputs": [
    {
     "data": {
      "text/plain": [
       "['Charisse Hao', 'Nicole Zhang']"
      ]
     },
     "execution_count": 23,
     "metadata": {},
     "output_type": "execute_result"
    }
   ],
   "source": [
    "combine_names(['Charisse', 'Hao', 'Nicole', 'Zhang'])"
   ]
  },
  {
   "cell_type": "code",
   "execution_count": 24,
   "id": "1219ecf3",
   "metadata": {
    "slideshow": {
     "slide_type": "fragment"
    }
   },
   "outputs": [
    {
     "data": {
      "text/plain": [
       "['Charisse Hao', 'Ben Chen']"
      ]
     },
     "execution_count": 24,
     "metadata": {},
     "output_type": "execute_result"
    }
   ],
   "source": [
    "combine_names(['Charisse', 'Hao', 'Ben'])"
   ]
  },
  {
   "cell_type": "markdown",
   "id": "824ee87e",
   "metadata": {
    "slideshow": {
     "slide_type": "slide"
    }
   },
   "source": [
    "<center><h3>Question 6</h3></center>\n",
    "\n",
    "<center>Given a dictionary that has lists as values, Write a function that returns a list that consists of the length of each list in the dictionary</center>"
   ]
  },
  {
   "cell_type": "code",
   "execution_count": 25,
   "id": "cf19e8ee",
   "metadata": {
    "slideshow": {
     "slide_type": "fragment"
    }
   },
   "outputs": [],
   "source": [
    "def count_values(entries):\n",
    "    \"\"\"\n",
    "    Function that counts the length of each value in a dictionary. \n",
    "    Assume the values are only of type list.\n",
    "    \n",
    "    Args:\n",
    "        entries(dictionary): dictionary of lists as \n",
    "        values to be considered.\n",
    "    Returns:\n",
    "        a list where each element is the length of\n",
    "        the dictionary value.\n",
    "    \n",
    "    >>> count_values({1: [1,2,3], 2:[3,4,5,6]})\n",
    "    [3,4]\n",
    "    \"\"\"\n",
    "    # Write your implementation here\n",
    "    return "
   ]
  },
  {
   "cell_type": "code",
   "execution_count": 26,
   "id": "85b6b78f",
   "metadata": {
    "slideshow": {
     "slide_type": "slide"
    }
   },
   "outputs": [
    {
     "data": {
      "image/jpeg": "[encoded data removed]",
      "text/html": [
       "\n",
       "        <iframe\n",
       "            width=\"800\"\n",
       "            height=\"400\"\n",
       "            src=\"https://www.youtube.com/embed/hUVqDaVLDjI\"\n",
       "            frameborder=\"0\"\n",
       "            allowfullscreen\n",
       "            \n",
       "        ></iframe>\n",
       "        "
      ],
      "text/plain": [
       "<IPython.lib.display.YouTubeVideo at 0x7fdc61e7dea0>"
      ]
     },
     "execution_count": 26,
     "metadata": {},
     "output_type": "execute_result"
    }
   ],
   "source": [
    "YouTubeVideo(id='hUVqDaVLDjI',width=800,height=400)"
   ]
  },
  {
   "cell_type": "markdown",
   "id": "4f8c5b77",
   "metadata": {
    "slideshow": {
     "slide_type": "slide"
    }
   },
   "source": [
    "<center><h3>Question 6 Solution</h3></center>"
   ]
  },
  {
   "cell_type": "code",
   "execution_count": 27,
   "id": "c682fc9b",
   "metadata": {
    "slideshow": {
     "slide_type": "fragment"
    }
   },
   "outputs": [],
   "source": [
    "def count_values(entries):\n",
    "    \"\"\"\n",
    "    Function that counts the length of each value in a dictionary. \n",
    "    Assume the values are only of type list.\n",
    "    \n",
    "    Args:\n",
    "        entries(dictionary): dictionary of lists as \n",
    "        values to be considered.\n",
    "    Returns:\n",
    "        a list where each element is the length of\n",
    "        the dictionary value.\n",
    "    \n",
    "    >>> count_values({1: [1,2,3], 2:[3,4,5,6]})\n",
    "    [3,4]\n",
    "    \"\"\"\n",
    "    return [len(entry) for entry in entries.values()]"
   ]
  },
  {
   "cell_type": "code",
   "execution_count": 28,
   "id": "7bb31e1b",
   "metadata": {
    "slideshow": {
     "slide_type": "fragment"
    }
   },
   "outputs": [
    {
     "data": {
      "text/plain": [
       "[3, 4]"
      ]
     },
     "execution_count": 28,
     "metadata": {},
     "output_type": "execute_result"
    }
   ],
   "source": [
    "count_values({1: [1,2,3], 2:[3,4,5,6]})"
   ]
  },
  {
   "cell_type": "markdown",
   "id": "0c6bec5d",
   "metadata": {
    "slideshow": {
     "slide_type": "slide"
    }
   },
   "source": [
    "<center><h3>Question 7</h3></center>\n",
    "\n",
    "<center>Write a function that takes two lists of the same length that contains integers and returns true if the first list is strictly greater than the second list. <b>One line solution</b>.</center>"
   ]
  },
  {
   "cell_type": "code",
   "execution_count": 29,
   "id": "58df0b64",
   "metadata": {
    "slideshow": {
     "slide_type": "fragment"
    }
   },
   "outputs": [],
   "source": [
    "def greater_comparison(lst1, lst2):\n",
    "    \"\"\"\n",
    "    Function that checks whether the integers of lst1 \n",
    "    are strictly greater than lst2.\n",
    "    \n",
    "    Args:\n",
    "        lst1 (list): list of integers to be considered\n",
    "        lst2 (list): list of integers to be considered\n",
    "    Returns:\n",
    "        True if elements of lst1 are strictly greater \n",
    "        than those of lst2, False otherwise.\n",
    "    \n",
    "    >>> greater_comparison([10,20,30], [1,2,3])\n",
    "    True\n",
    "    >>> greater_comparison([0,0,4], [1,2,3])\n",
    "    False\n",
    "    \"\"\"\n",
    "    # Write your implementation here\n",
    "    return"
   ]
  },
  {
   "cell_type": "code",
   "execution_count": 30,
   "id": "f8c625d4",
   "metadata": {
    "slideshow": {
     "slide_type": "slide"
    }
   },
   "outputs": [
    {
     "data": {
      "image/jpeg": "[encoded data removed]",
      "text/html": [
       "\n",
       "        <iframe\n",
       "            width=\"800\"\n",
       "            height=\"400\"\n",
       "            src=\"https://www.youtube.com/embed/xQA2xVxsdY8\"\n",
       "            frameborder=\"0\"\n",
       "            allowfullscreen\n",
       "            \n",
       "        ></iframe>\n",
       "        "
      ],
      "text/plain": [
       "<IPython.lib.display.YouTubeVideo at 0x7fdc61e7cdc0>"
      ]
     },
     "execution_count": 30,
     "metadata": {},
     "output_type": "execute_result"
    }
   ],
   "source": [
    "YouTubeVideo(id='xQA2xVxsdY8',width=800,height=400)"
   ]
  },
  {
   "cell_type": "markdown",
   "id": "e417accb",
   "metadata": {
    "slideshow": {
     "slide_type": "slide"
    }
   },
   "source": [
    "<center><h3>Question 7 Solution</h3></center>"
   ]
  },
  {
   "cell_type": "code",
   "execution_count": 31,
   "id": "893112f5",
   "metadata": {
    "slideshow": {
     "slide_type": "fragment"
    }
   },
   "outputs": [],
   "source": [
    "def greater_comparison(lst1, lst2):\n",
    "    \"\"\"\n",
    "    Function that checks whether the integers of lst1 \n",
    "    are strictly greater than lst2.\n",
    "    \n",
    "    Args:\n",
    "        lst1 (list): list of integers to be considered\n",
    "        lst2 (list): list of integers to be considered\n",
    "    Returns:\n",
    "        True if elements of lst1 are strictly greater \n",
    "        than those of lst2, False otherwise.\n",
    "    \n",
    "    >>> greater_comparison([10,20,30], [1,2,3])\n",
    "    True\n",
    "    >>> greater_comparison([0,0,4], [1,2,3])\n",
    "    False\n",
    "    \"\"\"\n",
    "    return all([lst1[idx] > lst2[idx] for idx in range(len(lst1))])"
   ]
  },
  {
   "cell_type": "code",
   "execution_count": 32,
   "id": "b1420b4a",
   "metadata": {
    "slideshow": {
     "slide_type": "fragment"
    }
   },
   "outputs": [
    {
     "data": {
      "text/plain": [
       "True"
      ]
     },
     "execution_count": 32,
     "metadata": {},
     "output_type": "execute_result"
    }
   ],
   "source": [
    "greater_comparison([10,20,30], [1,2,3])"
   ]
  },
  {
   "cell_type": "code",
   "execution_count": 33,
   "id": "03812956",
   "metadata": {
    "slideshow": {
     "slide_type": "fragment"
    }
   },
   "outputs": [
    {
     "data": {
      "text/plain": [
       "False"
      ]
     },
     "execution_count": 33,
     "metadata": {},
     "output_type": "execute_result"
    }
   ],
   "source": [
    "greater_comparison([0,0,4], [1,2,3])"
   ]
  },
  {
   "cell_type": "markdown",
   "id": "c61e63e5",
   "metadata": {
    "slideshow": {
     "slide_type": "slide"
    }
   },
   "source": [
    "<center><h3>Question 8</h3></center>\n",
    "\n",
    "<center>Write a function that takes in a matrix and a number. It returns the result of the multiplication. <b>You may only use list comprehension and the solution must be 1 line</b>.</center>"
   ]
  },
  {
   "cell_type": "code",
   "execution_count": 34,
   "id": "e53f69fc",
   "metadata": {
    "slideshow": {
     "slide_type": "fragment"
    }
   },
   "outputs": [],
   "source": [
    "def matrix_multiplication(matrix, coefficient):\n",
    "    \"\"\"\n",
    "    Function that multiplies the given matrix by the coefficient.\n",
    "    Solution must be one line list comprehension.\n",
    "    \n",
    "    Args:\n",
    "        matrix (list): nested list representing a matrix\n",
    "        coefficient (integer): int to be considered\n",
    "    Returns:\n",
    "        the resulting matrix after every element is \n",
    "        multiplied by coefficient.\n",
    "    \n",
    "    >>> mtx = [[1,2,3],[4,5,6],[7,8,9]]\n",
    "    >>> matrix_multiplication(mtx, 3)\n",
    "    [[3, 6, 9], [12, 15, 18], [21, 24, 27]]\n",
    "    \"\"\"\n",
    "    # Write your implementation here\n",
    "    return "
   ]
  },
  {
   "cell_type": "code",
   "execution_count": 35,
   "id": "f8fd485e",
   "metadata": {
    "slideshow": {
     "slide_type": "slide"
    }
   },
   "outputs": [
    {
     "data": {
      "image/jpeg": "[encoded data removed]",
      "text/html": [
       "\n",
       "        <iframe\n",
       "            width=\"800\"\n",
       "            height=\"400\"\n",
       "            src=\"https://www.youtube.com/embed/LAXHUzmjMj4\"\n",
       "            frameborder=\"0\"\n",
       "            allowfullscreen\n",
       "            \n",
       "        ></iframe>\n",
       "        "
      ],
      "text/plain": [
       "<IPython.lib.display.YouTubeVideo at 0x7fdc61e85870>"
      ]
     },
     "execution_count": 35,
     "metadata": {},
     "output_type": "execute_result"
    }
   ],
   "source": [
    "YouTubeVideo(id='LAXHUzmjMj4',width=800,height=400)"
   ]
  },
  {
   "cell_type": "markdown",
   "id": "7d7d3ba4",
   "metadata": {
    "slideshow": {
     "slide_type": "slide"
    }
   },
   "source": [
    "<center><h3>Question 8 Solution</h3></center>"
   ]
  },
  {
   "cell_type": "code",
   "execution_count": 36,
   "id": "6dd5750d",
   "metadata": {
    "slideshow": {
     "slide_type": "fragment"
    }
   },
   "outputs": [],
   "source": [
    "def matrix_multiplication(matrix, coefficient):\n",
    "    \"\"\"\n",
    "    Function that multiplies the given matrix by the coefficient.\n",
    "    Solution must be one line list comprehension.\n",
    "    \n",
    "    Args:\n",
    "        matrix (list): nested list representing a matrix\n",
    "        coefficient (integer): int to be considered\n",
    "    Returns:\n",
    "        the resulting matrix after every element is \n",
    "        multiplied by coefficient.\n",
    "    \n",
    "    >>> mtx = [[1,2,3],[4,5,6],[7,8,9]]\n",
    "    >>> matrix_multiplication(mtx, 3)\n",
    "    [[3, 6, 9], [12, 15, 18], [21, 24, 27]]\n",
    "    \"\"\"\n",
    "    return [[element*coefficient for element in row] for row in matrix]"
   ]
  },
  {
   "cell_type": "code",
   "execution_count": 37,
   "id": "2be691c9",
   "metadata": {
    "slideshow": {
     "slide_type": "fragment"
    }
   },
   "outputs": [
    {
     "data": {
      "text/plain": [
       "[[3, 6, 9], [12, 15, 18], [21, 24, 27]]"
      ]
     },
     "execution_count": 37,
     "metadata": {},
     "output_type": "execute_result"
    }
   ],
   "source": [
    "matrix_multiplication([[1,2,3],[4,5,6],[7,8,9]], 3)"
   ]
  },
  {
   "cell_type": "markdown",
   "id": "e232ed7a",
   "metadata": {
    "slideshow": {
     "slide_type": "slide"
    }
   },
   "source": [
    "<center><h2>Thanks for Coming!</h2></center>\n",
    "<center>Next week will be content review for midterm 1 (with practice questions)</center>"
   ]
  },
  {
   "cell_type": "code",
   "execution_count": null,
   "id": "a1f39696",
   "metadata": {
    "slideshow": {
     "slide_type": "skip"
    }
   },
   "outputs": [],
   "source": []
  }
 ],
 "metadata": {
  "celltoolbar": "Slideshow",
  "kernelspec": {
   "display_name": "Python 3 (ipykernel)",
   "language": "python",
   "name": "python3"
  },
  "language_info": {
   "codemirror_mode": {
    "name": "ipython",
    "version": 3
   },
   "file_extension": ".py",
   "mimetype": "text/x-python",
   "name": "python",
   "nbconvert_exporter": "python",
   "pygments_lexer": "ipython3",
   "version": "3.10.8"
  },
  "rise": {
   "enable_chalkboard": true
  }
 },
 "nbformat": 4,
 "nbformat_minor": 5
}
