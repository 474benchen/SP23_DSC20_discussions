{
 "cells": [
  {
   "cell_type": "markdown",
   "id": "359ab73d",
   "metadata": {
    "slideshow": {
     "slide_type": "skip"
    }
   },
   "source": [
    "**note**: for anyone trying to view this as a slideshow, run 'pip install rise', reload your notebook, then click on the button that looks like a bar graph to the right of the command palette at the top."
   ]
  },
  {
   "cell_type": "markdown",
   "id": "b75c3b22",
   "metadata": {
    "slideshow": {
     "slide_type": "slide"
    }
   },
   "source": [
    "<center><h1>Discussion 3 - Recording Notebook</h1></center>\n",
    "<center><h2>DSC 20, Spring 2023</h2><center>"
   ]
  },
  {
   "cell_type": "markdown",
   "id": "81ca0c26",
   "metadata": {
    "slideshow": {
     "slide_type": "slide"
    }
   },
   "source": [
    "<center><h3>Question 1</h3></center>\n",
    "\n",
    "<center>What should be the values for x,y,z if I want to print out \"summer!\"</center>\n",
    "\n",
    "<center><b>Note</b>: Don't forget the order of evaluation! (NAO)</center>"
   ]
  },
  {
   "cell_type": "code",
   "execution_count": null,
   "id": "b23387b3",
   "metadata": {
    "slideshow": {
     "slide_type": "fragment"
    }
   },
   "outputs": [],
   "source": [
    "if x and y and z:\n",
    "    print('fall')\n",
    "elif not x and not y:\n",
    "    print('winter...')\n",
    "elif not z or x:\n",
    "    print('spring?')\n",
    "else:\n",
    "    print('summer!')"
   ]
  },
  {
   "cell_type": "markdown",
   "id": "c05feca9",
   "metadata": {
    "slideshow": {
     "slide_type": "slide"
    }
   },
   "source": [
    "<center><h3>Question 1 Solution</h3></center>"
   ]
  },
  {
   "cell_type": "code",
   "execution_count": 3,
   "id": "fb9987a7",
   "metadata": {
    "slideshow": {
     "slide_type": "fragment"
    }
   },
   "outputs": [
    {
     "name": "stdout",
     "output_type": "stream",
     "text": [
      "summer!\n"
     ]
    }
   ],
   "source": [
    "x = False\n",
    "y = True\n",
    "z = True\n",
    "\n",
    "if x and y and z:\n",
    "    print('fall')\n",
    "elif not x and not y:\n",
    "    print('winter...')\n",
    "elif not z or x:\n",
    "    print('spring?')\n",
    "else:\n",
    "    print('summer!')"
   ]
  },
  {
   "cell_type": "markdown",
   "id": "fdb215be",
   "metadata": {
    "slideshow": {
     "slide_type": "slide"
    }
   },
   "source": [
    "<center><h3>Question 2</h3></center>\n",
    "\n",
    "<center>Given 2 lists, remove the elements from the first list if they're present in the second one.</center>\n",
    "<center><b>Your solution must be 1 line and use filter</b></center>\n",
    "\n",
    "<center><b>note:</b> filter has not been covered quite yet at the time of this discussion, don't worry if this question is confusing - consider it more as a preview of friday's lecture (It is a covered topic on midterm 1).</center>"
   ]
  },
  {
   "cell_type": "code",
   "execution_count": 2,
   "id": "5b52fea1",
   "metadata": {
    "slideshow": {
     "slide_type": "fragment"
    }
   },
   "outputs": [],
   "source": [
    "def up_join(lst1, lst2):\n",
    "    \"\"\"\n",
    "    >>> grades = ['A', 'B', 'C', 'D', 'F']\n",
    "    >>> grade_filter = ['D', 'F']\n",
    "    >>> up_join(grades, grade_filter)\n",
    "    ['A', 'B', 'C']\n",
    "    \"\"\""
   ]
  },
  {
   "cell_type": "markdown",
   "id": "f7fdc33e",
   "metadata": {
    "slideshow": {
     "slide_type": "slide"
    }
   },
   "source": [
    "<center><h3>Question 2 Solution</h3></center>"
   ]
  },
  {
   "cell_type": "code",
   "execution_count": 5,
   "id": "3b8f1c8f",
   "metadata": {
    "slideshow": {
     "slide_type": "fragment"
    }
   },
   "outputs": [],
   "source": [
    "def up_join(lst1, lst2):\n",
    "    \"\"\"\n",
    "    >>> grades = ['A', 'B', 'C', 'D', 'F']\n",
    "    >>> grade_filter = ['D', 'F']\n",
    "    >>> up_join(grades, grade_filter)\n",
    "    ['A', 'B', 'C']\n",
    "    \"\"\"\n",
    "    return list(filter(lambda x: x not in lst2, lst1))"
   ]
  },
  {
   "cell_type": "markdown",
   "id": "68745c64",
   "metadata": {
    "slideshow": {
     "slide_type": "slide"
    }
   },
   "source": [
    "<center><h3>Question 3</h3></center>\n",
    "\n",
    "<center>Given a dictionary consisting of strings for keys and values and another string, create a new dictionary where the key is the new string and the value is the list of keys who had it as their value. <b>Write assert statements to check input</b>.</center>"
   ]
  },
  {
   "cell_type": "code",
   "execution_count": 16,
   "id": "11107f9f",
   "metadata": {
    "slideshow": {
     "slide_type": "fragment"
    }
   },
   "outputs": [],
   "source": [
    "def flip_dict(owners, pet):\n",
    "    \"\"\"\n",
    "    >>> sample = {'ben':'cats', 'charisse':'dogs', 'nikki':'cats'}\n",
    "    >>> flip_dict(sample, 'cats')\n",
    "    {'cats': ['ben', 'nikki']}\n",
    "    \"\"\""
   ]
  },
  {
   "cell_type": "markdown",
   "id": "20778fcf",
   "metadata": {
    "slideshow": {
     "slide_type": "slide"
    }
   },
   "source": [
    "<center><h3>Question 3 Solution</h3></center>"
   ]
  },
  {
   "cell_type": "code",
   "execution_count": 17,
   "id": "e0ecb94e",
   "metadata": {
    "slideshow": {
     "slide_type": "fragment"
    }
   },
   "outputs": [],
   "source": [
    "def flip_dict(owners, pet):\n",
    "    \"\"\"\n",
    "    >>> sample = {'ben':'cats', 'charisse':'dogs', 'nikki':'cats'}\n",
    "    >>> flip_dict(sample, 'cats')\n",
    "    {'cats': ['ben', 'nikki']}\n",
    "    \"\"\"\n",
    "    assert isinstance(owners, dict)\n",
    "    assert isinstance(pet, str)\n",
    "    assert all([isinstance(key, str) for key in list(owners.keys())])\n",
    "    assert all([isinstance(val, str) for val in list(owners.values())])\n",
    "    output = {}\n",
    "    output[pet] = []\n",
    "    for owner, pet_type in owners.items():\n",
    "        if pet_type == pet:\n",
    "            output[pet].append(owner)\n",
    "    return output"
   ]
  },
  {
   "cell_type": "markdown",
   "id": "c34cf316",
   "metadata": {
    "slideshow": {
     "slide_type": "slide"
    }
   },
   "source": [
    "<center><h3>Question 4</h3></center>\n",
    "\n",
    "<center>Given a file containing an expression on each line, write a function that classifies them as 'energetic' if it ends with !, 'confused' if it ends with a ?, and 'neutral' otherwise.</center>\n",
    "\n",
    "<center><b>sample file</b></center>\n",
    "<center><img src='imgs/file_img.png' width=100></center>"
   ]
  },
  {
   "cell_type": "code",
   "execution_count": 31,
   "id": "41ffef22",
   "metadata": {
    "slideshow": {
     "slide_type": "fragment"
    }
   },
   "outputs": [],
   "source": [
    "def text_classifier(filepath):\n",
    "    \"\"\"\n",
    "    >>> text_classifier(files/mood.txt)\n",
    "    ['neutral', 'energetic', 'confused', 'neutral']\n",
    "    \"\"\"\n",
    "    "
   ]
  },
  {
   "cell_type": "markdown",
   "id": "10de3320",
   "metadata": {
    "slideshow": {
     "slide_type": "slide"
    }
   },
   "source": [
    "<center><h3>Question 4 Solution</h3></center>"
   ]
  },
  {
   "cell_type": "code",
   "execution_count": 1,
   "id": "27da0ab0",
   "metadata": {
    "slideshow": {
     "slide_type": "fragment"
    }
   },
   "outputs": [],
   "source": [
    "def text_classifier(filepath):\n",
    "    \"\"\"\n",
    "    >>> text_classifier(files/mood.txt)\n",
    "    ['neutral', 'energetic', 'confused', 'neutral']\n",
    "    \"\"\"\n",
    "    with open(filepath, 'r') as f:\n",
    "        data = f.readlines()\n",
    "        # can also write as a for loop, no restriction \n",
    "        #for this question\n",
    "        return ['energetic' if x.strip()[-1]=='!' else \\\n",
    "    'confused' if x.strip()[-1]=='?' else 'neutral' for x in data]"
   ]
  },
  {
   "cell_type": "markdown",
   "id": "23c522d8",
   "metadata": {
    "slideshow": {
     "slide_type": "slide"
    }
   },
   "source": [
    "<center><h3>Question 5</h3></center>\n",
    "\n",
    "<center>Write a function that takes in a list of strings with the pattern of first_name, last_name, first_name,... and strings together first and last names with a single space in between. If the length of the list is odd, insert your own last name.</center>"
   ]
  },
  {
   "cell_type": "code",
   "execution_count": 39,
   "id": "e5428fc8",
   "metadata": {
    "slideshow": {
     "slide_type": "fragment"
    }
   },
   "outputs": [],
   "source": [
    "def combine_names(names):\n",
    "    \"\"\"\n",
    "    >>> combine_names(['Charisse', 'Hao', 'Nicole', 'Zhang'])\n",
    "    ['Charisse Hao', 'Nicole Zhang']\n",
    "    >>> combine_names(['Charisse', 'Hao', 'Ben'])\n",
    "    ['Charisse Hao','Ben Chen']\n",
    "    \"\"\"\n",
    "    "
   ]
  },
  {
   "cell_type": "markdown",
   "id": "ad789dfd",
   "metadata": {
    "slideshow": {
     "slide_type": "slide"
    }
   },
   "source": [
    "<center><h3>Question 5 Solution</h3></center>"
   ]
  },
  {
   "cell_type": "code",
   "execution_count": 57,
   "id": "48e92548",
   "metadata": {
    "slideshow": {
     "slide_type": "fragment"
    }
   },
   "outputs": [],
   "source": [
    "def combine_names(names):\n",
    "    \"\"\"\n",
    "    >>> combine_names(['Charisse', 'Hao', 'Nicole', 'Zhang'])\n",
    "    ['Charisse Hao', 'Nicole Zhang']\n",
    "    >>> combine_names(['Charisse', 'Hao', 'Ben'])\n",
    "    ['Charisse Hao','Ben Chen']\n",
    "    \"\"\"\n",
    "    output = []\n",
    "    if len(names)%2 == 1:\n",
    "        names.append('Chen')\n",
    "    for i in range(0,len(names), 2):\n",
    "        output.append(' '.join(names[i:i+2]))\n",
    "    return output"
   ]
  },
  {
   "cell_type": "markdown",
   "id": "824ee87e",
   "metadata": {
    "slideshow": {
     "slide_type": "slide"
    }
   },
   "source": [
    "<center><h3>Question 6</h3></center>\n",
    "\n",
    "<center>Given a dictionary that has lists as values, Write a function that returns a list that consists of the length of each list in the dictionary</center>"
   ]
  },
  {
   "cell_type": "code",
   "execution_count": 62,
   "id": "cf19e8ee",
   "metadata": {
    "slideshow": {
     "slide_type": "fragment"
    }
   },
   "outputs": [],
   "source": [
    "def count_values(entries):\n",
    "    \"\"\"\n",
    "    >>> count_values({1: [1,2,3], 2:[3,4,5,6]})\n",
    "    [3,4]\n",
    "    \"\"\"\n",
    "    "
   ]
  },
  {
   "cell_type": "markdown",
   "id": "4f8c5b77",
   "metadata": {
    "slideshow": {
     "slide_type": "slide"
    }
   },
   "source": [
    "<center><h3>Question 6 Solution</h3></center>"
   ]
  },
  {
   "cell_type": "code",
   "execution_count": 63,
   "id": "c682fc9b",
   "metadata": {
    "slideshow": {
     "slide_type": "fragment"
    }
   },
   "outputs": [],
   "source": [
    "def count_values(entries):\n",
    "    \"\"\"\n",
    "    >>> count_values({1: [1,2,3], 2:[3,4,5,6]})\n",
    "    [3,4]\n",
    "    \"\"\"\n",
    "    return [len(entry) for entry in entries.values()]"
   ]
  },
  {
   "cell_type": "code",
   "execution_count": 64,
   "id": "7bb31e1b",
   "metadata": {
    "slideshow": {
     "slide_type": "fragment"
    }
   },
   "outputs": [
    {
     "data": {
      "text/plain": [
       "[3, 4]"
      ]
     },
     "execution_count": 64,
     "metadata": {},
     "output_type": "execute_result"
    }
   ],
   "source": [
    "count_values({1: [1,2,3], 2:[3,4,5,6]})"
   ]
  },
  {
   "cell_type": "markdown",
   "id": "0c6bec5d",
   "metadata": {
    "slideshow": {
     "slide_type": "slide"
    }
   },
   "source": [
    "<center><h3>Question 7</h3></center>\n",
    "\n",
    "<center>Write a function that takes two lists of the same length that contains integers and returns true if the first list is strictly greater than the second list. <b>One line solution</b>.</center>"
   ]
  },
  {
   "cell_type": "code",
   "execution_count": 67,
   "id": "58df0b64",
   "metadata": {
    "slideshow": {
     "slide_type": "fragment"
    }
   },
   "outputs": [],
   "source": [
    "def greater_comparison(lst1, lst2):\n",
    "    \"\"\"\n",
    "    >>> greater_comparison([10,20,30], [1,2,3])\n",
    "    True\n",
    "    >>> greater_comparison([0,0,4], [1,2,3])\n",
    "    False\n",
    "    \"\"\"\n"
   ]
  },
  {
   "cell_type": "markdown",
   "id": "e417accb",
   "metadata": {
    "slideshow": {
     "slide_type": "slide"
    }
   },
   "source": [
    "<center><h3>Question 7 Solution</h3></center>"
   ]
  },
  {
   "cell_type": "code",
   "execution_count": 71,
   "id": "893112f5",
   "metadata": {
    "slideshow": {
     "slide_type": "fragment"
    }
   },
   "outputs": [],
   "source": [
    "def greater_comparison(lst1, lst2):\n",
    "    \"\"\"\n",
    "    >>> greater_comparison([10,20,30], [1,2,3])\n",
    "    True\n",
    "    >>> greater_comparison([0,0,4], [1,2,3])\n",
    "    False\n",
    "    \"\"\"\n",
    "    return all([lst1[idx] > lst2[idx] for idx in range(len(lst1))])"
   ]
  },
  {
   "cell_type": "markdown",
   "id": "c61e63e5",
   "metadata": {
    "slideshow": {
     "slide_type": "slide"
    }
   },
   "source": [
    "<center><h3>Question 8</h3></center>\n",
    "\n",
    "<center>Write a function that takes in a matrix and a number. It returns the result of the multiplication. <b>You may only use list comprehension and the solution must be 1 line</b>.</center>"
   ]
  },
  {
   "cell_type": "code",
   "execution_count": 75,
   "id": "e53f69fc",
   "metadata": {
    "slideshow": {
     "slide_type": "fragment"
    }
   },
   "outputs": [],
   "source": [
    "def matrix_multiplication(matrix, coefficient):\n",
    "    \"\"\"\n",
    "    >>> mtx = [[1,2,3],[4,5,6],[7,8,9]]\n",
    "    >>> matrix_multiplication(mtx, 3)\n",
    "    [[3, 6, 9], [12, 15, 18], [21, 24, 27]]\n",
    "    \"\"\"\n"
   ]
  },
  {
   "cell_type": "markdown",
   "id": "7d7d3ba4",
   "metadata": {
    "slideshow": {
     "slide_type": "slide"
    }
   },
   "source": [
    "<center><h3>Question 8 Solution</h3></center>"
   ]
  },
  {
   "cell_type": "code",
   "execution_count": 77,
   "id": "6dd5750d",
   "metadata": {
    "slideshow": {
     "slide_type": "fragment"
    }
   },
   "outputs": [],
   "source": [
    "def matrix_multiplication(matrix, coefficient):\n",
    "    \"\"\"\n",
    "    >>> mtx = [[1,2,3],[4,5,6],[7,8,9]]\n",
    "    >>> matrix_multiplication(mtx, 3)\n",
    "    [[3, 6, 9], [12, 15, 18], [21, 24, 27]]\n",
    "    \"\"\"\n",
    "    return [[element*coefficient for element in row] for row in matrix]"
   ]
  },
  {
   "cell_type": "code",
   "execution_count": null,
   "id": "a1f39696",
   "metadata": {
    "slideshow": {
     "slide_type": "skip"
    }
   },
   "outputs": [],
   "source": []
  }
 ],
 "metadata": {
  "celltoolbar": "Slideshow",
  "kernelspec": {
   "display_name": "Python 3 (ipykernel)",
   "language": "python",
   "name": "python3"
  },
  "language_info": {
   "codemirror_mode": {
    "name": "ipython",
    "version": 3
   },
   "file_extension": ".py",
   "mimetype": "text/x-python",
   "name": "python",
   "nbconvert_exporter": "python",
   "pygments_lexer": "ipython3",
   "version": "3.10.8"
  },
  "rise": {
   "enable_chalkboard": true
  }
 },
 "nbformat": 4,
 "nbformat_minor": 5
}
