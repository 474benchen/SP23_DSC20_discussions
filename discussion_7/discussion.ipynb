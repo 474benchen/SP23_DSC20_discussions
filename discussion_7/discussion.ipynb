{
 "cells": [
  {
   "cell_type": "markdown",
   "id": "9ac70a89",
   "metadata": {
    "slideshow": {
     "slide_type": "skip"
    }
   },
   "source": [
    "**note**: for anyone trying to view this as a slideshow, run 'pip install rise', reload your notebook, then click on the button that looks like a bar graph to the right of the command palette at the top."
   ]
  },
  {
   "cell_type": "markdown",
   "id": "0aaa7f3e",
   "metadata": {
    "slideshow": {
     "slide_type": "slide"
    }
   },
   "source": [
    "<center><h1>Discussion 7</h1></center>\n",
    "<center><h2>DSC 20, Spring 2023</h2><center>"
   ]
  },
  {
   "cell_type": "markdown",
   "id": "172f9b03",
   "metadata": {
    "slideshow": {
     "slide_type": "slide"
    }
   },
   "source": [
    "<center><h3>Midterm 2 Practice + Prep</h3></center>"
   ]
  },
  {
   "cell_type": "markdown",
   "id": "af72f036",
   "metadata": {
    "slideshow": {
     "slide_type": "slide"
    }
   },
   "source": [
    "<center><h3>Midterm Logistics - basically same as midterm 1</h3></center>\n",
    "<center>- Make sure to bring pen/pencil/eraser and your <b>student ID</b></center>\n",
    "<center>- Exam takes place Friday, May 19th in MANDE B-210 (in lecture)</center>"
   ]
  },
  {
   "cell_type": "markdown",
   "id": "c8f91290",
   "metadata": {
    "slideshow": {
     "slide_type": "slide"
    }
   },
   "source": [
    "<center><h3>Topics</h3></center>\n",
    "\n",
    "<center>-  Iterators, Map, Filter,lambda </center>\n",
    "<center>- Higher order function </center>\n",
    "<center>- Argument passing (arg, *args, **kwargs) </center>\n",
    "<center>- Time Complexity </center>\n",
    "<center>- Recursion </center>\n",
    "\n",
    "<center><b>note</b>: Though not explicitly covered, you are still expected to be able to apply concepts from midterm 1.</center>\n"
   ]
  },
  {
   "cell_type": "markdown",
   "id": "6263a16f",
   "metadata": {
    "slideshow": {
     "slide_type": "slide"
    }
   },
   "source": [
    "<center><h3> Lambda Functions </h3></center>\n",
    "<ul>\n",
    "    <li> known as anonymous functions (their functions are so simple, they don't need a name)\n",
    "    <li> syntax: lambda (input): (operation)\n",
    "    <li> creating a lambda is O(1) (no operation is performed)\n",
    "</ul>\n",
    "\n",
    "<b>note: </b>lambda functions can't include statements (ex. return, assert)"
   ]
  },
  {
   "cell_type": "markdown",
   "id": "18725f73",
   "metadata": {
    "slideshow": {
     "slide_type": "slide"
    }
   },
   "source": [
    "<center><h3>Map</h3></center>\n",
    "\n",
    "<b>Syntax: map(function, iterable)</b>\n",
    "<ul>\n",
    "    <li> Map allows you to apply a function to all elements to an iterable input\n",
    "    <li> very common to use a lambda function as the function to apply\n",
    "    <li> returns an iterator through the iterable object, applying the function as it traverses\n",
    "</ul>\n",
    "\n",
    "<b>note: </b> Without being called, creating a map is O(1)."
   ]
  },
  {
   "cell_type": "markdown",
   "id": "e6002011",
   "metadata": {
    "slideshow": {
     "slide_type": "slide"
    }
   },
   "source": [
    "<center><h3>Filter </h3></center>\n",
    "\n",
    "<b>Syntax: filter(function, iterable)</b>\n",
    "<ul>\n",
    "    <li> Filter takes in a function that returns a boolean and only keeps elements that satisfy the function\n",
    "    <li> Very common to use a lambda function as the function. Keep in mind the function <b>must return a boolean</b>.\n",
    "    <li> Returns an iterator through the iterable object that only yields values that pass the function.\n",
    "</ul>\n",
    "\n",
    "<b>note: </b>filters are a unique subset of maps. You <b>can</b> theoretically write filters as maps, but that's unnecessary complication.\n",
    "\n",
    "<b>note: </b> Without being called, creating a filter is O(1)."
   ]
  },
  {
   "cell_type": "markdown",
   "id": "8177f808",
   "metadata": {
    "slideshow": {
     "slide_type": "slide"
    }
   },
   "source": [
    "<center><h3>Higher Order Function</h3></center>\n",
    "\n",
    "<ul>\n",
    "    <li>Design structure to minimize repetitive code.\n",
    "    <li>Returns another function thats built within the outer function.\n",
    "    <li>Prevents inner function from being exposed to operations in the global scope.\n",
    "</ul>\n",
    "\n",
    "<center><img src='imgs/HOF.png'></center>"
   ]
  },
  {
   "cell_type": "markdown",
   "id": "0bf0071c",
   "metadata": {
    "slideshow": {
     "slide_type": "slide"
    }
   },
   "source": [
    "<center><h3>*args</h3></center>\n",
    "\n",
    "<ul>\n",
    "    <li> Used when an unknown number of arguments will be passed into a function\n",
    "    <li> Denoted by * in the method header (IMPORTANT)\n",
    "    <li> processed in a similar manner to a list\n",
    "</ul>"
   ]
  },
  {
   "cell_type": "code",
   "execution_count": 93,
   "id": "27a046e2",
   "metadata": {
    "slideshow": {
     "slide_type": "fragment"
    }
   },
   "outputs": [],
   "source": [
    "def test(*names): # METHOD HEADER\n",
    "    return"
   ]
  },
  {
   "cell_type": "markdown",
   "id": "3dda2904",
   "metadata": {
    "slideshow": {
     "slide_type": "slide"
    }
   },
   "source": [
    "<center><h3>**kwargs</h3></center>\n",
    "\n",
    "<ul>\n",
    "    <li> Used when an unknown number of <b>keyworded</b> arguments will be passed into a function\n",
    "    <li> Denoted by ** in the method header (IMPORTANT)\n",
    "    <li> processed in a similar manner to a dictionary\n",
    "</ul>"
   ]
  },
  {
   "cell_type": "code",
   "execution_count": 94,
   "id": "9c89723f",
   "metadata": {
    "slideshow": {
     "slide_type": "fragment"
    }
   },
   "outputs": [],
   "source": [
    "def test(**grades): # METHOD HEADER\n",
    "    return"
   ]
  },
  {
   "cell_type": "markdown",
   "id": "3794880c",
   "metadata": {
    "slideshow": {
     "slide_type": "slide"
    }
   },
   "source": [
    "<center><h3>default_arguments</h3></center>\n",
    "\n",
    "<ul>\n",
    "    <li> Basically normal arguments, but with a default value\n",
    "    <li> if no value is passed, default value is set\n",
    "    <li> if a value is passed, default value is overwritten\n",
    "</ul>\n",
    "\n",
    "<b>note</b>: complex argument ordering: def func(normal_arguments, *args, default_args, **kwargs)\n",
    "\n",
    "<b>on the exam</b> if the order def func(normal_arguments, default_args, *args, **kwargs) is presented, we will still accept it as a correct answer."
   ]
  },
  {
   "cell_type": "code",
   "execution_count": 41,
   "id": "7a6ec81d",
   "metadata": {
    "slideshow": {
     "slide_type": "fragment"
    }
   },
   "outputs": [],
   "source": [
    "def test(exam, *names, questions = 18, **grades):\n",
    "    return"
   ]
  },
  {
   "cell_type": "code",
   "execution_count": 42,
   "id": "cd5848fa",
   "metadata": {
    "slideshow": {
     "slide_type": "skip"
    }
   },
   "outputs": [],
   "source": [
    "test(\"bb\", \"ben\", \"max\", questions = 17, temp = 12, vic=14)"
   ]
  },
  {
   "cell_type": "code",
   "execution_count": 43,
   "id": "f4acdd45",
   "metadata": {
    "slideshow": {
     "slide_type": "skip"
    }
   },
   "outputs": [],
   "source": [
    "test(\"bb\", \"ben\", \"max\",temp = 12, vic=14)"
   ]
  },
  {
   "cell_type": "code",
   "execution_count": 44,
   "id": "bcdfc470",
   "metadata": {
    "slideshow": {
     "slide_type": "fragment"
    }
   },
   "outputs": [],
   "source": [
    "def test(exam, questions = 18, *names, **grades):\n",
    "    return"
   ]
  },
  {
   "cell_type": "code",
   "execution_count": 45,
   "id": "049714d6",
   "metadata": {
    "slideshow": {
     "slide_type": "skip"
    }
   },
   "outputs": [],
   "source": [
    "test(\"bb\", 17, \"ben\", \"max\", temp = 12, vic=14)"
   ]
  },
  {
   "cell_type": "code",
   "execution_count": 46,
   "id": "4de099be",
   "metadata": {
    "slideshow": {
     "slide_type": "skip"
    }
   },
   "outputs": [],
   "source": [
    "test(\"bb\", \"ben\", \"max\",temp = 12, vic=14)"
   ]
  },
  {
   "cell_type": "markdown",
   "id": "a48779fc",
   "metadata": {
    "slideshow": {
     "slide_type": "slide"
    }
   },
   "source": [
    "<center><h3>Time Complexity</h3></center>\n",
    "\n",
    "<center>Utilize mathematical principles to classify code as runtime families to quantify their relative efficiency</center>\n",
    "\n",
    "<b style='color:blue'>tips</b>:\n",
    "1. Always look for \"hallmark features\" (ex. if I see i // 2, there's probably log involved)\n",
    "2. If there are loops, check the iteration count AND the inside operations (don't assume n runtime)\n",
    "3. Order of Growth follows mathematical principles. Only consider the largest term (without constants)\n",
    "\n",
    "<center><img src='imgs/graph_ref.png' width = 600></center>\n",
    "<center><a href='https://www.bigocheatsheet.com/'>source</a></center>"
   ]
  },
  {
   "cell_type": "markdown",
   "id": "d2095986",
   "metadata": {
    "slideshow": {
     "slide_type": "slide"
    }
   },
   "source": [
    "<center><h3>Recursion</h3></center>\n",
    "<center>Recursion is a design method for code that features functions invoking itself.</center>\n",
    "<ul>\n",
    "    <li> <b style='color:blue'>base case</b> - determines the stop point for recursion and begins the argument passing up the \"stack\" of recursive calls. When writing recursion questions, always start with determining the base case.\n",
    "    <li> <b style='color:blue'>recursive calls</b> - repeated invocation of function until the base case is reached. Keep in mind when writing recursive calls that every call needs to trend towards the base case.\n",
    "        "
   ]
  },
  {
   "cell_type": "markdown",
   "id": "4bbb8472",
   "metadata": {
    "slideshow": {
     "slide_type": "slide"
    }
   },
   "source": [
    "<center><h3> Practice Questions </h3></center>"
   ]
  },
  {
   "cell_type": "markdown",
   "id": "b6209405",
   "metadata": {
    "slideshow": {
     "slide_type": "slide"
    }
   },
   "source": [
    "<center><h3>Question 1</h3></center>\n",
    "\n",
    "<center> For each equation, determine if the expression is True or False. If False, determine the actual time complexity.</center>\n",
    "\n",
    "1.\n",
    "$$\n",
    "  \\sqrt{n} + n = O(n\\log{n})\n",
    "$$\n",
    "\n",
    "2.\n",
    "$$\n",
    "  100n^3 + n^2 = O(n^3)\n",
    "$$\n",
    "\n",
    "3.\n",
    "$$\n",
    "  \\frac1n + \\frac{n^2}{n} = O(n)\n",
    "$$\n",
    "\n",
    "4.\n",
    "$$\n",
    "  n + n\\log(n^3) + n\\log(n^n) = O(n\\log{n})\n",
    "$$\n",
    "\n",
    "5.\n",
    "$$\n",
    "  n + \\log(n^n) = O(n\\log(n))\n",
    "$$"
   ]
  },
  {
   "cell_type": "markdown",
   "id": "086292cb",
   "metadata": {
    "slideshow": {
     "slide_type": "slide"
    }
   },
   "source": [
    "<center><h3>Question 1 Solution</h3></center>\n",
    "\n",
    "1. False - $O(n)$\n",
    "\n",
    "2. True\n",
    "\n",
    "3. True\n",
    " \n",
    "4. False - $O(n^2(\\log n))$\n",
    "\n",
    "5. True"
   ]
  },
  {
   "cell_type": "markdown",
   "id": "3bb20b40",
   "metadata": {
    "slideshow": {
     "slide_type": "slide"
    }
   },
   "source": [
    "<center><h3>Question 2</h3></center>\n",
    "\n",
    "<center> For each piece of code, determine the time complexity.</center>"
   ]
  },
  {
   "cell_type": "code",
   "execution_count": 12,
   "id": "53f435e2",
   "metadata": {
    "slideshow": {
     "slide_type": "fragment"
    }
   },
   "outputs": [],
   "source": [
    "def practice(x): # Question 1\n",
    "    for i in range(10000000000):\n",
    "        print(i)\n",
    "\n",
    "def mod_10(n): # Question 2  \n",
    "    if n%10 == 0:\n",
    "        return 10\n",
    "    else:\n",
    "        return mod_10(n-1)\n",
    "    \n",
    "def func(n): # Question 3\n",
    "    j = 1\n",
    "    curr_sum = 100\n",
    "    while j <= n:\n",
    "        for i in range(1, n//2):\n",
    "            curr_sum += i*j\n",
    "        j+=1\n",
    "    return curr_sum\n",
    "\n",
    "def foo(lst): # Question 4\n",
    "    return filter(lambda x: x.lower() not in 'aeiou',lst)"
   ]
  },
  {
   "cell_type": "markdown",
   "id": "eb40e155",
   "metadata": {
    "slideshow": {
     "slide_type": "slide"
    }
   },
   "source": [
    "<center><h3>Question 2 Solution</h3></center>\n",
    "\n",
    "1. $O(1)$\n",
    "\n",
    "2. $O(1)$\n",
    "\n",
    "3. $O(n^2)$\n",
    "\n",
    "4. $O(1)$"
   ]
  },
  {
   "cell_type": "markdown",
   "id": "fbeaa8b6",
   "metadata": {
    "slideshow": {
     "slide_type": "slide"
    }
   },
   "source": [
    "<center><h3>Question 3</h3></center>\n",
    "\n",
    "<center> What is the output?</center>"
   ]
  },
  {
   "cell_type": "code",
   "execution_count": null,
   "id": "4e13c11b",
   "metadata": {
    "slideshow": {
     "slide_type": "fragment"
    }
   },
   "outputs": [],
   "source": [
    "def trace(n):\n",
    "    if n=='':\n",
    "        return 'h'\n",
    "    if n[0] == 'a':\n",
    "        return 'y' + trace(n[1:])\n",
    "    else:\n",
    "        return trace(n[1:])\n",
    "print(trace('apple'))"
   ]
  },
  {
   "cell_type": "markdown",
   "id": "8a4f8bd1",
   "metadata": {
    "slideshow": {
     "slide_type": "slide"
    }
   },
   "source": [
    "<center><h3>Question 3 Solution</h3></center>\n"
   ]
  },
  {
   "cell_type": "code",
   "execution_count": 15,
   "id": "f3d24428",
   "metadata": {
    "slideshow": {
     "slide_type": "fragment"
    }
   },
   "outputs": [
    {
     "name": "stdout",
     "output_type": "stream",
     "text": [
      "yh\n"
     ]
    }
   ],
   "source": [
    "print(trace('apple'))"
   ]
  },
  {
   "cell_type": "markdown",
   "id": "ccbb7750",
   "metadata": {
    "slideshow": {
     "slide_type": "fragment"
    }
   },
   "source": [
    "<center>Since the first letter is 'a', the first recursive call is triggered, yielding a 'y' for now. Afterwards, each call is triggered, adding nothing until an empty string is passed, which results in 'h' being added.</center>"
   ]
  },
  {
   "cell_type": "markdown",
   "id": "40b37cdb",
   "metadata": {
    "slideshow": {
     "slide_type": "slide"
    }
   },
   "source": [
    "<center><h3>Question 4</h3></center>\n",
    "\n",
    "<center>Write a function that mimics len() functionality using recursion</center>"
   ]
  },
  {
   "cell_type": "code",
   "execution_count": null,
   "id": "4da4d518",
   "metadata": {
    "slideshow": {
     "slide_type": "fragment"
    }
   },
   "outputs": [],
   "source": [
    "def len_recursion(iterable):\n",
    "    \"\"\"\n",
    "    >>> len_recursion([1,2,3,4])\n",
    "    4\n",
    "    \"\"\"\n",
    "    # Write your implementation here"
   ]
  },
  {
   "cell_type": "markdown",
   "id": "9d9c8b0f",
   "metadata": {
    "slideshow": {
     "slide_type": "slide"
    }
   },
   "source": [
    "<center><h3>Question 4 Solution</h3></center>\n"
   ]
  },
  {
   "cell_type": "code",
   "execution_count": 21,
   "id": "aa7aaa03",
   "metadata": {
    "slideshow": {
     "slide_type": "fragment"
    }
   },
   "outputs": [
    {
     "data": {
      "text/plain": [
       "4"
      ]
     },
     "execution_count": 21,
     "metadata": {},
     "output_type": "execute_result"
    }
   ],
   "source": [
    "def len_recursion(iterable):\n",
    "    if not iterable:\n",
    "        return 0\n",
    "    else:\n",
    "        return 1 + len_recursion(iterable[1:])\n",
    "len_recursion([1,2,3,4])"
   ]
  },
  {
   "cell_type": "markdown",
   "id": "4cef01a4",
   "metadata": {
    "slideshow": {
     "slide_type": "slide"
    }
   },
   "source": [
    "<center><h3>Question 5</h3></center>\n",
    "\n",
    "<center><img src='imgs/meme.png' width=400></center>\n",
    "\n",
    "<center>Given an unknown number of names and unknown amount of keyworded information, write a function that creates a list of dictionaries to store the data. You may assume len(names) == len(employee_data).</center>"
   ]
  },
  {
   "cell_type": "code",
   "execution_count": 114,
   "id": "104137ce",
   "metadata": {
    "slideshow": {
     "slide_type": "fragment"
    }
   },
   "outputs": [],
   "source": [
    "def build_database(*names, **employee_data):\n",
    "    \"\"\"\n",
    "    >>> build_database(Charisse, Ben,\\\n",
    "    salary=[500,100],department=['GOOG', 'AMZN'])\n",
    "    [{\"name\": \"Charisse\", \"salary\":500, department\": \"GOOG\"}, \\\n",
    "    {\"name\": \"Ben\", \"salary\":100, department\": \"AMZN\"}]\n",
    "    \"\"\"\n",
    "    # Write your implementation here"
   ]
  },
  {
   "cell_type": "markdown",
   "id": "dea966fd",
   "metadata": {
    "slideshow": {
     "slide_type": "slide"
    }
   },
   "source": [
    "<center><h3>Question 5 Solution</h3></center>"
   ]
  },
  {
   "cell_type": "code",
   "execution_count": 75,
   "id": "703f5aad",
   "metadata": {
    "slideshow": {
     "slide_type": "fragment"
    }
   },
   "outputs": [
    {
     "data": {
      "text/plain": [
       "[{'name': 'Charisse', 'salary': 500, 'department': 'GOOG'},\n",
       " {'name': 'Ben', 'salary': 100, 'department': 'AMZN'}]"
      ]
     },
     "execution_count": 75,
     "metadata": {},
     "output_type": "execute_result"
    }
   ],
   "source": [
    "def build_database(*names, **employee_data):\n",
    "    output = []\n",
    "    names = list(names)\n",
    "    for i in range(len(names)):\n",
    "        data = {'name': names[i]}\n",
    "        for column in employee_data:\n",
    "            data[column] = employee_data[column][i]\n",
    "        output.append(data)\n",
    "    return output\n",
    "\n",
    "build_database(\"Charisse\", \"Ben\", salary=[500,100],department=['GOOG', 'AMZN'])"
   ]
  },
  {
   "cell_type": "markdown",
   "id": "57d0f5c2",
   "metadata": {
    "slideshow": {
     "slide_type": "slide"
    }
   },
   "source": [
    "<center><h3>Question 6</h3></center>\n",
    "\n",
    "<center>Given a list of dictionaries representing employees of a company, create a new list containing only the names of employees who work in the \"Sales\" department and earn more than 50,000 per year using map, filter, and lambda.</center>"
   ]
  },
  {
   "cell_type": "code",
   "execution_count": 110,
   "id": "3297a41e",
   "metadata": {
    "slideshow": {
     "slide_type": "fragment"
    }
   },
   "outputs": [
    {
     "data": {
      "text/plain": [
       "[{'name': 'Suraj', 'salary': 60000, 'department': 'Sales'},\n",
       " {'name': 'Eldridge', 'salary': 70000, 'department': 'IT'},\n",
       " {'name': 'Marina', 'salary': 75000, 'department': 'Sales'},\n",
       " {'name': 'Babak', 'salary': 40000, 'department': 'Sales'},\n",
       " {'name': 'Johan', 'salary': 45000, 'department': 'Marketing'}]"
      ]
     },
     "execution_count": 110,
     "metadata": {},
     "output_type": "execute_result"
    }
   ],
   "source": [
    "employees = build_database(\"Suraj\", \"Eldridge\", \"Marina\", \"Babak\", \"Johan\", \\\n",
    "salary=[60000,70000,75000,40000,45000], \\\n",
    "department=['Sales','IT','Sales','Sales','Marketing'])\n",
    "employees"
   ]
  },
  {
   "cell_type": "code",
   "execution_count": 111,
   "id": "8041cb28",
   "metadata": {
    "slideshow": {
     "slide_type": "fragment"
    }
   },
   "outputs": [],
   "source": [
    "def get_sales_employees(database):\n",
    "    \"\"\"\n",
    "    >>> get_sales_employees(employees)\n",
    "    ['Suraj', 'Marina']\n",
    "    \"\"\"\n",
    "    # Write your implementation here"
   ]
  },
  {
   "cell_type": "markdown",
   "id": "b05e7053",
   "metadata": {
    "slideshow": {
     "slide_type": "slide"
    }
   },
   "source": [
    "<center><h3>Question 6 Solution</h3></center>"
   ]
  },
  {
   "cell_type": "code",
   "execution_count": 112,
   "id": "ff5c3b0a",
   "metadata": {
    "slideshow": {
     "slide_type": "fragment"
    }
   },
   "outputs": [],
   "source": [
    "def get_sales_employees(database):\n",
    "    filter_sales = filter(lambda entry: \\\n",
    "                  entry['department'] == 'Sales',database)\n",
    "    filter_salary = filter(lambda entry: \\\n",
    "                    entry['salary'] > 50000,filter_sales)\n",
    "    return list(map(lambda entry: entry['name'] ,filter_salary))"
   ]
  },
  {
   "cell_type": "code",
   "execution_count": 113,
   "id": "982ba96c",
   "metadata": {
    "slideshow": {
     "slide_type": "fragment"
    }
   },
   "outputs": [
    {
     "data": {
      "text/plain": [
       "['Suraj', 'Marina']"
      ]
     },
     "execution_count": 113,
     "metadata": {},
     "output_type": "execute_result"
    }
   ],
   "source": [
    "get_sales_employees(employees)"
   ]
  },
  {
   "cell_type": "markdown",
   "id": "87076c2c",
   "metadata": {
    "slideshow": {
     "slide_type": "slide"
    }
   },
   "source": [
    "<center><h3>Question 7</h3></center>\n",
    "\n",
    "<center>Write a function that mimics set() cast functionality using recursion</center>"
   ]
  },
  {
   "cell_type": "code",
   "execution_count": 86,
   "id": "d594e100",
   "metadata": {
    "slideshow": {
     "slide_type": "fragment"
    }
   },
   "outputs": [],
   "source": [
    "def set_recursion(lst):\n",
    "    \"\"\"\n",
    "    >>> set_recursion([1,1,1,2])\n",
    "    [1,2]\n",
    "    \"\"\"\n",
    "    # Write your implementation here"
   ]
  },
  {
   "cell_type": "markdown",
   "id": "b47a4918",
   "metadata": {
    "slideshow": {
     "slide_type": "slide"
    }
   },
   "source": [
    "<center><h3>Question 7 Solution</h3></center>"
   ]
  },
  {
   "cell_type": "code",
   "execution_count": 87,
   "id": "c2672fdf",
   "metadata": {
    "slideshow": {
     "slide_type": "fragment"
    }
   },
   "outputs": [],
   "source": [
    "def set_recursion(lst):\n",
    "    if len(lst) == 0:\n",
    "        return []\n",
    "    else:\n",
    "        if lst[0] in set_recursion(lst[1:]):\n",
    "            return set_recursion(lst[1:])\n",
    "        else:\n",
    "            return [lst[0]] + set_recursion(lst[1:])"
   ]
  },
  {
   "cell_type": "code",
   "execution_count": 88,
   "id": "3df12857",
   "metadata": {
    "slideshow": {
     "slide_type": "fragment"
    }
   },
   "outputs": [
    {
     "data": {
      "text/plain": [
       "[1, 2]"
      ]
     },
     "execution_count": 88,
     "metadata": {},
     "output_type": "execute_result"
    }
   ],
   "source": [
    "set_recursion([1,1,1,2])"
   ]
  },
  {
   "cell_type": "markdown",
   "id": "9fe2887b",
   "metadata": {
    "slideshow": {
     "slide_type": "slide"
    }
   },
   "source": [
    "<center><h3>Question 8</h3></center>\n",
    "\n",
    "<center>Write a recursive function that finds the consecutive pair of numbers with the largest sum from a list.</center>"
   ]
  },
  {
   "cell_type": "code",
   "execution_count": 107,
   "id": "7e2d9238",
   "metadata": {
    "slideshow": {
     "slide_type": "fragment"
    }
   },
   "outputs": [],
   "source": [
    "def max_sum_pair(lst):\n",
    "    \"\"\"\n",
    "    >>> max_sum_pair([1, 2, 3, 4, 5])\n",
    "    (4, 5)\n",
    "    >>> max_sum_pair([1, 3, 2, 5, 4])\n",
    "    (5, 4)\n",
    "    >>> max_sum_pair([4, 1, 3, 6, 2])\n",
    "    (3, 6)\n",
    "    \"\"\"\n",
    "    # Write your implementation here"
   ]
  },
  {
   "cell_type": "markdown",
   "id": "eda067b2",
   "metadata": {
    "slideshow": {
     "slide_type": "slide"
    }
   },
   "source": [
    "<center><h3>Question 8 Solution</h3></center>"
   ]
  },
  {
   "cell_type": "code",
   "execution_count": 109,
   "id": "14579ebe",
   "metadata": {
    "slideshow": {
     "slide_type": "fragment"
    }
   },
   "outputs": [],
   "source": [
    "def max_sum_pair(lst):\n",
    "    if len(lst) == 2:\n",
    "        return tuple(lst)\n",
    "\n",
    "    prev_max = max_sum_pair(lst[1:])\n",
    "    curr_sum = lst[0] + lst[1]\n",
    "\n",
    "    if curr_sum > sum(prev_max):\n",
    "        return (lst[0], lst[1])\n",
    "    else:\n",
    "        return prev_max"
   ]
  },
  {
   "cell_type": "code",
   "execution_count": 104,
   "id": "0a8d09b2",
   "metadata": {
    "slideshow": {
     "slide_type": "fragment"
    }
   },
   "outputs": [
    {
     "data": {
      "text/plain": [
       "(4, 5)"
      ]
     },
     "execution_count": 104,
     "metadata": {},
     "output_type": "execute_result"
    }
   ],
   "source": [
    "max_sum_pair([1, 2, 3, 4, 5])"
   ]
  },
  {
   "cell_type": "code",
   "execution_count": 105,
   "id": "a31b0b9a",
   "metadata": {
    "slideshow": {
     "slide_type": "fragment"
    }
   },
   "outputs": [
    {
     "data": {
      "text/plain": [
       "(5, 4)"
      ]
     },
     "execution_count": 105,
     "metadata": {},
     "output_type": "execute_result"
    }
   ],
   "source": [
    "max_sum_pair([1, 3, 2, 5, 4])"
   ]
  },
  {
   "cell_type": "code",
   "execution_count": 106,
   "id": "2d283ded",
   "metadata": {
    "slideshow": {
     "slide_type": "fragment"
    }
   },
   "outputs": [
    {
     "data": {
      "text/plain": [
       "(3, 6)"
      ]
     },
     "execution_count": 106,
     "metadata": {},
     "output_type": "execute_result"
    }
   ],
   "source": [
    "max_sum_pair([4, 1, 3, 6, 2])"
   ]
  },
  {
   "cell_type": "markdown",
   "id": "133ea452",
   "metadata": {
    "slideshow": {
     "slide_type": "slide"
    }
   },
   "source": [
    "<center><h3>Question 9</h3></center>\n",
    "\n",
    "<center>Write a function that returns another function that maps a lambda to a list. Depending on the value of copy, include the original list in the output.</center>"
   ]
  },
  {
   "cell_type": "code",
   "execution_count": 89,
   "id": "e2ebffc2",
   "metadata": {
    "slideshow": {
     "slide_type": "fragment"
    }
   },
   "outputs": [],
   "source": [
    "def fake_generator(lst, operation, copy = False):\n",
    "    \"\"\"\n",
    "    >>> fake_generator([1,2,3], lambda x: x+2)\n",
    "    [3,4,5]\n",
    "    >>> fake_generator([1,2,3], lambda x: x+2, copy=True)\n",
    "    ([1,2,3], [3,4,5])\n",
    "    \"\"\"\n",
    "    # Write your implementation here"
   ]
  },
  {
   "cell_type": "markdown",
   "id": "254372bd",
   "metadata": {
    "slideshow": {
     "slide_type": "slide"
    }
   },
   "source": [
    "<center><h3>Question 9 Solution</h3></center>"
   ]
  },
  {
   "cell_type": "code",
   "execution_count": 90,
   "id": "f2d6a103",
   "metadata": {
    "slideshow": {
     "slide_type": "fragment"
    }
   },
   "outputs": [],
   "source": [
    "def fake_generator(copy = False):\n",
    "    if not copy:\n",
    "        def copy_func(lst, operation):\n",
    "            return list(map(operation, lst))\n",
    "    else:\n",
    "        def copy_func(lst, operation):\n",
    "            return lst, list(map(operation, lst))\n",
    "    return copy_func"
   ]
  },
  {
   "cell_type": "code",
   "execution_count": 91,
   "id": "95aae8ad",
   "metadata": {
    "slideshow": {
     "slide_type": "fragment"
    }
   },
   "outputs": [
    {
     "data": {
      "text/plain": [
       "[3, 4, 5]"
      ]
     },
     "execution_count": 91,
     "metadata": {},
     "output_type": "execute_result"
    }
   ],
   "source": [
    "fake_generator()([1,2,3], lambda x: x+2)"
   ]
  },
  {
   "cell_type": "code",
   "execution_count": 92,
   "id": "23b28699",
   "metadata": {
    "slideshow": {
     "slide_type": "fragment"
    }
   },
   "outputs": [
    {
     "data": {
      "text/plain": [
       "([1, 2, 3], [3, 4, 5])"
      ]
     },
     "execution_count": 92,
     "metadata": {},
     "output_type": "execute_result"
    }
   ],
   "source": [
    "fake_generator(copy=True)([1,2,3], lambda x: x+2)"
   ]
  },
  {
   "cell_type": "markdown",
   "id": "49030538",
   "metadata": {
    "slideshow": {
     "slide_type": "slide"
    }
   },
   "source": [
    "<center> <h1>Thanks for coming!</h1></center>\n",
    "<center> There's a discussion quiz on canvas! </center>\n",
    "<center> Good luck on the midterm! </center>"
   ]
  },
  {
   "cell_type": "code",
   "execution_count": null,
   "id": "aecf0425",
   "metadata": {
    "slideshow": {
     "slide_type": "skip"
    }
   },
   "outputs": [],
   "source": []
  }
 ],
 "metadata": {
  "celltoolbar": "Slideshow",
  "kernelspec": {
   "display_name": "Python 3 (ipykernel)",
   "language": "python",
   "name": "python3"
  },
  "language_info": {
   "codemirror_mode": {
    "name": "ipython",
    "version": 3
   },
   "file_extension": ".py",
   "mimetype": "text/x-python",
   "name": "python",
   "nbconvert_exporter": "python",
   "pygments_lexer": "ipython3",
   "version": "3.10.8"
  },
  "rise": {
   "enable_chalkboard": true
  }
 },
 "nbformat": 4,
 "nbformat_minor": 5
}
