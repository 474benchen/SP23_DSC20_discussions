{
 "cells": [
  {
   "cell_type": "markdown",
   "id": "9ac70a89",
   "metadata": {
    "slideshow": {
     "slide_type": "skip"
    }
   },
   "source": [
    "**note**: for anyone trying to view this as a slideshow, run 'pip install rise', reload your notebook, then click on the button that looks like a bar graph to the right of the command palette at the top."
   ]
  },
  {
   "cell_type": "markdown",
   "id": "0aaa7f3e",
   "metadata": {
    "slideshow": {
     "slide_type": "slide"
    }
   },
   "source": [
    "<center><h1>Discussion 9</h1></center>\n",
    "<center><h2>DSC 20, Spring 2023</h2><center>"
   ]
  },
  {
   "cell_type": "markdown",
   "id": "172f9b03",
   "metadata": {
    "slideshow": {
     "slide_type": "slide"
    }
   },
   "source": [
    "<center><h3>Final Exam Practice</h3></center>\n",
    "\n",
    "<center> We're going to run through practice questions in preparation </center>"
   ]
  },
  {
   "cell_type": "markdown",
   "id": "b2c12da3",
   "metadata": {
    "slideshow": {
     "slide_type": "slide"
    }
   },
   "source": [
    "<center><h3>Final Exam Logistics</h3></center>\n",
    "<center>- Make sure to bring pen/pencil/eraser and your <b>student ID</b></center>\n",
    "<center>- Exam takes place Thursday June 15th, 11:30 am - 2:30 pm</center>"
   ]
  },
  {
   "cell_type": "markdown",
   "id": "b4ac5874",
   "metadata": {
    "slideshow": {
     "slide_type": "slide"
    }
   },
   "source": [
    "<center><h3>Theme</h3></center>\n",
    "\n",
    "<center>You’ve been hired by a generic online retailer named after a rainforest named after a river as a software engineer intern. You're tasked to fix some issues about their shipping network. Due to budget cuts, you are the only person left and they will accept any solution you give.</center>"
   ]
  },
  {
   "cell_type": "markdown",
   "id": "192b3215",
   "metadata": {
    "slideshow": {
     "slide_type": "slide"
    }
   },
   "source": [
    "<center><h3>Question 1</h3></center>\n",
    "\n",
    "<center>Even though there've been many layoffs, the company's  customer base continues to grow. In order to support this growth, more items in the inventory need to be ordered according to customer preferences. Given a list of warehouse items and items customers are interested in, return a new order list that multiplies every item that customers like by 3.</center>"
   ]
  },
  {
   "cell_type": "code",
   "execution_count": 3,
   "id": "c6b3626d",
   "metadata": {
    "slideshow": {
     "slide_type": "fragment"
    }
   },
   "outputs": [],
   "source": [
    "def increase_supply(inventory, interests):\n",
    "    \"\"\"\n",
    "    >>> inv = [('games', 4), ('clothes',12), ('drinks', 3)]\n",
    "    >>> targets = ['games','clothes']\n",
    "    >>> increase_supply(inv, targets)\n",
    "    [('games', 12), ('clothes',36), ('drinks', 3)]\n",
    "    \"\"\"\n",
    "    # Write your implementation here"
   ]
  },
  {
   "cell_type": "markdown",
   "id": "aa5321cf",
   "metadata": {
    "slideshow": {
     "slide_type": "slide"
    }
   },
   "source": [
    "<center><h3>Question 1 Solution</h3></center>"
   ]
  },
  {
   "cell_type": "code",
   "execution_count": 22,
   "id": "239e06f5",
   "metadata": {
    "slideshow": {
     "slide_type": "fragment"
    }
   },
   "outputs": [],
   "source": [
    "def increase_supply(inventory, interests):\n",
    "    return [(item[0], item[1]*3) if item[0] \\\n",
    "            in interests else item for item in inventory]"
   ]
  },
  {
   "cell_type": "code",
   "execution_count": 23,
   "id": "5649acbe",
   "metadata": {
    "slideshow": {
     "slide_type": "fragment"
    }
   },
   "outputs": [
    {
     "data": {
      "text/plain": [
       "[('games', 12), ('clothes', 36), ('drinks', 3)]"
      ]
     },
     "execution_count": 23,
     "metadata": {},
     "output_type": "execute_result"
    }
   ],
   "source": [
    "inv = [('games', 4), ('clothes',12), ('drinks', 3)]\n",
    "targets = ['games','clothes']\n",
    "increase_supply(inv, targets)"
   ]
  },
  {
   "cell_type": "markdown",
   "id": "160dffcf",
   "metadata": {
    "slideshow": {
     "slide_type": "slide"
    }
   },
   "source": [
    "<center><h3>Question 2</h3></center>\n",
    "\n",
    "<center>Some items are now considered \"dead stock\" and need to be removed from warehouses in order to make room for other items. Given a list representing the current inventory and items that are to be kept, use map/filter/lambda to remove dead stock. Return the new inventory and the new space that was made by removing dead stock.</center>"
   ]
  },
  {
   "cell_type": "code",
   "execution_count": 61,
   "id": "5bff0f35",
   "metadata": {
    "slideshow": {
     "slide_type": "fragment"
    }
   },
   "outputs": [],
   "source": [
    "def remove_deadstock(inventory, interests):\n",
    "    \"\"\"\n",
    "    >>> inv = [('games', 4), ('clothes',12), ('drinks', 3)]\n",
    "    >>> targets = ['games','clothes']\n",
    "    >>> remove_deadstock(inv, targets)\n",
    "    ([('games', 4), ('clothes', 12)], 3)\n",
    "    \"\"\"\n",
    "    # Write your implementation here"
   ]
  },
  {
   "cell_type": "markdown",
   "id": "cd861bad",
   "metadata": {
    "slideshow": {
     "slide_type": "slide"
    }
   },
   "source": [
    "<center><h3>Question 2 Solution</h3></center>"
   ]
  },
  {
   "cell_type": "code",
   "execution_count": 62,
   "id": "bd428b1e",
   "metadata": {
    "slideshow": {
     "slide_type": "fragment"
    }
   },
   "outputs": [],
   "source": [
    "def remove_deadstock(inventory, interests):\n",
    "    remove_stock = filter(lambda item: item[0] in interests, inventory)\n",
    "    new_space = filter(lambda item: item[0] not in interests, inventory)\n",
    "    return list(remove_stock), sum([x[1] for x in new_space])"
   ]
  },
  {
   "cell_type": "code",
   "execution_count": 63,
   "id": "1048ee93",
   "metadata": {
    "slideshow": {
     "slide_type": "fragment"
    }
   },
   "outputs": [
    {
     "data": {
      "text/plain": [
       "([('games', 4), ('clothes', 12)], 3)"
      ]
     },
     "execution_count": 63,
     "metadata": {},
     "output_type": "execute_result"
    }
   ],
   "source": [
    "inv = [('games', 4), ('clothes',12), ('drinks', 3)]\n",
    "targets = ['games','clothes']\n",
    "remove_deadstock(inv, targets)"
   ]
  },
  {
   "cell_type": "markdown",
   "id": "38c0ac20",
   "metadata": {
    "slideshow": {
     "slide_type": "slide"
    }
   },
   "source": [
    "<center><h3>Question 3</h3></center>\n",
    "\n",
    "<center>Now that we've prepared our warehouses, it's time to process some orders from our loyal customers. Given our inventory and a filepath representing orders from customers, update the inventory accordingly. Maintain and return an order history. You may assume our inventory can always facilitate the given orders.</center>\n",
    "\n",
    "<br>\n",
    "\n",
    "<center>Since you're the only tech saavy person working at the company now, the data pipeline is not well maintained and sometimes feeds erroneous files. If such a case were encountered, throw an appropriate error saying \"invalid order bill - unable to process\".</center>"
   ]
  },
  {
   "cell_type": "code",
   "execution_count": 64,
   "id": "4770a2dd",
   "metadata": {
    "slideshow": {
     "slide_type": "fragment"
    }
   },
   "outputs": [],
   "source": [
    "def process_orders(inventory, order_path):\n",
    "    \"\"\"\n",
    "    >>> inventory = {'Coffee':10, 'Primo Gems': 9999, 'Beads':100}\n",
    "    >>> process_orders(inventory, 'files/orders.txt')\n",
    "    [\"Charisse's order for Coffee completed.\",\\\n",
    "     \"Nicole's order for Primo Gems completed.\",\\\n",
    "     \"Ben's order for Beads completed.\"]\n",
    "    >>> process_orders(inventory, 'nope')\n",
    "    invalid order bill - unable to process\n",
    "    \"\"\"\n",
    "    # Write your implementation here"
   ]
  },
  {
   "cell_type": "markdown",
   "id": "cd7aa842",
   "metadata": {
    "slideshow": {
     "slide_type": "slide"
    }
   },
   "source": [
    "<center><h3>Question 3 Solution</h3></center>"
   ]
  },
  {
   "cell_type": "code",
   "execution_count": 68,
   "id": "3e7d44ce",
   "metadata": {
    "slideshow": {
     "slide_type": "fragment"
    }
   },
   "outputs": [],
   "source": [
    "def process_orders(inventory, order_path):\n",
    "    \"\"\"\n",
    "    >>> inventory = {'Coffee':10, 'Primo Gems': 9999, 'Beads':100}\n",
    "    >>> process_orders(inventory, 'files/orders.txt')\n",
    "    [\"Charisse's order for Coffee completed.\",\\\n",
    "     \"Nicole's order for Primo Gems completed.\",\\\n",
    "     \"Ben's order for Beads completed.\"]\n",
    "    >>> process_orders(inventory, 'nope')\n",
    "    invalid order bill - unable to process\n",
    "    \"\"\"\n",
    "    history = []\n",
    "    try:\n",
    "        with open(order_path, 'r') as f:\n",
    "            orders = f.readlines()\n",
    "            for order in orders:\n",
    "                name, item, amount = order.strip().split(', ')\n",
    "                inventory[item] -= int(amount)\n",
    "                history.append(\"%s's order for %s completed.\"%(name,item))\n",
    "        return history\n",
    "    \n",
    "    except FileNotFoundError as e:\n",
    "        print('invalid order bill - unable to process')"
   ]
  },
  {
   "cell_type": "code",
   "execution_count": 69,
   "id": "a90ff407",
   "metadata": {
    "slideshow": {
     "slide_type": "fragment"
    }
   },
   "outputs": [
    {
     "data": {
      "text/plain": [
       "[\"Charisse's order for Coffee completed.\",\n",
       " \"Nicole's order for Primo Gems completed.\",\n",
       " \"Ben's order for Beads completed.\"]"
      ]
     },
     "execution_count": 69,
     "metadata": {},
     "output_type": "execute_result"
    }
   ],
   "source": [
    "inventory = {'Coffee':10, 'Primo Gems': 9999, 'Beads':100}\n",
    "process_orders(inventory, 'files/orders.txt')"
   ]
  },
  {
   "cell_type": "code",
   "execution_count": 70,
   "id": "591ffccf",
   "metadata": {
    "slideshow": {
     "slide_type": "fragment"
    }
   },
   "outputs": [
    {
     "name": "stdout",
     "output_type": "stream",
     "text": [
      "invalid order bill - unable to process\n"
     ]
    }
   ],
   "source": [
    "process_orders(inventory, 'nope')"
   ]
  },
  {
   "cell_type": "markdown",
   "id": "6ddab4ae",
   "metadata": {
    "slideshow": {
     "slide_type": "slide"
    }
   },
   "source": [
    "<center><h3>Question 4</h3></center>\n",
    "\n",
    "<center> Some code on the code base needs to be updated - some teenagers are breaking the website by passing in arguments that don't make sense. Given the following code, write assert statements to prevent nonsensical inputs. </center>"
   ]
  },
  {
   "cell_type": "code",
   "execution_count": 79,
   "id": "ed74f6f3",
   "metadata": {
    "slideshow": {
     "slide_type": "fragment"
    }
   },
   "outputs": [
    {
     "data": {
      "text/plain": [
       "{'name': 'nikki',\n",
       " 'item': 'genshin impact',\n",
       " 'quantity': 1,\n",
       " 'rating': 0.9,\n",
       " 'review': 'xiao nyan'}"
      ]
     },
     "execution_count": 79,
     "metadata": {},
     "output_type": "execute_result"
    }
   ],
   "source": [
    "def collect_review(item, name, quantity, rating, review):\n",
    "    \"\"\"\n",
    "    Collects a review and stores output in a dictionary.\n",
    "    \"\"\"\n",
    "    rating_prop = rating / 5\n",
    "    return {'name': name, 'item':item, \\\n",
    "    'quantity': quantity, 'rating': rating_prop, 'review': review}\n",
    "collect_review('genshin impact', 'nikki',1,4.5,'xiao nyan')"
   ]
  },
  {
   "cell_type": "markdown",
   "id": "a2ac32d4",
   "metadata": {
    "slideshow": {
     "slide_type": "slide"
    }
   },
   "source": [
    "<center><h3>Question 4 Solution</h3></center>"
   ]
  },
  {
   "cell_type": "code",
   "execution_count": 82,
   "id": "9db0ae09",
   "metadata": {
    "slideshow": {
     "slide_type": "fragment"
    }
   },
   "outputs": [
    {
     "data": {
      "text/plain": [
       "{'name': 'nikki',\n",
       " 'item': 'genshin impact',\n",
       " 'quantity': 1,\n",
       " 'rating': 0.9,\n",
       " 'review': 'xiao nyan'}"
      ]
     },
     "execution_count": 82,
     "metadata": {},
     "output_type": "execute_result"
    }
   ],
   "source": [
    "def collect_review(item, name, quantity, rating, review):\n",
    "    \"\"\"\n",
    "    Collects a review and stores output in a dictionary.\n",
    "    \"\"\"\n",
    "    assert isinstance(item, str)\n",
    "    assert isinstance(name, str)\n",
    "    assert isinstance(quantity, int)\n",
    "    assert quantity > 0\n",
    "    assert rating >= 0 and rating <= 5\n",
    "    assert isinstance(review, str)\n",
    "    rating_prop = rating / 5\n",
    "    return {'name': name, 'item':item, \\\n",
    "    'quantity': quantity, 'rating': rating_prop, 'review': review}\n",
    "collect_review('genshin impact', 'nikki',1,4.5,'xiao nyan')"
   ]
  },
  {
   "cell_type": "markdown",
   "id": "09e11c84",
   "metadata": {
    "slideshow": {
     "slide_type": "slide"
    }
   },
   "source": [
    "<center><h3>Question 5</h3></center>\n",
    "\n",
    "<center>Our company codebase somehow forgot to have a representation for delivery drivers until now, so as the only person who knows how to code, write a class to represent drivers. Each driver will be assigned an ID number on creation. Each driver will have a name, salary, location, delivery count. The driver class will have 2 methods: perform_delivery() and query_promotion(). perform_delivery will increment delivery count by some value and query promotion will check if the driver can be promoted (the driver must have done 100 deliveries to be promoted). If the driver is promoted, their salary increases by 2 dollars. Return whether the operation was successful or not.</center>"
   ]
  },
  {
   "cell_type": "code",
   "execution_count": null,
   "id": "772d3c28",
   "metadata": {
    "slideshow": {
     "slide_type": "fragment"
    }
   },
   "outputs": [],
   "source": [
    "class driver:\n",
    "    # Write your implementation here"
   ]
  },
  {
   "cell_type": "markdown",
   "id": "954f199c",
   "metadata": {
    "slideshow": {
     "slide_type": "slide"
    }
   },
   "source": [
    "<center><h3>Question 5 Solution</h3></center>"
   ]
  },
  {
   "cell_type": "code",
   "execution_count": 97,
   "id": "8681f2df",
   "metadata": {
    "slideshow": {
     "slide_type": "fragment"
    }
   },
   "outputs": [],
   "source": [
    "class driver:\n",
    "    id = 1\n",
    "    def __init__(self, name, salary, location):\n",
    "        self.id = driver.id\n",
    "        self.name = name\n",
    "        self.salary = salary\n",
    "        self.location = location\n",
    "        self.deliver_count = 0\n",
    "        driver.id+=1\n",
    "    \n",
    "    def perform_delivery(self, num_d):\n",
    "        self.deliver_count += num_d\n",
    "        \n",
    "    def query_promotion(self):\n",
    "        if self.deliver_count >= 100:\n",
    "            self.salary += 2\n",
    "            return True\n",
    "        return False"
   ]
  },
  {
   "cell_type": "markdown",
   "id": "745f66fa",
   "metadata": {
    "slideshow": {
     "slide_type": "slide"
    }
   },
   "source": [
    "<center><h3>Question 6</h3></center>\n",
    "\n",
    "<center> Write at least 3 doctests to test the previous class and its methods.\n",
    "</center>"
   ]
  },
  {
   "cell_type": "code",
   "execution_count": 128,
   "id": "ae51f790",
   "metadata": {
    "slideshow": {
     "slide_type": "fragment"
    }
   },
   "outputs": [],
   "source": [
    "class driver:\n",
    "    id = 1\n",
    "    def __init__(self, name, salary, location):\n",
    "        self.id = driver.id\n",
    "        self.name = name\n",
    "        self.salary = salary\n",
    "        self.location = location\n",
    "        self.deliver_count = 0\n",
    "        driver.id+=1\n",
    "    \n",
    "    def perform_delivery(self, num_d):\n",
    "        self.deliver_count += num_d\n",
    "        \n",
    "    def query_promotion(self):\n",
    "        if self.deliver_count >= 100:\n",
    "            self.salary += 2\n",
    "            return True\n",
    "        return False"
   ]
  },
  {
   "cell_type": "markdown",
   "id": "7ab3629c",
   "metadata": {
    "slideshow": {
     "slide_type": "slide"
    }
   },
   "source": [
    "<center><h3>Question 6 Solution</h3></center>"
   ]
  },
  {
   "cell_type": "code",
   "execution_count": 129,
   "id": "d8290198",
   "metadata": {
    "slideshow": {
     "slide_type": "fragment"
    }
   },
   "outputs": [
    {
     "data": {
      "text/plain": [
       "1"
      ]
     },
     "execution_count": 129,
     "metadata": {},
     "output_type": "execute_result"
    }
   ],
   "source": [
    ">>> d1 = driver('nikki', 0, 'LA')\n",
    ">>> d1.name # == 'nikki'\n",
    ">>> d1.deliver_count # == 0\n",
    ">>> d1.query_promotion() # False\n",
    ">>> d1.perform_delivery(250)\n",
    ">>> d1.query_promotion() # True\n",
    ">>> d1.salary # 2\n",
    ">>> d1.id # 1"
   ]
  },
  {
   "cell_type": "markdown",
   "id": "6245187d",
   "metadata": {
    "slideshow": {
     "slide_type": "slide"
    }
   },
   "source": [
    "<center><h3>Question 7</h3></center>\n",
    "\n",
    "<center>Now we have a broad class for delivery drivers, but there are also different types of drivers. Let's call drivers that are third-party contractors guest_drivers. Write a sub class of driver that has a salary of 10 and will always be rejected for promotion. </center>"
   ]
  },
  {
   "cell_type": "code",
   "execution_count": null,
   "id": "773347c4",
   "metadata": {
    "slideshow": {
     "slide_type": "fragment"
    }
   },
   "outputs": [],
   "source": [
    "class guest_driver(driver):\n",
    "    # Write your implementation here"
   ]
  },
  {
   "cell_type": "markdown",
   "id": "48bdef29",
   "metadata": {
    "slideshow": {
     "slide_type": "slide"
    }
   },
   "source": [
    "<center><h3>Question 7 Solution</h3></center>"
   ]
  },
  {
   "cell_type": "code",
   "execution_count": null,
   "id": "a671910e",
   "metadata": {
    "slideshow": {
     "slide_type": "fragment"
    }
   },
   "outputs": [],
   "source": [
    "class guest_driver(driver):\n",
    "    def __init__(self, name, location):\n",
    "        super().__init__(name, 16, location)\n",
    "    def query_promotion(self):\n",
    "        return False"
   ]
  },
  {
   "cell_type": "markdown",
   "id": "a8ab0b08",
   "metadata": {
    "slideshow": {
     "slide_type": "slide"
    }
   },
   "source": [
    "<center><h3>Question 8</h3></center>\n",
    "\n",
    "<center> Write at least 3 doctests to test the previous class and its methods.\n",
    "</center>"
   ]
  },
  {
   "cell_type": "code",
   "execution_count": null,
   "id": "43568d5b",
   "metadata": {
    "slideshow": {
     "slide_type": "fragment"
    }
   },
   "outputs": [],
   "source": [
    "class guest_driver(driver):\n",
    "    def __init__(self, name, location):\n",
    "        super().__init__(name, 16, location)\n",
    "    def query_promotion(self):\n",
    "        return False"
   ]
  },
  {
   "cell_type": "markdown",
   "id": "c8711b87",
   "metadata": {
    "slideshow": {
     "slide_type": "slide"
    }
   },
   "source": [
    "<center><h3>Question 8 Solution</h3></center>"
   ]
  },
  {
   "cell_type": "code",
   "execution_count": 132,
   "id": "c35a5ccb",
   "metadata": {
    "slideshow": {
     "slide_type": "fragment"
    }
   },
   "outputs": [
    {
     "name": "stdout",
     "output_type": "stream",
     "text": [
      "cassidy\n",
      "False\n",
      "2\n"
     ]
    }
   ],
   "source": [
    ">>> gd1 = guest_driver('cassidy', 'SJ')\n",
    ">>> gd1.name # cassidy\n",
    ">>> gd1.perform_delivery(1000)\n",
    ">>> gd1.query_promotion() # False\n",
    ">>> gd1.id # 2"
   ]
  },
  {
   "cell_type": "markdown",
   "id": "2401dc9e",
   "metadata": {
    "slideshow": {
     "slide_type": "slide"
    }
   },
   "source": [
    "<center><h3>Question 9</h3></center>\n",
    "\n",
    "<center>Since budget cuts are evereywhere, we also need to find optimal paths for drivers. Given a route for a driver where 1's represent houses, write a function that uses recursion to find the longest sequence of 1's.</center>"
   ]
  },
  {
   "cell_type": "code",
   "execution_count": 200,
   "id": "2476bd96",
   "metadata": {
    "slideshow": {
     "slide_type": "fragment"
    }
   },
   "outputs": [],
   "source": [
    "def longest_seq(nums):\n",
    "    \"\"\"\n",
    "    >>> longest_seq([0,1,0,1,1,0,1,1,1,1,0])\n",
    "    4\n",
    "    \"\"\"\n",
    "    # Write your implementation here"
   ]
  },
  {
   "cell_type": "markdown",
   "id": "8010a6cf",
   "metadata": {
    "slideshow": {
     "slide_type": "slide"
    }
   },
   "source": [
    "<center><h3>Question 9 Solution</h3></center>"
   ]
  },
  {
   "cell_type": "code",
   "execution_count": 201,
   "id": "841b8c06",
   "metadata": {
    "slideshow": {
     "slide_type": "fragment"
    }
   },
   "outputs": [],
   "source": [
    "def longest_seq(nums):\n",
    "    \"\"\"\n",
    "    >>> longest_seq([0,1,0,1,1,0,1,1,1,1,0])\n",
    "    4\n",
    "    \"\"\"\n",
    "    if len(nums) == 0:\n",
    "        return 0\n",
    "\n",
    "    if nums[0] == 0:\n",
    "        return longest_seq(nums[1:])\n",
    "\n",
    "    count = 1\n",
    "    for i in range(1, len(nums)):\n",
    "        if nums[i] == 1:\n",
    "            count += 1\n",
    "        else:\n",
    "            break\n",
    "\n",
    "    remaining_sequence = longest_seq(nums[count:])\n",
    "    return max(count, remaining_sequence)"
   ]
  },
  {
   "cell_type": "code",
   "execution_count": 202,
   "id": "419e3008",
   "metadata": {
    "slideshow": {
     "slide_type": "fragment"
    }
   },
   "outputs": [
    {
     "data": {
      "text/plain": [
       "4"
      ]
     },
     "execution_count": 202,
     "metadata": {},
     "output_type": "execute_result"
    }
   ],
   "source": [
    "longest_seq([0,1,0,1,0,1,1,1,1])"
   ]
  },
  {
   "cell_type": "markdown",
   "id": "12fc7384",
   "metadata": {
    "slideshow": {
     "slide_type": "slide"
    }
   },
   "source": [
    "<center><h3>Question 10</h3></center>\n",
    "\n",
    "<center>Some code on the server seems to be running slow. Seems like it could be coming from a function that the old manager wrote to find overstocked items and remove them. Figure out the time complexity of this function that may potentially be problematic and figure out a way to improve it.</center>"
   ]
  },
  {
   "cell_type": "code",
   "execution_count": 57,
   "id": "25bab06d",
   "metadata": {
    "slideshow": {
     "slide_type": "fragment"
    }
   },
   "outputs": [],
   "source": [
    "def manager_did_it(inventory, threshold):\n",
    "    data = list(inventory.items())\n",
    "    data.sort(key = lambda x: x[1])\n",
    "    overflow = []\n",
    "    maintained_items = list(inventory.keys())\n",
    "    for entry in data:\n",
    "        if entry[1] >= threshold:\n",
    "            overflow.append(entry[0])\n",
    "            maintained_items.remove(entry[0])\n",
    "    return overflow, maintained_items"
   ]
  },
  {
   "cell_type": "code",
   "execution_count": 56,
   "id": "1e4658be",
   "metadata": {
    "slideshow": {
     "slide_type": "fragment"
    }
   },
   "outputs": [
    {
     "data": {
      "text/plain": [
       "(['Beads', 'Primo Gems'], ['Coffee'])"
      ]
     },
     "execution_count": 56,
     "metadata": {},
     "output_type": "execute_result"
    }
   ],
   "source": [
    "inv = {'Coffee':10, 'Primo Gems': 9999, 'Beads':100}\n",
    "manager_did_it(inv, 50)"
   ]
  },
  {
   "cell_type": "markdown",
   "id": "3714ecd5",
   "metadata": {
    "slideshow": {
     "slide_type": "slide"
    }
   },
   "source": [
    "<center><h3>Question 10 Solution</h3></center>"
   ]
  },
  {
   "cell_type": "markdown",
   "id": "f3372e86",
   "metadata": {
    "slideshow": {
     "slide_type": "fragment"
    }
   },
   "source": [
    "<center>The previous function written by the manager had a runtime of $O(n^2)$ because of the .remove() inside of a for loop that was dependent on the number of entries entered. It was also unnecessarily complicated by having a sort at the start.</center>"
   ]
  },
  {
   "cell_type": "code",
   "execution_count": 34,
   "id": "f924af65",
   "metadata": {
    "slideshow": {
     "slide_type": "fragment"
    }
   },
   "outputs": [],
   "source": [
    "def fixed(inventory, threshold):\n",
    "    overflow = []\n",
    "    maintained_items = []\n",
    "    for item, count in inventory.items():\n",
    "        if count >= threshold:\n",
    "            overflow.append(item)\n",
    "        else:\n",
    "            maintained_items.append(item)\n",
    "    return overflow, maintained_items"
   ]
  },
  {
   "cell_type": "code",
   "execution_count": 35,
   "id": "74ed0824",
   "metadata": {
    "slideshow": {
     "slide_type": "fragment"
    }
   },
   "outputs": [
    {
     "data": {
      "text/plain": [
       "(['Primo Gems', 'Beads'], ['Coffee'])"
      ]
     },
     "execution_count": 35,
     "metadata": {},
     "output_type": "execute_result"
    }
   ],
   "source": [
    "fixed(inv, 50)"
   ]
  },
  {
   "cell_type": "markdown",
   "id": "623c85aa",
   "metadata": {
    "slideshow": {
     "slide_type": "fragment"
    }
   },
   "source": [
    "<center>The runtime of our fixed function is $O(n)$, a marginal improvement to the manager's old work. It's also way more readable :)</center>"
   ]
  },
  {
   "cell_type": "markdown",
   "id": "49030538",
   "metadata": {
    "slideshow": {
     "slide_type": "slide"
    }
   },
   "source": [
    "<center> <h1>Thanks for coming!</h1></center>\n",
    "<center> There's a discussion quiz on canvas! </center>"
   ]
  },
  {
   "cell_type": "code",
   "execution_count": null,
   "id": "04c5b148",
   "metadata": {
    "slideshow": {
     "slide_type": "skip"
    }
   },
   "outputs": [],
   "source": []
  }
 ],
 "metadata": {
  "celltoolbar": "Slideshow",
  "kernelspec": {
   "display_name": "Python 3 (ipykernel)",
   "language": "python",
   "name": "python3"
  },
  "language_info": {
   "codemirror_mode": {
    "name": "ipython",
    "version": 3
   },
   "file_extension": ".py",
   "mimetype": "text/x-python",
   "name": "python",
   "nbconvert_exporter": "python",
   "pygments_lexer": "ipython3",
   "version": "3.10.8"
  },
  "rise": {
   "enable_chalkboard": true
  }
 },
 "nbformat": 4,
 "nbformat_minor": 5
}
