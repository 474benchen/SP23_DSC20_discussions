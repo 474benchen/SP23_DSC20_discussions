{
 "cells": [
  {
   "cell_type": "markdown",
   "id": "9ac70a89",
   "metadata": {
    "slideshow": {
     "slide_type": "skip"
    }
   },
   "source": [
    "**note**: for anyone trying to view this as a slideshow, run 'pip install rise', reload your notebook, then click on the button that looks like a bar graph to the right of the command palette at the top."
   ]
  },
  {
   "cell_type": "markdown",
   "id": "0aaa7f3e",
   "metadata": {
    "slideshow": {
     "slide_type": "slide"
    }
   },
   "source": [
    "<center><h1>Discussion 8</h1></center>\n",
    "<center><h2>DSC 20, Spring 2023</h2><center>"
   ]
  },
  {
   "cell_type": "markdown",
   "id": "172f9b03",
   "metadata": {
    "slideshow": {
     "slide_type": "slide"
    }
   },
   "source": [
    "<center><h3>classes, copy types, exceptions</h3></center>"
   ]
  },
  {
   "cell_type": "markdown",
   "id": "c8f91290",
   "metadata": {
    "slideshow": {
     "slide_type": "slide"
    }
   },
   "source": [
    "<center><h3>Agenda</h3></center>\n",
    "<ul>\n",
    "    <li> <b style = 'color:blue'>Classes</b> - self, instance vs class, inheritance</li>\n",
    "    <li> <b style = 'color:blue'>Copy Types</b> - deep vs shallow </li>\n",
    "    <li> <b style = 'color:blue'>Exceptions</b> - types and cases, raise vs assert </li>\n",
    "</ul>"
   ]
  },
  {
   "cell_type": "markdown",
   "id": "0ca3b52d",
   "metadata": {
    "slideshow": {
     "slide_type": "slide"
    }
   },
   "source": [
    "<center><h3> Classes </h3></center>\n",
    "\n",
    "<center>Classes aggregate code together into a functional body. A lot of effective python code is written as classes (every time you install a new package, it's basically written as a lot of different classes). For example, recall the pandas dataframe. If you look at the source code for <a href='https://github.com/pandas-dev/pandas/blob/main/pandas/core/frame.py'>pandas</a>, you'll see that it's a very complicated class definition.</center>\n",
    "\n",
    "<center>Classes all generally have (at the minimum) a constructor (__init__) function and  other object related methods that are used.</center>"
   ]
  },
  {
   "cell_type": "markdown",
   "id": "d3684d07",
   "metadata": {
    "slideshow": {
     "slide_type": "slide"
    }
   },
   "source": [
    "<center><h3> Working with self </h3></center>\n",
    "\n",
    "<center> When you invoke a class, you've instantiated an instance of the class (i.e. you've created an object of the same framework as you defined in the class). Think of classes as a blueprint and everytime you create an instance of one, you've produced a \"physical\" manifestation. In order to set values for each unique manifestation, we need to use the 'self' keyword. Try to think of 'self' as referencing a <b>specific, singular</b> instance of the class. Every method that works with a specific instance's values must be passed in self as an argument.</center>"
   ]
  },
  {
   "cell_type": "code",
   "execution_count": 1,
   "id": "a8010e64",
   "metadata": {
    "slideshow": {
     "slide_type": "slide"
    }
   },
   "outputs": [],
   "source": [
    "class rectangle:\n",
    "    is_rectangle = True\n",
    "    rec_counter = 0\n",
    "    def __init__(self, length, width):\n",
    "        self.length = length\n",
    "        self.width = width\n",
    "        rectangle.rec_counter+=1\n",
    "    \n",
    "    def get_area(self):\n",
    "        return self.length * self.width\n",
    "    \n",
    "    def get_perimeter(self):\n",
    "        return 2*self.length + 2*self.width"
   ]
  },
  {
   "cell_type": "code",
   "execution_count": 2,
   "id": "69bca75d",
   "metadata": {
    "slideshow": {
     "slide_type": "fragment"
    }
   },
   "outputs": [
    {
     "name": "stdout",
     "output_type": "stream",
     "text": [
      "rectangle 1's area is: 16 units\n",
      "rectangle 2's area is: 12 units\n"
     ]
    }
   ],
   "source": [
    "rec_1 = rectangle(4,4)\n",
    "rec_2 = rectangle(2,6)\n",
    "print(\"rectangle 1's area is: %s units\" %rec_1.get_area())\n",
    "print(\"rectangle 2's area is: %s units\" %rec_2.get_area())"
   ]
  },
  {
   "cell_type": "markdown",
   "id": "19f6e4cc",
   "metadata": {
    "slideshow": {
     "slide_type": "fragment"
    }
   },
   "source": [
    "<center> The 2 rectangles are different <b style='color:blue'>instances</b> of class rectangle. Both of them are objects created from the framework of their original class. The use of the self keyword allows for the 2 of them to exist separately despite being generated from the same class."
   ]
  },
  {
   "cell_type": "markdown",
   "id": "19254653",
   "metadata": {
    "slideshow": {
     "slide_type": "slide"
    }
   },
   "source": [
    "<center><h3> Instance vs Class variables </h3></center>\n",
    "\n",
    "<center>Instance variables are attached to instances of a class by keyword self (usually done in the constructor). Class variables are variables attached to the class itself.</center>"
   ]
  },
  {
   "cell_type": "code",
   "execution_count": 3,
   "id": "d5726ceb",
   "metadata": {
    "slideshow": {
     "slide_type": "fragment"
    }
   },
   "outputs": [
    {
     "data": {
      "text/plain": [
       "2"
      ]
     },
     "execution_count": 3,
     "metadata": {},
     "output_type": "execute_result"
    }
   ],
   "source": [
    "rectangle.rec_counter"
   ]
  },
  {
   "cell_type": "markdown",
   "id": "b73dab68",
   "metadata": {
    "slideshow": {
     "slide_type": "fragment"
    }
   },
   "source": [
    "<center>The previously defined class contained a variable named rec_counter which was incremented everytime the constructor was called. This acts as a \"tracker\" for how many rectangles have been created so far and is an example of a class variable. If I made another rectangle, it should continue tracking and increase to 3.</center>"
   ]
  },
  {
   "cell_type": "code",
   "execution_count": 4,
   "id": "8982cf60",
   "metadata": {
    "slideshow": {
     "slide_type": "fragment"
    }
   },
   "outputs": [
    {
     "data": {
      "text/plain": [
       "3"
      ]
     },
     "execution_count": 4,
     "metadata": {},
     "output_type": "execute_result"
    }
   ],
   "source": [
    "rec_3 = rectangle(1,1)\n",
    "rectangle.rec_counter"
   ]
  },
  {
   "cell_type": "markdown",
   "id": "90aac5f3",
   "metadata": {
    "slideshow": {
     "slide_type": "slide"
    }
   },
   "source": [
    "<center><h3 style='color:blue'> Checkpoint </h3></center>\n",
    "\n",
    "<center> What is the output of the following code? </center>"
   ]
  },
  {
   "cell_type": "code",
   "execution_count": 3,
   "id": "c5e96e78",
   "metadata": {
    "slideshow": {
     "slide_type": "fragment"
    }
   },
   "outputs": [],
   "source": [
    "class tutor:\n",
    "    ID = 1\n",
    "    def __init__(self, name, prof, course):\n",
    "        self.name = name\n",
    "        self.prof = prof\n",
    "        self.course = course\n",
    "        self.id = tutor.ID\n",
    "        tutor.ID += 1\n",
    "    def change_course(self, prof, course):\n",
    "        if self.prof != prof and self.course != course:\n",
    "            self.prof = prof\n",
    "            self.course = course\n",
    "            self.changed = True\n",
    "        return False\n",
    "    \n",
    "t1 = tutor('cyh', 'suraj', 'DSC10')\n",
    "t2 = tutor('bhc', 'marina', 'DSC20')\n",
    "t3 = tutor('nwz', 'marina', 'DSC20')"
   ]
  },
  {
   "cell_type": "code",
   "execution_count": 4,
   "id": "022848fd",
   "metadata": {
    "slideshow": {
     "slide_type": "fragment"
    }
   },
   "outputs": [
    {
     "data": {
      "text/plain": [
       "True"
      ]
     },
     "execution_count": 4,
     "metadata": {},
     "output_type": "execute_result"
    }
   ],
   "source": [
    "t3.id # output 1\n",
    "tutor.change_course(t1, 'marina', 'dsc20') # output 2\n",
    "t2.change_course('marina','dsc30') #output 3\n",
    "t1.changed # output 4"
   ]
  },
  {
   "cell_type": "markdown",
   "id": "06840f09",
   "metadata": {
    "slideshow": {
     "slide_type": "slide"
    }
   },
   "source": [
    "<center><h3 style='color:blue'> Checkpoint Solution </h3></center>"
   ]
  },
  {
   "cell_type": "code",
   "execution_count": 7,
   "id": "5c0fa651",
   "metadata": {
    "slideshow": {
     "slide_type": "fragment"
    }
   },
   "outputs": [
    {
     "data": {
      "text/plain": [
       "3"
      ]
     },
     "execution_count": 7,
     "metadata": {},
     "output_type": "execute_result"
    }
   ],
   "source": [
    "t3.id "
   ]
  },
  {
   "cell_type": "code",
   "execution_count": 8,
   "id": "c5b32312",
   "metadata": {
    "slideshow": {
     "slide_type": "fragment"
    }
   },
   "outputs": [
    {
     "data": {
      "text/plain": [
       "False"
      ]
     },
     "execution_count": 8,
     "metadata": {},
     "output_type": "execute_result"
    }
   ],
   "source": [
    "tutor.change_course(t1, 'marina', 'dsc20') "
   ]
  },
  {
   "cell_type": "code",
   "execution_count": 9,
   "id": "b23b16be",
   "metadata": {
    "slideshow": {
     "slide_type": "fragment"
    }
   },
   "outputs": [
    {
     "data": {
      "text/plain": [
       "False"
      ]
     },
     "execution_count": 9,
     "metadata": {},
     "output_type": "execute_result"
    }
   ],
   "source": [
    "t2.change_course('marina','dsc30')"
   ]
  },
  {
   "cell_type": "code",
   "execution_count": 10,
   "id": "82e139fb",
   "metadata": {
    "slideshow": {
     "slide_type": "fragment"
    }
   },
   "outputs": [
    {
     "data": {
      "text/plain": [
       "True"
      ]
     },
     "execution_count": 10,
     "metadata": {},
     "output_type": "execute_result"
    }
   ],
   "source": [
    "t1.changed"
   ]
  },
  {
   "cell_type": "markdown",
   "id": "9873e6d7",
   "metadata": {
    "slideshow": {
     "slide_type": "slide"
    }
   },
   "source": [
    "<center><h3> Inheritance </h3></center>\n",
    "\n",
    "<center>Classes can inherit functionality from a parent class, allowing for additional methods to be added and old ones to be modified. Classes can also inherit from multiple parent classes. <a src='https://www.programiz.com/python-programming/multiple-inheritance'>reading</a> on the topic can be found here.</center>"
   ]
  },
  {
   "cell_type": "code",
   "execution_count": 11,
   "id": "0563363e",
   "metadata": {
    "slideshow": {
     "slide_type": "fragment"
    }
   },
   "outputs": [],
   "source": [
    "class lecture:\n",
    "    def __init__(self, date, topic, length):\n",
    "        self.date = date\n",
    "        self.topic = topic\n",
    "        self.length = length\n",
    "    def get_length(self):\n",
    "        return self.length\n",
    "\n",
    "class discussion(lecture):\n",
    "    def __init__(self, date, topic, length, pq=4):\n",
    "        super().__init__(date, topic, length)\n",
    "        self.pq = pq\n",
    "    def get_length(self):\n",
    "        return self.length + self.pq"
   ]
  },
  {
   "cell_type": "code",
   "execution_count": 12,
   "id": "deaae6ec",
   "metadata": {
    "slideshow": {
     "slide_type": "fragment"
    }
   },
   "outputs": [
    {
     "name": "stdout",
     "output_type": "stream",
     "text": [
      "lec's length is: 10\n",
      "disc's length is: 14\n"
     ]
    }
   ],
   "source": [
    "lec = lecture('05-17-23', 'classes', 10)\n",
    "disc = discussion('05-17-23', 'classes', 10)\n",
    "print(\"lec's length is: %s\" %lec.get_length())\n",
    "print(\"disc's length is: %s\" %disc.get_length())"
   ]
  },
  {
   "cell_type": "markdown",
   "id": "8f15dd7b",
   "metadata": {
    "slideshow": {
     "slide_type": "fragment"
    }
   },
   "source": [
    "<center>discussion's constructor invokes its parent's constructor and adds its own parameter. It also overwrites the get_length function from its parent.</center>"
   ]
  },
  {
   "cell_type": "markdown",
   "id": "c305702f",
   "metadata": {
    "slideshow": {
     "slide_type": "slide"
    }
   },
   "source": [
    "<center><h3 style='color:blue'> Checkpoint </h3></center>\n",
    "\n",
    "<center> What is the output of the following code? </center>"
   ]
  },
  {
   "cell_type": "code",
   "execution_count": 15,
   "id": "0a161a23",
   "metadata": {
    "slideshow": {
     "slide_type": "fragment"
    }
   },
   "outputs": [],
   "source": [
    "class post_strike(tutor):\n",
    "    def __init__(self, name, prof, course, exp=0):\n",
    "        super().__init__(name, prof, course)\n",
    "        self.exp = 0\n",
    "    def teach(self):\n",
    "        self.exp += 1\n",
    "    def change_course(self, prof, course):\n",
    "        if (self.course != course) and (self.exp > 1):\n",
    "            self.prof = prof\n",
    "            self.course = course\n",
    "            return True\n",
    "        else:\n",
    "            return False\n",
    "    def go_strike(self):\n",
    "        self.strike = True\n",
    "t1 = post_strike('cyh', 'suraj', 'DSC10')\n",
    "t2 = post_strike('bhc', 'marina', 'DSC20')\n",
    "t3 = tutor('nwz', 'marina', 'DSC20')"
   ]
  },
  {
   "cell_type": "code",
   "execution_count": 18,
   "id": "030911a3",
   "metadata": {
    "slideshow": {
     "slide_type": "fragment"
    }
   },
   "outputs": [
    {
     "data": {
      "text/plain": [
       "False"
      ]
     },
     "execution_count": 18,
     "metadata": {},
     "output_type": "execute_result"
    }
   ],
   "source": [
    "t1.teach(); t1.teach(); t1.change_course('marina','dsc20') # output 1\n",
    "t2.go_strike(); t2.strike # output 2\n",
    "# t3.strike # output 3\n",
    "t3.change_course('marina', 'dsc30') # output 4"
   ]
  },
  {
   "cell_type": "code",
   "execution_count": 14,
   "id": "8c82da1f",
   "metadata": {},
   "outputs": [
    {
     "data": {
      "text/plain": [
       "False"
      ]
     },
     "execution_count": 14,
     "metadata": {},
     "output_type": "execute_result"
    }
   ],
   "source": [
    "t1.change_course('marina','dsc20')"
   ]
  },
  {
   "cell_type": "markdown",
   "id": "58d0bc8b",
   "metadata": {
    "slideshow": {
     "slide_type": "slide"
    }
   },
   "source": [
    "<center><h3 style='color:blue'> Checkpoint Solution </h3></center>"
   ]
  },
  {
   "cell_type": "code",
   "execution_count": 15,
   "id": "dd2cc695",
   "metadata": {
    "slideshow": {
     "slide_type": "fragment"
    }
   },
   "outputs": [
    {
     "data": {
      "text/plain": [
       "False"
      ]
     },
     "execution_count": 15,
     "metadata": {},
     "output_type": "execute_result"
    }
   ],
   "source": [
    "t1.teach(); t1.teach(); t1.change_course('marina','dsc20')"
   ]
  },
  {
   "cell_type": "code",
   "execution_count": 16,
   "id": "ec8a86a8",
   "metadata": {
    "slideshow": {
     "slide_type": "fragment"
    }
   },
   "outputs": [
    {
     "data": {
      "text/plain": [
       "True"
      ]
     },
     "execution_count": 16,
     "metadata": {},
     "output_type": "execute_result"
    }
   ],
   "source": [
    "t2.go_strike(); t2.strike"
   ]
  },
  {
   "cell_type": "code",
   "execution_count": 17,
   "id": "5509a61d",
   "metadata": {
    "slideshow": {
     "slide_type": "fragment"
    }
   },
   "outputs": [
    {
     "ename": "AttributeError",
     "evalue": "'tutor' object has no attribute 'strike'",
     "output_type": "error",
     "traceback": [
      "\u001b[0;31m---------------------------------------------------------------------------\u001b[0m",
      "\u001b[0;31mAttributeError\u001b[0m                            Traceback (most recent call last)",
      "Cell \u001b[0;32mIn[17], line 1\u001b[0m\n\u001b[0;32m----> 1\u001b[0m \u001b[43mt3\u001b[49m\u001b[38;5;241;43m.\u001b[39;49m\u001b[43mstrike\u001b[49m\n",
      "\u001b[0;31mAttributeError\u001b[0m: 'tutor' object has no attribute 'strike'"
     ]
    }
   ],
   "source": [
    "t3.strike"
   ]
  },
  {
   "cell_type": "code",
   "execution_count": 18,
   "id": "9c14d9f2",
   "metadata": {
    "slideshow": {
     "slide_type": "fragment"
    }
   },
   "outputs": [
    {
     "data": {
      "text/plain": [
       "False"
      ]
     },
     "execution_count": 18,
     "metadata": {},
     "output_type": "execute_result"
    }
   ],
   "source": [
    "t3.change_course('marina', 'dsc30')"
   ]
  },
  {
   "cell_type": "markdown",
   "id": "1aa31b49",
   "metadata": {
    "slideshow": {
     "slide_type": "slide"
    }
   },
   "source": [
    "<center><h3> Deep vs Shallow Copies </h3></center>\n",
    "\n",
    "<center>In short, shallow copies copy the <b style='color:blue'>reference</b> while deep copies copy the <b style='color:blue'>object</b>. Changes made to a shallow copy are reflected in the original object because the reference is maintained. Changes made to a deep copy are <b>not reflected</b> in the original object because it's a completely different object with a difference reference.</center>"
   ]
  },
  {
   "cell_type": "code",
   "execution_count": 19,
   "id": "fe944dc2",
   "metadata": {
    "slideshow": {
     "slide_type": "fragment"
    }
   },
   "outputs": [
    {
     "name": "stdout",
     "output_type": "stream",
     "text": [
      "even_nums: [2, 4, 6, 8, 10, 0]\n",
      "shallow: [2, 4, 6, 8, 10, 0]\n",
      "odd_nums: [1, 3, 5, 7, 9]\n",
      "deep [1, 3, 5, 7, 9, 0]\n"
     ]
    }
   ],
   "source": [
    "even_nums = [2,4,6,8,10]\n",
    "odd_nums = [1,3,5,7,9]\n",
    "\n",
    "shallow = even_nums\n",
    "deep = list(odd_nums)\n",
    "\n",
    "shallow.append(0)\n",
    "deep.append(0)\n",
    "\n",
    "print(\"even_nums: %s\" %even_nums)\n",
    "print(\"shallow: %s\" %shallow)\n",
    "print(\"odd_nums: %s\" %odd_nums)\n",
    "print(\"deep %s\" %deep)"
   ]
  },
  {
   "cell_type": "markdown",
   "id": "ecddd10c",
   "metadata": {
    "slideshow": {
     "slide_type": "slide"
    }
   },
   "source": [
    "<center>The same applies for classes you define. Deep copies are made by calling the constructor of the class on the same parameters (in the previous example, the constructor was the list() caster). Consider the class: </center>"
   ]
  },
  {
   "cell_type": "code",
   "execution_count": 20,
   "id": "aabcc4a2",
   "metadata": {
    "slideshow": {
     "slide_type": "fragment"
    }
   },
   "outputs": [],
   "source": [
    "class counter:\n",
    "    def __init__(self, curr_val = 0):\n",
    "        self.curr_val = curr_val\n",
    "    def get_counter(self):\n",
    "        return self.curr_val\n",
    "    def increment(self, val=1):\n",
    "        self.curr_val += val\n",
    "    def decrement(self, val=1):\n",
    "        self.curr_val -= val"
   ]
  },
  {
   "cell_type": "code",
   "execution_count": 21,
   "id": "6787b59c",
   "metadata": {
    "slideshow": {
     "slide_type": "fragment"
    }
   },
   "outputs": [
    {
     "name": "stdout",
     "output_type": "stream",
     "text": [
      "c1's value: -2\n",
      "shallow_c1's value: -2\n",
      "deep_c1's value: 2\n"
     ]
    }
   ],
   "source": [
    "c1 = counter()\n",
    "shallow_c1 = c1\n",
    "deep_c1 = counter(c1.get_counter())\n",
    "shallow_c1.decrement(2)\n",
    "deep_c1.increment(2)\n",
    "print(\"c1's value: %s\" %c1.get_counter())\n",
    "print(\"shallow_c1's value: %s\" %shallow_c1.get_counter())\n",
    "print(\"deep_c1's value: %s\" %deep_c1.get_counter())"
   ]
  },
  {
   "cell_type": "markdown",
   "id": "1597b4fa",
   "metadata": {
    "slideshow": {
     "slide_type": "slide"
    }
   },
   "source": [
    "<center><h3>how it actually works in the background</h3></center>\n",
    "\n",
    "<center><img src='imgs/copies.png' width=600></center>"
   ]
  },
  {
   "cell_type": "markdown",
   "id": "92c13eb5",
   "metadata": {
    "slideshow": {
     "slide_type": "slide"
    }
   },
   "source": [
    "<center><h3> Exceptions </h3></center>\n",
    "\n",
    "<center>Errors! Errors are a special class in Python. Errors are triggered when improper code is attempted. You've seen them a millions of times from your own code, now you can create them using the raise keyword.</center>"
   ]
  },
  {
   "cell_type": "markdown",
   "id": "361a9cd0",
   "metadata": {
    "slideshow": {
     "slide_type": "slide"
    }
   },
   "source": [
    "<center><h3> Exception Types and Cases </h3></center>\n",
    "\n",
    "<ul>\n",
    "    <li> <b style ='color:blue'>KeyError</b> - related to dictionaries; attempted access using a key not present in the object\n",
    "    <li> <b style ='color:blue'>IndexError</b> - related to lists/strings; attempted acccess of an index that's out of range\n",
    "    <li> <b style ='color:blue'>TypeError</b> - attempt to unify non - matching data types (ex. str + int) or attempt to access unknown attribute of datatype\n",
    "    <li> <b style ='color:blue'>FileNotFoundError</b> - related to files; attempted to open a file name that can't be found"
   ]
  },
  {
   "cell_type": "markdown",
   "id": "083ff39d",
   "metadata": {
    "slideshow": {
     "slide_type": "slide"
    }
   },
   "source": [
    "<center><h3> raise </h3></center>\n",
    "\n",
    "<center>python keyword to throw an error.</center>\n",
    "\n",
    "<center><b>syntax</b>: raise [error type](error message // optional)</center>"
   ]
  },
  {
   "cell_type": "code",
   "execution_count": 22,
   "id": "d3fcc640",
   "metadata": {
    "slideshow": {
     "slide_type": "fragment"
    }
   },
   "outputs": [
    {
     "ename": "ValueError",
     "evalue": "number too small",
     "output_type": "error",
     "traceback": [
      "\u001b[0;31m---------------------------------------------------------------------------\u001b[0m",
      "\u001b[0;31mValueError\u001b[0m                                Traceback (most recent call last)",
      "Cell \u001b[0;32mIn[22], line 4\u001b[0m\n\u001b[1;32m      2\u001b[0m     \u001b[38;5;28;01mif\u001b[39;00m x \u001b[38;5;241m<\u001b[39m \u001b[38;5;241m21\u001b[39m:\n\u001b[1;32m      3\u001b[0m         \u001b[38;5;28;01mraise\u001b[39;00m \u001b[38;5;167;01mValueError\u001b[39;00m(\u001b[38;5;124m\"\u001b[39m\u001b[38;5;124mnumber too small\u001b[39m\u001b[38;5;124m\"\u001b[39m)\n\u001b[0;32m----> 4\u001b[0m \u001b[43mfoo\u001b[49m\u001b[43m(\u001b[49m\u001b[38;5;241;43m0\u001b[39;49m\u001b[43m)\u001b[49m\n",
      "Cell \u001b[0;32mIn[22], line 3\u001b[0m, in \u001b[0;36mfoo\u001b[0;34m(x)\u001b[0m\n\u001b[1;32m      1\u001b[0m \u001b[38;5;28;01mdef\u001b[39;00m \u001b[38;5;21mfoo\u001b[39m(x):\n\u001b[1;32m      2\u001b[0m     \u001b[38;5;28;01mif\u001b[39;00m x \u001b[38;5;241m<\u001b[39m \u001b[38;5;241m21\u001b[39m:\n\u001b[0;32m----> 3\u001b[0m         \u001b[38;5;28;01mraise\u001b[39;00m \u001b[38;5;167;01mValueError\u001b[39;00m(\u001b[38;5;124m\"\u001b[39m\u001b[38;5;124mnumber too small\u001b[39m\u001b[38;5;124m\"\u001b[39m)\n",
      "\u001b[0;31mValueError\u001b[0m: number too small"
     ]
    }
   ],
   "source": [
    "def foo(x):\n",
    "    if x < 21:\n",
    "        raise ValueError(\"number too small\")\n",
    "foo(0)"
   ]
  },
  {
   "cell_type": "markdown",
   "id": "1f038a7b",
   "metadata": {
    "slideshow": {
     "slide_type": "slide"
    }
   },
   "source": [
    "<center><h3> try except else</h3></center>\n",
    "\n",
    "<center>Exceptions can be handled in try-except blocks. This prevents code from terminating the moment an error happens.</center>"
   ]
  },
  {
   "cell_type": "code",
   "execution_count": 23,
   "id": "778bad24",
   "metadata": {
    "slideshow": {
     "slide_type": "fragment"
    }
   },
   "outputs": [
    {
     "name": "stdout",
     "output_type": "stream",
     "text": [
      "'int' object has no attribute 'append'\n",
      "--------------------------------------\n",
      "['y']\n",
      "done!\n"
     ]
    }
   ],
   "source": [
    "def foo(z):\n",
    "    try:\n",
    "        z.append('y')\n",
    "    except AttributeError as e:\n",
    "        print(e)\n",
    "    else:\n",
    "        print(z)\n",
    "        print('done!')\n",
    "        \n",
    "foo(4)\n",
    "print('--------------------------------------')\n",
    "foo([])"
   ]
  },
  {
   "cell_type": "markdown",
   "id": "c5d0951e",
   "metadata": {
    "slideshow": {
     "slide_type": "slide"
    }
   },
   "source": [
    "<center><h3> try-except vs assert </h3></center>\n",
    "\n",
    "<center>Assert statements are used to validate inputs and prevent logical errors. Try-except is used to catch error generating inputs / code. </center>"
   ]
  },
  {
   "cell_type": "code",
   "execution_count": 24,
   "id": "c6b23971",
   "metadata": {
    "slideshow": {
     "slide_type": "fragment"
    }
   },
   "outputs": [
    {
     "ename": "FileNotFoundError",
     "evalue": "[Errno 2] No such file or directory: 'nope'",
     "output_type": "error",
     "traceback": [
      "\u001b[0;31m---------------------------------------------------------------------------\u001b[0m",
      "\u001b[0;31mFileNotFoundError\u001b[0m                         Traceback (most recent call last)",
      "Cell \u001b[0;32mIn[24], line 6\u001b[0m\n\u001b[1;32m      4\u001b[0m     \u001b[38;5;28;01mwith\u001b[39;00m \u001b[38;5;28mopen\u001b[39m(filepath, \u001b[38;5;124m'\u001b[39m\u001b[38;5;124mr\u001b[39m\u001b[38;5;124m'\u001b[39m) \u001b[38;5;28;01mas\u001b[39;00m f:\n\u001b[1;32m      5\u001b[0m         \u001b[38;5;28;01mreturn\u001b[39;00m f\u001b[38;5;241m.\u001b[39mreadlines()\n\u001b[0;32m----> 6\u001b[0m \u001b[43mprocess_file\u001b[49m\u001b[43m(\u001b[49m\u001b[38;5;124;43m'\u001b[39;49m\u001b[38;5;124;43mnope\u001b[39;49m\u001b[38;5;124;43m'\u001b[39;49m\u001b[43m)\u001b[49m\n",
      "Cell \u001b[0;32mIn[24], line 4\u001b[0m, in \u001b[0;36mprocess_file\u001b[0;34m(filepath)\u001b[0m\n\u001b[1;32m      1\u001b[0m \u001b[38;5;28;01mdef\u001b[39;00m \u001b[38;5;21mprocess_file\u001b[39m(filepath):\n\u001b[1;32m      2\u001b[0m     \u001b[38;5;66;03m# What happens if I pass in an incorrect filepath?\u001b[39;00m\n\u001b[1;32m      3\u001b[0m     \u001b[38;5;28;01massert\u001b[39;00m \u001b[38;5;28misinstance\u001b[39m(filepath, \u001b[38;5;28mstr\u001b[39m) \u001b[38;5;66;03m# asserts can't catch such errors\u001b[39;00m\n\u001b[0;32m----> 4\u001b[0m     \u001b[38;5;28;01mwith\u001b[39;00m \u001b[38;5;28;43mopen\u001b[39;49m\u001b[43m(\u001b[49m\u001b[43mfilepath\u001b[49m\u001b[43m,\u001b[49m\u001b[43m \u001b[49m\u001b[38;5;124;43m'\u001b[39;49m\u001b[38;5;124;43mr\u001b[39;49m\u001b[38;5;124;43m'\u001b[39;49m\u001b[43m)\u001b[49m \u001b[38;5;28;01mas\u001b[39;00m f:\n\u001b[1;32m      5\u001b[0m         \u001b[38;5;28;01mreturn\u001b[39;00m f\u001b[38;5;241m.\u001b[39mreadlines()\n",
      "File \u001b[0;32m/opt/anaconda3/envs/tutor/lib/python3.10/site-packages/IPython/core/interactiveshell.py:284\u001b[0m, in \u001b[0;36m_modified_open\u001b[0;34m(file, *args, **kwargs)\u001b[0m\n\u001b[1;32m    277\u001b[0m \u001b[38;5;28;01mif\u001b[39;00m file \u001b[38;5;129;01min\u001b[39;00m {\u001b[38;5;241m0\u001b[39m, \u001b[38;5;241m1\u001b[39m, \u001b[38;5;241m2\u001b[39m}:\n\u001b[1;32m    278\u001b[0m     \u001b[38;5;28;01mraise\u001b[39;00m \u001b[38;5;167;01mValueError\u001b[39;00m(\n\u001b[1;32m    279\u001b[0m         \u001b[38;5;124mf\u001b[39m\u001b[38;5;124m\"\u001b[39m\u001b[38;5;124mIPython won\u001b[39m\u001b[38;5;124m'\u001b[39m\u001b[38;5;124mt let you open fd=\u001b[39m\u001b[38;5;132;01m{\u001b[39;00mfile\u001b[38;5;132;01m}\u001b[39;00m\u001b[38;5;124m by default \u001b[39m\u001b[38;5;124m\"\u001b[39m\n\u001b[1;32m    280\u001b[0m         \u001b[38;5;124m\"\u001b[39m\u001b[38;5;124mas it is likely to crash IPython. If you know what you are doing, \u001b[39m\u001b[38;5;124m\"\u001b[39m\n\u001b[1;32m    281\u001b[0m         \u001b[38;5;124m\"\u001b[39m\u001b[38;5;124myou can use builtins\u001b[39m\u001b[38;5;124m'\u001b[39m\u001b[38;5;124m open.\u001b[39m\u001b[38;5;124m\"\u001b[39m\n\u001b[1;32m    282\u001b[0m     )\n\u001b[0;32m--> 284\u001b[0m \u001b[38;5;28;01mreturn\u001b[39;00m \u001b[43mio_open\u001b[49m\u001b[43m(\u001b[49m\u001b[43mfile\u001b[49m\u001b[43m,\u001b[49m\u001b[43m \u001b[49m\u001b[38;5;241;43m*\u001b[39;49m\u001b[43margs\u001b[49m\u001b[43m,\u001b[49m\u001b[43m \u001b[49m\u001b[38;5;241;43m*\u001b[39;49m\u001b[38;5;241;43m*\u001b[39;49m\u001b[43mkwargs\u001b[49m\u001b[43m)\u001b[49m\n",
      "\u001b[0;31mFileNotFoundError\u001b[0m: [Errno 2] No such file or directory: 'nope'"
     ]
    }
   ],
   "source": [
    "def process_file(filepath):\n",
    "    # What happens if I pass in an incorrect filepath?\n",
    "    assert isinstance(filepath, str) # asserts can't catch such errors\n",
    "    with open(filepath, 'r') as f:\n",
    "        return f.readlines()\n",
    "process_file('nope')"
   ]
  },
  {
   "cell_type": "code",
   "execution_count": 25,
   "id": "df4f4a71",
   "metadata": {
    "slideshow": {
     "slide_type": "slide"
    }
   },
   "outputs": [
    {
     "name": "stdout",
     "output_type": "stream",
     "text": [
      "filepath is not valid\n",
      "[Errno 2] No such file or directory: 'nope'\n",
      "--------------------------------------\n"
     ]
    },
    {
     "data": {
      "text/plain": [
       "[\"It's week 8!\"]"
      ]
     },
     "execution_count": 25,
     "metadata": {},
     "output_type": "execute_result"
    }
   ],
   "source": [
    "def process_file(filepath):\n",
    "    # What happens if I pass in an incorrect filepath?\n",
    "    try:\n",
    "        f = open(filepath,'r')\n",
    "    except FileNotFoundError as e:\n",
    "        print('filepath is not valid')\n",
    "        print(e)\n",
    "    else:\n",
    "        return f.readlines()\n",
    "process_file('nope')\n",
    "print('--------------------------------------')\n",
    "process_file('files/sample.txt')"
   ]
  },
  {
   "cell_type": "markdown",
   "id": "59a6a01f",
   "metadata": {
    "slideshow": {
     "slide_type": "slide"
    }
   },
   "source": [
    "<center><h3 style='color:blue'> Checkpoint </h3></center>\n",
    "\n",
    "<center>What's the output? If there is an error, how do you change the function to fix it?</center>"
   ]
  },
  {
   "cell_type": "code",
   "execution_count": 26,
   "id": "0e0de7a1",
   "metadata": {
    "slideshow": {
     "slide_type": "fragment"
    }
   },
   "outputs": [],
   "source": [
    "def open_something(filepath):\n",
    "    assert isinstance(filepath, str)\n",
    "    try:\n",
    "        with open(filepath,'r') as f:\n",
    "            data = f.readlines()\n",
    "    except FileNotFoundError as e:\n",
    "        print('filepath is not valid')\n",
    "    else:\n",
    "        try:\n",
    "            output = sum(data)\n",
    "        except TypeError as e:\n",
    "            print('not numbers')\n",
    "        else:\n",
    "            return output"
   ]
  },
  {
   "cell_type": "code",
   "execution_count": 27,
   "id": "903a2cef",
   "metadata": {
    "slideshow": {
     "slide_type": "fragment"
    }
   },
   "outputs": [
    {
     "name": "stdout",
     "output_type": "stream",
     "text": [
      "1\n",
      "2\n",
      "3\n",
      "4\n",
      "5\n",
      "6\n",
      "7\n",
      "8\n",
      "9\n",
      "10\n"
     ]
    }
   ],
   "source": [
    "with open('files/math.txt', 'r') as f:\n",
    "    print(f.read())"
   ]
  },
  {
   "cell_type": "code",
   "execution_count": 28,
   "id": "3ee39ea4",
   "metadata": {
    "slideshow": {
     "slide_type": "fragment"
    }
   },
   "outputs": [
    {
     "name": "stdout",
     "output_type": "stream",
     "text": [
      "not numbers\n"
     ]
    }
   ],
   "source": [
    "open_something('files/math.txt')"
   ]
  },
  {
   "cell_type": "markdown",
   "id": "4982932e",
   "metadata": {
    "slideshow": {
     "slide_type": "slide"
    }
   },
   "source": [
    "<center><h3 style='color:blue'> Checkpoint Solution </h3></center>"
   ]
  },
  {
   "cell_type": "code",
   "execution_count": 29,
   "id": "4f22a4cb",
   "metadata": {
    "slideshow": {
     "slide_type": "fragment"
    }
   },
   "outputs": [
    {
     "name": "stdout",
     "output_type": "stream",
     "text": [
      "not numbers\n"
     ]
    }
   ],
   "source": [
    "open_something('files/math.txt')"
   ]
  },
  {
   "cell_type": "code",
   "execution_count": 30,
   "id": "91aa4328",
   "metadata": {
    "slideshow": {
     "slide_type": "fragment"
    }
   },
   "outputs": [],
   "source": [
    "def fixed(filepath):\n",
    "    assert isinstance(filepath, str)\n",
    "    try:\n",
    "        with open(filepath,'r') as f:\n",
    "            data = f.readlines()\n",
    "    except FileNotFoundError as e:\n",
    "        print('filepath is not valid')\n",
    "    else:\n",
    "        try:\n",
    "            data = [int(x) for x in data]\n",
    "            output = sum(data)\n",
    "        except (TypeError, ValueError) as e:\n",
    "            print('not numbers')\n",
    "        else:\n",
    "            return output"
   ]
  },
  {
   "cell_type": "code",
   "execution_count": 31,
   "id": "4e753fe7",
   "metadata": {
    "slideshow": {
     "slide_type": "slide"
    }
   },
   "outputs": [
    {
     "data": {
      "text/plain": [
       "55"
      ]
     },
     "execution_count": 31,
     "metadata": {},
     "output_type": "execute_result"
    }
   ],
   "source": [
    "fixed('files/math.txt')"
   ]
  },
  {
   "cell_type": "markdown",
   "id": "49030538",
   "metadata": {
    "slideshow": {
     "slide_type": "slide"
    }
   },
   "source": [
    "<center> <h1>Thanks for coming!</h1></center>\n",
    "<center> There's a discussion quiz on canvas! </center>"
   ]
  },
  {
   "cell_type": "code",
   "execution_count": null,
   "id": "aecf0425",
   "metadata": {
    "slideshow": {
     "slide_type": "skip"
    }
   },
   "outputs": [],
   "source": []
  }
 ],
 "metadata": {
  "celltoolbar": "Slideshow",
  "kernelspec": {
   "display_name": "Python 3 (ipykernel)",
   "language": "python",
   "name": "python3"
  },
  "language_info": {
   "codemirror_mode": {
    "name": "ipython",
    "version": 3
   },
   "file_extension": ".py",
   "mimetype": "text/x-python",
   "name": "python",
   "nbconvert_exporter": "python",
   "pygments_lexer": "ipython3",
   "version": "3.10.8"
  },
  "rise": {
   "enable_chalkboard": true
  }
 },
 "nbformat": 4,
 "nbformat_minor": 5
}
