{
 "cells": [
  {
   "cell_type": "markdown",
   "id": "793584e2",
   "metadata": {
    "slideshow": {
     "slide_type": "skip"
    }
   },
   "source": [
    "**note**: for anyone trying to view this as a slideshow, run 'pip install rise', reload your notebook, then click on the button that looks like a bar graph to the right of the command palette at the top."
   ]
  },
  {
   "cell_type": "markdown",
   "id": "1bf2de4d",
   "metadata": {
    "slideshow": {
     "slide_type": "slide"
    }
   },
   "source": [
    "<center><h1>Discussion 2</h1></center>\n",
    "<center><h2>DSC 20, Spring 2023</h2><center>"
   ]
  },
  {
   "cell_type": "markdown",
   "id": "2a25295e",
   "metadata": {
    "slideshow": {
     "slide_type": "slide"
    }
   },
   "source": [
    "<center><h3>Debugging</h3></center>"
   ]
  },
  {
   "cell_type": "markdown",
   "id": "935041f8",
   "metadata": {
    "slideshow": {
     "slide_type": "slide"
    }
   },
   "source": [
    "<h3>Agenda</h3>\n",
    "<ul>\n",
    "    <li> list, dictionary, doctests overview </li>\n",
    "    <li> debugging practices </li>\n",
    "    <li> reading and finding errors in code </li>\n",
    "    <li> python tutor debugging + worksheet </li>\n",
    "    \n",
    "</ul>"
   ]
  },
  {
   "cell_type": "markdown",
   "id": "e94206f8",
   "metadata": {
    "slideshow": {
     "slide_type": "slide"
    }
   },
   "source": [
    "<center><h3> Lists </h3> </center>\n",
    "<ul>\n",
    "    <li> Mutable vector of values\n",
    "    <li> Can store any data type, multiple types at a time\n",
    "    <li> Elements are acccessed via indexing\n",
    "</ul>\n"
   ]
  },
  {
   "cell_type": "markdown",
   "id": "43de6095",
   "metadata": {
    "slideshow": {
     "slide_type": "slide"
    }
   },
   "source": [
    "<center><h3 style = 'color:blue'> Checkpoint </h3></center>\n",
    "<center>\n",
    "    <br></br>\n",
    "Write a function that returns a list, where each name in the <i><b>names</b></i> list is\n",
    "replaced with the string \"Even\" if the name has even length, or \"Odd\"\n",
    "otherwise. \n",
    "</center>\n",
    "<center>\n",
    "If the <i><b>names</b></i> list is empty, return a list with the string\n",
    "\"Empty list was given\" in it.\n",
    "</center>"
   ]
  },
  {
   "cell_type": "code",
   "execution_count": 1,
   "id": "63dc335d",
   "metadata": {
    "slideshow": {
     "slide_type": "fragment"
    }
   },
   "outputs": [],
   "source": [
    "def odd_even_list(names):\n",
    "    '''\n",
    "    Function that checks the length parity of a list of names.\n",
    "    \n",
    "    Args:\n",
    "        names (list): list of strings to be considered\n",
    "    \n",
    "    Returns: \n",
    "        a list consisting of \"Odd\" or \"Even\" where each element\n",
    "        indicates the length parity of each string in names. \n",
    "        If names is empty, return a list with the string \n",
    "        \"Empty list was given\".\n",
    "\n",
    "    >>> odd_even_list([\"Marina\", \"Michelle\", \"James\", \"Darren\"])\n",
    "    ['Even', 'Even', 'Odd', 'Even']\n",
    "    >>> odd_even_list([])\n",
    "    ['Empty list was given']\n",
    "    '''\n",
    "    # Write your implementation here\n",
    "    return"
   ]
  },
  {
   "cell_type": "markdown",
   "id": "38cf49f5",
   "metadata": {
    "slideshow": {
     "slide_type": "slide"
    }
   },
   "source": [
    "<center><h3 style = 'color:blue'> Checkpoint Solution </h3></center>"
   ]
  },
  {
   "cell_type": "code",
   "execution_count": 2,
   "id": "e44fb350",
   "metadata": {
    "slideshow": {
     "slide_type": "fragment"
    }
   },
   "outputs": [],
   "source": [
    "def odd_even_list(names):\n",
    "    '''\n",
    "    Function that checks the length parity of a list of names.\n",
    "    \n",
    "    Args:\n",
    "        names (list): list of strings to be considered\n",
    "    \n",
    "    Returns: \n",
    "        a list consisting of \"Odd\" or \"Even\" where each element\n",
    "        indicates the length parity of each string in names. \n",
    "        If names is empty, return a list with the string \n",
    "        \"Empty list was given\".\n",
    "\n",
    "    >>> odd_even_list([\"Marina\", \"Michelle\", \"James\", \"Darren\"])\n",
    "    ['Even', 'Even', 'Odd', 'Even']\n",
    "    >>> odd_even_list([])\n",
    "    ['Empty list was given']\n",
    "    '''\n",
    "    if not len(names): # check for empty list\n",
    "        return ['Empty list was given']\n",
    "    else:\n",
    "        parity_list = []\n",
    "        for name in names:\n",
    "            if len(name)%2 == 0: #check for even length\n",
    "                parity_list.append('Even')\n",
    "                # alternate solution: parity_list+=['Even']\n",
    "            else: #since only two cases are possible, no need to check odd\n",
    "                parity_list.append('Odd') \n",
    "                # alternate solution: parity_list+=['Odd']\n",
    "    return parity_list"
   ]
  },
  {
   "cell_type": "code",
   "execution_count": 3,
   "id": "4a367eb9",
   "metadata": {
    "slideshow": {
     "slide_type": "fragment"
    }
   },
   "outputs": [
    {
     "data": {
      "text/plain": [
       "['Even', 'Even', 'Odd', 'Even']"
      ]
     },
     "execution_count": 3,
     "metadata": {},
     "output_type": "execute_result"
    }
   ],
   "source": [
    "odd_even_list([\"Marina\", \"Michelle\", \"James\", \"Darren\"])"
   ]
  },
  {
   "cell_type": "markdown",
   "id": "92c6c0bd",
   "metadata": {
    "slideshow": {
     "slide_type": "slide"
    }
   },
   "source": [
    "<center><h3> Dictionaries </h3></center>\n",
    "<ul>\n",
    "    <li> Mutable storage of key, value pairs\n",
    "    <li> Can store any data type, multiple at a time\n",
    "    <li> Elements are acccessed via keys\n",
    "    <li> keys must be <b style = 'color:blue'>hashable</b> and <b style = 'color:blue'>unique</b>\n",
    "</ul>\n",
    "\n",
    "<b style = 'color:blue'>note</b>: hashablility correlates to the stability of the data - essentially, <b>data that <b style = 'color:blue'>can't</b> change is hashable</b> (int, str, tuple, etc.) while <b>data that <b style = 'color:blue'>can</b> change is not hashable (list, dictionary)</b>"
   ]
  },
  {
   "cell_type": "markdown",
   "id": "0864e9db",
   "metadata": {
    "slideshow": {
     "slide_type": "slide"
    }
   },
   "source": [
    "<center><h3 style = 'color:blue'> Checkpoint </h3></center>\n",
    "<center>\n",
    "    <br></br>\n",
    "Write a function that converts a list of tuples into a dictionary, where the first and second elements of each tuple are the key, value for the dictionary respectively.\n",
    "</center>\n",
    "<center>\n",
    "Assume that each tuple will have exactly 2 elements.\n",
    "</center>"
   ]
  },
  {
   "cell_type": "code",
   "execution_count": 4,
   "id": "9dc4324c",
   "metadata": {
    "slideshow": {
     "slide_type": "fragment"
    }
   },
   "outputs": [],
   "source": [
    "def tuple_to_dictionary(tup_list):\n",
    "    '''\n",
    "    Function that converts a list of 2-element tuples into a dictionary.\n",
    "    \n",
    "    Args:\n",
    "        tup_list (list): list of 2-element tuples to be considered\n",
    "    \n",
    "    Returns: \n",
    "        a dictionary where the keys are the first elements and the \n",
    "        values are the second elements of each tuple.\n",
    "\n",
    "    >>> tuple_to_dictionary([('Ben', ['Badminton', 'Track','X-country']),('Charisse', ['Tennis']),('Nicole', ['Dance', 'Golf'])])\n",
    "    {'Ben':['Badminton', 'Track', 'X-country'], 'Charisse':['Tennis'], 'Nicole':['Dance', 'Golf']}\n",
    "    >>> tuple_to_dictionary([])\n",
    "    {}\n",
    "    '''\n",
    "    # Write your implementation here\n",
    "    return"
   ]
  },
  {
   "cell_type": "markdown",
   "id": "9d363c20",
   "metadata": {
    "slideshow": {
     "slide_type": "slide"
    }
   },
   "source": [
    "<center><h3 style = 'color:blue'> Checkpoint Solution </h3></center>"
   ]
  },
  {
   "cell_type": "code",
   "execution_count": 5,
   "id": "5a0c52db",
   "metadata": {
    "slideshow": {
     "slide_type": "fragment"
    }
   },
   "outputs": [],
   "source": [
    "def tuple_to_dictionary(tup_list):\n",
    "    '''\n",
    "    Function that converts a list of 2-element tuples into a dictionary.\n",
    "    \n",
    "    Args:\n",
    "        tup_list (list): list of 2-element tuples to be considered\n",
    "    \n",
    "    Returns: \n",
    "        a dictionary where the keys are the first elements and the values are the second elements of each tuple.\n",
    "\n",
    "    >>> tuple_to_dictionary([('Ben', ['Badminton', 'Track','X-country']),('Charisse', ['Tennis']),('Nicole', ['Dance', 'Golf'])])\n",
    "    {'Ben':['Badminton', 'Track', 'X-country'], 'Charisse':['Tennis'], 'Nicole':['Dance', 'Golf']}\n",
    "    >>> tuple_to_dictionary([])\n",
    "    {}\n",
    "    '''\n",
    "    converted_result = {}\n",
    "    for key, value in tup_list: # since 2-element tuples are guaranteed, I can loop through each tuple like this\n",
    "        converted_result[key] = value\n",
    "        #alternative solution:\n",
    "        # for tup in tup_list:\n",
    "        #     converted_result[tup[0]] = tup[1]\n",
    "    return converted_result"
   ]
  },
  {
   "cell_type": "code",
   "execution_count": 6,
   "id": "d87c392f",
   "metadata": {
    "slideshow": {
     "slide_type": "fragment"
    }
   },
   "outputs": [
    {
     "data": {
      "text/plain": [
       "{'Ben': ['Badminton', 'Track', 'X-country'],\n",
       " 'Charisse': ['Tennis'],\n",
       " 'Nicole': ['Dance', 'Golf']}"
      ]
     },
     "execution_count": 6,
     "metadata": {},
     "output_type": "execute_result"
    }
   ],
   "source": [
    "tuple_to_dictionary([('Ben', ['Badminton', 'Track','X-country']),('Charisse', ['Tennis']),('Nicole', ['Dance', 'Golf'])])"
   ]
  },
  {
   "cell_type": "markdown",
   "id": "d0d5bb70",
   "metadata": {
    "slideshow": {
     "slide_type": "slide"
    }
   },
   "source": [
    "<center><h3>Doctests</h3></center>\n",
    "<ul>\n",
    "    <li> Tests to check that your function works as intended\n",
    "    <li> denoted by the '>>> ' symbol (space included)!\n",
    "    <li> the line right after the '>>> ' represents the intended output\n",
    "    <li> well written doctests make sure your code is logically sound in all cases\n",
    "</ul>\n",
    "\n",
    "<b>note</b>: if you want to see the doctests you passed when you run them, add a '-v' at the end."
   ]
  },
  {
   "cell_type": "markdown",
   "id": "b3b24d38",
   "metadata": {
    "slideshow": {
     "slide_type": "fragment"
    }
   },
   "source": [
    "<center><img src='imgs/base_doctest_Run.png' width=400></center>"
   ]
  },
  {
   "cell_type": "markdown",
   "id": "89739da9",
   "metadata": {
    "slideshow": {
     "slide_type": "fragment"
    }
   },
   "source": [
    "<center><img src='imgs/doctest_with_results_syntax.png' width=400></center>"
   ]
  },
  {
   "cell_type": "markdown",
   "id": "bece5905",
   "metadata": {
    "slideshow": {
     "slide_type": "fragment"
    }
   },
   "source": [
    "<center><img src='imgs/with_results_output.png' width=400></center>"
   ]
  },
  {
   "cell_type": "markdown",
   "id": "026e91bf",
   "metadata": {
    "slideshow": {
     "slide_type": "slide"
    }
   },
   "source": [
    "<center><h3> Errors </h3></center>\n",
    "\n",
    "<ul>\n",
    "    <li> Errors are a special <b style ='color:blue'>python class</b>\n",
    "    <li> Encountered errors immediately exit code (short-circuit)\n",
    "    <li> There's 2 types of broad errors: <b style='color:blue'>Syntax error</b> and <b style='color:blue'>Runtime error</b>\n",
    "    <li> Errors are triggered when improper code is attempted\n",
    "        \n",
    "<p> <b style ='color:blue'>for syntax error</b>: python syntax is not followed (code will not run at all) </p>\n",
    "<p> <b style='color:blue'>for runtime error</b>: written code in the file does not run </p>\n",
    "</ul>"
   ]
  },
  {
   "cell_type": "markdown",
   "id": "2cf61cd6",
   "metadata": {
    "slideshow": {
     "slide_type": "fragment"
    }
   },
   "source": [
    "<center><b>Common Errors Encountered</b></center>\n",
    "<ul>\n",
    "    <li> <b style ='color:blue'>KeyError</b> - related to dictionaries; attempted access using a key not present in the object\n",
    "    <li> <b style ='color:blue'>IndexError</b> - related to lists/strings; attempted acccess of an index that's out of range\n",
    "    <li> <b style ='color:blue'>TypeError</b> - attempt to unify non - matching data types (ex. str + int) or attempt to access unknown attribute of datatype\n",
    "    <li> <b style ='color:blue'>FileNotFoundError</b> - related to files; attempted to open a file name that can't be found"
   ]
  },
  {
   "cell_type": "markdown",
   "id": "e6146c2f",
   "metadata": {
    "slideshow": {
     "slide_type": "slide"
    }
   },
   "source": [
    "<center><h3 style = 'color:blue'> Checkpoint - Question 1 </h3></center>\n",
    "Assume the following line of code is ran:"
   ]
  },
  {
   "cell_type": "code",
   "execution_count": 7,
   "id": "b5fa2b11",
   "metadata": {
    "slideshow": {
     "slide_type": "fragment"
    }
   },
   "outputs": [],
   "source": [
    "sample_dict = {'Professor': ['Marina'], 'Tutors': ['Ben', 'Charisse'], 'Languages': ['Python']}"
   ]
  },
  {
   "cell_type": "markdown",
   "id": "d782fdea",
   "metadata": {
    "slideshow": {
     "slide_type": "fragment"
    }
   },
   "source": [
    "We want to get 'Professor' out from the dictionary, so we write the following code"
   ]
  },
  {
   "cell_type": "code",
   "execution_count": null,
   "id": "37827d1c",
   "metadata": {
    "slideshow": {
     "slide_type": "fragment"
    }
   },
   "outputs": [],
   "source": [
    "sample_dict.keys()[0]"
   ]
  },
  {
   "cell_type": "markdown",
   "id": "b69cda8f",
   "metadata": {
    "slideshow": {
     "slide_type": "fragment"
    }
   },
   "source": [
    "What is the result? Is there an error? If so, what error (and why?)"
   ]
  },
  {
   "cell_type": "code",
   "execution_count": 8,
   "id": "2cee28ab",
   "metadata": {
    "slideshow": {
     "slide_type": "fragment"
    }
   },
   "outputs": [
    {
     "ename": "TypeError",
     "evalue": "'dict_keys' object is not subscriptable",
     "output_type": "error",
     "traceback": [
      "\u001b[0;31m---------------------------------------------------------------------------\u001b[0m",
      "\u001b[0;31mTypeError\u001b[0m                                 Traceback (most recent call last)",
      "\u001b[0;32m/var/folders/s3/jrstqxb973db3gqjptn3m3nr0000gp/T/ipykernel_2033/2302762907.py\u001b[0m in \u001b[0;36m<module>\u001b[0;34m\u001b[0m\n\u001b[0;32m----> 1\u001b[0;31m \u001b[0msample_dict\u001b[0m\u001b[0;34m.\u001b[0m\u001b[0mkeys\u001b[0m\u001b[0;34m(\u001b[0m\u001b[0;34m)\u001b[0m\u001b[0;34m[\u001b[0m\u001b[0;36m0\u001b[0m\u001b[0;34m]\u001b[0m\u001b[0;34m\u001b[0m\u001b[0;34m\u001b[0m\u001b[0m\n\u001b[0m",
      "\u001b[0;31mTypeError\u001b[0m: 'dict_keys' object is not subscriptable"
     ]
    }
   ],
   "source": [
    "sample_dict.keys()[0]"
   ]
  },
  {
   "cell_type": "markdown",
   "id": "0e53cbbf",
   "metadata": {
    "slideshow": {
     "slide_type": "fragment"
    }
   },
   "source": [
    "the result of .keys() is not a list, you would have to cast it into a list for this to work properly"
   ]
  },
  {
   "cell_type": "code",
   "execution_count": 9,
   "id": "52d76baa",
   "metadata": {
    "slideshow": {
     "slide_type": "fragment"
    }
   },
   "outputs": [
    {
     "data": {
      "text/plain": [
       "'Professor'"
      ]
     },
     "execution_count": 9,
     "metadata": {},
     "output_type": "execute_result"
    }
   ],
   "source": [
    "list(sample_dict.keys())[0]"
   ]
  },
  {
   "cell_type": "markdown",
   "id": "76d941e5",
   "metadata": {
    "slideshow": {
     "slide_type": "slide"
    }
   },
   "source": [
    "<center><h3 style = 'color:blue'> Checkpoint - Question 2 </h3></center>\n",
    "<center> assume the following file structure: </center>\n",
    "<center><img src='imgs/file_structure.png' width=400></center>\n",
    "<br></br>\n",
    "We want to print out the poem, so we write the following code:"
   ]
  },
  {
   "cell_type": "code",
   "execution_count": null,
   "id": "7b3b6257",
   "metadata": {
    "slideshow": {
     "slide_type": "fragment"
    }
   },
   "outputs": [],
   "source": [
    "with open('poem.txt', 'r') as f:\n",
    "    print(f.readlines())"
   ]
  },
  {
   "cell_type": "markdown",
   "id": "5b7c9f35",
   "metadata": {
    "slideshow": {
     "slide_type": "fragment"
    }
   },
   "source": [
    "What is the result? Is there an error? If so, what error (and why?)"
   ]
  },
  {
   "cell_type": "code",
   "execution_count": 10,
   "id": "832962b7",
   "metadata": {
    "slideshow": {
     "slide_type": "slide"
    }
   },
   "outputs": [
    {
     "ename": "FileNotFoundError",
     "evalue": "[Errno 2] No such file or directory: 'poem.txt'",
     "output_type": "error",
     "traceback": [
      "\u001b[0;31m---------------------------------------------------------------------------\u001b[0m",
      "\u001b[0;31mFileNotFoundError\u001b[0m                         Traceback (most recent call last)",
      "\u001b[0;32m/var/folders/s3/jrstqxb973db3gqjptn3m3nr0000gp/T/ipykernel_2033/4097085444.py\u001b[0m in \u001b[0;36m<module>\u001b[0;34m\u001b[0m\n\u001b[0;32m----> 1\u001b[0;31m \u001b[0;32mwith\u001b[0m \u001b[0mopen\u001b[0m\u001b[0;34m(\u001b[0m\u001b[0;34m'poem.txt'\u001b[0m\u001b[0;34m,\u001b[0m \u001b[0;34m'r'\u001b[0m\u001b[0;34m)\u001b[0m \u001b[0;32mas\u001b[0m \u001b[0mf\u001b[0m\u001b[0;34m:\u001b[0m\u001b[0;34m\u001b[0m\u001b[0;34m\u001b[0m\u001b[0m\n\u001b[0m\u001b[1;32m      2\u001b[0m     \u001b[0mprint\u001b[0m\u001b[0;34m(\u001b[0m\u001b[0mf\u001b[0m\u001b[0;34m.\u001b[0m\u001b[0mreadlines\u001b[0m\u001b[0;34m(\u001b[0m\u001b[0;34m)\u001b[0m\u001b[0;34m)\u001b[0m\u001b[0;34m\u001b[0m\u001b[0;34m\u001b[0m\u001b[0m\n",
      "\u001b[0;31mFileNotFoundError\u001b[0m: [Errno 2] No such file or directory: 'poem.txt'"
     ]
    }
   ],
   "source": [
    "with open('poem.txt', 'r') as f:\n",
    "    print(f.readlines())"
   ]
  },
  {
   "cell_type": "markdown",
   "id": "90cc723c",
   "metadata": {
    "slideshow": {
     "slide_type": "fragment"
    }
   },
   "source": [
    "the file name is not correct, we are missing the parent folder for poem.txt (files/)"
   ]
  },
  {
   "cell_type": "code",
   "execution_count": 11,
   "id": "2733ca38",
   "metadata": {
    "slideshow": {
     "slide_type": "slide"
    }
   },
   "outputs": [
    {
     "name": "stdout",
     "output_type": "stream",
     "text": [
      "l(a\n",
      "\n",
      "le\n",
      "\n",
      "af\n",
      "\n",
      "fa\n",
      "\n",
      "ll\n",
      "\n",
      "s)\n",
      "\n",
      "one\n",
      "\n",
      "l\n",
      "\n",
      "Iness\n",
      "\n",
      "by E.E. Cummings\n"
     ]
    }
   ],
   "source": [
    "with open('files/poem.txt', 'r') as f:\n",
    "    for line in f.readlines():\n",
    "        print(line)\n",
    "    print()\n",
    "    print(\"by E.E. Cummings\")"
   ]
  },
  {
   "cell_type": "markdown",
   "id": "db194afe",
   "metadata": {
    "slideshow": {
     "slide_type": "slide"
    }
   },
   "source": [
    "<center><h3 style = 'color:blue'> Checkpoint - Question 3 </h3></center>\n",
    "<center>Look familiar? This code generates an error, figure out what line and why the error occurs.</center>"
   ]
  },
  {
   "cell_type": "code",
   "execution_count": 12,
   "id": "9e5f977f",
   "metadata": {
    "slideshow": {
     "slide_type": "fragment"
    }
   },
   "outputs": [],
   "source": [
    "def odd_even_list(names):\n",
    "    '''\n",
    "    Function that checks the length parity of a list of names.\n",
    "    \n",
    "    Args:\n",
    "        names (list): list of strings to be considered\n",
    "    \n",
    "    Returns: \n",
    "        a list consisting of \"Odd\" or \"Even\" where each element indicates the\n",
    "        length parity of each string in names. If names is empty, return\n",
    "        a list with the string \"Empty list was given\".\n",
    "\n",
    "    >>> odd_even_list([\"Marina\", \"Michelle\", \"James\", \"Darren\"])\n",
    "    ['Even', 'Even', 'Odd', 'Even']\n",
    "    >>> odd_even_list([])\n",
    "    ['Empty list was given']\n",
    "    '''\n",
    "    if not len(names): # check for empty list\n",
    "        return ['Empty list was given']\n",
    "    else:\n",
    "        parity_list = []\n",
    "        for name in names:\n",
    "            if len(name)%2 == 0: #check for even length\n",
    "                parity_list = parity_list.append('Even')\n",
    "            else: #since only two cases are possible, no need to check odd\n",
    "                parity_list.append('Odd')\n",
    "    return parity_list"
   ]
  },
  {
   "cell_type": "code",
   "execution_count": 13,
   "id": "125290a4",
   "metadata": {
    "slideshow": {
     "slide_type": "slide"
    }
   },
   "outputs": [
    {
     "ename": "AttributeError",
     "evalue": "'NoneType' object has no attribute 'append'",
     "output_type": "error",
     "traceback": [
      "\u001b[0;31m---------------------------------------------------------------------------\u001b[0m",
      "\u001b[0;31mAttributeError\u001b[0m                            Traceback (most recent call last)",
      "\u001b[0;32m/var/folders/s3/jrstqxb973db3gqjptn3m3nr0000gp/T/ipykernel_2033/901610094.py\u001b[0m in \u001b[0;36m<module>\u001b[0;34m\u001b[0m\n\u001b[0;32m----> 1\u001b[0;31m \u001b[0modd_even_list\u001b[0m\u001b[0;34m(\u001b[0m\u001b[0;34m[\u001b[0m\u001b[0;34m\"Marina\"\u001b[0m\u001b[0;34m,\u001b[0m \u001b[0;34m\"Michelle\"\u001b[0m\u001b[0;34m,\u001b[0m \u001b[0;34m\"James\"\u001b[0m\u001b[0;34m,\u001b[0m \u001b[0;34m\"Darren\"\u001b[0m\u001b[0;34m]\u001b[0m\u001b[0;34m)\u001b[0m\u001b[0;34m\u001b[0m\u001b[0;34m\u001b[0m\u001b[0m\n\u001b[0m",
      "\u001b[0;32m/var/folders/s3/jrstqxb973db3gqjptn3m3nr0000gp/T/ipykernel_2033/2585500232.py\u001b[0m in \u001b[0;36modd_even_list\u001b[0;34m(names)\u001b[0m\n\u001b[1;32m     22\u001b[0m         \u001b[0;32mfor\u001b[0m \u001b[0mname\u001b[0m \u001b[0;32min\u001b[0m \u001b[0mnames\u001b[0m\u001b[0;34m:\u001b[0m\u001b[0;34m\u001b[0m\u001b[0;34m\u001b[0m\u001b[0m\n\u001b[1;32m     23\u001b[0m             \u001b[0;32mif\u001b[0m \u001b[0mlen\u001b[0m\u001b[0;34m(\u001b[0m\u001b[0mname\u001b[0m\u001b[0;34m)\u001b[0m\u001b[0;34m%\u001b[0m\u001b[0;36m2\u001b[0m \u001b[0;34m==\u001b[0m \u001b[0;36m0\u001b[0m\u001b[0;34m:\u001b[0m \u001b[0;31m#check for even length\u001b[0m\u001b[0;34m\u001b[0m\u001b[0;34m\u001b[0m\u001b[0m\n\u001b[0;32m---> 24\u001b[0;31m                 \u001b[0mparity_list\u001b[0m \u001b[0;34m=\u001b[0m \u001b[0mparity_list\u001b[0m\u001b[0;34m.\u001b[0m\u001b[0mappend\u001b[0m\u001b[0;34m(\u001b[0m\u001b[0;34m'Even'\u001b[0m\u001b[0;34m)\u001b[0m\u001b[0;34m\u001b[0m\u001b[0;34m\u001b[0m\u001b[0m\n\u001b[0m\u001b[1;32m     25\u001b[0m             \u001b[0;32melse\u001b[0m\u001b[0;34m:\u001b[0m \u001b[0;31m#since only two cases are possible, no need to check odd\u001b[0m\u001b[0;34m\u001b[0m\u001b[0;34m\u001b[0m\u001b[0m\n\u001b[1;32m     26\u001b[0m                 \u001b[0mparity_list\u001b[0m\u001b[0;34m.\u001b[0m\u001b[0mappend\u001b[0m\u001b[0;34m(\u001b[0m\u001b[0;34m'Odd'\u001b[0m\u001b[0;34m)\u001b[0m\u001b[0;34m\u001b[0m\u001b[0;34m\u001b[0m\u001b[0m\n",
      "\u001b[0;31mAttributeError\u001b[0m: 'NoneType' object has no attribute 'append'"
     ]
    }
   ],
   "source": [
    "odd_even_list([\"Marina\", \"Michelle\", \"James\", \"Darren\"])"
   ]
  },
  {
   "cell_type": "markdown",
   "id": "1848c2b9",
   "metadata": {
    "slideshow": {
     "slide_type": "fragment"
    }
   },
   "source": [
    "<b>Answer</b>: Line 24, AttributeError (NoneType)\n",
    "<br></br>\n",
    "<b>Why?</b>: .append() is an in-place function. This means that its operation occurred on the original list rather than a copy, returning nothing. This means that during our code, on line 24, our parity_list variable was accidently reassigned to be equal to the result of .append(), which is None. In the next loop, the same operation is attempted on None instead of a list.\n",
    "\n",
    "<b>note</b>: functions without a return evaluate to None."
   ]
  },
  {
   "cell_type": "markdown",
   "id": "6df10411",
   "metadata": {
    "slideshow": {
     "slide_type": "slide"
    }
   },
   "source": [
    "<center><h3 style = 'color:blue'> For Reference - Original Solution </h3></center>"
   ]
  },
  {
   "cell_type": "code",
   "execution_count": 14,
   "id": "0bf4f67f",
   "metadata": {
    "slideshow": {
     "slide_type": "fragment"
    }
   },
   "outputs": [],
   "source": [
    "def odd_even_list(names):\n",
    "    '''\n",
    "    Function that checks the length parity of a list of names.\n",
    "    \n",
    "    Args:\n",
    "        names (list): list of strings to be considered\n",
    "    \n",
    "    Returns: \n",
    "        a list consisting of \"Odd\" or \"Even\" where each element indicates the\n",
    "        length parity of each string in names. If names is empty, return\n",
    "        a list with the string \"Empty list was given\".\n",
    "\n",
    "    >>> odd_even_list([\"Marina\", \"Michelle\", \"James\", \"Darren\"])\n",
    "    ['Even', 'Even', 'Odd', 'Even']\n",
    "    >>> odd_even_list([])\n",
    "    ['Empty list was given']\n",
    "    '''\n",
    "    if not len(names): # check for empty list\n",
    "        return ['Empty list was given']\n",
    "    else:\n",
    "        parity_list = []\n",
    "        for name in names:\n",
    "            if len(name)%2 == 0: #check for even length\n",
    "                parity_list.append('Even')\n",
    "                # alternate solution: parity_list+=['Even']\n",
    "            else: #since only two cases are possible, no need to check odd\n",
    "                parity_list.append('Odd')\n",
    "                # alternate solution: parity_list+=['Odd']\n",
    "    return parity_list"
   ]
  },
  {
   "cell_type": "markdown",
   "id": "9237eb5b",
   "metadata": {
    "slideshow": {
     "slide_type": "slide"
    }
   },
   "source": [
    "<center><h3> Debugging Practices </h3></center>\n",
    "<ul>\n",
    "    <li> <b>Read the error</b>: error type and line it occurs\n",
    "    <li> Based on the error type, try to see what part of the code is causing it\n",
    "    <li> Make sure to <b>print things</b> out to try and see where your code breaks!\n",
    "    <li> If you're not sure, use <b>Google/stackoverflow</b> to look at common causes\n",
    "    <li> If you still can't figure it out, plug into <b>pythontutor</b>\n",
    "\n",
    "</ul>\n",
    "\n"
   ]
  },
  {
   "cell_type": "markdown",
   "id": "8a6fb143",
   "metadata": {
    "slideshow": {
     "slide_type": "slide"
    }
   },
   "source": [
    "<center><h3>Debugging + Python Tutor</h3></center>\n",
    "<center> <b>live demo </b></center>\n",
    "<center> original file is linked <a href = 'https://drive.google.com/file/d/17KVpPSQnLJAmvviSX2egp-pMqIr-Ec93/view?usp=sharing'>here</a> </center>"
   ]
  },
  {
   "cell_type": "markdown",
   "id": "a6a053bd",
   "metadata": {
    "slideshow": {
     "slide_type": "slide"
    }
   },
   "source": [
    "<center><h3>Worksheet Time!</h3></center>\n",
    "<center>feel free to discuss or work with the people around you, the point is to get used to writing code on paper </center>"
   ]
  },
  {
   "cell_type": "markdown",
   "id": "219fe6d0",
   "metadata": {
    "slideshow": {
     "slide_type": "slide"
    }
   },
   "source": [
    "<center><h3>Worksheet Review</h3></center>"
   ]
  },
  {
   "cell_type": "markdown",
   "id": "fa900c24",
   "metadata": {
    "slideshow": {
     "slide_type": "slide"
    }
   },
   "source": [
    "<center><h3>Question 1</h3></center>"
   ]
  },
  {
   "cell_type": "markdown",
   "id": "6be8e384",
   "metadata": {
    "slideshow": {
     "slide_type": "fragment"
    }
   },
   "source": [
    "<center>Write a function that takes in a list of integers and returns a new list containing only the numbers that are in increasing order. Numbers should appear in the same order in the input and output list. </center>"
   ]
  },
  {
   "cell_type": "code",
   "execution_count": 15,
   "id": "ecac259a",
   "metadata": {
    "slideshow": {
     "slide_type": "fragment"
    }
   },
   "outputs": [],
   "source": [
    "def increasing(lst):\n",
    "    \"\"\"\n",
    "    >>> increasing([1, 3, 2, 4, 5, 8, 7, 6, 9])\n",
    "    [1, 3, 4, 5, 8, 9]\n",
    "    \"\"\"\n",
    "    # Write your implementation here\n",
    "    return"
   ]
  },
  {
   "cell_type": "markdown",
   "id": "c65e8cc5",
   "metadata": {
    "slideshow": {
     "slide_type": "slide"
    }
   },
   "source": [
    "<center><h3>Solution</h3></center>"
   ]
  },
  {
   "cell_type": "code",
   "execution_count": 16,
   "id": "9761d1af",
   "metadata": {
    "slideshow": {
     "slide_type": "fragment"
    }
   },
   "outputs": [],
   "source": [
    "def increasing(lst):\n",
    "    \"\"\"\n",
    "    >>> increasing([1, 3, 2, 4, 5, 8, 7, 6, 9])\n",
    "    [1, 3, 4, 5, 8, 9]\n",
    "    \"\"\"\n",
    "    output = []\n",
    "    for num in lst:\n",
    "        if len(output) == 0:\n",
    "            output.append(num)\n",
    "        elif num > output[-1]:\n",
    "            output.append(num)\n",
    "    return output"
   ]
  },
  {
   "cell_type": "code",
   "execution_count": 17,
   "id": "815592c9",
   "metadata": {
    "slideshow": {
     "slide_type": "fragment"
    }
   },
   "outputs": [
    {
     "data": {
      "text/plain": [
       "[1, 3, 4, 5, 8, 9]"
      ]
     },
     "execution_count": 17,
     "metadata": {},
     "output_type": "execute_result"
    }
   ],
   "source": [
    "increasing([1, 3, 2, 4, 5, 8, 7, 6, 9])"
   ]
  },
  {
   "cell_type": "markdown",
   "id": "d6115698",
   "metadata": {
    "slideshow": {
     "slide_type": "slide"
    }
   },
   "source": [
    "<center><h3>Question 2</h3></center>"
   ]
  },
  {
   "cell_type": "markdown",
   "id": "5cd86c2e",
   "metadata": {
    "slideshow": {
     "slide_type": "fragment"
    }
   },
   "source": [
    "<center>Suppose you are given a dictionary that contains information about students and their grades for different classes. Write a function that takes in such a dictionary and returns a new dictionary that contains the average grade for each student. The output dictionary should have student names as keys and their average grades as values. </center>"
   ]
  },
  {
   "cell_type": "code",
   "execution_count": null,
   "id": "73fba156",
   "metadata": {
    "slideshow": {
     "slide_type": "fragment"
    }
   },
   "outputs": [],
   "source": [
    "def avg_grade(grades):\n",
    "    \"\"\"\n",
    "    >>> avg_grade({\"Alice\": {\"math\": 85, \"dsc\": 90, \"english\": 80}, \n",
    "     \"Bob\": {\"math\": 92, \"dsc\": 88, \"english\": 95}})\n",
    "    {\"Alice\": 85.0, \"Bob\": 91.67}\n",
    "    \"\"\"\n",
    "    # Write your implementation here\n",
    "    return"
   ]
  },
  {
   "cell_type": "markdown",
   "id": "88729a55",
   "metadata": {
    "slideshow": {
     "slide_type": "slide"
    }
   },
   "source": [
    "<center><h3>Solution</h3></center>"
   ]
  },
  {
   "cell_type": "code",
   "execution_count": 18,
   "id": "406b6df6",
   "metadata": {
    "slideshow": {
     "slide_type": "fragment"
    }
   },
   "outputs": [],
   "source": [
    "def avg_grade(grades):\n",
    "    \"\"\"\n",
    "    >>> avg_grade({\"Alice\": {\"math\": 85, \"dsc\": 90, \"english\": 80}, \n",
    "     \"Bob\": {\"math\": 92, \"dsc\": 88, \"english\": 95}})\n",
    "    {\"Alice\": 85.0, \"Bob\": 91.67}\n",
    "    \"\"\"\n",
    "    avg_grades = {}\n",
    "    for name, classes in grades.items():\n",
    "        grades = classes.values()\n",
    "        avg_grades[name] = round((sum(grades) / len(grades)), 2)\n",
    "    return avg_grades"
   ]
  },
  {
   "cell_type": "code",
   "execution_count": 19,
   "id": "dafe4f58",
   "metadata": {
    "slideshow": {
     "slide_type": "fragment"
    }
   },
   "outputs": [
    {
     "data": {
      "text/plain": [
       "{'Alice': 85.0, 'Bob': 91.67}"
      ]
     },
     "execution_count": 19,
     "metadata": {},
     "output_type": "execute_result"
    }
   ],
   "source": [
    "avg_grade({\"Alice\": {\"math\": 85, \"dsc\": 90, \"english\": 80}, \n",
    "           \"Bob\": {\"math\": 92, \"dsc\": 88, \"english\": 95}})"
   ]
  },
  {
   "cell_type": "markdown",
   "id": "b5934742",
   "metadata": {
    "slideshow": {
     "slide_type": "slide"
    }
   },
   "source": [
    "<center><h3>Question 3</h3></center>"
   ]
  },
  {
   "cell_type": "markdown",
   "id": "6bbf6174",
   "metadata": {
    "slideshow": {
     "slide_type": "fragment"
    }
   },
   "source": [
    "<center>You go grocery shopping and note down the name, quantity, and price per unit of each item you buy in the variable shopping. What does the following code do and what will be printed after running it? </center>"
   ]
  },
  {
   "cell_type": "code",
   "execution_count": null,
   "id": "303af402",
   "metadata": {
    "slideshow": {
     "slide_type": "fragment"
    }
   },
   "outputs": [],
   "source": [
    "shopping = [('banana', 5, 0.75), \n",
    "           ('avocado', 4, 1.5),\n",
    "           ('soda', 8, 0.5),\n",
    "           ('peach', 10, 1.70)]\n",
    "\n",
    "total = 0\n",
    "item_cost = {}\n",
    "for item in shopping:\n",
    "    name = item[0]\n",
    "    quantity = int(item[1])\n",
    "    price = float(item[2])\n",
    "    cost = quantity * price\n",
    "    item_cost[name] = cost\n",
    "    total += cost\n",
    "\n",
    "print(item_cost)    \n",
    "print(total)"
   ]
  },
  {
   "cell_type": "markdown",
   "id": "581ff045",
   "metadata": {
    "slideshow": {
     "slide_type": "slide"
    }
   },
   "source": [
    "<center><h3>Solution</h3></center>"
   ]
  },
  {
   "cell_type": "markdown",
   "id": "6b857fb4",
   "metadata": {
    "slideshow": {
     "slide_type": "fragment"
    }
   },
   "source": [
    "What does the code do? \n",
    "For each item bought, it is stored in a dictionary, with the name as the key and the total cost of the item as the value. It also calculates the total cost of everything bought."
   ]
  },
  {
   "cell_type": "code",
   "execution_count": 20,
   "id": "bbada842",
   "metadata": {
    "slideshow": {
     "slide_type": "fragment"
    }
   },
   "outputs": [
    {
     "name": "stdout",
     "output_type": "stream",
     "text": [
      "{'banana': 3.75, 'avocado': 6.0, 'soda': 4.0, 'peach': 17.0}\n",
      "30.75\n"
     ]
    }
   ],
   "source": [
    "shopping = [('banana', 5, 0.75), \n",
    "           ('avocado', 4, 1.5),\n",
    "           ('soda', 8, 0.5),\n",
    "           ('peach', 10, 1.70)]\n",
    "\n",
    "total = 0\n",
    "item_cost = {}\n",
    "for item in shopping:\n",
    "    name = item[0]\n",
    "    quantity = int(item[1])\n",
    "    price = float(item[2])\n",
    "    cost = quantity * price\n",
    "    item_cost[name] = cost\n",
    "    total += cost\n",
    "\n",
    "print(item_cost)    \n",
    "print(total)"
   ]
  },
  {
   "cell_type": "markdown",
   "id": "bb854db7",
   "metadata": {
    "slideshow": {
     "slide_type": "slide"
    }
   },
   "source": [
    "<center><h3>Question 4</h3></center>"
   ]
  },
  {
   "cell_type": "markdown",
   "id": "3ef74ec1",
   "metadata": {
    "slideshow": {
     "slide_type": "fragment"
    }
   },
   "source": [
    "<center>For each of the following sections, name the error type (KeyError, IndexError, SyntaxError, TypeError):</center>"
   ]
  },
  {
   "cell_type": "code",
   "execution_count": null,
   "id": "a50b0d3f",
   "metadata": {
    "slideshow": {
     "slide_type": "fragment"
    }
   },
   "outputs": [],
   "source": [
    "def send_email(to, message):\n",
    "    tutors = {'Ben': 'bhc001@ucsd.edu', 'Charisse': 'chao@ucsd.edu',\n",
    "     'Nicole': 'nwzhang@ucsd.edu', 'Jessica': 'yuhung@ucsd.edu'}\n",
    "    return \"Email sent to \" + tutors[to] + \": \" + message\n",
    "\n",
    "send_email(\"Marina\", \"There's too many types of errors\")"
   ]
  },
  {
   "cell_type": "code",
   "execution_count": null,
   "id": "ddd19ae1",
   "metadata": {
    "slideshow": {
     "slide_type": "fragment"
    }
   },
   "outputs": [],
   "source": [
    "def send_email(info):\n",
    "    tutors = {'Ben': 'bhc001@ucsd.edu', 'Charisse': 'chao@ucsd.edu',\n",
    "     'Nicole': 'nwzhang@ucsd.edu', 'Jessica': 'yuhung@ucsd.edu'}\n",
    "    \n",
    "    recipient = info[0]\n",
    "    message = info[1]\n",
    "    return \"Email sent to \" + recipient + \": \" + message\n",
    "\n",
    "send_email([\"There's too many types of errors\"])"
   ]
  },
  {
   "cell_type": "markdown",
   "id": "37b457d3",
   "metadata": {
    "slideshow": {
     "slide_type": "slide"
    }
   },
   "source": [
    "<center><h3>Solution</h3></center>"
   ]
  },
  {
   "cell_type": "code",
   "execution_count": 21,
   "id": "ec5edc81",
   "metadata": {
    "slideshow": {
     "slide_type": "fragment"
    }
   },
   "outputs": [],
   "source": [
    "def send_email(to, message):\n",
    "    tutors = {'Ben': 'bhc001@ucsd.edu', 'Charisse': 'chao@/ucsd.edu',\n",
    "     'Nicole': 'nwzhang@ucsd.edu', 'Jessica': 'yuhung@ucsd.edu'}\n",
    "    return \"Email sent to \" + tutors[to] + \": \" + message"
   ]
  },
  {
   "cell_type": "code",
   "execution_count": 22,
   "id": "089cb846",
   "metadata": {
    "slideshow": {
     "slide_type": "fragment"
    }
   },
   "outputs": [
    {
     "ename": "KeyError",
     "evalue": "'Marina'",
     "output_type": "error",
     "traceback": [
      "\u001b[0;31m---------------------------------------------------------------------------\u001b[0m",
      "\u001b[0;31mKeyError\u001b[0m                                  Traceback (most recent call last)",
      "\u001b[0;32m/var/folders/s3/jrstqxb973db3gqjptn3m3nr0000gp/T/ipykernel_2033/2571869973.py\u001b[0m in \u001b[0;36m<module>\u001b[0;34m\u001b[0m\n\u001b[0;32m----> 1\u001b[0;31m \u001b[0msend_email\u001b[0m\u001b[0;34m(\u001b[0m\u001b[0;34m\"Marina\"\u001b[0m\u001b[0;34m,\u001b[0m \u001b[0;34m\"There's too many types of errors\"\u001b[0m\u001b[0;34m)\u001b[0m\u001b[0;34m\u001b[0m\u001b[0;34m\u001b[0m\u001b[0m\n\u001b[0m",
      "\u001b[0;32m/var/folders/s3/jrstqxb973db3gqjptn3m3nr0000gp/T/ipykernel_2033/1637858142.py\u001b[0m in \u001b[0;36msend_email\u001b[0;34m(to, message)\u001b[0m\n\u001b[1;32m      2\u001b[0m     tutors = {'Ben': 'bhc001@ucsd.edu', 'Charisse': 'chao@/ucsd.edu',\n\u001b[1;32m      3\u001b[0m      'Nicole': 'nwzhang@ucsd.edu', 'Jessica': 'yuhung@ucsd.edu'}\n\u001b[0;32m----> 4\u001b[0;31m     \u001b[0;32mreturn\u001b[0m \u001b[0;34m\"Email sent to \"\u001b[0m \u001b[0;34m+\u001b[0m \u001b[0mtutors\u001b[0m\u001b[0;34m[\u001b[0m\u001b[0mto\u001b[0m\u001b[0;34m]\u001b[0m \u001b[0;34m+\u001b[0m \u001b[0;34m\": \"\u001b[0m \u001b[0;34m+\u001b[0m \u001b[0mmessage\u001b[0m\u001b[0;34m\u001b[0m\u001b[0;34m\u001b[0m\u001b[0m\n\u001b[0m",
      "\u001b[0;31mKeyError\u001b[0m: 'Marina'"
     ]
    }
   ],
   "source": [
    "send_email(\"Marina\", \"There's too many types of errors\")"
   ]
  },
  {
   "cell_type": "markdown",
   "id": "fade1cdf",
   "metadata": {
    "slideshow": {
     "slide_type": "slide"
    }
   },
   "source": [
    "<center><h3>Solution</h3></center>"
   ]
  },
  {
   "cell_type": "code",
   "execution_count": 23,
   "id": "80512299",
   "metadata": {
    "slideshow": {
     "slide_type": "fragment"
    }
   },
   "outputs": [],
   "source": [
    "def send_email(info):\n",
    "    tutors = {'Ben': 'bhc001@ucsd.edu', 'Charisse': 'chao@ucsd.edu',\n",
    "     'Nicole': 'nwzhang@ucsd.edu', 'Jessica': 'yuhung@ucsd.edu'}\n",
    "    \n",
    "    recipient = info[0]\n",
    "    message = info[1]\n",
    "    return \"Email sent to \" + recipient + \": \" + message"
   ]
  },
  {
   "cell_type": "code",
   "execution_count": 24,
   "id": "270fbeb7",
   "metadata": {
    "slideshow": {
     "slide_type": "fragment"
    }
   },
   "outputs": [
    {
     "ename": "IndexError",
     "evalue": "list index out of range",
     "output_type": "error",
     "traceback": [
      "\u001b[0;31m---------------------------------------------------------------------------\u001b[0m",
      "\u001b[0;31mIndexError\u001b[0m                                Traceback (most recent call last)",
      "\u001b[0;32m/var/folders/s3/jrstqxb973db3gqjptn3m3nr0000gp/T/ipykernel_2033/2536149692.py\u001b[0m in \u001b[0;36m<module>\u001b[0;34m\u001b[0m\n\u001b[0;32m----> 1\u001b[0;31m \u001b[0msend_email\u001b[0m\u001b[0;34m(\u001b[0m\u001b[0;34m[\u001b[0m\u001b[0;34m\"There's too many types of errors\"\u001b[0m\u001b[0;34m]\u001b[0m\u001b[0;34m)\u001b[0m\u001b[0;34m\u001b[0m\u001b[0;34m\u001b[0m\u001b[0m\n\u001b[0m",
      "\u001b[0;32m/var/folders/s3/jrstqxb973db3gqjptn3m3nr0000gp/T/ipykernel_2033/1660277811.py\u001b[0m in \u001b[0;36msend_email\u001b[0;34m(info)\u001b[0m\n\u001b[1;32m      4\u001b[0m \u001b[0;34m\u001b[0m\u001b[0m\n\u001b[1;32m      5\u001b[0m     \u001b[0mrecipient\u001b[0m \u001b[0;34m=\u001b[0m \u001b[0minfo\u001b[0m\u001b[0;34m[\u001b[0m\u001b[0;36m0\u001b[0m\u001b[0;34m]\u001b[0m\u001b[0;34m\u001b[0m\u001b[0;34m\u001b[0m\u001b[0m\n\u001b[0;32m----> 6\u001b[0;31m     \u001b[0mmessage\u001b[0m \u001b[0;34m=\u001b[0m \u001b[0minfo\u001b[0m\u001b[0;34m[\u001b[0m\u001b[0;36m1\u001b[0m\u001b[0;34m]\u001b[0m\u001b[0;34m\u001b[0m\u001b[0;34m\u001b[0m\u001b[0m\n\u001b[0m\u001b[1;32m      7\u001b[0m     \u001b[0;32mreturn\u001b[0m \u001b[0;34m\"Email sent to \"\u001b[0m \u001b[0;34m+\u001b[0m \u001b[0mrecipient\u001b[0m \u001b[0;34m+\u001b[0m \u001b[0;34m\": \"\u001b[0m \u001b[0;34m+\u001b[0m \u001b[0mmessage\u001b[0m\u001b[0;34m\u001b[0m\u001b[0;34m\u001b[0m\u001b[0m\n",
      "\u001b[0;31mIndexError\u001b[0m: list index out of range"
     ]
    }
   ],
   "source": [
    "send_email([\"There's too many types of errors\"])"
   ]
  },
  {
   "cell_type": "markdown",
   "id": "de7ab8c5",
   "metadata": {
    "slideshow": {
     "slide_type": "slide"
    }
   },
   "source": [
    "<center><h2>Thanks for Coming!</h2></center>\n",
    "<center>Don't forget discussion quiz on Canvas</center>\n",
    "<center>Next week, we will be running through questions from old exams in preparation for midterm 1</center>"
   ]
  },
  {
   "cell_type": "code",
   "execution_count": null,
   "id": "6e8f3dd8",
   "metadata": {
    "slideshow": {
     "slide_type": "skip"
    }
   },
   "outputs": [],
   "source": []
  }
 ],
 "metadata": {
  "celltoolbar": "Slideshow",
  "kernelspec": {
   "display_name": "Python 3 (ipykernel)",
   "language": "python",
   "name": "python3"
  },
  "language_info": {
   "codemirror_mode": {
    "name": "ipython",
    "version": 3
   },
   "file_extension": ".py",
   "mimetype": "text/x-python",
   "name": "python",
   "nbconvert_exporter": "python",
   "pygments_lexer": "ipython3",
   "version": "3.10.8"
  },
  "rise": {
   "enable_chalkboard": true
  }
 },
 "nbformat": 4,
 "nbformat_minor": 5
}
