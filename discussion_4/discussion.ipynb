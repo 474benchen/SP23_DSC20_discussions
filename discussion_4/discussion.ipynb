{
 "cells": [
  {
   "cell_type": "markdown",
   "id": "b1dd6e99",
   "metadata": {
    "slideshow": {
     "slide_type": "skip"
    }
   },
   "source": [
    "**note**: for anyone trying to view this as a slideshow, run 'pip install rise', reload your notebook, then click on the button that looks like a bar graph to the right of the command palette at the top."
   ]
  },
  {
   "cell_type": "markdown",
   "id": "92287731",
   "metadata": {
    "slideshow": {
     "slide_type": "slide"
    }
   },
   "source": [
    "<center><h1>Discussion 4</h1></center>\n",
    "<center><h2>DSC 20, Spring 2023</h2><center>"
   ]
  },
  {
   "cell_type": "markdown",
   "id": "8e7e9056",
   "metadata": {
    "slideshow": {
     "slide_type": "slide"
    }
   },
   "source": [
    "<center><h3>Midterm 1 Prep + Review</h3></center>"
   ]
  },
  {
   "cell_type": "markdown",
   "id": "e2c5edf3",
   "metadata": {
    "slideshow": {
     "slide_type": "slide"
    }
   },
   "source": [
    "<center><h3>Logistics</h3></center>\n",
    "\n",
    "<center>- Midterm 1 takes place 1pm, Friday April 28th (MANDE-B210 // normal lecture hall) </center>\n",
    "\n",
    "<center>- No questions asked during exam </center>\n",
    "\n",
    "<center>- Closed notes. Make sure to bring writing tools and your student ID</center>"
   ]
  },
  {
   "cell_type": "markdown",
   "id": "9765539b",
   "metadata": {
    "slideshow": {
     "slide_type": "slide"
    }
   },
   "source": [
    "<center><h3>Topics</h3></center>\n",
    "\n",
    "\n",
    "<center>- Basic Data Types, Loops, Conditionals, slicing </center>\n",
    "<center>- Lists, List Comprehension, Dictionaries, Mutability </center>\n",
    "<center>- Files, Doctests, Asserts, return vs print </center>\n"
   ]
  },
  {
   "cell_type": "markdown",
   "id": "f629253d",
   "metadata": {
    "slideshow": {
     "slide_type": "slide"
    }
   },
   "source": [
    "<center> <h3>Basic Operations</h3> </center>\n",
    "\n",
    "\n",
    "<center><b style=\"color:blue;\">+</b> - Numerical addition / concatenation operator</center>\n",
    "<center><b style=\"color:blue;\">-</b> - Numerical Subtraction operator</center>\n",
    "<center><b style=\"color:blue;\">/</b> - Classic Division operator</center>\n",
    "<center><b style=\"color:blue;\">//</b> - Floor Division operator</center>\n",
    "<center><b style=\"color:blue;\">*</b> - Numerical Multiplication / repetition operator</center>\n",
    "<center><b style=\"color:blue;\">**</b> - Numerical Exponential operator</center>\n",
    "<center><b style=\"color:blue;\">%</b> - Numeric remainder operator</center>\n"
   ]
  },
  {
   "cell_type": "markdown",
   "id": "5fc4ec85",
   "metadata": {
    "slideshow": {
     "slide_type": "slide"
    }
   },
   "source": [
    "<center> <h3>Basic Data Types</h3> </center>\n",
    "\n",
    "<center>\n",
    "<b style=\"color:blue;\">String</b> - Data type for text\n",
    "      </center> \n",
    "<center><b style=\"color:blue;\">Int</b> - Data type for whole numbers</center>\n",
    "    \n",
    "<center><b style=\"color:blue;\">Float</b> - Data type for non-integers</center>\n",
    "    \n",
    "<center><b style=\"color:blue;\">Bool</b> - True or False</center>\n",
    " \n",
    "\n"
   ]
  },
  {
   "cell_type": "markdown",
   "id": "80d5fc1e",
   "metadata": {
    "slideshow": {
     "slide_type": "slide"
    }
   },
   "source": [
    "<center> <h3>Conditions</h3> </center>\n",
    "\n",
    "<u>Logical Operators (in order priority)</u>:\n",
    "<ul>\n",
    "    <li> <b style = \"color:purple;\">not</b> - reverses the outcome of the following expression\n",
    "    <li> <b style = \"color:purple;\">and</b> - all expressions compared with “and” must be True to evaluate True\n",
    "    <li> <b style = \"color:purple;\">or</b> - at least one expression compared with “or” must be True to evaluate True\n",
    "</ul>\n"
   ]
  },
  {
   "cell_type": "markdown",
   "id": "ca83cf60",
   "metadata": {
    "slideshow": {
     "slide_type": "fragment"
    }
   },
   "source": [
    "<u>Comparison Operators (generates booleans)</u>:\n",
    "<ul>\n",
    "    <li> <b style = \"color:purple;\">==</b> - equality check\n",
    "    <li> <b style = \"color:purple;\">!=</b> - inequality check\n",
    "    <li> <b style = \"color:purple;\">>, >=, <, <=</b> directional check\n",
    "</ul>\n"
   ]
  },
  {
   "cell_type": "markdown",
   "id": "20477d38",
   "metadata": {
    "slideshow": {
     "slide_type": "slide"
    }
   },
   "source": [
    "<center> <h2 style = \"color:blue\">Checkpoint</h2> </center>\n",
    "<center> <h3> What do the following expressions evaluate to? </h3> </center>\n",
    "<center>assume x, y = True, False and a, b, c = 1, 1.0, 2</center>\n",
    "\n",
    "1. <mark style= \"color:purple; background-color: white\" >not</mark> x <mark style= \"color:purple; background-color: white\" >and</mark> y\n",
    "\n",
    "2. x <mark style= \"color:purple; background-color: white\" >or </mark><mark style= \"color:purple; background-color: white\" >not</mark> y <mark style= \"color:purple; background-color: white\" >and</mark> x\n",
    "\n",
    "3. a + b <mark style= \"color:purple; background-color: white\" ><=</mark> c\n",
    "\n",
    "4. a + b <mark style= \"color:purple; background-color: white\" >!=</mark> c\n",
    "\n",
    "5. bool(-1)"
   ]
  },
  {
   "cell_type": "markdown",
   "id": "e3e206df",
   "metadata": {
    "slideshow": {
     "slide_type": "slide"
    }
   },
   "source": [
    "<center> <h2 style = \"color:blue\">Checkpoint Answers</h2> </center>\n",
    "<center> <h3> What do the following expressions evaluate to? </h3> </center>\n",
    "<center>assume x, y = True, False and a, b, c = 1, 1.0, 2</center>\n",
    "\n",
    "1. <mark style= \"color:purple; background-color: white\" >not</mark> x <mark style= \"color:purple; background-color: white\" >and</mark> y = <b style = 'color:blue'>False</b>\n",
    "\n",
    "<mark style= \"color:purple; background-color: white\" >not</mark> x = False =>  <mark style= \"color:purple; background-color: white\" >and</mark> condition to evaluate False is already met, therefore <b style = 'color:blue'>False</b>\n",
    "\n",
    "2. x <mark style= \"color:purple; background-color: white\" >or</mark><mark style= \"color:purple; background-color: white\" >not</mark> y <mark style= \"color:purple; background-color: white\" >and</mark> x = <b style = 'color:blue'>True</b>\n",
    "\n",
    "since x = True, the condition for <mark style= \"color:purple; background-color: white\" >or</mark> to evaluate True is already met, therefore <b style = 'color:blue'>True</b>\n",
    "\n",
    "3. a + b <mark style= \"color:purple; background-color: white\" ><=</mark> c = <b style = 'color:blue'>True</b>\n",
    "\n",
    "a + b = 2, 2 <= 2, therefore evaluate <b style = 'color:blue'>True</b>\n",
    "\n",
    "4. a + b <mark style= \"color:purple; background-color: white\" >!=</mark> c = <b style = 'color:blue'>False</b>\n",
    "\n",
    "a + b = 2, 2 == 2, therefore evaluate <b style = 'color:blue'>False</b>\n",
    "\n",
    "5. bool(-1) = <b style = 'color:blue'>True</b>\n",
    "\n",
    "🤔"
   ]
  },
  {
   "cell_type": "markdown",
   "id": "8e2262cd",
   "metadata": {
    "slideshow": {
     "slide_type": "slide"
    }
   },
   "source": [
    "<center> <h3>Conditional Statements</h3> </center>\n",
    "\n",
    "if (boolean expression):\n",
    "\t<p> &emsp;<mark>//Do stuff</mark></p>\n",
    "    \n",
    "elif (other boolean expression):  \n",
    "\n",
    "<b>note: </b>elif is optional, can have as many elifs as necessary\n",
    "\t<p> &emsp;<mark>//Do other stuff</mark></p>\n",
    "    \n",
    "else: \n",
    "\n",
    "<b>note: </b>else is optional, will execute only if the conditions in the “if” and “elif” statements are not true\n",
    "\t<p> &emsp;<mark>//Do other other stuff</mark></p>\n",
    "\n"
   ]
  },
  {
   "cell_type": "markdown",
   "id": "cb00ad3e",
   "metadata": {
    "slideshow": {
     "slide_type": "slide"
    }
   },
   "source": [
    "<center> <h3>Loops</h3> </center>\n",
    "\n",
    "<center>Loops are used to <b style = 'color:blue'>repeat computations</b> many times.</center>\n",
    "\n",
    "- Two types of loops:\n",
    "    - <mark style= \"color:blue; background-color: white\" >While loop</mark>: Uses  logical conditions, do not know the number of iterations (as long as a condition is true, code will run)\n",
    "    - <mark style= \"color:blue; background-color: white\" >For loop </mark>: Usually for when the number repetition is known."
   ]
  },
  {
   "cell_type": "markdown",
   "id": "61da35df",
   "metadata": {
    "slideshow": {
     "slide_type": "slide"
    }
   },
   "source": [
    "<center> <h3>Functions</h3> </center>\n",
    "<ul>\n",
    "     <li> delineated by keyword<mark style=\"color:purple; background-color: white\" >def</mark>\n",
    "     <li> usually contains a<mark style=\"color:purple; background-color: white\" >return</mark>statement (though not required for all functions)\n",
    "</ul>"
   ]
  },
  {
   "cell_type": "markdown",
   "id": "1d718e70",
   "metadata": {
    "slideshow": {
     "slide_type": "fragment"
    }
   },
   "source": [
    "<u> Format </u>:\n",
    "<br></br>\n",
    "<mark style=\"color:purple; background-color: white\" >def</mark> <b>function name</b>(formal parameters):\n",
    "<p> &emsp;(function body)</p>\n",
    "<p> &emsp;<mark style=\"color:purple; background-color: white\" >return</mark>#optional </p>\n",
    "<br></br>\n",
    "<b>Semantics, but</b>: arguments (in function calls) vs Parameters (in definition) "
   ]
  },
  {
   "cell_type": "markdown",
   "id": "02f87f77",
   "metadata": {
    "slideshow": {
     "slide_type": "slide"
    }
   },
   "source": [
    "<center> <h3>Print</h3> </center>\n",
    "<center><mark style= \"color:blue; background-color: white\" >print</mark>:generally to see what is happening inside the code. Represented value is None</center>\n"
   ]
  },
  {
   "cell_type": "code",
   "execution_count": 1,
   "id": "ec38e47a",
   "metadata": {
    "slideshow": {
     "slide_type": "fragment"
    }
   },
   "outputs": [],
   "source": [
    "def ex_print(value):\n",
    "    print(value)"
   ]
  },
  {
   "cell_type": "code",
   "execution_count": 3,
   "id": "23687d79",
   "metadata": {
    "slideshow": {
     "slide_type": "fragment"
    }
   },
   "outputs": [
    {
     "name": "stdout",
     "output_type": "stream",
     "text": [
      "test\n",
      "None\n"
     ]
    }
   ],
   "source": [
    "print(ex_print(\"test\"))"
   ]
  },
  {
   "cell_type": "markdown",
   "id": "b78dfd3d",
   "metadata": {
    "slideshow": {
     "slide_type": "fragment"
    }
   },
   "source": [
    "<center> \"test\" is the value being printed out by the function, None is the result of ex_print(\"test\"). Using our class vocab, print is a \"void function\". </center>"
   ]
  },
  {
   "cell_type": "markdown",
   "id": "655c57be",
   "metadata": {
    "slideshow": {
     "slide_type": "slide"
    }
   },
   "source": [
    "<center> <h3>Return</h3> </center>\n",
    "<center><mark style= \"color:blue; background-color: white\" >return</mark>: how a function gives back a value </center>\n",
    "\n",
    "<center>\n",
    "<b> note </b>: return is a \"short-circuit\", meaning that once a return statement executes, the function stops running.\n",
    "</center>"
   ]
  },
  {
   "cell_type": "code",
   "execution_count": 4,
   "id": "e5d0b183",
   "metadata": {
    "slideshow": {
     "slide_type": "fragment"
    }
   },
   "outputs": [],
   "source": [
    "def ex_return(value):\n",
    "    return value"
   ]
  },
  {
   "cell_type": "code",
   "execution_count": 5,
   "id": "dff25ea5",
   "metadata": {
    "slideshow": {
     "slide_type": "fragment"
    }
   },
   "outputs": [
    {
     "name": "stdout",
     "output_type": "stream",
     "text": [
      "test\n"
     ]
    }
   ],
   "source": [
    "print(ex_return(\"test\"))"
   ]
  },
  {
   "cell_type": "markdown",
   "id": "82563a17",
   "metadata": {
    "slideshow": {
     "slide_type": "fragment"
    }
   },
   "source": [
    "<center>\"test\" is the result of ex_return(\"test\"). Using our class vocab, print is <b>not</b> a \"void function\". </center>"
   ]
  },
  {
   "cell_type": "markdown",
   "id": "cd8c71e4",
   "metadata": {
    "slideshow": {
     "slide_type": "slide"
    }
   },
   "source": [
    "<center><h3> Lists </h3> </center>\n",
    "<ul>\n",
    "    <li> Mutable vector of values\n",
    "    <li> Can store any data type, multiple types at a time\n",
    "    <li> Elements are acccessed via indexing\n",
    "</ul>\n",
    "\n",
    "<b style='color:blue'>List Slicing</b>\n",
    "<ul>\n",
    "    <li> Format is similar to range ~ lst[start: stop: step] - [inclusive: exclusive]\n",
    "    <li> lst[::-1] reverses the list\n",
    "</ul>"
   ]
  },
  {
   "cell_type": "markdown",
   "id": "39de7fc5",
   "metadata": {
    "slideshow": {
     "slide_type": "slide"
    }
   },
   "source": [
    "<center><h3> List Comprehension </h3> </center>\n",
    "<ul>\n",
    "    <li> Fancy, shorthand method of writing for loops\n",
    "    <li> Syntax changes depending on use case\n",
    "    <li> can be nested, just like lists\n",
    "<br></br>\n",
    "<b style='color:blue'>Syntax</b>\n",
    "<ul>\n",
    "    <li> [x for x in iterable]\n",
    "    <li> [x for x in iterable if (condition)]\n",
    "    <li> [x if (condition) else y for x in iterable]\n",
    "    <li> [x if (condition) else y if (condition) else z for x in iterable]"
   ]
  },
  {
   "cell_type": "markdown",
   "id": "3c791f64",
   "metadata": {
    "slideshow": {
     "slide_type": "slide"
    }
   },
   "source": [
    "<center><h3> Tuples </h3> </center>\n",
    "<ul>\n",
    "    <li> Immutable vector of values\n",
    "    <li> Can store any data type, multiple types at a time\n",
    "    <li> Elements are acccessed via indexing\n",
    "</ul>\n",
    "\n",
    "<b> It's basically a list that can't be changed, though data inside it <b style= 'color:blue'>can</b> still change</b>."
   ]
  },
  {
   "cell_type": "markdown",
   "id": "10bc7b96",
   "metadata": {
    "slideshow": {
     "slide_type": "slide"
    }
   },
   "source": [
    "<center> <h2 style = \"color:blue\">Checkpoint</h2> </center>\n",
    "<center>part 1</center>\n",
    "<center>Assume the following code has been ran:</center>\n"
   ]
  },
  {
   "cell_type": "code",
   "execution_count": 7,
   "id": "160cf4e8",
   "metadata": {
    "slideshow": {
     "slide_type": "fragment"
    }
   },
   "outputs": [],
   "source": [
    "lst = [(1,2), (3,'a'), ([4],5)]"
   ]
  },
  {
   "cell_type": "markdown",
   "id": "1ca08f5f",
   "metadata": {
    "slideshow": {
     "slide_type": "fragment"
    }
   },
   "source": [
    "<center>What does the following line of code represent?</center>"
   ]
  },
  {
   "cell_type": "code",
   "execution_count": 8,
   "id": "4c7de70d",
   "metadata": {
    "slideshow": {
     "slide_type": "fragment"
    }
   },
   "outputs": [],
   "source": [
    "x = lst[2][0]"
   ]
  },
  {
   "cell_type": "code",
   "execution_count": 9,
   "id": "76f13112",
   "metadata": {
    "slideshow": {
     "slide_type": "fragment"
    }
   },
   "outputs": [
    {
     "data": {
      "text/plain": [
       "[4]"
      ]
     },
     "execution_count": 9,
     "metadata": {},
     "output_type": "execute_result"
    }
   ],
   "source": [
    "x"
   ]
  },
  {
   "cell_type": "code",
   "execution_count": 10,
   "id": "44854032",
   "metadata": {
    "slideshow": {
     "slide_type": "fragment"
    }
   },
   "outputs": [],
   "source": [
    "x+=[6]"
   ]
  },
  {
   "cell_type": "code",
   "execution_count": 11,
   "id": "6453b254",
   "metadata": {},
   "outputs": [
    {
     "data": {
      "text/plain": [
       "[4, 6]"
      ]
     },
     "execution_count": 11,
     "metadata": {},
     "output_type": "execute_result"
    }
   ],
   "source": [
    "x"
   ]
  },
  {
   "cell_type": "markdown",
   "id": "5b3cadec",
   "metadata": {
    "slideshow": {
     "slide_type": "fragment"
    }
   },
   "source": [
    "<center>What will be shown if I run 'print(lst)'?</center>"
   ]
  },
  {
   "cell_type": "code",
   "execution_count": 46,
   "id": "a0dfd0f1",
   "metadata": {
    "slideshow": {
     "slide_type": "fragment"
    }
   },
   "outputs": [
    {
     "name": "stdout",
     "output_type": "stream",
     "text": [
      "[(1, 2), (3, 'a'), ([4, 6], 5)]\n"
     ]
    }
   ],
   "source": [
    "print(lst)"
   ]
  },
  {
   "cell_type": "markdown",
   "id": "67cb8643",
   "metadata": {
    "slideshow": {
     "slide_type": "slide"
    }
   },
   "source": [
    "<center> <h2 style = \"color:blue\">Explanation</h2> </center>\n",
    "\n",
    "<center>\n",
    "    In this code, x is set to a list, which means that it's an actual object (there's a reference to the original value). This means that changes that happens to x will be maintained within the list in the original data structure. Though the list sits in a tuple which may lead to the assumption that even the list inside cannot change as tuples are immutable, this is not the case. A tuple itself is unchangeable (we cannot change, add or remove items), but the elements inside of it can still change based on the situation.\n",
    "</center>"
   ]
  },
  {
   "cell_type": "markdown",
   "id": "4e6727b2",
   "metadata": {
    "slideshow": {
     "slide_type": "slide"
    }
   },
   "source": [
    "<center> <h2 style = \"color:blue\">Checkpoint</h2> </center>\n",
    "<center>part 2</center>\n",
    "<center>Assume the following code has been ran:</center>\n"
   ]
  },
  {
   "cell_type": "code",
   "execution_count": 2,
   "id": "46132da8",
   "metadata": {
    "slideshow": {
     "slide_type": "fragment"
    }
   },
   "outputs": [],
   "source": [
    "lst = [(1,2), (3,'a'), ([4],5)]"
   ]
  },
  {
   "cell_type": "markdown",
   "id": "4deaacb5",
   "metadata": {
    "slideshow": {
     "slide_type": "fragment"
    }
   },
   "source": [
    "<center>What does the following line of code represent?</center>"
   ]
  },
  {
   "cell_type": "code",
   "execution_count": 3,
   "id": "74b43356",
   "metadata": {
    "slideshow": {
     "slide_type": "fragment"
    }
   },
   "outputs": [],
   "source": [
    "x = lst[0][0]"
   ]
  },
  {
   "cell_type": "code",
   "execution_count": 4,
   "id": "65912b74",
   "metadata": {
    "slideshow": {
     "slide_type": "fragment"
    }
   },
   "outputs": [
    {
     "data": {
      "text/plain": [
       "1"
      ]
     },
     "execution_count": 4,
     "metadata": {},
     "output_type": "execute_result"
    }
   ],
   "source": [
    "x"
   ]
  },
  {
   "cell_type": "code",
   "execution_count": 5,
   "id": "5b24d781",
   "metadata": {
    "slideshow": {
     "slide_type": "fragment"
    }
   },
   "outputs": [],
   "source": [
    "x+=1"
   ]
  },
  {
   "cell_type": "code",
   "execution_count": 6,
   "id": "8f413581",
   "metadata": {},
   "outputs": [
    {
     "data": {
      "text/plain": [
       "2"
      ]
     },
     "execution_count": 6,
     "metadata": {},
     "output_type": "execute_result"
    }
   ],
   "source": [
    "x"
   ]
  },
  {
   "cell_type": "markdown",
   "id": "eaf1d8db",
   "metadata": {
    "slideshow": {
     "slide_type": "fragment"
    }
   },
   "source": [
    "<center>What will be shown if I run 'print(lst)'?</center>"
   ]
  },
  {
   "cell_type": "code",
   "execution_count": 55,
   "id": "0fd12cb6",
   "metadata": {
    "slideshow": {
     "slide_type": "fragment"
    }
   },
   "outputs": [
    {
     "name": "stdout",
     "output_type": "stream",
     "text": [
      "[(1, 2), (3, 'a'), ([4], 5)]\n"
     ]
    }
   ],
   "source": [
    "print(lst)"
   ]
  },
  {
   "cell_type": "markdown",
   "id": "ffcdbc90",
   "metadata": {
    "slideshow": {
     "slide_type": "slide"
    }
   },
   "source": [
    "<center> <h2 style = \"color:blue\">Explanation</h2> </center>\n",
    "\n",
    "<center>\n",
    "    In this code, x is set to a basic data type (int = 1), which means that it's not an object (there's no reference to the original value). This means that when you modify x, the change is not reflected in the original data structure.\n",
    "</center>"
   ]
  },
  {
   "cell_type": "markdown",
   "id": "9040d6dd",
   "metadata": {
    "slideshow": {
     "slide_type": "slide"
    }
   },
   "source": [
    "<center><h3> Dictionaries </h3></center>\n",
    "<ul>\n",
    "    <li> Mutable storage of key, value pairs\n",
    "    <li> Can store any data type, multiple at a time\n",
    "    <li> Elements are acccessed via keys\n",
    "    <li> keys must be <b style = 'color:blue'>hashable</b> and <b style = 'color:blue'>unique</b>\n",
    "</ul>\n",
    "\n",
    "<b style = 'color:blue'>note</b>: hashablility correlates to the stability of the data - essentially, <b>data that <b style = 'color:blue'>can't</b> change is hashable</b> (int, str, tuple, etc.) while <b>data that <b style = 'color:blue'>can</b> change is not hashable (list, dictionary)</b>"
   ]
  },
  {
   "cell_type": "markdown",
   "id": "d1ca1eb5",
   "metadata": {
    "slideshow": {
     "slide_type": "slide"
    }
   },
   "source": [
    "<center><h3> Mutability </h3></center>\n",
    "<ul>\n",
    "    <li> Object is mutable if it can be changed after it is created\n",
    "    <li> If it can't, it is immutable\n",
    "    <li> List and dictionaries are <b style='color:blue'>mutable</b>\n",
    "    <li> strings, tuples, and numbers are <b style='color:red'>immutable</b>\n",
    "</ul>\n",
    "\n",
    "<b>note</b>: As mentioned before, mutability ~ hashability -> only immutable objects can be used as dictionary keys"
   ]
  },
  {
   "cell_type": "markdown",
   "id": "1f59cd32",
   "metadata": {
    "slideshow": {
     "slide_type": "slide"
    }
   },
   "source": [
    "<center> <h2 style = \"color:blue\">Checkpoint</h2> </center>\n",
    "<center>Given that the following strings have been declared:</center>"
   ]
  },
  {
   "cell_type": "code",
   "execution_count": 32,
   "id": "05741e48",
   "metadata": {
    "slideshow": {
     "slide_type": "fragment"
    }
   },
   "outputs": [],
   "source": [
    "str1 = 'DSC20'\n",
    "str2 = 'Midterm 1'"
   ]
  },
  {
   "cell_type": "markdown",
   "id": "794b0232",
   "metadata": {
    "slideshow": {
     "slide_type": "fragment"
    }
   },
   "source": [
    "<center>What do the following expressions result in?</center>"
   ]
  },
  {
   "cell_type": "code",
   "execution_count": null,
   "id": "699fc383",
   "metadata": {
    "slideshow": {
     "slide_type": "fragment"
    }
   },
   "outputs": [],
   "source": [
    "# q1\n",
    "str1[0]\n",
    "\n",
    "#q2\n",
    "str1[4] = \"8\"\n",
    "\n",
    "#q3\n",
    "str1 + str2\n",
    "\n",
    "#q4\n",
    "str3 = str1[:3]\n",
    "str3*3"
   ]
  },
  {
   "cell_type": "markdown",
   "id": "31307ba0",
   "metadata": {
    "slideshow": {
     "slide_type": "slide"
    }
   },
   "source": [
    "<center> <h2 style = \"color:blue\">Checkpoint Answers</h2> </center>"
   ]
  },
  {
   "cell_type": "code",
   "execution_count": 33,
   "id": "190d0be6",
   "metadata": {
    "slideshow": {
     "slide_type": "fragment"
    }
   },
   "outputs": [
    {
     "data": {
      "text/plain": [
       "'D'"
      ]
     },
     "execution_count": 33,
     "metadata": {},
     "output_type": "execute_result"
    }
   ],
   "source": [
    "str1[0]"
   ]
  },
  {
   "cell_type": "code",
   "execution_count": 34,
   "id": "bc0b14e3",
   "metadata": {
    "slideshow": {
     "slide_type": "fragment"
    }
   },
   "outputs": [
    {
     "ename": "TypeError",
     "evalue": "'str' object does not support item assignment",
     "output_type": "error",
     "traceback": [
      "\u001b[0;31m---------------------------------------------------------------------------\u001b[0m",
      "\u001b[0;31mTypeError\u001b[0m                                 Traceback (most recent call last)",
      "Cell \u001b[0;32mIn[34], line 1\u001b[0m\n\u001b[0;32m----> 1\u001b[0m \u001b[43mstr1\u001b[49m\u001b[43m[\u001b[49m\u001b[38;5;241;43m4\u001b[39;49m\u001b[43m]\u001b[49m \u001b[38;5;241m=\u001b[39m \u001b[38;5;124m'\u001b[39m\u001b[38;5;124m8\u001b[39m\u001b[38;5;124m'\u001b[39m\n",
      "\u001b[0;31mTypeError\u001b[0m: 'str' object does not support item assignment"
     ]
    }
   ],
   "source": [
    "str1[4] = '8'"
   ]
  },
  {
   "cell_type": "code",
   "execution_count": 35,
   "id": "9f29ff89",
   "metadata": {
    "slideshow": {
     "slide_type": "fragment"
    }
   },
   "outputs": [
    {
     "data": {
      "text/plain": [
       "'DSC20Midterm 1'"
      ]
     },
     "execution_count": 35,
     "metadata": {},
     "output_type": "execute_result"
    }
   ],
   "source": [
    "str1 + str2"
   ]
  },
  {
   "cell_type": "code",
   "execution_count": 36,
   "id": "86ee5a69",
   "metadata": {
    "slideshow": {
     "slide_type": "fragment"
    }
   },
   "outputs": [
    {
     "data": {
      "text/plain": [
       "'DSCDSCDSC'"
      ]
     },
     "execution_count": 36,
     "metadata": {},
     "output_type": "execute_result"
    }
   ],
   "source": [
    "str3 = str1[:3]\n",
    "str3 * 3"
   ]
  },
  {
   "cell_type": "markdown",
   "id": "e3d57572",
   "metadata": {
    "slideshow": {
     "slide_type": "slide"
    }
   },
   "source": [
    "<center><h3> Files </h3></center>\n",
    "<ul>\n",
    "    <li> storage for data (think csv's from DSC10, txt's from assignments, etc.)\n",
    "    <li> unique methods to access within code\n",
    "    <li> Access modes: write, append, read\n",
    "</ul>"
   ]
  },
  {
   "cell_type": "markdown",
   "id": "8217e7c5",
   "metadata": {
    "slideshow": {
     "slide_type": "fragment"
    }
   },
   "source": [
    "<center><h3>Opening Files</h3></center>"
   ]
  },
  {
   "cell_type": "code",
   "execution_count": null,
   "id": "d4d482c5",
   "metadata": {
    "slideshow": {
     "slide_type": "fragment"
    }
   },
   "outputs": [],
   "source": [
    "# method 1\n",
    "file_object = open('file_name', 'access_mode')\n",
    "# do stuff\n",
    "file_object.close() # required for this method\n",
    "\n",
    "# method 2\n",
    "with open('file_name', 'access_mode') as file_object:\n",
    "    # do stuff"
   ]
  },
  {
   "cell_type": "markdown",
   "id": "bf39f57d",
   "metadata": {
    "slideshow": {
     "slide_type": "fragment"
    }
   },
   "source": [
    "<b>note:</b> once file is open, utilize file methods such as .read(), .readline(), .readlines(), .write()"
   ]
  },
  {
   "cell_type": "markdown",
   "id": "4230fd58",
   "metadata": {
    "slideshow": {
     "slide_type": "slide"
    }
   },
   "source": [
    "<center><h3> Asserts + Doctests </h3></center>\n",
    "<ul>\n",
    "    <li> Used to evaluate written code\n",
    "    <li> <b style='color:blue'>asserts</b> -> input validation (are the arguments the correct types)\n",
    "    <li> <b style='color:blue'>doctests</b> -> code validation (does the function give the correct output)"
   ]
  },
  {
   "cell_type": "markdown",
   "id": "f98d3878",
   "metadata": {
    "slideshow": {
     "slide_type": "fragment"
    }
   },
   "source": [
    "<b>note:</b> asserts can be used in tandem with functions that return booleans (ex. all())\n",
    "\n",
    "<b>note:</b> doctests are denoted by '>>> ' (space included)."
   ]
  },
  {
   "cell_type": "markdown",
   "id": "2b6343f2",
   "metadata": {
    "slideshow": {
     "slide_type": "skip"
    }
   },
   "source": [
    "<center><h3> Lambda Functions </h3></center>\n",
    "<ul>\n",
    "    <li> known as anonymous functions (their functions are so simple, they don't need a name)\n",
    "    <li> syntax: lambda (input): (some operation)\n",
    "    <li> ex: lambda x: x + 2 (adds 2 to every element encountered)\n",
    "    <li> within the scope of this course, lambda is used in conjunction with map and filter"
   ]
  },
  {
   "cell_type": "markdown",
   "id": "fc1032fa",
   "metadata": {
    "slideshow": {
     "slide_type": "skip"
    }
   },
   "source": [
    "<center><h3> Map, Filter </h3></center>\n",
    "Map -\n",
    "<b>Syntax: map(function, iterable)</b>\n",
    "<ul>\n",
    "    <li> Map allows you to apply a function to all elements to an iterable input\n",
    "    <li> very common to use a lambda function as the function to apply\n",
    "    <li> returns an iterator through the iterable object, applying the function as it traverses\n",
    "</ul>\n"
   ]
  },
  {
   "cell_type": "markdown",
   "id": "11924e37",
   "metadata": {
    "slideshow": {
     "slide_type": "skip"
    }
   },
   "source": [
    "\n",
    "Filter - \n",
    "<b>Syntax: filter(function, iterable)</b>\n",
    "<ul>\n",
    "    <li> Filter takes in a function that returns a boolean and only keeps elements that satisfy the function (i.e. return True).\n",
    "    <li> Very common to use a lambda function as the function to apply, but keep in mind the function <b>must return a boolean</b>.\n",
    "    <li> Returns an iterator through the iterable object that only yields values that pass the function.\n",
    "</ul>"
   ]
  },
  {
   "cell_type": "markdown",
   "id": "c0c349bc",
   "metadata": {
    "slideshow": {
     "slide_type": "skip"
    }
   },
   "source": [
    "<center> <h2 style = \"color:blue\">Checkpoint</h2> </center>\n",
    "<center> Given a list of integers, use only map/filter/lambda to create a new list containing only even numbers from the original list, then multiply the remaining elements by 3.\n",
    " </center>"
   ]
  },
  {
   "cell_type": "code",
   "execution_count": 13,
   "id": "d8a7c6d8",
   "metadata": {
    "slideshow": {
     "slide_type": "skip"
    }
   },
   "outputs": [],
   "source": [
    "def even_by_3(int_list):\n",
    "    \"\"\"\n",
    "    Function that utilizes only map/filter/lambda to remove odd numbers \n",
    "    from a given list and multiply the remaining elements by 3.\n",
    "    \n",
    "    Args:\n",
    "        int_list (list): list of integers to be considered\n",
    "    Returns:\n",
    "        a list of even numbers from the original list, multiplied by 3.\n",
    "    \n",
    "    >>> lst = [1,2,3,4,5,6]\n",
    "    >>> even_by_3(lst)\n",
    "    [6,12,18]\n",
    "    \"\"\"\n",
    "    # Write your implementation here\n",
    "    return "
   ]
  },
  {
   "cell_type": "markdown",
   "id": "fb00b41f",
   "metadata": {
    "slideshow": {
     "slide_type": "skip"
    }
   },
   "source": [
    "<center> <h2 style = \"color:blue\">Checkpoint Solution</h2> </center>"
   ]
  },
  {
   "cell_type": "code",
   "execution_count": 65,
   "id": "1f9266ab",
   "metadata": {
    "slideshow": {
     "slide_type": "skip"
    }
   },
   "outputs": [],
   "source": [
    "def even_by_3(int_list):\n",
    "    \"\"\"\n",
    "    Function that utilizes only map/filter/lambda to remove odd numbers \n",
    "    from a given list and multiply the remaining elements by 3.\n",
    "    \n",
    "    Args:\n",
    "        int_list (list): list of integers to be considered\n",
    "    Returns:\n",
    "        a list of even numbers from the original list, multiplied by 3.\n",
    "        \n",
    "    >>> lst = [1,2,3,4,5,6]\n",
    "    >>> list(even_by_3(lst))\n",
    "    [6,12,18]\n",
    "    \"\"\"\n",
    "    only_evens = filter(lambda x: x%2==0, int_list)\n",
    "    mult_by_3 = map(lambda x: x*3, only_evens)\n",
    "    return list(mult_by_3)"
   ]
  },
  {
   "cell_type": "code",
   "execution_count": 66,
   "id": "b5790fc0",
   "metadata": {
    "slideshow": {
     "slide_type": "skip"
    }
   },
   "outputs": [
    {
     "data": {
      "text/plain": [
       "[6, 12, 18]"
      ]
     },
     "execution_count": 66,
     "metadata": {},
     "output_type": "execute_result"
    }
   ],
   "source": [
    "even_by_3([1,2,3,4,5,6]) "
   ]
  },
  {
   "cell_type": "markdown",
   "id": "ced58209",
   "metadata": {
    "slideshow": {
     "slide_type": "skip"
    }
   },
   "source": [
    "<center>What happens if I don't cast the output as a list?</center>"
   ]
  },
  {
   "cell_type": "code",
   "execution_count": 67,
   "id": "017c671c",
   "metadata": {
    "slideshow": {
     "slide_type": "skip"
    }
   },
   "outputs": [],
   "source": [
    "def even_by_3(int_list):\n",
    "    only_evens = filter(lambda x: x%2==0, int_list)\n",
    "    mult_by_3 = map(lambda x: x*3, only_evens)\n",
    "    return mult_by_3"
   ]
  },
  {
   "cell_type": "code",
   "execution_count": 68,
   "id": "83969dbb",
   "metadata": {
    "slideshow": {
     "slide_type": "skip"
    }
   },
   "outputs": [
    {
     "data": {
      "text/plain": [
       "<map at 0x7f9f706c2e60>"
      ]
     },
     "execution_count": 68,
     "metadata": {},
     "output_type": "execute_result"
    }
   ],
   "source": [
    "even_by_3([1,2,3,4,5,6]) "
   ]
  },
  {
   "cell_type": "markdown",
   "id": "07537a8e",
   "metadata": {
    "slideshow": {
     "slide_type": "skip"
    }
   },
   "source": [
    "<center>map and filter are part of a class of objects called Iterators in Python. Without being explicitly called, they will perform no operations. In order to get the desired output, we had to cast the map instance into a list.</center>"
   ]
  },
  {
   "cell_type": "markdown",
   "id": "ef77fd8c",
   "metadata": {
    "slideshow": {
     "slide_type": "slide"
    }
   },
   "source": [
    "<center><h3> Practice Questions </h3></center>"
   ]
  },
  {
   "cell_type": "markdown",
   "id": "d872fde4",
   "metadata": {
    "slideshow": {
     "slide_type": "slide"
    }
   },
   "source": [
    "<center><h3>Question 1</h3></center>\n",
    "<center>Given a list of strings <i><b>lst</b></i> and a string <i><b>comparer</b></i>, return the number of elements in the given list that are equal to <i><b>comparer</b></i>. Your solution must be 1 line. </center>\n",
    "<center>Also write assert statements to check the validity of the input.</center>"
   ]
  },
  {
   "cell_type": "code",
   "execution_count": 3,
   "id": "1f4e1ae7",
   "metadata": {
    "slideshow": {
     "slide_type": "fragment"
    }
   },
   "outputs": [],
   "source": [
    "def test(lst, comparer):\n",
    "    '''\n",
    "    Function that counts the number of equivalent strings in a list.\n",
    "    \n",
    "    Args:\n",
    "        lst (list): list of strings to be considered\n",
    "        comparer (str): string to be considered\n",
    "    Returns: \n",
    "        The number of elements in 'lst' that is equal to 'comparer'\n",
    "    Throws:\n",
    "        AssertionError: if lst is not a list\n",
    "        AssertionError: if comparer is not a string\n",
    "        AssertionError: if there are non-strings in comparer\n",
    "\n",
    "    >>> test(['good', 'luck', 'on', 'mideterm', 'luck', 'luck'], 'luck')\n",
    "    3\n",
    "    >>> test([], 'lol')\n",
    "    0\n",
    "    '''\n",
    "    # Write your implementation here\n",
    "    return"
   ]
  },
  {
   "cell_type": "markdown",
   "id": "1a1e303d",
   "metadata": {
    "slideshow": {
     "slide_type": "slide"
    }
   },
   "source": [
    "<center><h3>Question 1 Solution</h3></center>"
   ]
  },
  {
   "cell_type": "code",
   "execution_count": 4,
   "id": "63bc3114",
   "metadata": {
    "slideshow": {
     "slide_type": "fragment"
    }
   },
   "outputs": [],
   "source": [
    "def test(lst, comparer):\n",
    "    '''\n",
    "    Function that counts the number of equivalent strings in a list.\n",
    "    \n",
    "    Args:\n",
    "        lst (list): list of strings to be considered\n",
    "        comparer (str): string to be considered\n",
    "    Returns: \n",
    "        The number of elements in 'lst' that is equal to 'comparer'\n",
    "    Throws:\n",
    "        AssertionError: if lst is not a list\n",
    "        AssertionError: if comparer is not a string\n",
    "        AssertionError: if there are non-strings in comparer\n",
    "\n",
    "    >>> test(['good', 'luck', 'on', 'mideterm', 'luck', 'luck'], 'luck')\n",
    "    3\n",
    "    >>> test([], 'lol')\n",
    "    0\n",
    "    '''\n",
    "    assert isinstance(lst, list) # check that lst is a list\n",
    "    assert all([isinstance(x,str) for x in lst]) \n",
    "    # check that each element within lst is a string\n",
    "    assert isinstance(comparer, str) #check that comparer is a string\n",
    "    \n",
    "    return len([item for item in lst if item==comparer])"
   ]
  },
  {
   "cell_type": "code",
   "execution_count": 7,
   "id": "ec9d8c73",
   "metadata": {
    "slideshow": {
     "slide_type": "slide"
    }
   },
   "outputs": [
    {
     "data": {
      "text/plain": [
       "3"
      ]
     },
     "execution_count": 7,
     "metadata": {},
     "output_type": "execute_result"
    }
   ],
   "source": [
    "test(['good', 'luck', 'on', 'mideterm', 'luck', 'luck'], 'luck')"
   ]
  },
  {
   "cell_type": "code",
   "execution_count": 30,
   "id": "d6cd4ac8",
   "metadata": {
    "slideshow": {
     "slide_type": "fragment"
    }
   },
   "outputs": [
    {
     "ename": "AssertionError",
     "evalue": "",
     "output_type": "error",
     "traceback": [
      "\u001b[0;31m---------------------------------------------------------------------------\u001b[0m",
      "\u001b[0;31mAssertionError\u001b[0m                            Traceback (most recent call last)",
      "Cell \u001b[0;32mIn[30], line 1\u001b[0m\n\u001b[0;32m----> 1\u001b[0m \u001b[43mtest\u001b[49m\u001b[43m(\u001b[49m\u001b[43m[\u001b[49m\u001b[38;5;241;43m1\u001b[39;49m\u001b[43m,\u001b[49m\u001b[38;5;241;43m2\u001b[39;49m\u001b[43m,\u001b[49m\u001b[38;5;241;43m3\u001b[39;49m\u001b[43m]\u001b[49m\u001b[43m,\u001b[49m\u001b[43m \u001b[49m\u001b[38;5;124;43m'\u001b[39;49m\u001b[38;5;124;43moops\u001b[39;49m\u001b[38;5;124;43m'\u001b[39;49m\u001b[43m)\u001b[49m\n",
      "Cell \u001b[0;32mIn[4], line 21\u001b[0m, in \u001b[0;36mtest\u001b[0;34m(lst, comparer)\u001b[0m\n\u001b[1;32m      2\u001b[0m \u001b[38;5;250m\u001b[39m\u001b[38;5;124;03m'''\u001b[39;00m\n\u001b[1;32m      3\u001b[0m \u001b[38;5;124;03mFunction that counts the number of equivalent strings in a list.\u001b[39;00m\n\u001b[1;32m      4\u001b[0m \u001b[38;5;124;03m\u001b[39;00m\n\u001b[0;32m   (...)\u001b[0m\n\u001b[1;32m     18\u001b[0m \u001b[38;5;124;03m0\u001b[39;00m\n\u001b[1;32m     19\u001b[0m \u001b[38;5;124;03m'''\u001b[39;00m\n\u001b[1;32m     20\u001b[0m \u001b[38;5;28;01massert\u001b[39;00m \u001b[38;5;28misinstance\u001b[39m(lst, \u001b[38;5;28mlist\u001b[39m) \u001b[38;5;66;03m# check that lst is a list\u001b[39;00m\n\u001b[0;32m---> 21\u001b[0m \u001b[38;5;28;01massert\u001b[39;00m \u001b[38;5;28mall\u001b[39m([\u001b[38;5;28misinstance\u001b[39m(x,\u001b[38;5;28mstr\u001b[39m) \u001b[38;5;28;01mfor\u001b[39;00m x \u001b[38;5;129;01min\u001b[39;00m lst]) \u001b[38;5;66;03m# check that each element within lst is a string\u001b[39;00m\n\u001b[1;32m     22\u001b[0m \u001b[38;5;28;01massert\u001b[39;00m \u001b[38;5;28misinstance\u001b[39m(comparer, \u001b[38;5;28mstr\u001b[39m) \u001b[38;5;66;03m#check that comparer is a string\u001b[39;00m\n\u001b[1;32m     24\u001b[0m \u001b[38;5;28;01mreturn\u001b[39;00m \u001b[38;5;28mlen\u001b[39m([item \u001b[38;5;28;01mfor\u001b[39;00m item \u001b[38;5;129;01min\u001b[39;00m lst \u001b[38;5;28;01mif\u001b[39;00m item\u001b[38;5;241m==\u001b[39mcomparer])\n",
      "\u001b[0;31mAssertionError\u001b[0m: "
     ]
    }
   ],
   "source": [
    "test([1,2,3], 'oops')"
   ]
  },
  {
   "cell_type": "markdown",
   "id": "137afe05",
   "metadata": {
    "slideshow": {
     "slide_type": "slide"
    }
   },
   "source": [
    "<center><h3>Question 2</h3></center>\n",
    "<center>Given a dictionary with integers as keys and lists as values, return a new dictionary where the key and value are flipped. The new key would be the length of the value. If the key already exists, add the value to the pre-existing value. </center>"
   ]
  },
  {
   "cell_type": "code",
   "execution_count": 20,
   "id": "db5adc49",
   "metadata": {
    "slideshow": {
     "slide_type": "fragment"
    }
   },
   "outputs": [],
   "source": [
    "def change_dct(input_dct):\n",
    "    \"\"\"\n",
    "    Function to invert the key, value of a dictionary where the new keys \n",
    "    are the length of the old value and the new value is the old key.\n",
    "    If the key already exists, add the value to the pre-existing value.\n",
    "    \n",
    "    args:\n",
    "        input_dct (dictionary): dictionary to be considered by function\n",
    "    \n",
    "    returns:\n",
    "        a new dictionary with items inverted per the description\n",
    "    \n",
    "    >>> dct = {1:[1,5], 2:[2,6,1], 4:[3,1,5]}\n",
    "    >>> change_dct(dct)\n",
    "    {2: 1, 3: 6}\n",
    "    \"\"\"\n",
    "    # Write your implementation here\n",
    "    return"
   ]
  },
  {
   "cell_type": "markdown",
   "id": "1023c5d8",
   "metadata": {
    "slideshow": {
     "slide_type": "slide"
    }
   },
   "source": [
    "<center><h3>Question 2 Solution</h3></center>"
   ]
  },
  {
   "cell_type": "code",
   "execution_count": 21,
   "id": "2477b8f4",
   "metadata": {
    "slideshow": {
     "slide_type": "fragment"
    }
   },
   "outputs": [],
   "source": [
    "def change_dct(input_dct):\n",
    "    \"\"\"\n",
    "    Function to invert the key, value of a dictionary where the new keys \n",
    "    are the length of the old value and the new value is the old key.\n",
    "    If the key already exists, add the value(old-key) to the pre-existing value.\n",
    "    \n",
    "    args:\n",
    "        input_dct (dictionary): dictionary to be considered by function\n",
    "    returns:\n",
    "        a new dictionary with items inverted per the description\n",
    "    \n",
    "    >>> dct = {1:[1,5], 2:[2,6,1], 4:[3,1,5]}\n",
    "    >>> change_dct(dct)\n",
    "    {2: 1, 3: 6}\n",
    "    \"\"\"\n",
    "    output = {}\n",
    "    for key,value in input_dct.items():\n",
    "        if len(value) not in output:\n",
    "            output[len(value)] = key\n",
    "        else:\n",
    "            output[len(value)] = output[len(value)] + key\n",
    "    return output"
   ]
  },
  {
   "cell_type": "code",
   "execution_count": 22,
   "id": "488ab787",
   "metadata": {
    "slideshow": {
     "slide_type": "fragment"
    }
   },
   "outputs": [
    {
     "data": {
      "text/plain": [
       "{2: 1, 3: 6}"
      ]
     },
     "execution_count": 22,
     "metadata": {},
     "output_type": "execute_result"
    }
   ],
   "source": [
    "change_dct({1:[1,5], 2:[2,6,1], 4:[3,1,5]})"
   ]
  },
  {
   "cell_type": "markdown",
   "id": "e66b236e",
   "metadata": {
    "slideshow": {
     "slide_type": "slide"
    }
   },
   "source": [
    "<center><h3>Question 3</h3></center>\n",
    "<center>Given a nested list that contains positive and negative integers, return a nested list that changes negative integers to positive and multiplies positive numbers by 2. <b>You are only allowed to use list comprehension</b>.</center>\n",
    "\n",
    "<center>Also write assert statements to check the validity of the input.</center>"
   ]
  },
  {
   "cell_type": "code",
   "execution_count": 23,
   "id": "a9af8722",
   "metadata": {
    "slideshow": {
     "slide_type": "fragment"
    }
   },
   "outputs": [],
   "source": [
    "def convert_negs(lsts):\n",
    "    \"\"\"\n",
    "    Function that uses list comprehensionconverts negative numbers \n",
    "    to positive and multiplies positive numbers by 2.\n",
    "    \n",
    "    Args:\n",
    "        lsts (list): nested list where each sublist contains \n",
    "        integers to be considered\n",
    "    Returns:\n",
    "        a nested list where negative integers are converted to \n",
    "        positive and positive numbers multiplied by 2.\n",
    "    Throws:\n",
    "        AssertionError: if lsts is not a list\n",
    "        AssertionError: if sublists are not lists\n",
    "        AssertionError: if there are non-integers in sublists\n",
    "        \n",
    "    >>> lsts = [[1,3,-11,6], [2,-5,-9,12], [3,19,-42]]\n",
    "    >>> convert_negs(lsts)\n",
    "    [[2, 6, 11, 12], [4, 5, 9, 24], [6, 38, 42]]\n",
    "    \"\"\"\n",
    "    # Write your implementation here\n",
    "    return"
   ]
  },
  {
   "cell_type": "markdown",
   "id": "5aabae95",
   "metadata": {
    "slideshow": {
     "slide_type": "slide"
    }
   },
   "source": [
    "<center><h3>Question 3 Solution</h3></center>"
   ]
  },
  {
   "cell_type": "code",
   "execution_count": 9,
   "id": "bd7bcf0a",
   "metadata": {
    "slideshow": {
     "slide_type": "fragment"
    }
   },
   "outputs": [],
   "source": [
    "def convert_negs(lsts):\n",
    "    \"\"\"\n",
    "    Function that uses list comprehensionconverts negative numbers \n",
    "    to positive and multiplies positive numbers by 2.\n",
    "    \n",
    "    Args:\n",
    "        lsts (list): nested list where each sublist \n",
    "        contains integers to be considered\n",
    "    Returns:\n",
    "        a nested list where negative integers are converted to \n",
    "        positive and positive numbers multiplied by 2.\n",
    "    Throws:\n",
    "        AssertionError: if lsts is not a list\n",
    "        AssertionError: if sublists are not lists\n",
    "        AssertionError: if there are non-integers in sublists\n",
    "    \n",
    "    >>> lsts = [[1,3,-11,6], [2,-5,-9,12], [3,19,-42]]\n",
    "    >>> convert_negs(lsts)\n",
    "    [[2, 6, 11, 12], [4, 5, 9, 24], [6, 38, 42]]\n",
    "    \"\"\"\n",
    "    assert isinstance(lsts, list)\n",
    "    assert all([isinstance(sublist, list) for sublist in lsts])\n",
    "    assert all([all([isinstance(element, int) \\\n",
    "        for element in sublist]) for sublist in lsts])\n",
    "    \n",
    "    return [[element * -1 if element < 0 else \\\n",
    "    element * 2 for element in sublist] for sublist in lsts]"
   ]
  },
  {
   "cell_type": "code",
   "execution_count": 10,
   "id": "bceb3159",
   "metadata": {
    "slideshow": {
     "slide_type": "slide"
    }
   },
   "outputs": [
    {
     "data": {
      "text/plain": [
       "[[2, 6, 11, 12], [4, 5, 9, 24], [6, 38, 42]]"
      ]
     },
     "execution_count": 10,
     "metadata": {},
     "output_type": "execute_result"
    }
   ],
   "source": [
    "convert_negs([[1,3,-11,6], [2,-5,-9,12], [3,19,-42]])"
   ]
  },
  {
   "cell_type": "code",
   "execution_count": 11,
   "id": "0f11366f",
   "metadata": {
    "slideshow": {
     "slide_type": "fragment"
    }
   },
   "outputs": [
    {
     "ename": "AssertionError",
     "evalue": "",
     "output_type": "error",
     "traceback": [
      "\u001b[0;31m---------------------------------------------------------------------------\u001b[0m",
      "\u001b[0;31mAssertionError\u001b[0m                            Traceback (most recent call last)",
      "Cell \u001b[0;32mIn[11], line 1\u001b[0m\n\u001b[0;32m----> 1\u001b[0m \u001b[43mconvert_negs\u001b[49m\u001b[43m(\u001b[49m\u001b[43m[\u001b[49m\u001b[43m[\u001b[49m\u001b[38;5;124;43m'\u001b[39;49m\u001b[38;5;124;43mgood\u001b[39;49m\u001b[38;5;124;43m'\u001b[39;49m\u001b[43m]\u001b[49m\u001b[43m,\u001b[49m\u001b[43m \u001b[49m\u001b[43m[\u001b[49m\u001b[38;5;124;43m'\u001b[39;49m\u001b[38;5;124;43mluck\u001b[39;49m\u001b[38;5;124;43m'\u001b[39;49m\u001b[43m]\u001b[49m\u001b[43m]\u001b[49m\u001b[43m)\u001b[49m\n",
      "Cell \u001b[0;32mIn[9], line 23\u001b[0m, in \u001b[0;36mconvert_negs\u001b[0;34m(lsts)\u001b[0m\n\u001b[1;32m     21\u001b[0m \u001b[38;5;28;01massert\u001b[39;00m \u001b[38;5;28misinstance\u001b[39m(lsts, \u001b[38;5;28mlist\u001b[39m)\n\u001b[1;32m     22\u001b[0m \u001b[38;5;28;01massert\u001b[39;00m \u001b[38;5;28mall\u001b[39m([\u001b[38;5;28misinstance\u001b[39m(sublist, \u001b[38;5;28mlist\u001b[39m) \u001b[38;5;28;01mfor\u001b[39;00m sublist \u001b[38;5;129;01min\u001b[39;00m lsts])\n\u001b[0;32m---> 23\u001b[0m \u001b[38;5;28;01massert\u001b[39;00m \u001b[38;5;28mall\u001b[39m([\u001b[38;5;28mall\u001b[39m([\u001b[38;5;28misinstance\u001b[39m(element, \u001b[38;5;28mint\u001b[39m) \\\n\u001b[1;32m     24\u001b[0m     \u001b[38;5;28;01mfor\u001b[39;00m element \u001b[38;5;129;01min\u001b[39;00m sublist]) \u001b[38;5;28;01mfor\u001b[39;00m sublist \u001b[38;5;129;01min\u001b[39;00m lsts])\n\u001b[1;32m     26\u001b[0m \u001b[38;5;28;01mreturn\u001b[39;00m [[element \u001b[38;5;241m*\u001b[39m \u001b[38;5;241m-\u001b[39m\u001b[38;5;241m1\u001b[39m \u001b[38;5;28;01mif\u001b[39;00m element \u001b[38;5;241m<\u001b[39m \u001b[38;5;241m0\u001b[39m \u001b[38;5;28;01melse\u001b[39;00m \\\n\u001b[1;32m     27\u001b[0m element \u001b[38;5;241m*\u001b[39m \u001b[38;5;241m2\u001b[39m \u001b[38;5;28;01mfor\u001b[39;00m element \u001b[38;5;129;01min\u001b[39;00m sublist] \u001b[38;5;28;01mfor\u001b[39;00m sublist \u001b[38;5;129;01min\u001b[39;00m lsts]\n",
      "\u001b[0;31mAssertionError\u001b[0m: "
     ]
    }
   ],
   "source": [
    "convert_negs([['good'], ['luck']])"
   ]
  },
  {
   "cell_type": "markdown",
   "id": "a77af79e",
   "metadata": {
    "slideshow": {
     "slide_type": "slide"
    }
   },
   "source": [
    "<center><h3>Question 4</h3></center>\n",
    "\n",
    "<center>\n",
    "    Given a file containing text that's been \"grafitti'd\", write a function that rewrites the text in the original form. You may not use .remove() (i.e. the removal must be using string slicing).\n",
    "</center>"
   ]
  },
  {
   "cell_type": "code",
   "execution_count": 5,
   "id": "d1f4a047",
   "metadata": {
    "slideshow": {
     "slide_type": "fragment"
    }
   },
   "outputs": [
    {
     "name": "stdout",
     "output_type": "stream",
     "text": [
      "['Yar har, fiddle de dee \\n', 'Being a stinky pirate is alright to be\\n', \"Do what you want 'cause a stinky pirate is free\\n\", 'You are a stinky pirate!\\n', 'Yar!']\n"
     ]
    }
   ],
   "source": [
    "with open('files/grafitti.txt', 'r') as f: print(f.readlines())"
   ]
  },
  {
   "cell_type": "code",
   "execution_count": 6,
   "id": "43c60c80",
   "metadata": {
    "slideshow": {
     "slide_type": "fragment"
    }
   },
   "outputs": [],
   "source": [
    "def de_grafitti(filepath, grafitti):\n",
    "    \"\"\"\n",
    "    Function that removes grafitti from a file of text.\n",
    "    \n",
    "    Args:\n",
    "        filepath (string): path to file of interest\n",
    "        grafitti (string): string to be removed from file\n",
    "    \n",
    "    Returns:\n",
    "        None\n",
    "    \"\"\"\n",
    "    # Write your implementation here"
   ]
  },
  {
   "cell_type": "markdown",
   "id": "c2448730",
   "metadata": {
    "slideshow": {
     "slide_type": "slide"
    }
   },
   "source": [
    "<center><h3>Question 4 Solution</h3></center>"
   ]
  },
  {
   "cell_type": "code",
   "execution_count": 20,
   "id": "2c1e751e",
   "metadata": {
    "slideshow": {
     "slide_type": "fragment"
    }
   },
   "outputs": [],
   "source": [
    "def de_grafitti(filepath, grafitti):\n",
    "    \"\"\"\n",
    "    Function that removes grafitti from a file of text.\n",
    "    \n",
    "    Args:\n",
    "        filepath (string): path to file of interest\n",
    "        grafitti (string): string to be removed from file\n",
    "    \n",
    "    Returns:\n",
    "        None\n",
    "    \"\"\"\n",
    "    fixed_text = ''\n",
    "    with open(filepath, 'r') as f:\n",
    "        data = f.readlines()\n",
    "    print(data)\n",
    "    \n",
    "    with open(filepath, 'w') as f:\n",
    "        for line in data:\n",
    "            line = line.strip()\n",
    "            search = line.find(grafitti)\n",
    "            if search != -1:\n",
    "                seg_1 = line[:search].strip()\n",
    "                seg_2 = line[search+len(grafitti):].strip()\n",
    "                fixed_text+=(seg_1 + ' ' + seg_2 + '\\n')\n",
    "            else:\n",
    "                fixed_text+=line + '\\n'\n",
    "        print(fixed_text)\n",
    "        f.write(fixed_text)"
   ]
  },
  {
   "cell_type": "code",
   "execution_count": 21,
   "id": "9d9bd950",
   "metadata": {
    "slideshow": {
     "slide_type": "slide"
    }
   },
   "outputs": [
    {
     "name": "stdout",
     "output_type": "stream",
     "text": [
      "['Yar har, fiddle de dee \\n', 'Being a stinky pirate is alright to be\\n', \"Do what you want 'cause a stinky pirate is free\\n\", 'You are a stinky pirate!\\n', 'Yar!']\n",
      "Yar har, fiddle de dee\n",
      "Being a pirate is alright to be\n",
      "Do what you want 'cause a pirate is free\n",
      "You are a pirate!\n",
      "Yar!\n",
      "\n"
     ]
    }
   ],
   "source": [
    "de_grafitti('files/grafitti.txt', 'stinky')"
   ]
  },
  {
   "cell_type": "markdown",
   "id": "9082b88d",
   "metadata": {
    "slideshow": {
     "slide_type": "slide"
    }
   },
   "source": [
    "<center><h2>Thanks for Coming!</h2></center>\n",
    "<center>Good luck on the exam!</center>"
   ]
  },
  {
   "cell_type": "code",
   "execution_count": null,
   "id": "ef51f677",
   "metadata": {
    "slideshow": {
     "slide_type": "skip"
    }
   },
   "outputs": [],
   "source": []
  }
 ],
 "metadata": {
  "celltoolbar": "Slideshow",
  "kernelspec": {
   "display_name": "Python 3 (ipykernel)",
   "language": "python",
   "name": "python3"
  },
  "language_info": {
   "codemirror_mode": {
    "name": "ipython",
    "version": 3
   },
   "file_extension": ".py",
   "mimetype": "text/x-python",
   "name": "python",
   "nbconvert_exporter": "python",
   "pygments_lexer": "ipython3",
   "version": "3.10.8"
  },
  "rise": {
   "enable_chalkboard": true
  }
 },
 "nbformat": 4,
 "nbformat_minor": 5
}
