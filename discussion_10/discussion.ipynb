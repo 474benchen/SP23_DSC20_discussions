{
 "cells": [
  {
   "cell_type": "markdown",
   "id": "9ac70a89",
   "metadata": {
    "slideshow": {
     "slide_type": "skip"
    }
   },
   "source": [
    "**note**: for anyone trying to view this as a slideshow, run 'pip install rise', reload your notebook, then click on the button that looks like a bar graph to the right of the command palette at the top."
   ]
  },
  {
   "cell_type": "markdown",
   "id": "0aaa7f3e",
   "metadata": {
    "slideshow": {
     "slide_type": "slide"
    }
   },
   "source": [
    "<center><h1>Discussion 10</h1></center>\n",
    "<center><h2>DSC 20, Spring 2023</h2><center>"
   ]
  },
  {
   "cell_type": "markdown",
   "id": "172f9b03",
   "metadata": {
    "slideshow": {
     "slide_type": "slide"
    }
   },
   "source": [
    "<center><h3>Final Exam Content Review </h3></center>\n",
    "<center>The quarter is (almost) over!</center>"
   ]
  },
  {
   "cell_type": "markdown",
   "id": "11611f0b",
   "metadata": {
    "slideshow": {
     "slide_type": "slide"
    }
   },
   "source": [
    "<center><h3>Notes</h3></center>\n",
    "\n",
    "<ul>\n",
    "    <li> Exam Slot: Thursday June 15th, 11:30 am - 2:30 pm\n",
    "    <li> Practice Exams on course website\n",
    "    <li> extra practice from discussions 3,7,9 respectively\n",
    "    <li> Bring pen/pencil/ID to final exam (you will be checked at the end)\n",
    "    <li> More details to come soon"
   ]
  },
  {
   "cell_type": "markdown",
   "id": "c8f91290",
   "metadata": {
    "slideshow": {
     "slide_type": "slide"
    }
   },
   "source": [
    "<center><h3>Topic List</h3></center>\n",
    "<ol type=\"1\">\n",
    "    <li> Fundamentals: Data Types, Operations, If statements, Loops, Conditions, print, return</li>\n",
    "    <li> Data Structures: lists + comprehension, Dictionaries, Sets, Tuples, Mutability </li>\n",
    "    <li> Advanced Functionality: files, lambda/map/filter, advanced argument passing,  </li>\n",
    "    <li> Function Evaluation: assert, try-except, exceptions, doctests, time complexity </li>\n",
    "    <li> Design Ideas: recursion, classes, higher-order functions </li>\n",
    "</ol>"
   ]
  },
  {
   "cell_type": "markdown",
   "id": "6bc36b98",
   "metadata": {
    "slideshow": {
     "slide_type": "slide"
    }
   },
   "source": [
    "<center><h3>1. Fundamentals</h3></center>"
   ]
  },
  {
   "cell_type": "markdown",
   "id": "a2f57937",
   "metadata": {
    "slideshow": {
     "slide_type": "slide"
    }
   },
   "source": [
    "<center> <h3>Basic Operations</h3> </center>\n",
    "\n",
    "\n",
    "<center><b style=\"color:blue;\">+</b> - Numerical addition / concatenation operator</center>\n",
    "<center><b style=\"color:blue;\">-</b> - Numerical Subtraction operator</center>\n",
    "<center><b style=\"color:blue;\">/</b> - Classic Division operator</center>\n",
    "<center><b style=\"color:blue;\">//</b> - Floor Division operator</center>\n",
    "<center><b style=\"color:blue;\">*</b> - Numerical Multiplication / repetition operator</center>\n",
    "<center><b style=\"color:blue;\">**</b> - Numerical Exponential operator</center>\n",
    "<center><b style=\"color:blue;\">%</b> - Numeric remainder operator</center>"
   ]
  },
  {
   "cell_type": "markdown",
   "id": "0b296bb1",
   "metadata": {
    "slideshow": {
     "slide_type": "slide"
    }
   },
   "source": [
    "<center> <h3>Basic Data Types</h3> </center>\n",
    "\n",
    "<center>\n",
    "<b style=\"color:blue;\">String</b> - Data type for text\n",
    "      </center> \n",
    "<center><b style=\"color:blue;\">Int</b> - Data type for whole numbers</center>\n",
    "    \n",
    "<center><b style=\"color:blue;\">Float</b> - Data type for non-integers</center>\n",
    "    \n",
    "<center><b style=\"color:blue;\">Bool</b> - True or False</center>\n"
   ]
  },
  {
   "cell_type": "markdown",
   "id": "1255d1f4",
   "metadata": {
    "slideshow": {
     "slide_type": "slide"
    }
   },
   "source": [
    "<center> <h3>Conditions</h3> </center>\n",
    "\n",
    "<u>Logical Operators (in order priority)</u>:\n",
    "<ul>\n",
    "    <li> <b style = \"color:purple;\">not</b> - reverses the outcome of the following expression\n",
    "    <li> <b style = \"color:purple;\">and</b> - all expressions compared with “and” must be True to evaluate True\n",
    "    <li> <b style = \"color:purple;\">or</b> - at least one expression compared with “or” must be True to evaluate True\n",
    "</ul>\n"
   ]
  },
  {
   "cell_type": "markdown",
   "id": "0fc6413c",
   "metadata": {
    "slideshow": {
     "slide_type": "fragment"
    }
   },
   "source": [
    "<u>Comparison Operators (generates booleans)</u>:\n",
    "<ul>\n",
    "    <li> <b style = \"color:purple;\">==</b> - equality check\n",
    "    <li> <b style = \"color:purple;\">!=</b> - inequality check\n",
    "    <li> <b style = \"color:purple;\">>, >=, <, <=</b> directional check\n",
    "</ul>\n",
    "\n",
    "<b>note</b>: <b style='color:blue'>is</b> checks memory address while <b style='color:blue'>==</b> checks values"
   ]
  },
  {
   "cell_type": "markdown",
   "id": "f8f4e725",
   "metadata": {
    "slideshow": {
     "slide_type": "slide"
    }
   },
   "source": [
    "<center> <h3>Conditional Statements</h3> </center>\n",
    "\n",
    "if (boolean expression):\n",
    "\t<p> &emsp;<mark>//Do stuff</mark></p>\n",
    "    \n",
    "elif (other boolean expression):  \n",
    "\n",
    "<b>note: </b>elif is optional, can have as many elifs as necessary\n",
    "\t<p> &emsp;<mark>//Do other stuff</mark></p>\n",
    "    \n",
    "else: \n",
    "\n",
    "<b>note: </b>else is optional, will execute only if the conditions in the “if” and “elif” statements are not true\n",
    "\t<p> &emsp;<mark>//Do other other stuff</mark></p>\n",
    "\n"
   ]
  },
  {
   "cell_type": "markdown",
   "id": "a7f6f5d3",
   "metadata": {
    "slideshow": {
     "slide_type": "slide"
    }
   },
   "source": [
    "<center> <h3>Loops</h3> </center>\n",
    "\n",
    "<center>Loops are used to <b style = 'color:blue'>repeat computations</b> many times.</center>\n",
    "\n",
    "- Two types of loops:\n",
    "    - <mark style= \"color:blue; background-color: white\" >While loop</mark>: Uses  logical conditions, do not know the number of iterations (as long as a condition is true, code will run)\n",
    "    - <mark style= \"color:blue; background-color: white\" >For loop </mark>: Usually for when the number repetition is known."
   ]
  },
  {
   "cell_type": "markdown",
   "id": "b8a985d4",
   "metadata": {
    "slideshow": {
     "slide_type": "slide"
    }
   },
   "source": [
    "<center> <h3>Functions</h3> </center>\n",
    "<ul>\n",
    "     <li> delineated by keyword<mark style=\"color:purple; background-color: white\" >def</mark>\n",
    "     <li> usually contains a<mark style=\"color:purple; background-color: white\" >return</mark>statement (though not required for all functions)\n",
    "</ul>\n",
    "\n",
    "<u> Format </u>:\n",
    "<br></br>\n",
    "<mark style=\"color:purple; background-color: white\" >def</mark> <b>function name</b>(formal parameters):\n",
    "<p> &emsp;(function body)</p>\n",
    "<p> &emsp;<mark style=\"color:purple; background-color: white\" >return</mark>#optional </p>\n",
    "<br></br>\n",
    "<b>Semantics, but</b>: arguments (in function calls) vs Parameters (in definition) "
   ]
  },
  {
   "cell_type": "markdown",
   "id": "3615d960",
   "metadata": {
    "slideshow": {
     "slide_type": "slide"
    }
   },
   "source": [
    "<center> <h3>Print</h3> </center>\n",
    "<center><mark style= \"color:blue; background-color: white\" >print</mark>:generally to see what is happening inside the code. Represented value is None</center>\n"
   ]
  },
  {
   "cell_type": "code",
   "execution_count": null,
   "id": "73fcedd8",
   "metadata": {
    "slideshow": {
     "slide_type": "fragment"
    }
   },
   "outputs": [],
   "source": [
    "def ex_print(value):\n",
    "    print(value)\n",
    "print(ex_print(\"test\"))"
   ]
  },
  {
   "cell_type": "markdown",
   "id": "2cfadde5",
   "metadata": {
    "slideshow": {
     "slide_type": "fragment"
    }
   },
   "source": [
    "<center> \"test\" is the value being printed out by the function, None is the result of ex_print(\"test\"). Using our class vocab, print is a \"void function\". </center>"
   ]
  },
  {
   "cell_type": "markdown",
   "id": "9566c0e1",
   "metadata": {
    "slideshow": {
     "slide_type": "slide"
    }
   },
   "source": [
    "<center> <h3>Return</h3> </center>\n",
    "<center><mark style= \"color:blue; background-color: white\" >return</mark>: how a function gives back a value </center>\n",
    "\n",
    "<center>\n",
    "<b> note </b>: return is a \"short-circuit\", meaning that once a return statement executes, the function stops running.\n",
    "</center>"
   ]
  },
  {
   "cell_type": "code",
   "execution_count": 1,
   "id": "cb966670",
   "metadata": {
    "slideshow": {
     "slide_type": "fragment"
    }
   },
   "outputs": [
    {
     "name": "stdout",
     "output_type": "stream",
     "text": [
      "test\n"
     ]
    }
   ],
   "source": [
    "def ex_return(value):\n",
    "    return value\n",
    "print(ex_return(\"test\"))"
   ]
  },
  {
   "cell_type": "markdown",
   "id": "60d193d3",
   "metadata": {
    "slideshow": {
     "slide_type": "fragment"
    }
   },
   "source": [
    "<center>\"test\" is the result of ex_return(\"test\"). Using our class vocab, print is <b>not</b> a \"void function\". </center>"
   ]
  },
  {
   "cell_type": "markdown",
   "id": "d244fa5a",
   "metadata": {
    "slideshow": {
     "slide_type": "slide"
    }
   },
   "source": [
    "<center><h3>2. Data Structures</h3></center>"
   ]
  },
  {
   "cell_type": "markdown",
   "id": "82dc11c0",
   "metadata": {
    "slideshow": {
     "slide_type": "slide"
    }
   },
   "source": [
    "<center><h3> Lists </h3> </center>\n",
    "<ul>\n",
    "    <li> Mutable vector of values\n",
    "    <li> Can store any data type, multiple types at a time\n",
    "    <li> Elements are acccessed via indexing\n",
    "</ul>\n",
    "\n",
    "<b style='color:blue'>List Slicing</b>\n",
    "<ul>\n",
    "    <li> Format is similar to range ~ lst[start: stop: step] - [inclusive: exclusive]\n",
    "    <li> lst[::-1] reverses the list\n",
    "</ul>\n"
   ]
  },
  {
   "cell_type": "markdown",
   "id": "f26706bb",
   "metadata": {
    "slideshow": {
     "slide_type": "slide"
    }
   },
   "source": [
    "<center><h3> List Comprehension </h3> </center>\n",
    "<ul>\n",
    "    <li> Fancy, shorthand method of writing for loops\n",
    "    <li> Syntax changes depending on use case\n",
    "    <li> can be nested, just like lists\n",
    "<br></br>\n",
    "<b style='color:blue'>Syntax</b>\n",
    "<ul>\n",
    "    <li> [x for x in iterable]\n",
    "    <li> [x for x in iterable if (condition)]\n",
    "    <li> [x if (condition) else y for x in iterable]\n",
    "    <li> [x if (condition) else y if (condition) else z for x in iterable]"
   ]
  },
  {
   "cell_type": "markdown",
   "id": "49fd325e",
   "metadata": {
    "slideshow": {
     "slide_type": "slide"
    }
   },
   "source": [
    "<center><h3> Tuples </h3> </center>\n",
    "<ul>\n",
    "    <li> Immutable vector of values\n",
    "    <li> Can store any data type, multiple types at a time\n",
    "    <li> Elements are acccessed via indexing\n",
    "</ul>\n",
    "\n",
    "<b> It's basically a list that can't be changed, though data inside it <b style= 'color:blue'>can</b> still change</b>."
   ]
  },
  {
   "cell_type": "markdown",
   "id": "126d7b41",
   "metadata": {
    "slideshow": {
     "slide_type": "slide"
    }
   },
   "source": [
    "<center><h3> Dictionaries </h3></center>\n",
    "<ul>\n",
    "    <li> Mutable storage of key, value pairs\n",
    "    <li> Can store any data type, multiple at a time\n",
    "    <li> Elements are acccessed via keys\n",
    "    <li> keys must be <b style = 'color:blue'>hashable</b> and <b style = 'color:blue'>unique</b>\n",
    "</ul>\n",
    "\n",
    "<b style = 'color:blue'>note</b>: hashablility correlates to the stability of the data - essentially, <b>data that <b style = 'color:blue'>can't</b> change is hashable</b> (int, str, tuple, etc.) while <b>data that <b style = 'color:blue'>can</b> change is not hashable (list, dictionary)</b>"
   ]
  },
  {
   "cell_type": "markdown",
   "id": "38def9b3",
   "metadata": {
    "slideshow": {
     "slide_type": "slide"
    }
   },
   "source": [
    "<center><h3> Sets </h3> </center>\n",
    "\n",
    "<ul>\n",
    "    <li> Mutable vector of values\n",
    "    <li> Can store any data type, multiple types at a time\n",
    "    <li> Does not allow for duplicates\n",
    "    <li> Technically has random order\n",
    "</ul>\n",
    "\n",
    "<b> To create a set, just use a set() caster around an iterable (usually a list).</b>."
   ]
  },
  {
   "cell_type": "markdown",
   "id": "fbb25add",
   "metadata": {
    "slideshow": {
     "slide_type": "slide"
    }
   },
   "source": [
    "<center><h3> Mutability </h3></center>\n",
    "<ul>\n",
    "    <li> Object is mutable if it can be changed after it is created\n",
    "    <li> If it can't, it is immutable\n",
    "    <li> List and dictionaries are <b style='color:blue'>mutable</b>\n",
    "    <li> strings, tuples, and numbers are <b style='color:red'>immutable</b>\n",
    "</ul>\n",
    "\n",
    "<b>note</b>: As mentioned before, mutability ~ hashability -> only immutable objects can be used as dictionary keys"
   ]
  },
  {
   "cell_type": "markdown",
   "id": "c13e3670",
   "metadata": {
    "slideshow": {
     "slide_type": "slide"
    }
   },
   "source": [
    "<center><h3 style='color:blue'>Checkpoint</h3></center>"
   ]
  },
  {
   "cell_type": "markdown",
   "id": "6cf0f28b",
   "metadata": {
    "slideshow": {
     "slide_type": "slide"
    }
   },
   "source": [
    "<center><h3 style='color:blue'>Question 1</h3></center>\n",
    "<center>What's printed from the following code?</center>"
   ]
  },
  {
   "cell_type": "code",
   "execution_count": null,
   "id": "00694bc0",
   "metadata": {
    "slideshow": {
     "slide_type": "fragment"
    }
   },
   "outputs": [],
   "source": [
    "def yum(lst1, lst2):\n",
    "    print(lst1, lst2)\n",
    "    if (len(lst1) == 0) or (len(lst2)==0):\n",
    "        print('finished!')\n",
    "    else:\n",
    "        if lst1[0] == lst2[0]:\n",
    "            yum(lst1[1:], lst2)\n",
    "        elif lst1[0] < lst2[-1]:\n",
    "            yum(lst1, lst2[:-1])\n",
    "        else:\n",
    "            yum(lst1[1:-1], lst2[1:-1])\n",
    "\n",
    "yum([1,2,3,4,5], [1,4,3,1,0])"
   ]
  },
  {
   "cell_type": "markdown",
   "id": "522ad2b7",
   "metadata": {
    "slideshow": {
     "slide_type": "slide"
    }
   },
   "source": [
    "<center><h3 style='color:blue'>Question 1 Solution</h3></center>"
   ]
  },
  {
   "cell_type": "code",
   "execution_count": 26,
   "id": "33ab0bf9",
   "metadata": {
    "slideshow": {
     "slide_type": "fragment"
    }
   },
   "outputs": [
    {
     "name": "stdout",
     "output_type": "stream",
     "text": [
      "[1, 2, 3, 4, 5] [1, 4, 3, 1, 0]\n",
      "[2, 3, 4, 5] [1, 4, 3, 1, 0]\n",
      "[3, 4] [4, 3, 1]\n",
      "[] [3]\n",
      "finished!\n"
     ]
    }
   ],
   "source": [
    "def yum(lst1, lst2):\n",
    "    print(lst1, lst2)\n",
    "    if (len(lst1) == 0) or (len(lst2)==0):\n",
    "        print('finished!')\n",
    "    else:\n",
    "        if lst1[0] == lst2[0]:\n",
    "            yum(lst1[1:], lst2)\n",
    "        elif lst1[0] < lst2[-1]:\n",
    "            yum(lst1, lst2[:-1])\n",
    "        else:\n",
    "            yum(lst1[1:-1], lst2[1:-1])\n",
    "\n",
    "yum([1,2,3,4,5], [1,4,3,1,0])"
   ]
  },
  {
   "cell_type": "markdown",
   "id": "306f01a5",
   "metadata": {
    "slideshow": {
     "slide_type": "slide"
    }
   },
   "source": [
    "<center><h3 style='color:blue'>Question 2</h3></center>\n",
    "<center>Given the following dictionary, write different lines of code to yield the following values: </center>\n",
    "\n",
    "<center>1. the number 4</center>\n",
    "<center>2. the number 42</center>\n",
    "<center>3. the list containing ['temp', 'place']</center>"
   ]
  },
  {
   "cell_type": "code",
   "execution_count": 27,
   "id": "864331a7",
   "metadata": {
    "slideshow": {
     "slide_type": "fragment"
    }
   },
   "outputs": [
    {
     "data": {
      "text/plain": [
       "{'nums': [2, 3, 4, 5],\n",
       " 'DSC20': {'q1': [101, 47], 'q2': [69, 42]},\n",
       " 'cases': [[1, 2, 3], {'temp': [], 'place': []}]}"
      ]
     },
     "execution_count": 27,
     "metadata": {},
     "output_type": "execute_result"
    }
   ],
   "source": [
    "data = {'nums':[2,3,4,5], 'DSC20':{'q1':[101,47],'q2':[69,42]}, 'cases':[[1,2,3], {'temp':[],'place':[]}]}\n",
    "data"
   ]
  },
  {
   "cell_type": "markdown",
   "id": "0d8b0082",
   "metadata": {
    "slideshow": {
     "slide_type": "slide"
    }
   },
   "source": [
    "<center><h3 style='color:blue'>Question 2 Solution</h3></center>"
   ]
  },
  {
   "cell_type": "code",
   "execution_count": 28,
   "id": "ff6ee222",
   "metadata": {
    "slideshow": {
     "slide_type": "fragment"
    }
   },
   "outputs": [
    {
     "data": {
      "text/plain": [
       "4"
      ]
     },
     "execution_count": 28,
     "metadata": {},
     "output_type": "execute_result"
    }
   ],
   "source": [
    "# 1\n",
    "data['nums'][2]"
   ]
  },
  {
   "cell_type": "code",
   "execution_count": 31,
   "id": "b5213e93",
   "metadata": {
    "slideshow": {
     "slide_type": "fragment"
    }
   },
   "outputs": [
    {
     "data": {
      "text/plain": [
       "42"
      ]
     },
     "execution_count": 31,
     "metadata": {},
     "output_type": "execute_result"
    }
   ],
   "source": [
    "# 2\n",
    "data['DSC20']['q2'][1]"
   ]
  },
  {
   "cell_type": "code",
   "execution_count": 32,
   "id": "5c344af7",
   "metadata": {
    "slideshow": {
     "slide_type": "fragment"
    }
   },
   "outputs": [
    {
     "data": {
      "text/plain": [
       "['temp', 'place']"
      ]
     },
     "execution_count": 32,
     "metadata": {},
     "output_type": "execute_result"
    }
   ],
   "source": [
    "# 2\n",
    "list(data['cases'][1].keys())"
   ]
  },
  {
   "cell_type": "markdown",
   "id": "b326c963",
   "metadata": {
    "slideshow": {
     "slide_type": "slide"
    }
   },
   "source": [
    "<center><h3>3. Advanced Functionalities</h3></center>"
   ]
  },
  {
   "cell_type": "markdown",
   "id": "58216e80",
   "metadata": {
    "slideshow": {
     "slide_type": "slide"
    }
   },
   "source": [
    "<center><h3> Files </h3></center>\n",
    "<ul>\n",
    "    <li> storage for data (think csv's from DSC10, txt's from assignments, etc.)\n",
    "    <li> unique methods to access within code\n",
    "    <li> Access modes: write, append, read\n",
    "</ul>"
   ]
  },
  {
   "cell_type": "markdown",
   "id": "1fceb911",
   "metadata": {
    "slideshow": {
     "slide_type": "slide"
    }
   },
   "source": [
    "<center><h3>Opening Files</h3></center>"
   ]
  },
  {
   "cell_type": "code",
   "execution_count": null,
   "id": "db5ef247",
   "metadata": {
    "slideshow": {
     "slide_type": "fragment"
    }
   },
   "outputs": [],
   "source": [
    "# method 1\n",
    "file_object = open('file_name', 'access_mode')\n",
    "# do stuff\n",
    "file_object.close() # required for this method\n",
    "\n",
    "# method 2\n",
    "with open('file_name', 'access_mode') as file_object:\n",
    "    # do stuff"
   ]
  },
  {
   "cell_type": "markdown",
   "id": "409159e9",
   "metadata": {
    "slideshow": {
     "slide_type": "slide"
    }
   },
   "source": [
    "<center><h3> Lambda Functions </h3></center>\n",
    "<ul>\n",
    "    <li> known as anonymous functions (their functions are so simple, they don't need a name)\n",
    "    <li> syntax: lambda (input): (operation)\n",
    "    <li> creating a lambda is O(1) (no operation is performed)\n",
    "</ul>\n",
    "\n",
    "<b>note: </b>lambda functions can't include statements (ex. return, assert)"
   ]
  },
  {
   "cell_type": "markdown",
   "id": "d6c00a4f",
   "metadata": {
    "slideshow": {
     "slide_type": "slide"
    }
   },
   "source": [
    "<center><h3>Map</h3></center>\n",
    "\n",
    "<b>Syntax: map(function, iterable)</b>\n",
    "<ul>\n",
    "    <li> Map allows you to apply a function to all elements to an iterable input\n",
    "    <li> very common to use a lambda function as the function to apply\n",
    "    <li> returns an iterator through the iterable object, applying the function as it traverses\n",
    "</ul>\n",
    "\n",
    "<b>note: </b> Without being called, creating a map is O(1)."
   ]
  },
  {
   "cell_type": "markdown",
   "id": "f643ee4b",
   "metadata": {
    "slideshow": {
     "slide_type": "slide"
    }
   },
   "source": [
    "<center><h3>Filter </h3></center>\n",
    "\n",
    "<b>Syntax: filter(function, iterable)</b>\n",
    "<ul>\n",
    "    <li> Filter takes in a function that returns a boolean and only keeps elements that satisfy the function\n",
    "    <li> Very common to use a lambda function as the function. Keep in mind the function <b>must return a boolean</b>.\n",
    "    <li> Returns an iterator through the iterable object that only yields values that pass the function.\n",
    "</ul>\n",
    "\n",
    "<b>note: </b>filters are a unique subset of maps. You <b>can</b> theoretically write filters as maps, but that's unnecessary complication.\n",
    "\n",
    "<b>note: </b> Without being called, creating a filter is O(1)."
   ]
  },
  {
   "cell_type": "markdown",
   "id": "126d9fd7",
   "metadata": {
    "slideshow": {
     "slide_type": "slide"
    }
   },
   "source": [
    "<center><h3>*args</h3></center>\n",
    "\n",
    "<ul>\n",
    "    <li> Used when an unknown number of arguments will be passed into a function\n",
    "    <li> Denoted by * in the method header (IMPORTANT)\n",
    "    <li> processed in a similar manner to a list\n",
    "</ul>"
   ]
  },
  {
   "cell_type": "markdown",
   "id": "1b569983",
   "metadata": {
    "slideshow": {
     "slide_type": "slide"
    }
   },
   "source": [
    "<center><h3>**kwargs</h3></center>\n",
    "\n",
    "<ul>\n",
    "    <li> Used when an unknown number of <b>keyworded</b> arguments will be passed into a function\n",
    "    <li> Denoted by ** in the method header (IMPORTANT)\n",
    "    <li> processed in a similar manner to a dictionary\n",
    "</ul>"
   ]
  },
  {
   "cell_type": "markdown",
   "id": "71d9ba39",
   "metadata": {
    "slideshow": {
     "slide_type": "slide"
    }
   },
   "source": [
    "<center><h3>default_arguments</h3></center>\n",
    "\n",
    "<ul>\n",
    "    <li> Basically normal arguments, but with a default value\n",
    "    <li> if no value is passed, default value is set\n",
    "    <li> if a value is passed, default value is overwritten\n",
    "</ul>\n",
    "\n",
    "<b>note</b>: complex argument ordering: def func(normal_arguments, *args, default_args, **kwargs)\n",
    "\n",
    "<b>on the exam</b> if the order def func(normal_arguments, default_args, *args, **kwargs) is presented, we will still accept it as a correct answer."
   ]
  },
  {
   "cell_type": "code",
   "execution_count": 4,
   "id": "d53ae2fb",
   "metadata": {
    "slideshow": {
     "slide_type": "fragment"
    }
   },
   "outputs": [],
   "source": [
    "def test(exam, *names, questions = 18, **grades):\n",
    "    return"
   ]
  },
  {
   "cell_type": "markdown",
   "id": "c7ada7b7",
   "metadata": {
    "slideshow": {
     "slide_type": "slide"
    }
   },
   "source": [
    "<center><h3 style='color:blue'>Checkpoint</h3></center>"
   ]
  },
  {
   "cell_type": "markdown",
   "id": "68bb37bd",
   "metadata": {
    "slideshow": {
     "slide_type": "slide"
    }
   },
   "source": [
    "<center><h3 style='color:blue'>Question 1</h3></center>\n",
    "\n",
    "<center>Write a function that takes in a list of strings, an unknown number of factors (ints) and an unknown number of items. The function should only retain target items and multiply the results by its associated factor. Use filter/map/lambda. Assume that there are an equal number of factors and items.</center>"
   ]
  },
  {
   "cell_type": "code",
   "execution_count": null,
   "id": "c9b81d92",
   "metadata": {
    "slideshow": {
     "slide_type": "fragment"
    }
   },
   "outputs": [],
   "source": [
    "def ingest(targets, *factors, **items):\n",
    "    \"\"\"\n",
    "    >>> ingest(['games', 'food'], 2, 3, 7, games=4, food=7, classes=2)\n",
    "    [('games', 8), ('food', 21)]\n",
    "    \"\"\"\n",
    "    # Write your implementation here\n",
    "    return"
   ]
  },
  {
   "cell_type": "markdown",
   "id": "b5426856",
   "metadata": {
    "slideshow": {
     "slide_type": "slide"
    }
   },
   "source": [
    "<center><h3 style='color:blue'>Question 1 Solution</h3></center>"
   ]
  },
  {
   "cell_type": "code",
   "execution_count": 59,
   "id": "5f209368",
   "metadata": {
    "slideshow": {
     "slide_type": "fragment"
    }
   },
   "outputs": [
    {
     "data": {
      "text/plain": [
       "[('games', 8), ('food', 21)]"
      ]
     },
     "execution_count": 59,
     "metadata": {},
     "output_type": "execute_result"
    }
   ],
   "source": [
    "def ingest(targets, *factors, **items):\n",
    "    remove_noise = filter(lambda x: x[0] in targets, items.items())\n",
    "    process = map(lambda x,y: (x[0], x[1]*y), remove_noise, factors)\n",
    "    return list(process)\n",
    "ingest(['games', 'food'], 2, 3, 7, games=4, food=7, classes=2)"
   ]
  },
  {
   "cell_type": "markdown",
   "id": "22dd827c",
   "metadata": {
    "slideshow": {
     "slide_type": "slide"
    }
   },
   "source": [
    "<center><h3 style='color:blue'>Question 2</h3></center>\n",
    "\n",
    "<center>Write a function that is given an unknown number of strings and checks whether they're valid emails or not. In this case, a valid email is any string that has characters before @, an @ symbol, and ends with .com</center>"
   ]
  },
  {
   "cell_type": "code",
   "execution_count": 87,
   "id": "a705aa17",
   "metadata": {
    "slideshow": {
     "slide_type": "fragment"
    }
   },
   "outputs": [],
   "source": [
    "def email_check(*emails):\n",
    "    \"\"\"\n",
    "    >>> email_check('b@uc.com','c@mail.com','n@honkai','@.com','a@.com','')\n",
    "    ['b@uc.com', 'c@mail.com', 'a@.com']\n",
    "    \"\"\"\n",
    "    # Write your implementation here\n",
    "    return"
   ]
  },
  {
   "cell_type": "markdown",
   "id": "cf451301",
   "metadata": {
    "slideshow": {
     "slide_type": "slide"
    }
   },
   "source": [
    "<center><h3 style='color:blue'>Question 2 Solution</h3></center>"
   ]
  },
  {
   "cell_type": "code",
   "execution_count": 86,
   "id": "795e2577",
   "metadata": {
    "slideshow": {
     "slide_type": "fragment"
    }
   },
   "outputs": [
    {
     "data": {
      "text/plain": [
       "['b@uc.com', 'c@mail.com', 'a@.com']"
      ]
     },
     "execution_count": 86,
     "metadata": {},
     "output_type": "execute_result"
    }
   ],
   "source": [
    "def email_check(*emails):\n",
    "    check_com = filter(lambda x: x[-4:]=='.com', emails)\n",
    "    check_at = filter(lambda x: x.find('@')!= -1, check_com)\n",
    "    check_front = filter(lambda x: (len(x.split('@')[0]) > 0), check_at)\n",
    "    return list(check_front)\n",
    "\n",
    "email_check('b@uc.com','c@mail.com','n@honkai','@.com','a@.com','')"
   ]
  },
  {
   "cell_type": "markdown",
   "id": "c58a6423",
   "metadata": {
    "slideshow": {
     "slide_type": "slide"
    }
   },
   "source": [
    "<center><h3>4. Function Evaluation</h3></center>"
   ]
  },
  {
   "cell_type": "markdown",
   "id": "1e45fa7c",
   "metadata": {
    "slideshow": {
     "slide_type": "slide"
    }
   },
   "source": [
    "<center><h3>Exceptions</h3></center>\n",
    "\n",
    "<center>Python class for errors, triggered when illogical code is passed in</center>\n",
    "\n",
    "<ul>\n",
    "    <li> <b style ='color:blue'>KeyError</b> - related to dictionaries; attempted access using a key not present in the object\n",
    "    <li> <b style ='color:blue'>IndexError</b> - related to lists/strings; attempted acccess of an index that's out of range\n",
    "    <li> <b style ='color:blue'>TypeError</b> - attempt to unify non - matching data types (ex. str + int) or attempt to access unknown attribute of datatype\n",
    "    <li> <b style ='color:blue'>FileNotFoundError</b> - related to files; attempted to open a file name that can't be found"
   ]
  },
  {
   "cell_type": "markdown",
   "id": "060a4f3f",
   "metadata": {
    "slideshow": {
     "slide_type": "slide"
    }
   },
   "source": [
    "<center><h3> raise </h3></center>\n",
    "\n",
    "<center>python keyword to throw an error.</center>\n",
    "\n",
    "<center><b>syntax</b>: raise [error type](error message // optional)</center>"
   ]
  },
  {
   "cell_type": "code",
   "execution_count": 1,
   "id": "503985d2",
   "metadata": {
    "slideshow": {
     "slide_type": "fragment"
    }
   },
   "outputs": [
    {
     "ename": "ValueError",
     "evalue": "number too small",
     "output_type": "error",
     "traceback": [
      "\u001b[0;31m---------------------------------------------------------------------------\u001b[0m",
      "\u001b[0;31mValueError\u001b[0m                                Traceback (most recent call last)",
      "Cell \u001b[0;32mIn[1], line 4\u001b[0m\n\u001b[1;32m      2\u001b[0m     \u001b[38;5;28;01mif\u001b[39;00m x \u001b[38;5;241m<\u001b[39m \u001b[38;5;241m21\u001b[39m:\n\u001b[1;32m      3\u001b[0m         \u001b[38;5;28;01mraise\u001b[39;00m \u001b[38;5;167;01mValueError\u001b[39;00m(\u001b[38;5;124m\"\u001b[39m\u001b[38;5;124mnumber too small\u001b[39m\u001b[38;5;124m\"\u001b[39m)\n\u001b[0;32m----> 4\u001b[0m \u001b[43mfoo\u001b[49m\u001b[43m(\u001b[49m\u001b[38;5;241;43m0\u001b[39;49m\u001b[43m)\u001b[49m\n",
      "Cell \u001b[0;32mIn[1], line 3\u001b[0m, in \u001b[0;36mfoo\u001b[0;34m(x)\u001b[0m\n\u001b[1;32m      1\u001b[0m \u001b[38;5;28;01mdef\u001b[39;00m \u001b[38;5;21mfoo\u001b[39m(x):\n\u001b[1;32m      2\u001b[0m     \u001b[38;5;28;01mif\u001b[39;00m x \u001b[38;5;241m<\u001b[39m \u001b[38;5;241m21\u001b[39m:\n\u001b[0;32m----> 3\u001b[0m         \u001b[38;5;28;01mraise\u001b[39;00m \u001b[38;5;167;01mValueError\u001b[39;00m(\u001b[38;5;124m\"\u001b[39m\u001b[38;5;124mnumber too small\u001b[39m\u001b[38;5;124m\"\u001b[39m)\n",
      "\u001b[0;31mValueError\u001b[0m: number too small"
     ]
    }
   ],
   "source": [
    "def foo(x):\n",
    "    if x < 21:\n",
    "        raise ValueError(\"number too small\")\n",
    "foo(0)"
   ]
  },
  {
   "cell_type": "markdown",
   "id": "8ba74794",
   "metadata": {
    "slideshow": {
     "slide_type": "slide"
    }
   },
   "source": [
    "<center><h3> try except else</h3></center>\n",
    "\n",
    "<center>Exceptions can be handled in try-except blocks. This prevents code from terminating the moment an error happens.</center>"
   ]
  },
  {
   "cell_type": "code",
   "execution_count": 2,
   "id": "210f28f8",
   "metadata": {
    "slideshow": {
     "slide_type": "fragment"
    }
   },
   "outputs": [
    {
     "name": "stdout",
     "output_type": "stream",
     "text": [
      "'int' object has no attribute 'append'\n",
      "--------------------------------------\n",
      "['y']\n",
      "done!\n"
     ]
    }
   ],
   "source": [
    "def foo(z):\n",
    "    try:\n",
    "        z.append('y')\n",
    "    except AttributeError as e:\n",
    "        print(e)\n",
    "    else:\n",
    "        print(z)\n",
    "        print('done!')\n",
    "        \n",
    "foo(4)\n",
    "print('--------------------------------------')\n",
    "foo([])"
   ]
  },
  {
   "cell_type": "markdown",
   "id": "4ddb9bd7",
   "metadata": {
    "slideshow": {
     "slide_type": "slide"
    }
   },
   "source": [
    "<center><h3> Asserts + Doctests </h3></center>\n",
    "<ul>\n",
    "    <li> Used to evaluate written code\n",
    "    <li> <b style='color:blue'>asserts</b> -> input validation (are the arguments the correct types)\n",
    "    <li> <b style='color:blue'>doctests</b> -> code validation (does the function give the correct output)\n",
    "        \n",
    "<b>note:</b> asserts can be used in tandem with functions that return booleans (ex. all())\n",
    "\n",
    "<b>note:</b> doctests are denoted by '>>> ' (space included).\n",
    "        \n",
    "<b>note:</b> def keyword is specifically to declare functions, they shouldn't be included in doctests."
   ]
  },
  {
   "cell_type": "markdown",
   "id": "66c1994c",
   "metadata": {
    "slideshow": {
     "slide_type": "slide"
    }
   },
   "source": [
    "<center><h3>Time Complexity</h3></center>\n",
    "\n",
    "<center>Utilize mathematical principles to classify code as runtime families to quantify their relative efficiency</center>\n",
    "\n",
    "<b style='color:blue'>tips</b>:\n",
    "1. Always look for \"hallmark features\" (ex. if I see i // 2, there's probably log involved)\n",
    "2. If there are loops, check the iteration count AND the inside operations (don't assume n runtime)\n",
    "3. Order of Growth follows mathematical principles. Only consider the largest term (without constants)\n",
    "\n",
    "<center><img src='imgs/graph_ref.png' width = 600></center>\n",
    "<center><a href='https://www.bigocheatsheet.com/'>source</a></center>"
   ]
  },
  {
   "cell_type": "markdown",
   "id": "558066f7",
   "metadata": {
    "slideshow": {
     "slide_type": "slide"
    }
   },
   "source": [
    "<center><h3 style='color:blue'>Checkpoint</h3></center>"
   ]
  },
  {
   "cell_type": "markdown",
   "id": "2c48e5cf",
   "metadata": {
    "slideshow": {
     "slide_type": "slide"
    }
   },
   "source": [
    "<center><h3 style='color:blue'>Question 1</h3></center>\n",
    "<center>What's the time complexity of the following function?</center>"
   ]
  },
  {
   "cell_type": "code",
   "execution_count": null,
   "id": "e1494621",
   "metadata": {
    "slideshow": {
     "slide_type": "fragment"
    }
   },
   "outputs": [],
   "source": [
    "def complexity(x):\n",
    "    total = 1\n",
    "    k_sum = 0\n",
    "    \n",
    "    for i in range(x): \n",
    "        for j in range(x**2, x**2 + 5*x - 50):\n",
    "            total += j\n",
    "        k = x\n",
    "        while k > 0:\n",
    "            k = k // 2\n",
    "            k_sum += k\n",
    "    \n",
    "    return total, k_sum    "
   ]
  },
  {
   "cell_type": "markdown",
   "id": "20aea362",
   "metadata": {
    "slideshow": {
     "slide_type": "slide"
    }
   },
   "source": [
    "<center><h3 style='color:blue'>Question 1 Solution</h3></center>"
   ]
  },
  {
   "cell_type": "markdown",
   "id": "5e1f3e3d",
   "metadata": {
    "slideshow": {
     "slide_type": "fragment"
    }
   },
   "source": [
    "<center>The outer loop runs for n iterations (where n is the input number x). To find the time complexity of the inner for loop, we can subtract the starting value from the stopping value: (n**2 + 5*n - 50) - n**2 = 5*n - 50. Then, for the inner while loop, since we are dividing k in half every iteration, the while loop will have a time complexity of logn. In order to calculate the final time complexity, we multiply the outer loop's time complexity with the inner loops', resulting in:\n",
    "\n",
    "<center>O(complexity) = n((5n - 50) + logn) = 5n**2 - 50n + nlogn = <b style='color:blue'>O(n^2)</b></center>\n",
    "    *<b>Note</b>: remember n^2 > nlogn"
   ]
  },
  {
   "cell_type": "markdown",
   "id": "9adc11aa",
   "metadata": {
    "slideshow": {
     "slide_type": "slide"
    }
   },
   "source": [
    "<center><h3 style='color:blue'>Question 2</h3></center>\n",
    "<center>Write 3 doctests to test the following code</center>"
   ]
  },
  {
   "cell_type": "code",
   "execution_count": 88,
   "id": "5370ef95",
   "metadata": {
    "slideshow": {
     "slide_type": "fragment"
    }
   },
   "outputs": [],
   "source": [
    "def ingest(targets, *factors, **items):\n",
    "    \"\"\"\n",
    "    a function that takes in a list of strings, an unknown number \n",
    "    of factors (ints) and an unknown number of items. \n",
    "    The function should only retain target items and multiply the \n",
    "    resulting items by its associated factor.\n",
    "    \"\"\"\n",
    "    remove_noise = filter(lambda x: x[0] in targets, items.items())\n",
    "    process = map(lambda x,y: (x[0], x[1]*y), remove_noise, factors)\n",
    "    return list(process)"
   ]
  },
  {
   "cell_type": "markdown",
   "id": "39a0750b",
   "metadata": {
    "slideshow": {
     "slide_type": "slide"
    }
   },
   "source": [
    "<center><h3 style='color:blue'>Question 2 Solution</h3></center>"
   ]
  },
  {
   "cell_type": "code",
   "execution_count": null,
   "id": "79df1e8e",
   "metadata": {
    "slideshow": {
     "slide_type": "fragment"
    }
   },
   "outputs": [],
   "source": [
    ">>> ingest(['games'], 1,1, games=4, food=7)\n",
    "[('games', 4)]\n",
    ">>> ingest(['games', 'food', 'classes'], 2, 3, 7, games=4, food=7, classes=2)\n",
    "[('games', 8), ('food', 21), ('classes', 14)]\n",
    ">>> ingest([], 2, 3, 7, games=4, food=7, classes=2)\n",
    "[]"
   ]
  },
  {
   "cell_type": "markdown",
   "id": "2fddac0c",
   "metadata": {
    "slideshow": {
     "slide_type": "slide"
    }
   },
   "source": [
    "<center><h3 style='color:blue'>Question 3</h3></center>\n",
    "<center>Given the following function intake_review, which takes in a filepath to a review, the number of reviews for the item, the number of recommendations for the item, and a name, use asserts / try except to prevent the following code from reaching an error</center>"
   ]
  },
  {
   "cell_type": "code",
   "execution_count": 96,
   "id": "2d8a8fad",
   "metadata": {
    "slideshow": {
     "slide_type": "fragment"
    }
   },
   "outputs": [
    {
     "data": {
      "text/plain": [
       "{'review': 'great product!', 'recommend_percent': 0.8, 'name': 'nicole'}"
      ]
     },
     "execution_count": 96,
     "metadata": {},
     "output_type": "execute_result"
    }
   ],
   "source": [
    "def intake_review(review_path, num_reviews, num_recommend, name):\n",
    "    data = {}\n",
    "    with open(review_path, 'r') as f:\n",
    "        data['review'] = f.read()\n",
    "    data['recommend_percent'] = num_recommend/num_reviews\n",
    "    data['name'] = name\n",
    "    return data\n",
    "\n",
    "intake_review('review.txt', 5, 4, 'nicole')"
   ]
  },
  {
   "cell_type": "markdown",
   "id": "79f872c9",
   "metadata": {
    "slideshow": {
     "slide_type": "slide"
    }
   },
   "source": [
    "<center><h3 style='color:blue'>Question 3 Solution</h3></center>"
   ]
  },
  {
   "cell_type": "code",
   "execution_count": 105,
   "id": "3c474532",
   "metadata": {
    "slideshow": {
     "slide_type": "fragment"
    }
   },
   "outputs": [],
   "source": [
    "def intake_review(review_path, num_reviews, num_recommend, name):\n",
    "    assert isinstance(review_path, str)\n",
    "    assert isinstance(num_reviews, int)\n",
    "    assert isinstance(num_recommend, int)\n",
    "    assert isinstance(name, str)\n",
    "    assert num_reviews > 0\n",
    "    \n",
    "    data = {}\n",
    "    try:\n",
    "        with open(review_path, 'r') as f:\n",
    "            data['review'] = f.read()\n",
    "        data['recommend_percent'] = num_recommend/num_reviews\n",
    "        data['name'] = name\n",
    "    except FileNotFoundError as e:\n",
    "        print('invalid filepath given')\n",
    "    else:\n",
    "        return data"
   ]
  },
  {
   "cell_type": "code",
   "execution_count": 106,
   "id": "2e87e736",
   "metadata": {
    "slideshow": {
     "slide_type": "fragment"
    }
   },
   "outputs": [
    {
     "data": {
      "text/plain": [
       "{'review': 'great product!', 'recommend_percent': 0.8, 'name': 'nicole'}"
      ]
     },
     "execution_count": 106,
     "metadata": {},
     "output_type": "execute_result"
    }
   ],
   "source": [
    "intake_review('review.txt', 5, 4, 'nicole')"
   ]
  },
  {
   "cell_type": "code",
   "execution_count": 108,
   "id": "6c5b8ffe",
   "metadata": {
    "slideshow": {
     "slide_type": "fragment"
    }
   },
   "outputs": [
    {
     "name": "stdout",
     "output_type": "stream",
     "text": [
      "invalid filepath given\n"
     ]
    }
   ],
   "source": [
    "intake_review('review', 5, 4, 'nicole')"
   ]
  },
  {
   "cell_type": "code",
   "execution_count": 102,
   "id": "0c9d790d",
   "metadata": {
    "slideshow": {
     "slide_type": "fragment"
    }
   },
   "outputs": [
    {
     "ename": "AssertionError",
     "evalue": "",
     "output_type": "error",
     "traceback": [
      "\u001b[0;31m---------------------------------------------------------------------------\u001b[0m",
      "\u001b[0;31mAssertionError\u001b[0m                            Traceback (most recent call last)",
      "Cell \u001b[0;32mIn[102], line 1\u001b[0m\n\u001b[0;32m----> 1\u001b[0m \u001b[43mintake_review\u001b[49m\u001b[43m(\u001b[49m\u001b[38;5;124;43m'\u001b[39;49m\u001b[38;5;124;43mreview.txt\u001b[39;49m\u001b[38;5;124;43m'\u001b[39;49m\u001b[43m,\u001b[49m\u001b[43m \u001b[49m\u001b[38;5;241;43m0\u001b[39;49m\u001b[43m,\u001b[49m\u001b[43m \u001b[49m\u001b[38;5;241;43m1\u001b[39;49m\u001b[43m,\u001b[49m\u001b[43m \u001b[49m\u001b[38;5;124;43m'\u001b[39;49m\u001b[38;5;124;43mnicole\u001b[39;49m\u001b[38;5;124;43m'\u001b[39;49m\u001b[43m)\u001b[49m\n",
      "Cell \u001b[0;32mIn[101], line 6\u001b[0m, in \u001b[0;36mintake_review\u001b[0;34m(review_path, num_reviews, num_recommend, name)\u001b[0m\n\u001b[1;32m      4\u001b[0m \u001b[38;5;28;01massert\u001b[39;00m \u001b[38;5;28misinstance\u001b[39m(num_recommend, \u001b[38;5;28mint\u001b[39m)\n\u001b[1;32m      5\u001b[0m \u001b[38;5;28;01massert\u001b[39;00m \u001b[38;5;28misinstance\u001b[39m(name, \u001b[38;5;28mstr\u001b[39m)\n\u001b[0;32m----> 6\u001b[0m \u001b[38;5;28;01massert\u001b[39;00m num_reviews \u001b[38;5;241m>\u001b[39m \u001b[38;5;241m0\u001b[39m\n\u001b[1;32m      8\u001b[0m data \u001b[38;5;241m=\u001b[39m {}\n\u001b[1;32m      9\u001b[0m \u001b[38;5;28;01mtry\u001b[39;00m:\n",
      "\u001b[0;31mAssertionError\u001b[0m: "
     ]
    }
   ],
   "source": [
    "intake_review('review.txt', 0, 1, 'nicole')"
   ]
  },
  {
   "cell_type": "markdown",
   "id": "02690f9c",
   "metadata": {
    "slideshow": {
     "slide_type": "slide"
    }
   },
   "source": [
    "<center><h3> 5. Design Ideas </h3></center>"
   ]
  },
  {
   "cell_type": "markdown",
   "id": "78c87f78",
   "metadata": {
    "slideshow": {
     "slide_type": "slide"
    }
   },
   "source": [
    "<center><h3>Higher Order Function</h3></center>\n",
    "\n",
    "<ul>\n",
    "    <li>Design structure to minimize repetitive code.\n",
    "    <li>Returns another function thats built within the outer function.\n",
    "    <li>Prevents inner function from being exposed to operations in the global scope.\n",
    "</ul>\n",
    "\n",
    "<center><img src='imgs/HOF.png'></center>"
   ]
  },
  {
   "cell_type": "markdown",
   "id": "4a3d4c31",
   "metadata": {
    "slideshow": {
     "slide_type": "slide"
    }
   },
   "source": [
    "<center><h3>Recursion</h3></center>\n",
    "<center>Recursion is a design method for code that features functions invoking itself.</center>\n",
    "<ul>\n",
    "    <li> <b style='color:blue'>base case</b> - determines the stop point for recursion and begins the argument passing up the \"stack\" of recursive calls. When writing recursion questions, always start with determining the base case.\n",
    "    <li> <b style='color:blue'>recursive calls</b> - repeated invocation of function until the base case is reached. Keep in mind when writing recursive calls that every call needs to trend towards the base case.\n",
    "        "
   ]
  },
  {
   "cell_type": "markdown",
   "id": "27d5dc9b",
   "metadata": {
    "slideshow": {
     "slide_type": "slide"
    }
   },
   "source": [
    "<center><h3> Classes </h3></center>\n",
    "\n",
    "<center>Classes aggregate code together into a functional body. A lot of effective python code is written as classes (every time you install a new package, it's basically written as a lot of different classes). For example, recall the pandas dataframe. If you look at the source code for <a href='https://github.com/pandas-dev/pandas/blob/main/pandas/core/frame.py'>pandas</a>, you'll see that it's a very complicated class definition.</center>"
   ]
  },
  {
   "cell_type": "markdown",
   "id": "4c7240bb",
   "metadata": {
    "slideshow": {
     "slide_type": "slide"
    }
   },
   "source": [
    "<center><h3> Inheritance </h3></center>\n",
    "\n",
    "<center>Classes can inherit functionality from a parent class, allowing for additional methods to be added and old ones to be modified. Classes can also inherit from multiple parent classes. <a src='https://www.programiz.com/python-programming/multiple-inheritance'>reading</a> on the topic can be found here.</center>"
   ]
  },
  {
   "cell_type": "markdown",
   "id": "931190a5",
   "metadata": {
    "slideshow": {
     "slide_type": "slide"
    }
   },
   "source": [
    "<center><h3> Special Methods </h3></center>\n",
    "<center> unique methods that dictate built-in behavior (denoted by preceeding and succeeding '__')\n",
    "\n",
    "<center>__str__: Encodes the string representation of an object - emphasis on readability</center>\n",
    "\n",
    "<center>__repr__: Encodes the evaluated representation of an object - emphasis on clarity</center>\n",
    "\n",
    "<center>__init__: Constructor for Classes</center>\n",
    "    \n",
    "<center>__(other ones)__: encodes unique operations (ex. object comparison based on class attrs)</center>\n",
    "    \n",
    "<b>note</b>: if there's no \\_\\_str\\_\\_ implemented, python defaults to the \\_\\_repr\\_\\_ representation"
   ]
  },
  {
   "cell_type": "markdown",
   "id": "970bcdaa",
   "metadata": {
    "slideshow": {
     "slide_type": "slide"
    }
   },
   "source": [
    "<center><h3 style='color:blue'>Checkpoint</h3></center>"
   ]
  },
  {
   "cell_type": "markdown",
   "id": "ab5add5a",
   "metadata": {
    "slideshow": {
     "slide_type": "slide"
    }
   },
   "source": [
    "<center><h3 style='color:blue'>Question 1</h3></center>\n",
    "<center>Write a function that mimics set() cast functionality using recursion</center>"
   ]
  },
  {
   "cell_type": "code",
   "execution_count": 6,
   "id": "1f798828",
   "metadata": {
    "slideshow": {
     "slide_type": "fragment"
    }
   },
   "outputs": [],
   "source": [
    "def set_recursion(lst):\n",
    "    \"\"\"\n",
    "    >>> set_recursion(set_recursion([1,1,1,2,3,3,4]))\n",
    "    [1, 2, 3, 4]\n",
    "    \"\"\"\n",
    "    # Write your implementation here"
   ]
  },
  {
   "cell_type": "markdown",
   "id": "322eef22",
   "metadata": {
    "slideshow": {
     "slide_type": "slide"
    }
   },
   "source": [
    "<center><h3 style='color:blue'>Question 1 Solution</h3></center>"
   ]
  },
  {
   "cell_type": "code",
   "execution_count": 7,
   "id": "bc24e1b2",
   "metadata": {
    "scrolled": true,
    "slideshow": {
     "slide_type": "fragment"
    }
   },
   "outputs": [
    {
     "data": {
      "text/plain": [
       "[1, 2, 3, 4]"
      ]
     },
     "execution_count": 7,
     "metadata": {},
     "output_type": "execute_result"
    }
   ],
   "source": [
    "def set_recursion(lst):\n",
    "    if len(lst) == 0:\n",
    "        return []\n",
    "    else:\n",
    "        if lst[0] in set_recursion(lst[1:]):\n",
    "            return set_recursion(lst[1:])\n",
    "        else:\n",
    "            return [lst[0]] + set_recursion(lst[1:])\n",
    "\n",
    "set_recursion(set_recursion([1,1,1,2,3,3,4]))"
   ]
  },
  {
   "cell_type": "markdown",
   "id": "53b6e842",
   "metadata": {
    "slideshow": {
     "slide_type": "slide"
    }
   },
   "source": [
    "<center><h3 style='color:blue'>Question 2</h3></center>\n",
    "<center>Given the following code, what is the output of the resulting calls?</center>"
   ]
  },
  {
   "cell_type": "code",
   "execution_count": 123,
   "id": "bcb4d055",
   "metadata": {
    "slideshow": {
     "slide_type": "fragment"
    }
   },
   "outputs": [],
   "source": [
    "class game:\n",
    "    developer = 'blizzard'\n",
    "    \n",
    "    def __init__(self, name, g_type):\n",
    "        self.name = name\n",
    "        self.g_type = g_type\n",
    "    def __str__(self):\n",
    "        return 'blizzard made me!'\n",
    "    \n",
    "class diablo(game):\n",
    "    developer = 'blizzard activision'\n",
    "    def __init__(self, name):\n",
    "        super().__init__(name,'rpg')\n",
    "    def hmm():\n",
    "        return \"blizzard just released me!\"\n",
    "\n",
    "game_1 = game('overwatch', 'fps')\n",
    "game_2 = diablo('diablo IV')\n",
    "print(game_2.g_type)\n",
    "print(game_2.developer)\n",
    "print(game_1)\n",
    "print(game_2)\n",
    "print(diablo.hmm())\n",
    "print(game_2.hmm())"
   ]
  },
  {
   "cell_type": "markdown",
   "id": "808a3d58",
   "metadata": {
    "slideshow": {
     "slide_type": "slide"
    }
   },
   "source": [
    "<center><h3 style='color:blue'>Question 2 Solution</h3></center>"
   ]
  },
  {
   "cell_type": "code",
   "execution_count": 128,
   "id": "25a89e08",
   "metadata": {
    "slideshow": {
     "slide_type": "fragment"
    }
   },
   "outputs": [
    {
     "name": "stdout",
     "output_type": "stream",
     "text": [
      "rpg\n",
      "blizzard activision\n",
      "blizzard made me!\n",
      "blizzard made me!\n",
      "blizzard just released me!\n"
     ]
    },
    {
     "ename": "TypeError",
     "evalue": "diablo.hmm() takes 0 positional arguments but 1 was given",
     "output_type": "error",
     "traceback": [
      "\u001b[0;31m---------------------------------------------------------------------------\u001b[0m",
      "\u001b[0;31mTypeError\u001b[0m                                 Traceback (most recent call last)",
      "Cell \u001b[0;32mIn[128], line 6\u001b[0m\n\u001b[1;32m      4\u001b[0m \u001b[38;5;28mprint\u001b[39m(game_2)\n\u001b[1;32m      5\u001b[0m \u001b[38;5;28mprint\u001b[39m(diablo\u001b[38;5;241m.\u001b[39mhmm())\n\u001b[0;32m----> 6\u001b[0m \u001b[38;5;28mprint\u001b[39m(\u001b[43mgame_2\u001b[49m\u001b[38;5;241;43m.\u001b[39;49m\u001b[43mhmm\u001b[49m\u001b[43m(\u001b[49m\u001b[43m)\u001b[49m)\n",
      "\u001b[0;31mTypeError\u001b[0m: diablo.hmm() takes 0 positional arguments but 1 was given"
     ]
    }
   ],
   "source": [
    "print(game_2.g_type)\n",
    "print(game_2.developer)\n",
    "print(game_1)\n",
    "print(game_2)\n",
    "print(diablo.hmm())\n",
    "print(game_2.hmm())"
   ]
  },
  {
   "cell_type": "markdown",
   "id": "49030538",
   "metadata": {
    "slideshow": {
     "slide_type": "slide"
    }
   },
   "source": [
    "<center> <h1>Thanks for coming!</h1></center>\n",
    "<center> Good luck with finals! </center>"
   ]
  },
  {
   "cell_type": "code",
   "execution_count": null,
   "id": "aecf0425",
   "metadata": {
    "slideshow": {
     "slide_type": "skip"
    }
   },
   "outputs": [],
   "source": []
  }
 ],
 "metadata": {
  "celltoolbar": "Slideshow",
  "kernelspec": {
   "display_name": "Python 3 (ipykernel)",
   "language": "python",
   "name": "python3"
  },
  "language_info": {
   "codemirror_mode": {
    "name": "ipython",
    "version": 3
   },
   "file_extension": ".py",
   "mimetype": "text/x-python",
   "name": "python",
   "nbconvert_exporter": "python",
   "pygments_lexer": "ipython3",
   "version": "3.10.8"
  },
  "rise": {
   "enable_chalkboard": true
  }
 },
 "nbformat": 4,
 "nbformat_minor": 5
}
