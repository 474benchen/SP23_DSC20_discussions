{
 "cells": [
  {
   "cell_type": "markdown",
   "id": "9ac70a89",
   "metadata": {
    "slideshow": {
     "slide_type": "skip"
    }
   },
   "source": [
    "**note**: for anyone trying to view this as a slideshow, run 'pip install rise', reload your notebook, then click on the button that looks like a bar graph to the right of the command palette at the top."
   ]
  },
  {
   "cell_type": "markdown",
   "id": "0aaa7f3e",
   "metadata": {
    "slideshow": {
     "slide_type": "slide"
    }
   },
   "source": [
    "<center><h1>Discussion 6</h1></center>\n",
    "<center><h2>DSC 20, Spring 2023</h2><center>"
   ]
  },
  {
   "cell_type": "markdown",
   "id": "172f9b03",
   "metadata": {
    "slideshow": {
     "slide_type": "slide"
    }
   },
   "source": [
    "<center><h3>Recursion, Complexity</h3></center>"
   ]
  },
  {
   "cell_type": "markdown",
   "id": "c8f91290",
   "metadata": {
    "slideshow": {
     "slide_type": "slide"
    }
   },
   "source": [
    "<center><h3>Agenda</h3></center>\n",
    "<ul>\n",
    "    <li> <b style = 'color:blue'>Complexity</b> - Math Review, Interpretation, Calculation</li>\n",
    "    <li> <b style = 'color:blue'>Recursion</b> - Base Case, Recursive Calls, Logic </li>\n",
    "</ul>"
   ]
  },
  {
   "cell_type": "markdown",
   "id": "fc582f61",
   "metadata": {
    "slideshow": {
     "slide_type": "slide"
    }
   },
   "source": [
    "<center><h3>Why Complexity?</h3></center>\n",
    "\n",
    "<center>Time complexity is an empirical method to measure the efficiency of code. Since everyone's computer is different, we can't compare code with actual numbers. Instead, we classify them into different runtime categories that allow us to infer its runtime relative to our input.</center>\n",
    "\n",
    "<center><img src = 'imgs/cat_math.gif' width=500></center>"
   ]
  },
  {
   "cell_type": "markdown",
   "id": "58b796c3",
   "metadata": {
    "slideshow": {
     "slide_type": "slide"
    }
   },
   "source": [
    "<center><h3>Complexity Fundamentals</h3></center>\n",
    "\n",
    "1. Code should be quantified into big O values\n",
    "\n",
    "2. Nested code will have compounded big O values\n",
    "\n",
    "3. The largest term dictates the growth rate (i.e. only largest term matters)\n",
    "\n",
    "4. Constants are irrelevant\n",
    "\n",
    "5. big O analysis uses similar ideas to calculus and limits - reference your math knowledge\n"
   ]
  },
  {
   "cell_type": "markdown",
   "id": "fa6ad4f9",
   "metadata": {
    "slideshow": {
     "slide_type": "slide"
    }
   },
   "source": [
    "<center><h3>Complexity - Basic Interpretation</h3></center>"
   ]
  },
  {
   "cell_type": "code",
   "execution_count": null,
   "id": "e9cc2a0c",
   "metadata": {
    "slideshow": {
     "slide_type": "fragment"
    }
   },
   "outputs": [],
   "source": [
    "1 + 1 # O(1)"
   ]
  },
  {
   "cell_type": "code",
   "execution_count": null,
   "id": "589e9870",
   "metadata": {
    "slideshow": {
     "slide_type": "fragment"
    }
   },
   "outputs": [],
   "source": [
    "for _ in range(n): # O(n)\n",
    "    print(n)"
   ]
  },
  {
   "cell_type": "code",
   "execution_count": null,
   "id": "511d2932",
   "metadata": {
    "slideshow": {
     "slide_type": "fragment"
    }
   },
   "outputs": [],
   "source": [
    "for i in range(x): # O(n^2)\n",
    "    for j in range(y):\n",
    "        print(i + j)"
   ]
  },
  {
   "cell_type": "code",
   "execution_count": null,
   "id": "22f621e8",
   "metadata": {
    "slideshow": {
     "slide_type": "fragment"
    }
   },
   "outputs": [],
   "source": [
    "i = n\n",
    "while i > 0: # O(log(n))\n",
    "    i = i // 2\n",
    "    print(i)"
   ]
  },
  {
   "cell_type": "markdown",
   "id": "7be02713",
   "metadata": {
    "slideshow": {
     "slide_type": "fragment"
    }
   },
   "source": [
    "<b>note:</b> These are very basic examples. Just because there's a nested for loop does not necessarily mean that the runtime is O(n^2). Runtime depends on the number of iterations happening and the cost of each calculation. For example, every function you've used in this class so far has a specific runtime (reference documentation)"
   ]
  },
  {
   "cell_type": "markdown",
   "id": "44174b5f",
   "metadata": {
    "slideshow": {
     "slide_type": "slide"
    }
   },
   "source": [
    "<center><h3>Complexity - Calculation</h3></center>\n",
    "\n",
    "<b style='color:blue'>tips</b>:\n",
    "1. Always look for \"hallmark features\" (ex. if I see i // 2, there's probably log involved)\n",
    "2. If there are loops, check the iteration count (don't assume n runtime)\n",
    "3. Order of Growth follows mathematical principles. Only consider the largest term (without constants)\n",
    "\n",
    "<center><img src='imgs/graph_ref.png' width = 600></center>\n",
    "<center><a href='https://www.bigocheatsheet.com/'>source</a></center>"
   ]
  },
  {
   "cell_type": "markdown",
   "id": "f5b15b31",
   "metadata": {
    "slideshow": {
     "slide_type": "slide"
    }
   },
   "source": [
    "<center><h3 style='color:blue'>Complexity Checkpoint</h3></center>\n",
    "\n",
    "<center>Determine the time complexity of these 3 functions</center>"
   ]
  },
  {
   "cell_type": "markdown",
   "id": "c6f07cd9",
   "metadata": {
    "slideshow": {
     "slide_type": "slide"
    }
   },
   "source": [
    "<center><h3 style='color:blue'>Complexity Question 1</h3></center>"
   ]
  },
  {
   "cell_type": "code",
   "execution_count": 7,
   "id": "d8e3849b",
   "metadata": {
    "slideshow": {
     "slide_type": "fragment"
    }
   },
   "outputs": [],
   "source": [
    "def count_vowels(string):\n",
    "    \"\"\"\n",
    "    function that takes a string as input \n",
    "    and returns the number of vowels in the string.\n",
    "    \"\"\"\n",
    "    count = 0\n",
    "    for char in string:\n",
    "        if char in \"aeiouAEIOU\":\n",
    "            count += 1\n",
    "    return count"
   ]
  },
  {
   "cell_type": "markdown",
   "id": "8ca24a40",
   "metadata": {
    "slideshow": {
     "slide_type": "fragment"
    }
   },
   "source": [
    "<center><b style = 'color:blue'>Solution:</b> O(n)</center>\n",
    "\n",
    "<center>Simple for loop, which runs for n times (n being the length of the input string). WIthin the loop, the operations that happen are all O(1), which yields the resulting expression of:</center>\n",
    "\n",
    "<center>O(count_vowels) = n * 1 = O(n)</center>"
   ]
  },
  {
   "cell_type": "markdown",
   "id": "08f11dc0",
   "metadata": {
    "slideshow": {
     "slide_type": "slide"
    }
   },
   "source": [
    "<center><h3 style='color:blue'>Complexity Question 2</h3></center>"
   ]
  },
  {
   "cell_type": "code",
   "execution_count": 9,
   "id": "2e3d1653",
   "metadata": {
    "slideshow": {
     "slide_type": "fragment"
    }
   },
   "outputs": [],
   "source": [
    "def bubble_sort(arr):\n",
    "    \"\"\"\n",
    "    function that sorts a list of values.\n",
    "    \"\"\"\n",
    "    n = len(arr)\n",
    "    for i in range(n):\n",
    "        for j in range(n - 1):\n",
    "            if arr[j] > arr[j + 1]:\n",
    "                arr[j], arr[j + 1] = arr[j + 1], arr[j]\n",
    "    return arr"
   ]
  },
  {
   "cell_type": "markdown",
   "id": "61e8d169",
   "metadata": {
    "slideshow": {
     "slide_type": "fragment"
    }
   },
   "source": [
    "<center><b style = 'color:blue'>Solution:</b> O(n^2)</center>\n",
    "\n",
    "<center>Simple for loop, which runs for n times (n being the length of the input list). WIthin the loop, there's a second for loop who runs for n-1 times. Within these 2 for loops, operations are all constant. This yields the resulting expression of:</center>\n",
    "\n",
    "<center>O(most_frequent_numbers) = n*(n-1)*1 = n^2 - n = O(n^2)</center>"
   ]
  },
  {
   "cell_type": "markdown",
   "id": "45b261db",
   "metadata": {
    "slideshow": {
     "slide_type": "slide"
    }
   },
   "source": [
    "<center><h3 style='color:blue'>Complexity Question 3</h3></center>"
   ]
  },
  {
   "cell_type": "code",
   "execution_count": 11,
   "id": "69153054",
   "metadata": {
    "slideshow": {
     "slide_type": "fragment"
    }
   },
   "outputs": [],
   "source": [
    "def most_frequent_numbers(arr):\n",
    "    \"\"\"\n",
    "    function to find the two numbers that \n",
    "    appear most frequently in the list.\n",
    "    \"\"\"\n",
    "    nums_dict = {}\n",
    "    for num in arr:\n",
    "        if num in nums_dict:\n",
    "            nums_dict[num] += 1\n",
    "        else:\n",
    "            nums_dict[num] = 1\n",
    "    most_frequent = sorted(nums_dict.items(), \\\n",
    "           key=lambda x: x[1], reverse=True)[:2]\n",
    "    return [num[0] for num in most_frequent]"
   ]
  },
  {
   "cell_type": "markdown",
   "id": "a827ac0c",
   "metadata": {
    "slideshow": {
     "slide_type": "fragment"
    }
   },
   "source": [
    "<center><b style = 'color:blue'>Solution:</b> O(nlog(n))</center>\n",
    "\n",
    "<center>Simple for loop, which runs for n times (n being the length of the input list). WIthin the loop, the operations that happen are all O(1). After the loop, sorted() is called, which is a sorting algorithm with worst case time complexity of O(nlogn). This yields the resulting expression of:</center>\n",
    "\n",
    "<center>O(most_frequent_numbers) = n*1 + nlog(n) = O(nlog(n))</center>"
   ]
  },
  {
   "cell_type": "markdown",
   "id": "d7e87f59",
   "metadata": {
    "slideshow": {
     "slide_type": "slide"
    }
   },
   "source": [
    "<center><h3>Why Recursion?</h3></center>\n",
    "\n",
    "<center>Recursion is a design method for code. A lot of important ideas' optimal solutions are recursive and many algorithms depend on recursion to function correctly (ex. BFS, DFS, Dijkstra's algorithm, BST's). You can't escape it :)</center>\n",
    "\n",
    "<center><img src = 'imgs/infinity_cat.gif' width=500></center>"
   ]
  },
  {
   "cell_type": "markdown",
   "id": "d9440d66",
   "metadata": {
    "slideshow": {
     "slide_type": "slide"
    }
   },
   "source": [
    "<center><h3>Recursion - Base Case</h3></center>\n",
    "\n",
    "<center> Base case(s) are regarded as the most important part of a recursive function. They determine the stop point for recursion and begin the argument passing up the \"stack\" of recursive calls. Without a well written base case, recursion will either never end or end incorrectly. When writing recursion questions, always start with determining the base case. </center>"
   ]
  },
  {
   "cell_type": "markdown",
   "id": "2ff3f6f5",
   "metadata": {
    "slideshow": {
     "slide_type": "slide"
    }
   },
   "source": [
    "<center><h3>Recursion - Recursive Calls</h3></center>\n",
    "\n",
    "<center>The crux of a recursive function working is the recursive calls. These calls will repeat until the base case is reached, creating the \"stack\" of recursive calls that will begin resolving at the base case. Keep in mind when writing recursive calls that every call needs to trend towards the base case.</center>"
   ]
  },
  {
   "cell_type": "markdown",
   "id": "f9ac9c3e",
   "metadata": {
    "slideshow": {
     "slide_type": "slide"
    }
   },
   "source": [
    "<center><h3>Recursion - Example</h3></center>"
   ]
  },
  {
   "cell_type": "code",
   "execution_count": 16,
   "id": "b5d1a370",
   "metadata": {
    "slideshow": {
     "slide_type": "fragment"
    }
   },
   "outputs": [],
   "source": [
    "def list_product(lst):\n",
    "    \"\"\"\n",
    "    recursive function to find the product of every\n",
    "    element in a list. Discuss recursive structure\n",
    "    \"\"\"\n",
    "    if len(lst)==0:\n",
    "        return 1\n",
    "    else:\n",
    "        return list_product(lst[1:]) * lst[0]"
   ]
  },
  {
   "cell_type": "code",
   "execution_count": 17,
   "id": "b2816edd",
   "metadata": {
    "slideshow": {
     "slide_type": "fragment"
    }
   },
   "outputs": [
    {
     "data": {
      "text/plain": [
       "6"
      ]
     },
     "execution_count": 17,
     "metadata": {},
     "output_type": "execute_result"
    }
   ],
   "source": [
    "list_product([1,2,3])"
   ]
  },
  {
   "cell_type": "markdown",
   "id": "c3b6b98a",
   "metadata": {
    "slideshow": {
     "slide_type": "slide"
    }
   },
   "source": [
    "<center><h3>Recursion - Tracing Logic</h3></center>\n",
    "<center><img src='imgs/recursion_trace.png' width=600></center>\n",
    "\n",
    "<center>The recurisve calls of the function generates a \"stack\" of recursive functions to resolve, each waiting for the result from the next until it can be solved. No resolution can happen until the base case is reached and returns the iniital value.</center>"
   ]
  },
  {
   "cell_type": "markdown",
   "id": "73182961",
   "metadata": {
    "slideshow": {
     "slide_type": "slide"
    }
   },
   "source": [
    "<center><h3>Recursion - Bad Base Case</h3></center>"
   ]
  },
  {
   "cell_type": "code",
   "execution_count": 6,
   "id": "acab1efc",
   "metadata": {
    "slideshow": {
     "slide_type": "fragment"
    }
   },
   "outputs": [
    {
     "data": {
      "text/plain": [
       "2"
      ]
     },
     "execution_count": 6,
     "metadata": {},
     "output_type": "execute_result"
    }
   ],
   "source": [
    "def list_product_wrong(lst):\n",
    "    if len(lst)==1:\n",
    "        return 1\n",
    "    return list_product_wrong(lst[1:]) * lst[0]\n",
    "list_product_wrong([1,2,3])"
   ]
  },
  {
   "cell_type": "code",
   "execution_count": 4,
   "id": "4d771bb1",
   "metadata": {
    "slideshow": {
     "slide_type": "fragment"
    }
   },
   "outputs": [
    {
     "ename": "RecursionError",
     "evalue": "maximum recursion depth exceeded while calling a Python object",
     "output_type": "error",
     "traceback": [
      "\u001b[0;31m---------------------------------------------------------------------------\u001b[0m",
      "\u001b[0;31mRecursionError\u001b[0m                            Traceback (most recent call last)",
      "Cell \u001b[0;32mIn[4], line 5\u001b[0m\n\u001b[1;32m      3\u001b[0m         \u001b[38;5;28;01mreturn\u001b[39;00m \u001b[38;5;241m1\u001b[39m\n\u001b[1;32m      4\u001b[0m     \u001b[38;5;28;01mreturn\u001b[39;00m list_product_wrong(lst[\u001b[38;5;241m1\u001b[39m:]) \u001b[38;5;241m*\u001b[39m lst[\u001b[38;5;241m0\u001b[39m]\n\u001b[0;32m----> 5\u001b[0m \u001b[43mlist_product_wrong\u001b[49m\u001b[43m(\u001b[49m\u001b[43m[\u001b[49m\u001b[38;5;241;43m1\u001b[39;49m\u001b[43m,\u001b[49m\u001b[38;5;241;43m2\u001b[39;49m\u001b[43m,\u001b[49m\u001b[38;5;241;43m3\u001b[39;49m\u001b[43m]\u001b[49m\u001b[43m)\u001b[49m\n",
      "Cell \u001b[0;32mIn[4], line 4\u001b[0m, in \u001b[0;36mlist_product_wrong\u001b[0;34m(lst)\u001b[0m\n\u001b[1;32m      2\u001b[0m \u001b[38;5;28;01mif\u001b[39;00m \u001b[38;5;28mlen\u001b[39m(lst)\u001b[38;5;241m==\u001b[39m\u001b[38;5;241m-\u001b[39m\u001b[38;5;241m1\u001b[39m:\n\u001b[1;32m      3\u001b[0m     \u001b[38;5;28;01mreturn\u001b[39;00m \u001b[38;5;241m1\u001b[39m\n\u001b[0;32m----> 4\u001b[0m \u001b[38;5;28;01mreturn\u001b[39;00m \u001b[43mlist_product_wrong\u001b[49m\u001b[43m(\u001b[49m\u001b[43mlst\u001b[49m\u001b[43m[\u001b[49m\u001b[38;5;241;43m1\u001b[39;49m\u001b[43m:\u001b[49m\u001b[43m]\u001b[49m\u001b[43m)\u001b[49m \u001b[38;5;241m*\u001b[39m lst[\u001b[38;5;241m0\u001b[39m]\n",
      "Cell \u001b[0;32mIn[4], line 4\u001b[0m, in \u001b[0;36mlist_product_wrong\u001b[0;34m(lst)\u001b[0m\n\u001b[1;32m      2\u001b[0m \u001b[38;5;28;01mif\u001b[39;00m \u001b[38;5;28mlen\u001b[39m(lst)\u001b[38;5;241m==\u001b[39m\u001b[38;5;241m-\u001b[39m\u001b[38;5;241m1\u001b[39m:\n\u001b[1;32m      3\u001b[0m     \u001b[38;5;28;01mreturn\u001b[39;00m \u001b[38;5;241m1\u001b[39m\n\u001b[0;32m----> 4\u001b[0m \u001b[38;5;28;01mreturn\u001b[39;00m \u001b[43mlist_product_wrong\u001b[49m\u001b[43m(\u001b[49m\u001b[43mlst\u001b[49m\u001b[43m[\u001b[49m\u001b[38;5;241;43m1\u001b[39;49m\u001b[43m:\u001b[49m\u001b[43m]\u001b[49m\u001b[43m)\u001b[49m \u001b[38;5;241m*\u001b[39m lst[\u001b[38;5;241m0\u001b[39m]\n",
      "    \u001b[0;31m[... skipping similar frames: list_product_wrong at line 4 (2969 times)]\u001b[0m\n",
      "Cell \u001b[0;32mIn[4], line 4\u001b[0m, in \u001b[0;36mlist_product_wrong\u001b[0;34m(lst)\u001b[0m\n\u001b[1;32m      2\u001b[0m \u001b[38;5;28;01mif\u001b[39;00m \u001b[38;5;28mlen\u001b[39m(lst)\u001b[38;5;241m==\u001b[39m\u001b[38;5;241m-\u001b[39m\u001b[38;5;241m1\u001b[39m:\n\u001b[1;32m      3\u001b[0m     \u001b[38;5;28;01mreturn\u001b[39;00m \u001b[38;5;241m1\u001b[39m\n\u001b[0;32m----> 4\u001b[0m \u001b[38;5;28;01mreturn\u001b[39;00m \u001b[43mlist_product_wrong\u001b[49m\u001b[43m(\u001b[49m\u001b[43mlst\u001b[49m\u001b[43m[\u001b[49m\u001b[38;5;241;43m1\u001b[39;49m\u001b[43m:\u001b[49m\u001b[43m]\u001b[49m\u001b[43m)\u001b[49m \u001b[38;5;241m*\u001b[39m lst[\u001b[38;5;241m0\u001b[39m]\n",
      "Cell \u001b[0;32mIn[4], line 2\u001b[0m, in \u001b[0;36mlist_product_wrong\u001b[0;34m(lst)\u001b[0m\n\u001b[1;32m      1\u001b[0m \u001b[38;5;28;01mdef\u001b[39;00m \u001b[38;5;21mlist_product_wrong\u001b[39m(lst):\n\u001b[0;32m----> 2\u001b[0m     \u001b[38;5;28;01mif\u001b[39;00m \u001b[38;5;28;43mlen\u001b[39;49m\u001b[43m(\u001b[49m\u001b[43mlst\u001b[49m\u001b[43m)\u001b[49m\u001b[38;5;241m==\u001b[39m\u001b[38;5;241m-\u001b[39m\u001b[38;5;241m1\u001b[39m:\n\u001b[1;32m      3\u001b[0m         \u001b[38;5;28;01mreturn\u001b[39;00m \u001b[38;5;241m1\u001b[39m\n\u001b[1;32m      4\u001b[0m     \u001b[38;5;28;01mreturn\u001b[39;00m list_product_wrong(lst[\u001b[38;5;241m1\u001b[39m:]) \u001b[38;5;241m*\u001b[39m lst[\u001b[38;5;241m0\u001b[39m]\n",
      "\u001b[0;31mRecursionError\u001b[0m: maximum recursion depth exceeded while calling a Python object"
     ]
    }
   ],
   "source": [
    "def list_product_wrong(lst):\n",
    "    if len(lst)==-1:\n",
    "        return 1\n",
    "    return list_product_wrong(lst[1:]) * lst[0]\n",
    "list_product_wrong([1,2,3])"
   ]
  },
  {
   "cell_type": "markdown",
   "id": "f8bba235",
   "metadata": {
    "slideshow": {
     "slide_type": "slide"
    }
   },
   "source": [
    "<center><h3 style='color:blue'>Recursion Checkpoint</h3></center>\n",
    "\n",
    "<center>Write a recursive function that checks if a string is a palindrome.</center>"
   ]
  },
  {
   "cell_type": "code",
   "execution_count": 39,
   "id": "0fb86fb4",
   "metadata": {
    "slideshow": {
     "slide_type": "fragment"
    }
   },
   "outputs": [],
   "source": [
    "def check(word):\n",
    "    \"\"\"\n",
    "    Recursive function to check if a string \n",
    "    is a palindrome (same word reversed).\n",
    "    \n",
    "    args:\n",
    "        word (string): string to be considered\n",
    "        \n",
    "    returns: \n",
    "        True if it's a palindrome, false otherwise.\n",
    "    \n",
    "    >>> is_palindrome('racecar')\n",
    "    True\n",
    "    >>> is_palindrome('chatgpt')\n",
    "    False\n",
    "    \"\"\"\n",
    "    # Write your implementation here"
   ]
  },
  {
   "cell_type": "markdown",
   "id": "b742ae44",
   "metadata": {
    "slideshow": {
     "slide_type": "slide"
    }
   },
   "source": [
    "<center><h3 style='color:blue'>Checkpoint Solution</h3></center>"
   ]
  },
  {
   "cell_type": "code",
   "execution_count": 41,
   "id": "c385d18d",
   "metadata": {
    "slideshow": {
     "slide_type": "fragment"
    }
   },
   "outputs": [],
   "source": [
    "def check(word):\n",
    "    if len(word) <=1:\n",
    "        return True\n",
    "    else:\n",
    "        return all([check(word[1:-1]), word[0] == word[-1]])"
   ]
  },
  {
   "cell_type": "code",
   "execution_count": 42,
   "id": "62c27a8d",
   "metadata": {
    "slideshow": {
     "slide_type": "fragment"
    }
   },
   "outputs": [
    {
     "data": {
      "text/plain": [
       "True"
      ]
     },
     "execution_count": 42,
     "metadata": {},
     "output_type": "execute_result"
    }
   ],
   "source": [
    "check('racecar')"
   ]
  },
  {
   "cell_type": "code",
   "execution_count": 43,
   "id": "78b5d1b1",
   "metadata": {
    "slideshow": {
     "slide_type": "fragment"
    }
   },
   "outputs": [
    {
     "data": {
      "text/plain": [
       "False"
      ]
     },
     "execution_count": 43,
     "metadata": {},
     "output_type": "execute_result"
    }
   ],
   "source": [
    "check('chatgpt')"
   ]
  },
  {
   "cell_type": "markdown",
   "id": "6c75fcea",
   "metadata": {
    "slideshow": {
     "slide_type": "slide"
    }
   },
   "source": [
    "<center><h3 style='color:blue'>Some Practice Questions</h3></center>"
   ]
  },
  {
   "cell_type": "markdown",
   "id": "e7cf9b7a",
   "metadata": {
    "slideshow": {
     "slide_type": "slide"
    }
   },
   "source": [
    "<center><h3 style='color:blue'>Question 1</h3></center>\n",
    "<center>Write a recursive function to reverse a string.</center>"
   ]
  },
  {
   "cell_type": "code",
   "execution_count": 13,
   "id": "a6008d07",
   "metadata": {
    "slideshow": {
     "slide_type": "fragment"
    }
   },
   "outputs": [],
   "source": [
    "def reverse_recursive(s):\n",
    "    \"\"\"\n",
    "    Recursive function to reverse a string\n",
    "    \n",
    "    args:\n",
    "        s(string): string to be reversed\n",
    "    returns:\n",
    "        reversed string\n",
    "    \n",
    "    >>> reverse_recursive('essirahc')\n",
    "    charisse\n",
    "    \"\"\"\n",
    "    # your implementation here"
   ]
  },
  {
   "cell_type": "markdown",
   "id": "eeac3b1c",
   "metadata": {
    "slideshow": {
     "slide_type": "slide"
    }
   },
   "source": [
    "<center><h3 style='color:blue'>Question 1 Solution</h3></center>"
   ]
  },
  {
   "cell_type": "code",
   "execution_count": 14,
   "id": "3bde6db8",
   "metadata": {
    "slideshow": {
     "slide_type": "fragment"
    }
   },
   "outputs": [
    {
     "data": {
      "text/plain": [
       "'charisse'"
      ]
     },
     "execution_count": 14,
     "metadata": {},
     "output_type": "execute_result"
    }
   ],
   "source": [
    "def reverse_recursive(s):\n",
    "    if len(s) == 0:\n",
    "        return s\n",
    "    else:\n",
    "        return s[-1] + reverse_recursive(s[:-1])\n",
    "\n",
    "reverse_recursive('essirahc')"
   ]
  },
  {
   "cell_type": "markdown",
   "id": "99effd4e",
   "metadata": {
    "slideshow": {
     "slide_type": "slide"
    }
   },
   "source": [
    "<center><h3 style='color:blue'>Question 2</h3></center>\n",
    "<center>Write a recursive function that flattens a nested list.</center>"
   ]
  },
  {
   "cell_type": "code",
   "execution_count": null,
   "id": "0823b07d",
   "metadata": {
    "slideshow": {
     "slide_type": "fragment"
    }
   },
   "outputs": [],
   "source": [
    "def flatten(lst):\n",
    "    \"\"\"\n",
    "    Recursive function to flatten a nested list\n",
    "    \n",
    "    args:\n",
    "        lst (list): nested list to flatten\n",
    "    returns:\n",
    "        flattened list\n",
    "    \n",
    "    >>> flatten([[1,2], [3,4], [5],6,7,8])\n",
    "    [1,2,3,4,5,6,7,8]\n",
    "    \"\"\"\n",
    "    # your implementation here"
   ]
  },
  {
   "cell_type": "markdown",
   "id": "1beb16a6",
   "metadata": {
    "slideshow": {
     "slide_type": "slide"
    }
   },
   "source": [
    "<center><h3 style='color:blue'>Question 2 Solution</h3></center>"
   ]
  },
  {
   "cell_type": "code",
   "execution_count": 25,
   "id": "c1f1e436",
   "metadata": {
    "slideshow": {
     "slide_type": "fragment"
    }
   },
   "outputs": [
    {
     "data": {
      "text/plain": [
       "[1, 2, 3, 4, 5, 6, 7, 8]"
      ]
     },
     "execution_count": 25,
     "metadata": {},
     "output_type": "execute_result"
    }
   ],
   "source": [
    "def flatten(lst):\n",
    "    if len(lst)==0:\n",
    "        return []\n",
    "    else:\n",
    "        if isinstance(lst[0],list):\n",
    "            return flatten(lst[0]) + flatten(lst[1:])\n",
    "        else:\n",
    "            return [lst[0]] + flatten(lst[1:])\n",
    "flatten([[1,2], [3,4], [5],6,7,8])"
   ]
  },
  {
   "cell_type": "markdown",
   "id": "82209d7c",
   "metadata": {
    "slideshow": {
     "slide_type": "slide"
    }
   },
   "source": [
    "<center><h3 style='color:blue'>Question 3</h3></center>\n",
    "<center>What's the time complexity of the following function?</center>"
   ]
  },
  {
   "cell_type": "code",
   "execution_count": 30,
   "id": "97961f42",
   "metadata": {
    "slideshow": {
     "slide_type": "fragment"
    }
   },
   "outputs": [
    {
     "data": {
      "text/plain": [
       "[(1, 0), (2, 0), (2, 1), (3, 0), (3, 1), (3, 2)]"
      ]
     },
     "execution_count": 30,
     "metadata": {},
     "output_type": "execute_result"
    }
   ],
   "source": [
    "def complexity(x):\n",
    "    output = []\n",
    "    for i in range(x + 1):\n",
    "        for j in range(i):\n",
    "            output.append((i,j))\n",
    "    return output\n",
    "complexity(3)"
   ]
  },
  {
   "cell_type": "markdown",
   "id": "5501686d",
   "metadata": {
    "slideshow": {
     "slide_type": "slide"
    }
   },
   "source": [
    "<center><h3 style='color:blue'>Question 3 Solution</h3></center>\n",
    "\n",
    "<center>The outer loop runs for n+1 iterations (where n is the input number x). The inner loop depends on the value of the outer loop. The operation(s) inside of the loops are linear. Since the inner loop depends on the outer loop, it's not as simple as multiplying 2 values together. We have to determine the number of runs for the loops together. A quick analysis shows that the loops will run 1 + 2 + 3 + ... + (n-1) + n times, which (recall from math: summation formulas) is equivalent to the expression:</center>\n",
    "\n",
    "<center>O(complexity) = (n(n+1) / 2) * 1 = (n^2 + n) / 2 = <b style='color:blue'>O(n^2)</b></center>"
   ]
  },
  {
   "cell_type": "markdown",
   "id": "70d0b97a",
   "metadata": {
    "slideshow": {
     "slide_type": "slide"
    }
   },
   "source": [
    "<center><h3 style='color:blue'>Question 4</h3></center>\n",
    "<center>What's the time complexity of the following function?</center>"
   ]
  },
  {
   "cell_type": "code",
   "execution_count": null,
   "id": "afa24ef1",
   "metadata": {
    "slideshow": {
     "slide_type": "fragment"
    }
   },
   "outputs": [],
   "source": [
    "def complexity(x):\n",
    "    total = 1\n",
    "    k_sum = 0\n",
    "    \n",
    "    for i in range(x): \n",
    "        for j in range(x**2, x**2 + 5*x - 50):\n",
    "            total += j\n",
    "        k = x\n",
    "        while k > 0:\n",
    "            k = k // 2\n",
    "            k_sum += k\n",
    "    \n",
    "    return total, k_sum    "
   ]
  },
  {
   "cell_type": "markdown",
   "id": "e70fdcfb",
   "metadata": {
    "slideshow": {
     "slide_type": "fragment"
    }
   },
   "source": [
    "<center><h3 style='color:blue'>Question 4 Solution</h3></center>\n",
    "\n",
    "<center>The outer loop runs for n iterations (where n is the input number x). To find the time complexity of the inner for loop, we can subtract the starting value from the stopping value: (n**2 + 5*n - 50) - n**2 = 5*n - 50. Then, for the inner while loop, since we are dividing k in half every iteration, the while loop will have a time complexity of logn. In order to calculate the final time complexity, we multiply the outer loop's time complexity with the inner loops', resulting in:\n",
    "\n",
    "<center>O(complexity) = n((5n - 50) + logn) = 5n**2 - 50n + nlogn = <b style='color:blue'>O(n^2)</b></center>\n",
    "    *<b>Note</b>: remember n^2 > nlogn"
   ]
  },
  {
   "cell_type": "markdown",
   "id": "49030538",
   "metadata": {
    "slideshow": {
     "slide_type": "slide"
    }
   },
   "source": [
    "<center> <h1>Thanks for coming!</h1></center>\n",
    "<center> There's a discussion quiz on canvas! </center>"
   ]
  },
  {
   "cell_type": "code",
   "execution_count": null,
   "id": "aecf0425",
   "metadata": {
    "slideshow": {
     "slide_type": "skip"
    }
   },
   "outputs": [],
   "source": []
  }
 ],
 "metadata": {
  "celltoolbar": "Slideshow",
  "kernelspec": {
   "display_name": "Python 3 (ipykernel)",
   "language": "python",
   "name": "python3"
  },
  "language_info": {
   "codemirror_mode": {
    "name": "ipython",
    "version": 3
   },
   "file_extension": ".py",
   "mimetype": "text/x-python",
   "name": "python",
   "nbconvert_exporter": "python",
   "pygments_lexer": "ipython3",
   "version": "3.10.8"
  },
  "rise": {
   "enable_chalkboard": true
  }
 },
 "nbformat": 4,
 "nbformat_minor": 5
}
