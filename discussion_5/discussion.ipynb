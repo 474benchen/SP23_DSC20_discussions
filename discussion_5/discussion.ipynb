{
 "cells": [
  {
   "cell_type": "markdown",
   "id": "9ac70a89",
   "metadata": {
    "slideshow": {
     "slide_type": "skip"
    }
   },
   "source": [
    "**note**: for anyone trying to view this as a slideshow, run 'pip install rise', reload your notebook, then click on the button that looks like a bar graph to the right of the command palette at the top."
   ]
  },
  {
   "cell_type": "code",
   "execution_count": 1,
   "id": "310f3639",
   "metadata": {
    "slideshow": {
     "slide_type": "skip"
    }
   },
   "outputs": [],
   "source": [
    "import numpy as np\n",
    "import pandas as pd\n",
    "import matplotlib.pyplot as plt\n",
    "import seaborn as sns\n",
    "\n",
    "sns.set_theme(style = 'darkgrid')\n",
    "\n",
    "from sklearn.neighbors import KNeighborsClassifier as knn\n",
    "from sklearn.linear_model import LinearRegression\n",
    "from sklearn.svm import SVC\n",
    "from sklearn.model_selection import train_test_split\n",
    "from sklearn.metrics import mean_squared_error as MSE"
   ]
  },
  {
   "cell_type": "code",
   "execution_count": 2,
   "id": "fa87897b",
   "metadata": {
    "slideshow": {
     "slide_type": "skip"
    }
   },
   "outputs": [
    {
     "data": {
      "text/html": [
       "\n",
       "<style>\n",
       ".output_png {\n",
       "    display: table-cell;\n",
       "    text-align: center;\n",
       "    vertical-align: middle;\n",
       "}\n",
       "</style>\n"
      ],
      "text/plain": [
       "<IPython.core.display.HTML object>"
      ]
     },
     "execution_count": 2,
     "metadata": {},
     "output_type": "execute_result"
    }
   ],
   "source": [
    "from IPython.core.display import HTML\n",
    "HTML(\"\"\"\n",
    "<style>\n",
    ".output_png {\n",
    "    display: table-cell;\n",
    "    text-align: center;\n",
    "    vertical-align: middle;\n",
    "}\n",
    "</style>\n",
    "\"\"\")"
   ]
  },
  {
   "cell_type": "markdown",
   "id": "0aaa7f3e",
   "metadata": {
    "slideshow": {
     "slide_type": "slide"
    }
   },
   "source": [
    "<center><h1>Discussion 5</h1></center>\n",
    "<center><h2>DSC 20, Spring 2023</h2><center>"
   ]
  },
  {
   "cell_type": "markdown",
   "id": "172f9b03",
   "metadata": {
    "slideshow": {
     "slide_type": "slide"
    }
   },
   "source": [
    "<center><h3>map/filter/lambda, Machine Learning</h3></center>\n",
    "<center>Since we just had the first midterm, we'll have an interlude of content</center>"
   ]
  },
  {
   "cell_type": "markdown",
   "id": "53e00cec",
   "metadata": {
    "slideshow": {
     "slide_type": "slide"
    }
   },
   "source": [
    "<center><h3>Midterm 1 Grades</h3></center>\n",
    "<center>Don't ask us about this! The grades will be out when they're out!</center>"
   ]
  },
  {
   "cell_type": "markdown",
   "id": "7e871743",
   "metadata": {
    "slideshow": {
     "slide_type": "slide"
    }
   },
   "source": [
    "<center><h3>Agenda</h3></center>\n",
    "<ul>\n",
    "    <li> Map/Filter/Lambda</li>\n",
    "    <li> Machine Learning Preface </li>\n",
    "    <li> Vocabulary </li>\n",
    "    <li> Classifiers vs Regressors </li>\n",
    "    <li> KNN </li>\n",
    "</ul>\n"
   ]
  },
  {
   "cell_type": "markdown",
   "id": "2b6343f2",
   "metadata": {
    "slideshow": {
     "slide_type": "slide"
    }
   },
   "source": [
    "<center><h3> Lambda Functions </h3></center>\n",
    "<ul>\n",
    "    <li> known as anonymous functions (their functions are so simple, they don't need a name)\n",
    "    <li> syntax: lambda (input): (some operation)\n",
    "    <li> ex: lambda x: x + 2 (adds 2 to every element encountered)\n",
    "    <li> within the scope of this course, lambda is used in conjunction with map and filter\n",
    "</ul>\n",
    "\n",
    "<b>note: </b>lambda functions can't include statements (ex. return, assert)"
   ]
  },
  {
   "cell_type": "markdown",
   "id": "fc1032fa",
   "metadata": {
    "slideshow": {
     "slide_type": "slide"
    }
   },
   "source": [
    "<center><h3>Map</h3></center>\n",
    "\n",
    "<b>Syntax: map(function, iterable)</b>\n",
    "<ul>\n",
    "    <li> Map allows you to apply a function to all elements to an iterable input\n",
    "    <li> very common to use a lambda function as the function to apply\n",
    "    <li> returns an iterator through the iterable object, applying the function as it traverses\n",
    "</ul>\n"
   ]
  },
  {
   "cell_type": "code",
   "execution_count": 3,
   "id": "a122bed6",
   "metadata": {
    "slideshow": {
     "slide_type": "fragment"
    }
   },
   "outputs": [
    {
     "data": {
      "text/plain": [
       "['dsc', 'mid', 'one']"
      ]
     },
     "execution_count": 3,
     "metadata": {},
     "output_type": "execute_result"
    }
   ],
   "source": [
    "test = ['dsc20', 'midterm', 'one']\n",
    "sample_map = map(lambda x: x[:3], test)\n",
    "list(sample_map)"
   ]
  },
  {
   "cell_type": "markdown",
   "id": "11924e37",
   "metadata": {
    "slideshow": {
     "slide_type": "slide"
    }
   },
   "source": [
    "<center><h3>Filter </h3></center>\n",
    "\n",
    "<b>Syntax: filter(function, iterable)</b>\n",
    "<ul>\n",
    "    <li> Filter takes in a function that returns a boolean and only keeps elements that satisfy the function (i.e. return True).\n",
    "    <li> Very common to use a lambda function as the function to apply, but keep in mind the function <b>must return a boolean</b>.\n",
    "    <li> Returns an iterator through the iterable object that only yields values that pass the function.\n",
    "</ul>\n",
    "\n",
    "<b>note: </b>filters are a unique subset of maps. You <b>can</b> theoretically write filters as maps, but that's unnecessary complication."
   ]
  },
  {
   "cell_type": "code",
   "execution_count": 4,
   "id": "aab8b58e",
   "metadata": {
    "slideshow": {
     "slide_type": "fragment"
    }
   },
   "outputs": [
    {
     "data": {
      "text/plain": [
       "['midterm', 'one']"
      ]
     },
     "execution_count": 4,
     "metadata": {},
     "output_type": "execute_result"
    }
   ],
   "source": [
    "test = ['dsc20', 'midterm', 'one']\n",
    "sample_filter = filter(lambda x: any([c in 'aeiou' for c in x]), test)\n",
    "list(sample_filter)"
   ]
  },
  {
   "cell_type": "markdown",
   "id": "c0c349bc",
   "metadata": {
    "slideshow": {
     "slide_type": "slide"
    }
   },
   "source": [
    "<center> <h2 style = \"color:blue\">Checkpoint</h2> </center>\n",
    "<center> Given a list of integers, use only map/filter/lambda to create a new list containing only even numbers from the original list, then multiply the remaining elements by 3.\n",
    " </center>"
   ]
  },
  {
   "cell_type": "code",
   "execution_count": 6,
   "id": "d8a7c6d8",
   "metadata": {
    "slideshow": {
     "slide_type": "fragment"
    }
   },
   "outputs": [],
   "source": [
    "def even_by_3(int_list):\n",
    "    \"\"\"\n",
    "    Function that utilizes only map/filter/lambda to \n",
    "    remove odd numbers from a given list and multiply \n",
    "    the remaining elements by 3.\n",
    "    \n",
    "    Args:\n",
    "        int_list (list): list of ints to be considered\n",
    "    Returns:\n",
    "        a list of even numbers from the original list,\n",
    "        multiplied by 3.\n",
    "    \n",
    "    >>> lst = [1,2,3,4,5,6]\n",
    "    >>> even_by_3(lst)\n",
    "    [6,12,18]\n",
    "    \"\"\"\n",
    "    # Write your implementation here\n",
    "    return "
   ]
  },
  {
   "cell_type": "markdown",
   "id": "fb00b41f",
   "metadata": {
    "slideshow": {
     "slide_type": "slide"
    }
   },
   "source": [
    "<center> <h2 style = \"color:blue\">Checkpoint Solution</h2> </center>"
   ]
  },
  {
   "cell_type": "code",
   "execution_count": 7,
   "id": "1f9266ab",
   "metadata": {
    "slideshow": {
     "slide_type": "fragment"
    }
   },
   "outputs": [],
   "source": [
    "def even_by_3(int_list):\n",
    "    \"\"\"\n",
    "    Function that utilizes only map/filter/lambda to \n",
    "    remove odd numbers from a given list and multiply \n",
    "    the remaining elements by 3.\n",
    "    \n",
    "    Args:\n",
    "        int_list (list): list of ints to be considered\n",
    "    Returns:\n",
    "        a list of even numbers from the original list,\n",
    "        multiplied by 3.\n",
    "    \n",
    "    >>> lst = [1,2,3,4,5,6]\n",
    "    >>> even_by_3(lst)\n",
    "    [6,12,18]\n",
    "    \"\"\"\n",
    "    only_evens = filter(lambda x: x%2==0, int_list)\n",
    "    mult_by_3 = map(lambda x: x*3, only_evens)\n",
    "    return list(mult_by_3)"
   ]
  },
  {
   "cell_type": "code",
   "execution_count": 8,
   "id": "b5790fc0",
   "metadata": {
    "slideshow": {
     "slide_type": "fragment"
    }
   },
   "outputs": [
    {
     "data": {
      "text/plain": [
       "[6, 12, 18]"
      ]
     },
     "execution_count": 8,
     "metadata": {},
     "output_type": "execute_result"
    }
   ],
   "source": [
    "even_by_3([1,2,3,4,5,6]) "
   ]
  },
  {
   "cell_type": "markdown",
   "id": "ced58209",
   "metadata": {
    "slideshow": {
     "slide_type": "slide"
    }
   },
   "source": [
    "<center><h3>What happens if I don't cast the output as a list?</h3></center>"
   ]
  },
  {
   "cell_type": "code",
   "execution_count": 9,
   "id": "017c671c",
   "metadata": {
    "slideshow": {
     "slide_type": "fragment"
    }
   },
   "outputs": [],
   "source": [
    "def even_by_3(int_list):\n",
    "    only_evens = filter(lambda x: x%2==0, int_list)\n",
    "    mult_by_3 = map(lambda x: x*3, only_evens)\n",
    "    return mult_by_3"
   ]
  },
  {
   "cell_type": "code",
   "execution_count": 10,
   "id": "83969dbb",
   "metadata": {
    "slideshow": {
     "slide_type": "fragment"
    }
   },
   "outputs": [
    {
     "data": {
      "text/plain": [
       "<map at 0x7f93fa54b550>"
      ]
     },
     "execution_count": 10,
     "metadata": {},
     "output_type": "execute_result"
    }
   ],
   "source": [
    "even_by_3([1,2,3,4,5,6]) "
   ]
  },
  {
   "cell_type": "markdown",
   "id": "07537a8e",
   "metadata": {
    "slideshow": {
     "slide_type": "fragment"
    }
   },
   "source": [
    "<center>map and filter are part of a class of objects called Iterators in Python. Without being explicitly called, they will perform no operations. In order to get the desired output, we had to cast the map instance into a list.</center>"
   ]
  },
  {
   "cell_type": "markdown",
   "id": "e9b08267",
   "metadata": {
    "slideshow": {
     "slide_type": "slide"
    }
   },
   "source": [
    "<center><h2>Machine Learning</h2></center>"
   ]
  },
  {
   "cell_type": "markdown",
   "id": "3de1ce7d",
   "metadata": {
    "slideshow": {
     "slide_type": "slide"
    }
   },
   "source": [
    "<center><h3>Preface</h3></center>\n",
    "\n",
    "<center><b style='color:blue'>Recall from discussion 1:</b></center>\n",
    "\n",
    "<center>\"Why bother learning how to code? So that we can do cool things with the tools that people have invented!\"</center>\n",
    "\n",
    "<center>The start of those cool things is always foundational machine learning - solving problems and finding answers through code that can \"learn\".</center>\n",
    "\n",
    "<center> Learning always starts with data. Without having some \"ground truth\" to base your learning on, whatever you learn is ultimately meaningless. For today's discussion, we'll take a look at a hallmark dataset for data science, penguins: </center>\n",
    "\n",
    "<center> To simplify the problem, we will not be using all features. Instead, we will only consider <b>'body_mass_g', 'flipper_length', and 'species'</b>.</center>\n",
    "\n",
    "<center><img src='imgs/penguins_set.png' width=400></center>"
   ]
  },
  {
   "cell_type": "code",
   "execution_count": 11,
   "id": "860e02b8",
   "metadata": {
    "slideshow": {
     "slide_type": "skip"
    }
   },
   "outputs": [],
   "source": [
    "data = pd.read_csv('data/penguins.csv')\n",
    "data = data.dropna()[['flipper_length_mm', 'body_mass_g','species']]"
   ]
  },
  {
   "cell_type": "code",
   "execution_count": 25,
   "id": "0f4c21e3",
   "metadata": {
    "slideshow": {
     "slide_type": "skip"
    }
   },
   "outputs": [],
   "source": [
    "X = data[['flipper_length_mm', 'body_mass_g']]\n",
    "y = data['species']\n",
    "X_train, X_test, y_train, y_test = train_test_split(X, y, test_size=0.4, random_state=69)"
   ]
  },
  {
   "cell_type": "markdown",
   "id": "548589c6",
   "metadata": {
    "slideshow": {
     "slide_type": "slide"
    }
   },
   "source": [
    "<center><h3> ML Vocabulary </h3></center>\n",
    "\n",
    "<ul>\n",
    "    <li> <b style = 'color:blue'>fit</b> - attach (training) data to the model\n",
    "    <li> <b style = 'color:blue'>predict</b> - According to the implementation of the model, predict the outcome of new data (based on the training data)\n",
    "    <li> <b style = 'color:blue'>error/accuracy</b> - Metric to measure the accuracy of your model.\n",
    "</ul>\n",
    "\n",
    "<br></br>\n",
    "\n",
    "<center>The goal of machine learning is to be able to model some real life phenomenon so that a reasonable prediction can be derived based on past trends. A very popular example within HDSI is predicting Data Science Salaries based on education and years of experience. In this example, we would <b style = 'color:blue'>fit</b> our model with past data about salaries based on education and experience, measure its <b style = 'color:blue'>error/accuracy</b> by running it on past unseen data, then once we achieve an acceptable accuracy, we can begin utilizing this model to <b style='color:blue'>predict</b> future salaries!</center>"
   ]
  },
  {
   "cell_type": "markdown",
   "id": "17fbad32",
   "metadata": {
    "slideshow": {
     "slide_type": "slide"
    }
   },
   "source": [
    "<center><h3>Classifiers</h3></center>\n",
    "\n",
    "<center>Classification is one of the major tasks in machine learning. Its goal (as its name implies) is to ingest data associated with a label and be able to predict the label of future unseen data by learning some sort of pattern. Within our penguins dataset, this would involve predicting the penguin species ('species') based on its 'flipper_length_mm' and 'body_mass_g'.</center>\n",
    "\n",
    "<center><img src='imgs/class_scatter.png' width=600></center>"
   ]
  },
  {
   "cell_type": "code",
   "execution_count": 26,
   "id": "988c23b4",
   "metadata": {
    "slideshow": {
     "slide_type": "skip"
    }
   },
   "outputs": [],
   "source": [
    "sns.scatterplot(data = data, x = 'flipper_length_mm', y='body_mass_g', hue = 'species')\n",
    "plt.title('flipper_length vs body_mass by species')\n",
    "plt.savefig('imgs/class_scatter.png')\n",
    "plt.close()"
   ]
  },
  {
   "cell_type": "code",
   "execution_count": 27,
   "id": "19f19996",
   "metadata": {
    "slideshow": {
     "slide_type": "skip"
    }
   },
   "outputs": [],
   "source": [
    "clf = SVC()"
   ]
  },
  {
   "cell_type": "code",
   "execution_count": 33,
   "id": "6852a9c7",
   "metadata": {
    "slideshow": {
     "slide_type": "fragment"
    }
   },
   "outputs": [],
   "source": [
    "clf.fit(X_train, y_train);\n",
    "training_accuracy = (clf.predict(X_train) == y_train).mean()\n",
    "testing_accuracy = (clf.predict(X_test) == y_test).mean()"
   ]
  },
  {
   "cell_type": "markdown",
   "id": "4fe47f97",
   "metadata": {
    "slideshow": {
     "slide_type": "fragment"
    }
   },
   "source": [
    "<center>training accuracy: 0.745</center>\n",
    "<center>testing accuracy: 0.6940298507462687</center>"
   ]
  },
  {
   "cell_type": "markdown",
   "id": "002baa70",
   "metadata": {
    "slideshow": {
     "slide_type": "slide"
    }
   },
   "source": [
    "<center><h3>Regressors</h3><center>\n",
    "    \n",
    "<center>Regression is one of the other major tasks in machine learning. Its goal is to ingest (continuous) data and be able to predict a representative value for unseen data by learning some sort of pattern. Within our penguins dataset, this would be like predicting 'body_mass_g' based off of 'flipper_length_mm'.</center>\n",
    "    \n",
    "<center><img src='imgs/class_less_scatter.png' width=600></center>"
   ]
  },
  {
   "cell_type": "code",
   "execution_count": 34,
   "id": "3127b538",
   "metadata": {
    "slideshow": {
     "slide_type": "skip"
    }
   },
   "outputs": [],
   "source": [
    "sns.scatterplot(data = data, x = 'flipper_length_mm', y='body_mass_g')\n",
    "plt.title('flipper_length vs body_mass')\n",
    "plt.savefig('imgs/class_less_scatter.png')\n",
    "plt.close()"
   ]
  },
  {
   "cell_type": "code",
   "execution_count": 38,
   "id": "2b705295",
   "metadata": {
    "slideshow": {
     "slide_type": "skip"
    }
   },
   "outputs": [],
   "source": [
    "X = data[['flipper_length_mm']]\n",
    "y = data['body_mass_g']\n",
    "X_train, X_test, y_train, y_test = train_test_split(X, y, test_size=0.4, random_state=69)\n",
    "clf = LinearRegression()"
   ]
  },
  {
   "cell_type": "code",
   "execution_count": 39,
   "id": "767f50db",
   "metadata": {
    "slideshow": {
     "slide_type": "fragment"
    }
   },
   "outputs": [],
   "source": [
    "clf.fit(X_train, y_train);\n",
    "MSE(clf.predict(X_train), y_train)\n",
    "MSE(clf.predict(X_test), y_test)"
   ]
  },
  {
   "cell_type": "markdown",
   "id": "855ef168",
   "metadata": {
    "slideshow": {
     "slide_type": "fragment"
    }
   },
   "source": [
    "<center>training MSE: 148670.31768681708</center>\n",
    "<center>testing MSE: 162810.850300213</center>"
   ]
  },
  {
   "cell_type": "code",
   "execution_count": 40,
   "id": "446c3a8e",
   "metadata": {
    "slideshow": {
     "slide_type": "skip"
    }
   },
   "outputs": [
    {
     "name": "stdout",
     "output_type": "stream",
     "text": [
      "training MSE: 148670.31768681708\n",
      "testing MSE: 162810.850300213\n"
     ]
    }
   ],
   "source": [
    "print('training MSE: ' + str(MSE(clf.predict(X_train), y_train)))\n",
    "print('testing MSE: ' + str(MSE(clf.predict(X_test), y_test)))"
   ]
  },
  {
   "cell_type": "markdown",
   "id": "11a05f44",
   "metadata": {
    "slideshow": {
     "slide_type": "slide"
    }
   },
   "source": [
    "<center><h3>Result</h3></center>\n",
    "\n",
    "<center><img src='imgs/reg_scatter.png' width=700></center>"
   ]
  },
  {
   "cell_type": "code",
   "execution_count": 22,
   "id": "f1602f75",
   "metadata": {
    "slideshow": {
     "slide_type": "skip"
    }
   },
   "outputs": [],
   "source": [
    "sns.regplot(data = data, x = 'flipper_length_mm', y='body_mass_g',line_kws = {\"color\": \"red\"})\n",
    "plt.title('flipper_length vs body_mass with regression line')\n",
    "plt.savefig('imgs/reg_scatter.png')\n",
    "plt.close()"
   ]
  },
  {
   "cell_type": "markdown",
   "id": "f7da6606",
   "metadata": {
    "slideshow": {
     "slide_type": "slide"
    }
   },
   "source": [
    "<center><h2>Why are we talking about this?</h2></center>\n",
    "\n",
    "<center>You'll have to implement a very basic machine learning algorithm later in the quarter for your project. The model itself is very simple, but it's generally effective and in some cases it's actually the optimal solution.</center>"
   ]
  },
  {
   "cell_type": "markdown",
   "id": "8f238783",
   "metadata": {
    "slideshow": {
     "slide_type": "slide"
    }
   },
   "source": [
    "<center><h3>K Nearest Neighbors (KNN) for Classification</h3></center>\n",
    "\n",
    "<center><b style='color:blue'>idea</b>: Given an unseen value of flipper_length and body_mass, how can we determine what species of penguins it belongs to? </center>\n",
    "\n",
    "<center>The KNN approach is simple - if I look at the k nearest points to this new value, and I take the most common species among them, then this point is <b>most likely</b> the same species as the most common species among the neighbors. </center>\n",
    "\n",
    "<center><img src='imgs/class_scatter.png' width=600></center>"
   ]
  },
  {
   "cell_type": "code",
   "execution_count": 23,
   "id": "7499803c",
   "metadata": {
    "slideshow": {
     "slide_type": "skip"
    }
   },
   "outputs": [],
   "source": [
    "sns.scatterplot(data = data, x = 'flipper_length_mm', y='body_mass_g', hue = 'species')\n",
    "plt.title('flipper_length vs body_mass by species')\n",
    "plt.close()"
   ]
  },
  {
   "cell_type": "markdown",
   "id": "ad344a4e",
   "metadata": {
    "slideshow": {
     "slide_type": "slide"
    }
   },
   "source": [
    "<center><h3>Procedure</h3></center>\n",
    "<br>\n",
    "\n",
    "<center><b>Step 1</b>: Given a new point <i>X</i>, quantify the distance between all points and <i>X</i></center>\n",
    "\n",
    "<center><b>Step 2</b>: Take the <b style = 'color:blue'>k-nearest</b> points to <i>X</i> into consideration</center>\n",
    "\n",
    "<center><b>Step 3</b>: Classify <i>X</i> as the most common label among the neighbors</center>\n",
    "\n",
    "<br>\n",
    "\n",
    "<center><b>note: </b> As the name implies, the key parts of this algorithm are <b style = 'color:blue'>k</b> and <b style = 'color:blue'>nearest</b>. </center> \n",
    "    \n",
    "<center><b style = 'color:blue'>k</b> is often referred to as a <b>hyper-parameter</b>, or a value that you choose independently. There are often procedures to select a good k, but this varies depending on the context. </center>\n",
    "    \n",
    "<center><b style = 'color:blue'>Nearest</b> refers to quantifying distance - one such way is to use euclidian distance (distance formula), but there are many other \"distances\" that can be used (ex. Manhattan Distance).</center>"
   ]
  },
  {
   "cell_type": "markdown",
   "id": "7be8fa52",
   "metadata": {
    "slideshow": {
     "slide_type": "slide"
    }
   },
   "source": [
    "<center> <h2 style = \"color:blue\">Checkpoint</h2> </center>\n",
    "<center>Given the new data point (201, 4750), what would a KNN classifier classify the new point as for <b>k=1</b>? What about for <b>k=4</b>? What about for <b>k=10</b>?</center>\n",
    "<center><img src='imgs/knn_inject_new.png' width=600></center>"
   ]
  },
  {
   "cell_type": "code",
   "execution_count": 24,
   "id": "c9748172",
   "metadata": {
    "slideshow": {
     "slide_type": "skip"
    }
   },
   "outputs": [],
   "source": [
    "sns.scatterplot(data = data, x = 'flipper_length_mm', y='body_mass_g', hue = 'species')\n",
    "plt.title('flipper_length vs body_mass by species')\n",
    "plt.plot(201, 4550, marker=\"o\", markersize=8,markerfacecolor=\"red\")\n",
    "plt.savefig('imgs/knn_inject_new.png')\n",
    "plt.close()"
   ]
  },
  {
   "cell_type": "markdown",
   "id": "add439e5",
   "metadata": {
    "slideshow": {
     "slide_type": "slide"
    }
   },
   "source": [
    "<center> <h2 style = \"color:blue\">Checkpoint Solution</h2> </center>\n",
    "\n",
    "<b>for k=1</b>: Seems like the orange point is closest according to an eye test, so Chinstrap\n",
    "\n",
    "<b>for k=4</b>: The 3 closest points seem to all be from unique colors, the fourth point is hard to determine by eye. Could easily be Adelie or Chinstrap\n",
    "\n",
    "<b>for k=10</b>: The bulk of the points nearby are blue, so Adelie\n"
   ]
  },
  {
   "cell_type": "markdown",
   "id": "49030538",
   "metadata": {
    "slideshow": {
     "slide_type": "slide"
    }
   },
   "source": [
    "<center> <h1>Thanks for coming!</h1></center>\n",
    "<center> There's a discussion quiz on canvas! </center>"
   ]
  },
  {
   "cell_type": "code",
   "execution_count": null,
   "id": "aecf0425",
   "metadata": {
    "slideshow": {
     "slide_type": "skip"
    }
   },
   "outputs": [],
   "source": []
  }
 ],
 "metadata": {
  "celltoolbar": "Slideshow",
  "kernelspec": {
   "display_name": "Python 3 (ipykernel)",
   "language": "python",
   "name": "python3"
  },
  "language_info": {
   "codemirror_mode": {
    "name": "ipython",
    "version": 3
   },
   "file_extension": ".py",
   "mimetype": "text/x-python",
   "name": "python",
   "nbconvert_exporter": "python",
   "pygments_lexer": "ipython3",
   "version": "3.10.8"
  },
  "rise": {
   "enable_chalkboard": true
  }
 },
 "nbformat": 4,
 "nbformat_minor": 5
}
